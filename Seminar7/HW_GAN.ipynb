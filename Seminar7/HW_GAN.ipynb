{
 "cells": [
  {
   "cell_type": "markdown",
   "metadata": {},
   "source": [
    "This requires you to write a 2D GAN game. I let you to get into the topic yourself, whitout any explonations from my side. You can watch lecture, seminar, read papers and tutorials (fun, fun, fun)."
   ]
  },
  {
   "cell_type": "markdown",
   "metadata": {},
   "source": [
    "### Homework"
   ]
  },
  {
   "cell_type": "markdown",
   "metadata": {
    "collapsed": true
   },
   "source": [
    "I want you to implement a simple 2D GAN game. The kind of animation, I want to see is like in [this video](https://www.youtube.com/watch?v=KeJINHjyzOU) at 15:30 or in [here](https://habrahabr.ru/post/275429/) but in 2D. You can google, search code at github, whatever, but the network should be based on Theano. \n",
    "\n",
    "Basically you will need to come up with true distribution $P$, say mixture of gaussians (surprise me), sample some data from it. Visualize it as a heatmap. To visualize $G$ density you can fix $N$ noise vectors $\\{z_i\\} \\quad i=1,\\dots, N$ and draw a circle for each $G(z_i)$. It is also funny to visualize discriminator as a vector field (can be done with `plt.arrow`, `plt.quiver plo). Look how it should be in the middle of [this page](http://www.inference.vc/an-alternative-update-rule-for-generative-adversarial-networks/).\n",
    "\n",
    "Please, make sure your code works if 'Run All' is pressed and it draws some animation.\n",
    "\n",
    "Good luck!"
   ]
  },
  {
   "cell_type": "code",
   "execution_count": null,
   "metadata": {
    "collapsed": false
   },
   "outputs": [],
   "source": [
    "import numpy as np \n",
    "import theano\n",
    "import theano.tensor as T\n",
    "import lasagne\n",
    "import matplotlib.pyplot as plt\n",
    "import scipy.stats as st\n",
    "import sys\n",
    "\n",
    "from tqdm import tqdm\n",
    "from IPython.display import clear_output\n",
    "from matplotlib import animation\n",
    "\n",
    "%matplotlib inline"
   ]
  },
  {
   "cell_type": "code",
   "execution_count": null,
   "metadata": {
    "collapsed": false
   },
   "outputs": [],
   "source": [
    "def sample(params=[((4, -3), 4), ((-3, 1), 10)]):\n",
    "    idx = np.random.choice(len(params))\n",
    "    mean = params[idx][0]\n",
    "    sigma = params[idx][1]\n",
    "    cov_mat = [[sigma, 0], [0, sigma]]\n",
    "    return np.random.multivariate_normal(mean, cov_mat)\n",
    "\n",
    "\n",
    "def plot_dencity(samples, colors='k', limits=((-10, 10), (-10, 10))):\n",
    "    x, y = samples[:, 0], samples[:, 1]\n",
    "    x_min, x_max = limits[0]\n",
    "    y_min, y_max = limits[1]\n",
    "    \n",
    "    xx, yy = np.mgrid[x_min:x_max:100j, y_min:y_max:100j]\n",
    "    positions = np.vstack([xx.ravel(), yy.ravel()])\n",
    "    kernel = st.gaussian_kde(samples.T)\n",
    "    f = np.reshape(kernel(positions).T, xx.shape)\n",
    "    \n",
    "    ax = plt.gca()\n",
    "    ax.set_xlim(x_min, x_max)\n",
    "    ax.set_ylim(y_min, y_max)\n",
    "\n",
    "    cset = ax.contour(xx, yy, f, colors=colors)\n",
    "    ax.set_xlabel('x')\n",
    "    ax.set_ylabel('y')\n",
    "    plt.show()"
   ]
  },
  {
   "cell_type": "code",
   "execution_count": null,
   "metadata": {
    "collapsed": false
   },
   "outputs": [],
   "source": [
    "samples = np.vstack([sample() for _ in range(10000)])\n",
    "plot_dencity(samples)"
   ]
  },
  {
   "cell_type": "code",
   "execution_count": null,
   "metadata": {
    "collapsed": false
   },
   "outputs": [],
   "source": [
    "from lasagne.layers import DenseLayer, InputLayer\n",
    "from lasagne.nonlinearities import rectify, LeakyRectify, sigmoid\n",
    "\n",
    "g_samples = T.matrix(\"g_samples\")\n",
    "d_samples = T.matrix(\"d_samples\")\n",
    "targets = T.ivector(\"target\")\n",
    "\n",
    "DIM = 2\n",
    "\n",
    "G = {}\n",
    "G['input_layer'] = InputLayer((None, DIM), input_var=g_samples)\n",
    "G['layer_1'] = DenseLayer(G['input_layer'], num_units=128, nonlinearity=LeakyRectify())\n",
    "G['layer_2'] = DenseLayer(G['layer_1'], num_units=64, nonlinearity=LeakyRectify())\n",
    "G['output_layer'] = DenseLayer(G['layer_2'], num_units=DIM, nonlinearity=None)\n",
    "\n",
    "D = {}\n",
    "D['gen_layer_1'] = DenseLayer(G['output_layer'], num_units=128, nonlinearity=rectify)\n",
    "D['gen_layer_2'] = DenseLayer(D['gen_layer_1'], num_units=128, nonlinearity=rectify)\n",
    "D['gen_output_layer'] = DenseLayer(D['gen_layer_2'], num_units=1, nonlinearity=sigmoid)\n",
    "\n",
    "D['input_layer'] = InputLayer((None, DIM), input_var=d_samples)\n",
    "D['layer_1'] = DenseLayer(D['input_layer'], num_units=128, nonlinearity=rectify, W=D['gen_layer_1'].W, b=D['gen_layer_1'].b)\n",
    "D['layer_2'] = DenseLayer(D['layer_1'], num_units=128, nonlinearity=rectify, W=D['gen_layer_2'].W, b=D['gen_layer_2'].b)\n",
    "D['output_layer'] = DenseLayer(D['layer_2'], num_units=1, nonlinearity=sigmoid, W=D['gen_output_layer'].W, b=D['gen_output_layer'].b)"
   ]
  },
  {
   "cell_type": "code",
   "execution_count": null,
   "metadata": {
    "collapsed": false
   },
   "outputs": [],
   "source": [
    "D_gen_prediction, D_prediction = lasagne.layers.get_output([D['gen_output_layer'], D['output_layer']], deterministic=True)\n",
    "D_loss = T.mean(lasagne.objectives.binary_crossentropy(D_prediction, targets))\n",
    "D_params = lasagne.layers.get_all_params(D['output_layer'], trainable=True)\n",
    "D_updates = lasagne.updates.adam(D_loss, D_params)\n",
    "D_train = theano.function([d_samples, targets], D_loss, updates=D_updates, allow_input_downcast = True)\n",
    "D_predict = theano.function([d_samples], D_prediction, allow_input_downcast = True)\n",
    "\n",
    "G_prediction = lasagne.layers.get_output(G['output_layer'], deterministic=True)\n",
    "G_loss = -T.mean(T.log(D_gen_prediction))\n",
    "G_params = lasagne.layers.get_all_params(G['output_layer'], trainable=True)\n",
    "G_updates = lasagne.updates.adam(G_loss, G_params)\n",
    "G_train = theano.function([g_samples], G_loss, updates=G_updates, allow_input_downcast = True)\n",
    "G_predict = theano.function([g_samples], G_prediction, allow_input_downcast = True)"
   ]
  },
  {
   "cell_type": "code",
   "execution_count": null,
   "metadata": {
    "collapsed": false
   },
   "outputs": [],
   "source": [
    "def tran_step():\n",
    "    for i in range(10):\n",
    "        samples = np.zeros((BATCH_SIZE, DIM))\n",
    "        samples[:int(BATCH_SIZE/2), :] = G_predict(np.random.rand(int(BATCH_SIZE/2), DIM))\n",
    "        samples[int(BATCH_SIZE/2):, :] = np.vstack([sample() for _ in range(int(BATCH_SIZE/2))])\n",
    "        labels = np.zeros(BATCH_SIZE)\n",
    "        labels[int(BATCH_SIZE/2):] = 1\n",
    "        d_loss = D_train(samples, labels)\n",
    "        \n",
    "        samples = np.random.rand(BATCH_SIZE, DIM)\n",
    "        g_loss = G_train(samples)\n",
    "        \n",
    "        return g_loss, d_loss\n",
    "\n",
    "    \n",
    "def true_dencity():\n",
    "    N_SAMPLES = 5000\n",
    "    samples = np.vstack([sample() for _ in range(N_SAMPLES)])\n",
    "    return st.gaussian_kde(samples.T)\n",
    "    \n",
    "    \n",
    "def visualize(true_denc=true_dencity()):\n",
    "    N_SAMPLES = 1000\n",
    "    x_min, x_max = -10, 10\n",
    "    y_min, y_max = -10, 10\n",
    "    \n",
    "    ax1.cla()\n",
    "    ax2.cla()\n",
    "    ax1.plot(*zip(*sorted(G_LOSS.items(),key=lambda t: t[0])), color=\"b\")\n",
    "    ax1.plot(*zip(*sorted(D_LOSS.items(),key=lambda t: t[0])), color=\"r\")\n",
    "    ax1.legend([\"generator\", \"discriminator\"])\n",
    "    ax1.set_title(\"Loss\")\n",
    "    \n",
    "    ax2.set_xlim(x_min, x_max)\n",
    "    ax2.set_ylim(y_min, y_max)\n",
    "    \n",
    "    xx, yy = np.mgrid[x_min:x_max:100j, y_min:y_max:100j]\n",
    "    positions = np.vstack([xx.ravel(), yy.ravel()])\n",
    "    gen_samples = G_predict(np.random.rand(N_SAMPLES, DIM))\n",
    "    gen_kernel = st.gaussian_kde(gen_samples.T)\n",
    "    f = np.reshape(true_denc(positions).T, xx.shape)\n",
    "    gen_f = np.reshape(gen_kernel(positions).T, xx.shape)\n",
    "    ax2.contour(xx, yy, f, colors='k')\n",
    "    ax2.contour(xx, yy, gen_f, colors='g')\n",
    "    \n",
    "    \n",
    "    xx, yy = np.mgrid[x_min:x_max:25j, y_min:y_max:25j]\n",
    "    positions = np.vstack([xx.ravel(), yy.ravel()])\n",
    "    descr_T = D_predict(positions.T)\n",
    "    descr_f = np.reshape(descr_T, xx.shape)\n",
    "    \n",
    "    u = np.cos(descr_f)\n",
    "    v = np.sin(descr_f)\n",
    "    m = np.hypot(u, v)\n",
    "    ax2.quiver(xx, yy, u, v, m, units='x', pivot='tip')\n",
    "    \n",
    "    ax2.set_title(\"Distribution\")\n",
    "\n",
    "def train(i):\n",
    "    n_iter = 100\n",
    "    for j in range(n_iter):\n",
    "        g_l, d_l = tran_step()\n",
    "        G_LOSS[i * n_iter + j] = g_l\n",
    "        D_LOSS[i * n_iter + j] = d_l\n",
    "    \n",
    "    print(\"iteration #{}\" .format(i))\n",
    "    visualize()"
   ]
  },
  {
   "cell_type": "code",
   "execution_count": null,
   "metadata": {
    "collapsed": false
   },
   "outputs": [],
   "source": [
    "N_EPOCH = 100\n",
    "BATCH_SIZE = 512\n",
    "\n",
    "G_LOSS = {}\n",
    "D_LOSS = {}\n",
    "        \n",
    "for i in range(N_EPOCH):\n",
    "    clear_output(True)\n",
    "    fig, (ax1, ax2) = plt.subplots(1, 2, figsize=(15, 5))\n",
    "    train(i)\n",
    "    plt.show()"
   ]
  },
  {
   "cell_type": "code",
   "execution_count": null,
   "metadata": {
    "collapsed": false
   },
   "outputs": [],
   "source": [
    "N_EPOCH = 100\n",
    "BATCH_SIZE = 512\n",
    "\n",
    "G_LOSS = {}\n",
    "D_LOSS = {}\n",
    "        \n",
    "fig, (ax1, ax2) = plt.subplots(1, 2, figsize=(15, 5))\n",
    "anim = animation.FuncAnimation(fig, train, frames=N_EPOCH)\n",
    "anim.save('demoanimation.gif', writer='imagemagick', fps=2);"
   ]
  }
 ],
 "metadata": {
  "kernelspec": {
   "display_name": "python2",
   "language": "python",
   "name": "python2"
  },
  "language_info": {
   "codemirror_mode": {
    "name": "ipython",
    "version": 3
   },
   "file_extension": ".py",
   "mimetype": "text/x-python",
   "name": "python",
   "nbconvert_exporter": "python",
   "pygments_lexer": "ipython3",
   "version": "3.4.3"
  }
 },
 "nbformat": 4,
 "nbformat_minor": 0
}
