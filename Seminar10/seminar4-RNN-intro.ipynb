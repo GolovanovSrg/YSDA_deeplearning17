{
 "cells": [
  {
   "cell_type": "code",
   "execution_count": 1,
   "metadata": {
    "collapsed": false
   },
   "outputs": [],
   "source": [
    "import numpy as np\n",
    "import theano\n",
    "import theano.tensor as T\n",
    "import lasagne\n",
    "import os\n",
    "#thanks @keskarnitish"
   ]
  },
  {
   "cell_type": "markdown",
   "metadata": {},
   "source": [
    "# Generate names\n",
    "* Struggle to find a name for the variable? Let's see how you'll come up with a name for your son/daughter. Surely no human has expertize over what is a good child name, so let us train NN instead.\n",
    "* Dataset contains ~8k human names from different cultures[in latin transcript]\n",
    "* Objective (toy problem): learn a generative model over names."
   ]
  },
  {
   "cell_type": "code",
   "execution_count": 4,
   "metadata": {
    "collapsed": false
   },
   "outputs": [],
   "source": [
    "start_token = \" \"\n",
    "\n",
    "with open(\"names\") as f:\n",
    "    names = f.read()[:-1].split('\\n')\n",
    "    names = [start_token+name for name in names]"
   ]
  },
  {
   "cell_type": "code",
   "execution_count": 5,
   "metadata": {
    "collapsed": false
   },
   "outputs": [
    {
     "name": "stdout",
     "output_type": "stream",
     "text": [
      "n samples =  7944\n",
      " Abagael\n",
      " Claresta\n",
      " Glory\n",
      " Liliane\n",
      " Prissie\n",
      " Geeta\n",
      " Giovanne\n",
      " Piggy\n"
     ]
    }
   ],
   "source": [
    "print ('n samples = ',len(names))\n",
    "for x in names[::1000]:\n",
    "    print (x)"
   ]
  },
  {
   "cell_type": "markdown",
   "metadata": {},
   "source": [
    "# Text processing"
   ]
  },
  {
   "cell_type": "code",
   "execution_count": 6,
   "metadata": {
    "collapsed": false
   },
   "outputs": [
    {
     "name": "stdout",
     "output_type": "stream",
     "text": [
      "n_tokens =  55\n"
     ]
    }
   ],
   "source": [
    "#all unique characters go here\n",
    "tokens = set()\n",
    "for name in names:\n",
    "    for letter in name:\n",
    "        tokens.add(letter)\n",
    "\n",
    "tokens = list(tokens)\n",
    "print ('n_tokens = ',len(tokens))\n"
   ]
  },
  {
   "cell_type": "code",
   "execution_count": 7,
   "metadata": {
    "collapsed": false
   },
   "outputs": [],
   "source": [
    "#!token_to_id = <dictionary of symbol -> its identifier (index in tokens list)>\n",
    "token_to_id = {t:i for i,t in enumerate(tokens) }\n",
    "\n",
    "#!id_to_token = < dictionary of symbol identifier -> symbol itself>\n",
    "id_to_token = {i:t for i,t in enumerate(tokens)}"
   ]
  },
  {
   "cell_type": "code",
   "execution_count": 8,
   "metadata": {
    "collapsed": false
   },
   "outputs": [
    {
     "data": {
      "image/png": "[encoded data removed]",
      "text/plain": [
       "<matplotlib.figure.Figure at 0x7f7cfa5a3e80>"
      ]
     },
     "metadata": {},
     "output_type": "display_data"
    }
   ],
   "source": [
    "import matplotlib.pyplot as plt\n",
    "%matplotlib inline\n",
    "plt.hist(list(map(len, names)), bins=25);\n",
    "\n",
    "# truncate names longer than ~80% percentile\n",
    "MAX_LEN = int(np.percentile(list(map(len, names)), 80))"
   ]
  },
  {
   "cell_type": "markdown",
   "metadata": {},
   "source": [
    "### Cast everything from symbols into identifiers"
   ]
  },
  {
   "cell_type": "code",
   "execution_count": 9,
   "metadata": {
    "collapsed": false
   },
   "outputs": [],
   "source": [
    "names_ix = list(map(lambda name: list(map(token_to_id.get,name)),names))\n",
    "\n",
    "\n",
    "#crop long names and pad short ones\n",
    "for i in range(len(names_ix)):\n",
    "    names_ix[i] = names_ix[i][:MAX_LEN] #crop too long\n",
    "    \n",
    "    if len(names_ix[i]) < MAX_LEN:\n",
    "        names_ix[i] += [token_to_id[\" \"]]*(MAX_LEN - len(names_ix[i])) #pad too short\n",
    "        \n",
    "assert len(set(map(len,names_ix)))==1\n",
    "\n",
    "names_ix = np.array(names_ix)"
   ]
  },
  {
   "cell_type": "markdown",
   "metadata": {},
   "source": [
    "# Input variables"
   ]
  },
  {
   "cell_type": "code",
   "execution_count": 10,
   "metadata": {
    "collapsed": true
   },
   "outputs": [],
   "source": [
    "input_sequence = T.matrix('token sequencea','int32')\n",
    "target_values = T.matrix('actual next token','int32')"
   ]
  },
  {
   "cell_type": "markdown",
   "metadata": {},
   "source": [
    "# Build NN\n",
    "\n",
    "You will be building a model that takes token sequence and predicts next token\n",
    "\n",
    "\n",
    "* iput sequence\n",
    "* one-hot / embedding\n",
    "* recurrent layer(s)\n",
    "* otput layer(s) that predict output probabilities\n"
   ]
  },
  {
   "cell_type": "code",
   "execution_count": 11,
   "metadata": {
    "collapsed": true
   },
   "outputs": [],
   "source": [
    "from lasagne.layers import InputLayer,DenseLayer,EmbeddingLayer\n",
    "from lasagne.layers import RecurrentLayer,LSTMLayer,GRULayer,CustomRecurrentLayer"
   ]
  },
  {
   "cell_type": "code",
   "execution_count": 12,
   "metadata": {
    "collapsed": false
   },
   "outputs": [],
   "source": [
    "l_in = lasagne.layers.InputLayer(shape=(None, None),input_var=input_sequence)\n",
    "\n",
    "#!<Your neural network>\n",
    "l_emb = EmbeddingLayer(l_in, input_size=len(tokens), output_size=30)\n",
    "\n",
    "l_rnn = LSTMLayer(l_emb, num_units=64)\n",
    "\n",
    "#flatten batch and time to be compatible with feedforward layers (will un-flatten later)\n",
    "l_rnn_flat = lasagne.layers.reshape(l_rnn, (-1,l_rnn.output_shape[-1]))\n",
    "\n",
    "l_out = DenseLayer(l_rnn_flat, len(tokens),nonlinearity=T.nnet.softmax)"
   ]
  },
  {
   "cell_type": "code",
   "execution_count": 13,
   "metadata": {
    "collapsed": false
   },
   "outputs": [
    {
     "name": "stdout",
     "output_type": "stream",
     "text": [
      "[W, W_in_to_ingate, W_hid_to_ingate, b_ingate, W_in_to_forgetgate, W_hid_to_forgetgate, b_forgetgate, W_in_to_cell, W_hid_to_cell, b_cell, W_in_to_outgate, W_hid_to_outgate, b_outgate, W_cell_to_ingate, W_cell_to_forgetgate, W_cell_to_outgate, W, b]\n"
     ]
    }
   ],
   "source": [
    "# Model weights\n",
    "weights = lasagne.layers.get_all_params(l_out,trainable=True)\n",
    "print( weights)"
   ]
  },
  {
   "cell_type": "code",
   "execution_count": 14,
   "metadata": {
    "collapsed": false
   },
   "outputs": [],
   "source": [
    "network_output = lasagne.layers.get_output(l_out)"
   ]
  },
  {
   "cell_type": "code",
   "execution_count": 15,
   "metadata": {
    "collapsed": false
   },
   "outputs": [],
   "source": [
    "predicted_probabilities_flat = network_output\n",
    "correct_answers_flat = target_values.ravel()\n",
    "\n",
    "\n",
    "loss = lasagne.objectives.categorical_crossentropy(predicted_probabilities_flat, correct_answers_flat).mean()\n",
    "\n",
    "updates = lasagne.updates.adam(loss, weights)"
   ]
  },
  {
   "cell_type": "markdown",
   "metadata": {},
   "source": [
    "# Compiling it"
   ]
  },
  {
   "cell_type": "code",
   "execution_count": 16,
   "metadata": {
    "collapsed": false
   },
   "outputs": [],
   "source": [
    "#training\n",
    "train = theano.function([input_sequence, target_values], loss, updates=updates, allow_input_downcast=True)\n",
    "\n",
    "#computing loss without training\n",
    "compute_cost = theano.function([input_sequence, target_values], loss, allow_input_downcast=True)"
   ]
  },
  {
   "cell_type": "markdown",
   "metadata": {},
   "source": [
    "# generation\n",
    "\n",
    "Simple: \n",
    "* get initial context(seed), \n",
    "* predict next token probabilities,\n",
    "* sample next token, \n",
    "* add it to the context\n",
    "* repeat from step 2\n",
    "\n",
    "You'll get a more detailed info on how it works in the homework section."
   ]
  },
  {
   "cell_type": "code",
   "execution_count": 17,
   "metadata": {
    "collapsed": true
   },
   "outputs": [],
   "source": [
    "#compile the function that computes probabilities for next token given previous text.\n",
    "\n",
    "#reshape back into original shape\n",
    "next_word_probas = network_output.reshape((input_sequence.shape[0],input_sequence.shape[1],len(tokens)))\n",
    "#predictions for next tokens (after sequence end)\n",
    "last_word_probas = next_word_probas[:,-1]\n",
    "probs = theano.function([input_sequence],last_word_probas,allow_input_downcast=True)\n"
   ]
  },
  {
   "cell_type": "code",
   "execution_count": 18,
   "metadata": {
    "collapsed": false
   },
   "outputs": [],
   "source": [
    "\n",
    "def generate_sample(seed_phrase=None,N=MAX_LEN,t=1,n_snippets=1):\n",
    "    '''\n",
    "    The function generates text given a phrase of length at least SEQ_LENGTH.\n",
    "        \n",
    "    parameters:\n",
    "        sample_fun - max_ or proportional_sample_fun or whatever else you implemented\n",
    "        \n",
    "        The phrase is set using the variable seed_phrase\n",
    "\n",
    "        The optional input \"N\" is used to set the number of characters of text to predict.     \n",
    "    '''\n",
    "    if seed_phrase is None:\n",
    "        seed_phrase=start_token\n",
    "    if len(seed_phrase) > MAX_LEN:\n",
    "        seed_phrase = seed_phrase[-MAX_LEN:]\n",
    "    assert type(seed_phrase) is str\n",
    "\n",
    "    snippets = []\n",
    "    for _ in range(n_snippets):\n",
    "        sample_ix = []\n",
    "        x = [token_to_id.get(c,0) for c in seed_phrase]\n",
    "        x = np.array([x])\n",
    "\n",
    "        for i in range(N):\n",
    "            # Pick the character that got assigned the highest probability\n",
    "            p = probs(x).ravel()\n",
    "            p = p**t / np.sum(p**t)\n",
    "            ix = np.random.choice(np.arange(len(tokens)),p=p)\n",
    "            sample_ix.append(ix)\n",
    "\n",
    "            x = np.hstack((x[-MAX_LEN+1:],[[ix]]))\n",
    "\n",
    "        random_snippet = seed_phrase + ''.join(id_to_token[ix] for ix in sample_ix)    \n",
    "        snippets.append(random_snippet)\n",
    "        \n",
    "    print(\"----\\n %s \\n----\" % '; '.join(snippets))\n"
   ]
  },
  {
   "cell_type": "markdown",
   "metadata": {},
   "source": [
    "# Model training\n",
    "\n",
    "Here you can tweak parameters or insert your generation function\n",
    "\n",
    "\n",
    "__Once something word-like starts generating, try increasing seq_length__\n",
    "\n"
   ]
  },
  {
   "cell_type": "code",
   "execution_count": 19,
   "metadata": {
    "collapsed": true
   },
   "outputs": [],
   "source": [
    "def sample_batch(data, batch_size):\n",
    "    \n",
    "    rows = data[np.random.randint(0,len(data),size=batch_size)]\n",
    "    \n",
    "    return rows[:,:-1],rows[:,1:]"
   ]
  },
  {
   "cell_type": "code",
   "execution_count": 22,
   "metadata": {
    "collapsed": false
   },
   "outputs": [
    {
     "name": "stdout",
     "output_type": "stream",
     "text": [
      "Training ...\n",
      "Generated names\n",
      "----\n",
      "  tYgrjsaz;  tTlTKzaD;  FIFMjCGF;  g gXerdq;  MVbXkfrU;  SAoKkioK;  CpxUpRXI;  uhKCBoDk;  DGOieZcC;  bOQVo lj \n",
      "----\n",
      "Epoch 0 average loss = 2.772272753715515\n",
      "Generated names\n",
      "----\n",
      "  Cancyie ;  Duraret ;  Medina  ;  Prneta h;  C lsdia ;  Cospi   ;  Rwasic i;  Ptadtie ;  Manna   ;  hourta   \n",
      "----\n",
      "Epoch 1 average loss = 2.2609855868816378\n",
      "Generated names\n",
      "----\n",
      "  Gohiesn ;  Larel   ;  cadiy   ;  Mhatdten;  Manrutte;  Lacdena ;  Btyxee  ;  Renlis  ;  Ig      ;  Claw     \n",
      "----\n",
      "Epoch 2 average loss = 2.1861377372741697\n",
      "Generated names\n",
      "----\n",
      "  Lalcy   ;  Hard    ;  Dacveela;  Cotthegs;  Berglina;  Aratkuu ;  Jortseed;  Kivan   ;  Jastie  ;  Eunlyort \n",
      "----\n",
      "Epoch 3 average loss = 2.1400229790210723\n",
      "Generated names\n",
      "----\n",
      "  Valled  ;  Mawna   ;  Gallicke;  Suszong ;  Heviena ;  Adidornc;  Wininsa ;  Kane    ;  Gtonarin;  Retuo    \n",
      "----\n",
      "Epoch 4 average loss = 2.103325899839401\n",
      "Generated names\n",
      "----\n",
      "  Laonna  ;  Sharyn  ;  Artella ;  Bamnurn ;  Karieden;  Shanison;  Lelis   ;  Helonit ;  Alghe   ;  Teenle   \n",
      "----\n",
      "Epoch 5 average loss = 2.067783887386322\n",
      "Generated names\n",
      "----\n",
      "  Maley   ;  Ona     ;  Keylinr ;  Ordasure;  Vwysital;  Wannie  ;  Mareell ;  Matrina ;  Kim     ;  Kaide    \n",
      "----\n",
      "Epoch 6 average loss = 2.0545406951904295\n",
      "Generated names\n",
      "----\n",
      "  Katlin  ;  Vem     ;  Orvy    ;  Venkorie;  Riotelo ;  Vichy   ;  Rezilie ;  Wily    ;  Cilguste;  Fisabe   \n",
      "----\n",
      "Epoch 7 average loss = 2.0308412742614745\n",
      "Generated names\n",
      "----\n",
      "  Agdas   ;  Lipelice;  Jondine ;  Lenen   ;  Giynn   ;  Maderist;  Carfhy  ;  Eme     ;  Valie   ;  Se       \n",
      "----\n",
      "Epoch 8 average loss = 2.011271046638489\n",
      "Generated names\n",
      "----\n",
      "  Zess    ;  Pelyma  ;  Jrkolyn ;  Fulil   ;  Risha   ;  Tussie  ;  Marian  ;  Melvoh  ;  Rezindi ;  Wissie   \n",
      "----\n",
      "Epoch 9 average loss = 1.9910246937274934\n",
      "Generated names\n",
      "----\n",
      "  Nana    ;  Delien  ;  Melisa  ;  Romeben ;  Locia   ;  Ipharmis;  Gritcell;  Jeyn    ;  Thorcfy ;  Charlara \n",
      "----\n",
      "Epoch 10 average loss = 2.0085626859664916\n",
      "Generated names\n",
      "----\n",
      "  Anny    ;  Nispersi;  Wilvie  ;  Dannarde;  Allwer  ;  Geloide ;  Orisser ;  Esbelisa;  Lecha   ;  Luicha   \n",
      "----\n",
      "Epoch 11 average loss = 1.980373990058899\n",
      "Generated names\n",
      "----\n",
      "  Aliannie;  Fricon  ;  Havm yn ;  Iveb    ;  Dortie  ;  Stach   ;  Gyndryn ;  Lure    ;  Geritnie;  Benni- D \n",
      "----\n",
      "Epoch 12 average loss = 1.9671831016540526\n",
      "Generated names\n",
      "----\n",
      "  Ros     ;  Pelin   ;  Lainso  ;  Toral   ;  Pammy   ;  Morgeron;  Willa   ;  Derry   ;  Anggel  ;  Aranne   \n",
      "----\n",
      "Epoch 13 average loss = 1.949852177619934\n",
      "Generated names\n",
      "----\n",
      "  Bartie  ;  Wivlie  ;  Briani  ;  Harza   ;  Gamonny ;  Cheletti;  Stokky  ;  Ehann   ;  Can     ;  Horl     \n",
      "----\n",
      "Epoch 14 average loss = 1.9501060440540314\n",
      "Generated names\n",
      "----\n",
      "  Bencif  ;  Mick    ;  Mart    ;  Lilly   ;  Phrelder;  Darylla ;  Hevens  ;  Gohan   ;  Ela     ;  Nayad    \n",
      "----\n",
      "Epoch 15 average loss = 1.9411779165267944\n",
      "Generated names\n",
      "----\n",
      "  Chellian;  Elleta  ;  Dikola  ;  Arince  ;  Dowe    ;  Mathunna;  Deny    ;  Alvin   ;  Rane    ;  Ahmone   \n",
      "----\n",
      "Epoch 16 average loss = 1.919937920808792\n",
      "Generated names\n",
      "----\n",
      "  Sayly   ;  Fidena  ;  Jull    ;  Sam or  ;  Stodi   ;  Marvert ;  Janna   ;  Otria   ;  Jobii   ;  Paddreo  \n",
      "----\n",
      "Epoch 17 average loss = 1.9107031733989717\n",
      "Generated names\n",
      "----\n",
      "  Korry   ;  Gwifesta;  Lalachan;  Carla   ;  Jay     ;  Carrie  ;  Frodes  ;  Otana   ;  Lisilina;  Amlama   \n",
      "----\n",
      "Epoch 18 average loss = 1.913028172492981\n",
      "Generated names\n",
      "----\n",
      "  Joncod  ;  Marthoy ;  Randod  ;  Piphe   ;  Rosele  ;  Babrie  ;  Gordardy;  Simphurs;  Brona   ;  Bulby    \n",
      "----\n",
      "Epoch 19 average loss = 1.9045683991909028\n",
      "Generated names\n",
      "----\n",
      "  Gaidrica;  Soneann ;  Ennab   ;  Chebes  ;  Tideliel;  Brtanile;  Carbere ;  Kelly   ;  Chaniela;  Essera   \n",
      "----\n",
      "Epoch 20 average loss = 1.8948080728054046\n",
      "Generated names\n",
      "----\n",
      "  Morg    ;  Engberie;  Shayleo ;  Cola    ;  Meytrey ;  Kadia   ;  Nicllyen;  Enslycet;  Tean    ;  Dobe     \n",
      "----\n",
      "Epoch 21 average loss = 1.883902013540268\n",
      "Generated names\n",
      "----\n",
      "  Parel   ;  Lis     ;  Well    ;  Lolena  ;  Zicharee;  Lore    ;  Megha   ;  Yobelle ;  Jora    ;  Claventi \n",
      "----\n",
      "Epoch 22 average loss = 1.86688929271698\n",
      "Generated names\n",
      "----\n",
      "  Karlis  ;  Kata    ;  Dicolie ;  Chordi  ;  Jolor   ;  Cathy   ;  Brin    ;  Vlaicen ;  Harrina ;  Jonrie   \n",
      "----\n",
      "Epoch 23 average loss = 1.8670219142436981\n",
      "Generated names\n",
      "----\n",
      "  Aibel   ;  Tidarda ;  Brancila;  Feland  ;  Salema  ;  Ardielee;  Tymie   ;  Berrie  ;  Sugnicey;  Lerriann \n",
      "----\n",
      "Epoch 24 average loss = 1.8604336910247803\n",
      "Generated names\n",
      "----\n",
      "  Sunnette;  Kirstin ;  Hantel  ;  Jenee   ;  Barterhe;  Sherann ;  Sailyn  ;  Innie   ;  Riod    ;  Corrain  \n",
      "----\n",
      "Epoch 25 average loss = 1.8564645235538482\n",
      "Generated names\n",
      "----\n",
      "  Frandor ;  Averam  ;  Krister ;  Tydree  ;  Marralia;  Aldin   ;  Lerrise ;  Bla     ;  Agdre   ;  Gustir   \n",
      "----\n",
      "Epoch 26 average loss = 1.851917733669281\n",
      "Generated names\n",
      "----\n",
      "  Clispie ;  Aleska  ;  Raib    ;  Bettei  ;  Shainett;  Carly   ;  OAdi    ;  Pharth  ;  Tebby   ;  Caulia   \n",
      "----\n",
      "Epoch 27 average loss = 1.8415072042942047\n",
      "Generated names\n",
      "----\n",
      "  Maunthar;  Falivas ;  Rocrey  ;  Carramia;  Tonico  ;  Junnia  ;  Roscol  ;  Froncica;  Ankea   ;  Tins     \n",
      "----\n",
      "Epoch 28 average loss = 1.833505227804184\n",
      "Generated names\n",
      "----\n",
      "  Gedardis;  Vernilin;  Kelly   ;  Gilillpe;  Aday    ;  Austis  ;  Ry      ;  Konson  ;  Flete   ;  Alences  \n",
      "----\n",
      "Epoch 29 average loss = 1.8131882252693177\n",
      "Generated names\n",
      "----\n",
      "  Lea     ;  Esleen  ;  Moriann ;  Barrey  ;  Keslida ;  Richwaby;  Jaclins ;  Katlener;  Garvie  ;  Andria   \n",
      "----\n",
      "Epoch 30 average loss = 1.8214412648677827\n",
      "Generated names\n",
      "----\n",
      "  Charme  ;  Rosenna ;  Rosulisa;  Idgel   ;  Neil    ;  Brokella;  Sephand ;  Shacina ;  Ewilla  ;  Beann    \n",
      "----\n",
      "Epoch 31 average loss = 1.8173551321029664\n",
      "Generated names\n",
      "----\n",
      "  Avila   ;  Rusti   ;  Ehmabell;  Koreren ;  Alga    ;  Pendol  ;  Agtonie ;  Willey  ;  Clyd    ;  Jenice   \n",
      "----\n",
      "Epoch 32 average loss = 1.8002021532058716\n",
      "Generated names\n",
      "----\n",
      "  Stack   ;  Carella ;  Kimbor  ;  Darmun  ;  Bartour ;  Mathue  ;  Colphorg;  Lerma   ;  Doll    ;  Stewinz  \n",
      "----\n",
      "Epoch 33 average loss = 1.8031571719646453\n",
      "Generated names\n",
      "----\n",
      "  Folonera;  Reynou  ;  Kathie  ;  Lothyne ;  Julasha ;  Ellin   ;  Georgie ;  Cledori ;  Kaille  ;  Almer    \n",
      "----\n",
      "Epoch 34 average loss = 1.7938047692775727\n",
      "Generated names\n",
      "----\n",
      "  Garnelli;  Rizi    ;  Daraldan;  Rutherig;  Rudon   ;  Glina   ;  Alielle ;  Geri    ;  Almeria ;  Shanean  \n",
      "----\n",
      "Epoch 35 average loss = 1.7875398869514465\n",
      "Generated names\n",
      "----\n",
      "  Skyla   ;  Jerginia;  Gorie   ;  Clisando;  Ucharies;  Dolanie ;  Merty   ;  Robi    ;  Jorine  ;  Thiliann \n",
      "----\n",
      "Epoch 36 average loss = 1.7851163425445558\n",
      "Generated names\n",
      "----\n",
      "  Guxifran;  Amby    ;  Sanna   ;  Lusteva ;  Gustanto;  Dorcia  ;  Hoddy   ;  Flynni  ;  Nann    ;  Muddy    \n",
      "----\n",
      "Epoch 37 average loss = 1.7848822221755982\n",
      "Generated names\n",
      "----\n",
      "  CJanth  ;  Gitarf  ;  Horrie  ;  Dimana  ;  Abdul   ;  Parlora ;  Shirli  ;  Moura   ;  Firzat  ;  Kimbi    \n",
      "----\n",
      "Epoch 38 average loss = 1.773905948162079\n",
      "Generated names\n",
      "----\n",
      "  Perril  ;  Robi    ;  Tozalyn ;  Cacildan;  Natcon  ;  Sybelly ;  Cahly   ;  Audrey  ;  Angele  ;  Jory     \n",
      "----\n",
      "Epoch 39 average loss = 1.7599253659248353\n",
      "Generated names\n",
      "----\n",
      "  Lorynna ;  Drithann;  Ian     ;  Raquel  ;  Anielle ;  Pat     ;  Almeris ;  Darine  ;  Lins    ;  Michelai \n",
      "----\n",
      "Epoch 40 average loss = 1.7577144808769225\n",
      "Generated names\n",
      "----\n",
      "  Tare    ;  Gernert ;  Xigo    ;  Tomonce ;  Talon   ;  Annaleen;  Gabey   ;  Daphien ;  Orer    ;  Carle    \n",
      "----\n",
      "Epoch 41 average loss = 1.7636176142692566\n",
      "Generated names\n",
      "----\n",
      "  Leelyn  ;  Moria   ;  Ste     ;  Lawley  ;  Nossaina;  Joha    ;  Neaton  ;  Nellus  ;  Nillan  ;  Shermia  \n",
      "----\n",
      "Epoch 42 average loss = 1.7502010531425476\n",
      "Generated names\n",
      "----\n",
      "  Blonnah ;  Treda   ;  Aura    ;  Bya     ;  Clys    ;  Marlon  ;  Marima  ;  Herggia ;  Vlawet  ;  Kassee   \n",
      "----\n",
      "Epoch 43 average loss = 1.7522648043632507\n",
      "Generated names\n",
      "----\n",
      "  Elscha  ;  Enneliss;  Valryn  ;  Natralle;  Kettyer ;  Cobun   ;  Olean   ;  Kimberyn;  Tunk    ;  Tothila  \n",
      "----\n",
      "Epoch 44 average loss = 1.7384105744361877\n",
      "Generated names\n",
      "----\n",
      "  Pioce   ;  Samiana ;  Lucine  ;  Rewarda ;  Ulfi    ;  Piparon ;  Dymy    ;  Pallie  ;  Laese   ;  Mitanna  \n",
      "----\n",
      "Epoch 45 average loss = 1.740876556634903\n",
      "Generated names\n",
      "----\n",
      "  Gaov    ;  Sara    ;  CEm     ;  Philop  ;  Goldy   ;  Megam   ;  Deocuse ;  Raker   ;  Katrina ;  Wovya    \n",
      "----\n",
      "Epoch 46 average loss = 1.739698273897171\n",
      "Generated names\n",
      "----\n",
      "  Ta      ;  Astha   ;  Weldis  ;  Ville   ;  Joney   ;  Xamuquea;  Avralia ;  Dapy    ;  Peigela ;  Stynth   \n",
      "----\n",
      "Epoch 47 average loss = 1.7358997402191163\n",
      "Generated names\n",
      "----\n",
      "  Tiedella;  Jenni   ;  Hillieva;  Hanni   ;  Edra    ;  Dyn     ;  Sada    ;  Carra   ;  Honissa ;  Wilbardi \n",
      "----\n",
      "Epoch 48 average loss = 1.7272357001304626\n",
      "Generated names\n",
      "----\n",
      "  Winn    ;  Rodine  ;  Jennissa;  Majlinou;  Ingper  ;  Ongura  ;  Carm    ;  Storlene;  Loyna   ;  Marict   \n",
      "----\n",
      "Epoch 49 average loss = 1.7247635185718537\n",
      "Generated names\n",
      "----\n",
      "  Tadesey ;  Allie   ;  Margi   ;  Adrie   ;  Joudele ;  Falys   ;  Madelio ;  Robinett;  Chersi  ;  Janana   \n",
      "----\n",
      "Epoch 50 average loss = 1.7209280025959015\n",
      "Generated names\n",
      "----\n",
      "  Charlie ;  Arlon   ;  Feo     ;  Joni    ;  Jenett  ;  Genie   ;  Diusee  ;  Sauldan ;  Rhyn    ;  Evara    \n",
      "----\n",
      "Epoch 51 average loss = 1.7139395546913148\n",
      "Generated names\n",
      "----\n",
      "  Almette ;  Eriota  ;  Shelbert;  Avy     ;  Betty   ;  Theri   ;  Nadi    ;  Myrty   ;  Merriley;  Simon    \n",
      "----\n",
      "Epoch 52 average loss = 1.7170321152210235\n",
      "Generated names\n",
      "----\n",
      "  Barty   ;  Roki    ;  Orwarole;  Mira    ;  Debbalee;  Miv     ;  Olbinda ;  Verina  ;  Maina   ;  Caryn    \n",
      "----\n",
      "Epoch 53 average loss = 1.7082486736774445\n",
      "Generated names\n",
      "----\n",
      "  Ledmig  ;  Flore   ;  Anoart  ;  Eddie   ;  Artinne ;  Myah    ;  Webba   ;  Alyson  ;  Ruf     ;  Lavine   \n",
      "----\n",
      "Epoch 54 average loss = 1.7067847547531128\n",
      "Generated names\n",
      "----\n",
      "  Epmie   ;  Shaward ;  Rube    ;  Nickie  ;  Deedi   ;  Sibulin ;  Tedno   ;  Amadull ;  Waytte  ;  Michelew \n",
      "----\n",
      "Epoch 55 average loss = 1.7098537702560426\n",
      "Generated names\n",
      "----\n",
      "  Kelie   ;  Cathallk;  Atonis  ;  Jenich  ;  Thox    ;  Kaychon ;  Damee   ;  Lewleen ;  Phuram  ;  Delmon   \n",
      "----\n",
      "Epoch 56 average loss = 1.7098133716583253\n",
      "Generated names\n",
      "----\n",
      "  Willa   ;  Godentag;  Lose    ;  Kathie  ;  Melisel ;  Taspy   ;  Lonelle ;  Ula     ;  Carri   ;  Lisleen  \n",
      "----\n",
      "Epoch 57 average loss = 1.6920106656551361\n",
      "Generated names\n",
      "----\n",
      "  Darvita ;  Sibeisa ;  Wwyls   ;  LanitanA;  Crailly ;  Bubb    ;  Jobe    ;  Irila   ;  Judi    ;  Mirah    \n",
      "----\n",
      "Epoch 58 average loss = 1.6986669390201568\n",
      "Generated names\n",
      "----\n",
      "  Skephay ;  Jaanper ;  Samud   ;  Leeann  ;  Norbe   ;  Charima ;  Bailda  ;  Blay    ;  Siffinia;  Bernad   \n",
      "----\n",
      "Epoch 59 average loss = 1.68695889544487\n",
      "Generated names\n",
      "----\n",
      "  Magna   ;  Marelo  ;  Allege  ;  Elby    ;  Talie   ;  Chandan ;  Philka  ;  Issie   ;  Johann  ;  Kassy    \n",
      "----\n",
      "Epoch 60 average loss = 1.6893980073928834\n",
      "Generated names\n",
      "----\n",
      "  Tryce   ;  Fryssy  ;  Bussus  ;  Lesa    ;  Roberini;  Jennee  ;  Abby    ;  Heake   ;  Ethelle ;  Cybe     \n",
      "----\n",
      "Epoch 61 average loss = 1.68022851896286\n",
      "Generated names\n",
      "----\n",
      "  Flady   ;  Hetty   ;  Robey   ;  Roannia ;  Vivi    ;  Rucelpie;  Falina  ;  Jaslie  ;  Adena   ;  Harwhyn  \n",
      "----\n",
      "Epoch 62 average loss = 1.6934316499233246\n",
      "Generated names\n",
      "----\n",
      "  Arla    ;  Bertia  ;  Kinstine;  Matthia ;  Soshae  ;  Lee     ;  Roselyl ;  Ingy    ;  Ashl    ;  Bryan    \n",
      "----\n",
      "Epoch 63 average loss = 1.6832919929027557\n",
      "Generated names\n",
      "----\n",
      "  Harrian ;  Talla   ;  Ianor   ;  Reggie  ;  Mock    ;  Trilven ;  Eustone ;  Kellina ;  Anabere ;  Melissye \n",
      "----\n",
      "Epoch 64 average loss = 1.6830607857704163\n",
      "Generated names\n",
      "----\n",
      "  Gwen    ;  Rod     ;  Eddabie ;  Maysene ;  Tybstan ;  Clarig  ;  Shey    ;  Upalika ;  Alfris  ;  Dersha   \n",
      "----\n",
      "Epoch 65 average loss = 1.6592975118160247\n",
      "Generated names\n",
      "----\n",
      "  Ruby    ;  Clauda  ;  Barrete ;  Gughte  ;  Rhita   ;  Robbendi;  Pammalia;  Bernadiq;  Garey   ;  Carle    \n",
      "----\n",
      "Epoch 66 average loss = 1.6781511480808258\n",
      "Generated names\n",
      "----\n",
      "  Jaaneonn;  Stacena ;  Frerche ;  Addro   ;  Juthna  ;  Rothe   ;  Bobbie  ;  Cherison;  Jackelie;  Mudell   \n",
      "----\n",
      "Epoch 67 average loss = 1.6722564630508423\n",
      "Generated names\n",
      "----\n",
      "  Bradey  ;  Emmotha ;  Andres  ;  Steve   ;  Candwybs;  Ezmelyn ;  Lossense;  Mel     ;  Michelli;  Frederia \n",
      "----\n",
      "Epoch 68 average loss = 1.672551656484604\n",
      "Generated names\n",
      "----\n",
      "  Windy   ;  Marena  ;  Vit     ;  Steva   ;  Trysa   ;  Rachelle;  Dimbiel ;  Juenere ;  Symmonda;  Husteffe \n",
      "----\n",
      "Epoch 69 average loss = 1.6580558280944824\n",
      "Generated names\n",
      "----\n",
      "  Erus    ;  Evettrei;  Milbar  ;  Reetca  ;  Sybel   ;  Cy      ;  Belia   ;  Calma   ;  Lessa   ;  Salle    \n",
      "----\n",
      "Epoch 70 average loss = 1.657638569355011\n",
      "Generated names\n",
      "----\n",
      "  Oarletta;  Limmy   ;  Charyl  ;  Theo    ;  Kissy   ;  Barbabio;  Evy     ;  Tommy   ;  Lemin   ;  Fredd    \n",
      "----\n",
      "Epoch 71 average loss = 1.6587508189678193\n",
      "Generated names\n",
      "----\n",
      "  Grancier;  Paigett ;  Mauds   ;  Lazent  ;  Davella ;  Salna   ;  Lennie  ;  Daune   ;  Sherlace;  Adorey   \n",
      "----\n",
      "Epoch 72 average loss = 1.653211183309555\n",
      "Generated names\n",
      "----\n",
      "  Olickie ;  Marnie  ;  Priscell;  Weddey  ;  Luega   ;  Tobberta;  Karene  ;  Brent   ;  Abbie   ;  StasZy   \n",
      "----\n",
      "Epoch 73 average loss = 1.6601357486248016\n",
      "Generated names\n",
      "----\n",
      "  Ida     ;  Brett   ;  Luchalee;  Gavrie  ;  Sercchel;  Jackield;  Kacienna;  Pachariz;  Taca    ;  Ericha   \n",
      "----\n",
      "Epoch 74 average loss = 1.6471052145957947\n",
      "Generated names\n",
      "----\n",
      "  Mordena ;  Haury   ;  Clauditt;  Myrton  ;  Jacienda;  Bent    ;  Leonard ;  Bricette;  Theriasa;  Karlene  \n",
      "----\n",
      "Epoch 75 average loss = 1.6503322389125823\n",
      "Generated names\n",
      "----\n",
      "  Holly   ;  Lydette ;  Koroba  ;  Soffie  ;  Milita  ;  Ailah   ;  Leonnie ;  Codel   ;  Hun     ;  Siux     \n",
      "----\n",
      "Epoch 76 average loss = 1.655881586074829\n",
      "Generated names\n",
      "----\n",
      "  Glendis ;  Alessi  ;  Nort    ;  Shel    ;  Flincio ;  Gianne  ;  Ruthie  ;  Eleynon ;  Chencett;  Chio     \n",
      "----\n",
      "Epoch 77 average loss = 1.640712328672409\n",
      "Generated names\n",
      "----\n",
      "  Haraubst;  Mailean ;  Candie  ;  Jickarde;  Norie   ;  Bernard ;  Arlyne  ;  Marylee ;  Kamerin ;  Wina     \n",
      "----\n",
      "Epoch 78 average loss = 1.6386578226089477\n",
      "Generated names\n",
      "----\n",
      "  Miquely ;  Kanso   ;  Nithi   ;  Raxier  ;  Darbert ;  Lisan   ;  Jerriki ;  Silvwey ;  Faust   ;  Matty    \n",
      "----\n",
      "Epoch 79 average loss = 1.6374967060089112\n",
      "Generated names\n",
      "----\n",
      "  Bearc   ;  Rulanne ;  Zavinne ;  Joanne-P;  Wendri  ;  Brandi  ;  Katan   ;  Peturice;  Kyur    ;  Ulbordor \n",
      "----\n",
      "Epoch 80 average loss = 1.6441393938064575\n",
      "Generated names\n",
      "----\n",
      "  Lyndele ;  Davine  ;  Griddy  ;  Jessee  ;  Estela  ;  Leillana;  Deman   ;  Shara   ;  Lina    ;  Joyelle  \n",
      "----\n",
      "Epoch 81 average loss = 1.6316564872264863\n",
      "Generated names\n",
      "----\n",
      "  Horwin  ;  Elger   ;  Cassi   ;  Magnadia;  Gus     ;  Richelda;  Murian  ;  Carrelsa;  Arch    ;  Lea      \n",
      "----\n",
      "Epoch 82 average loss = 1.6366541006565094\n",
      "Generated names\n",
      "----\n",
      "  Phelie  ;  Melline ;  All     ;  Silvy   ;  Sandie  ;  Laurena ;  Lanne   ;  Irice   ;  Jesse   ;  Airags   \n",
      "----\n",
      "Epoch 83 average loss = 1.6249201142787932\n",
      "Generated names\n",
      "----\n",
      "  Vitharie;  Mathel  ;  Brigitt ;  Peldi   ;  Merrila ;  Seladie ;  Natasie ;  Lysor   ;  Tiffie  ;  Merrida  \n",
      "----\n",
      "Epoch 84 average loss = 1.6277378764152526\n",
      "Generated names\n",
      "----\n",
      "  Starleen;  Harvy   ;  Deonne  ;  Raelee  ;  Ebina   ;  Xymonia ;  Editha  ;  Leolon  ;  Lou     ;  Herban   \n",
      "----\n",
      "Epoch 85 average loss = 1.6206022815704346\n",
      "Generated names\n",
      "----\n",
      "  Ravin   ;  Correan ;  Micka   ;  Britetca;  Mariquel;  Karre   ;  Nonnie  ;  Alli    ;  Verral  ;  Zebineri \n",
      "----\n",
      "Epoch 86 average loss = 1.6310037472248078\n",
      "Generated names\n",
      "----\n",
      "  Larra   ;  Trecia  ;  Beirderf;  Jerrens ;  Simon   ;  Letty   ;  Ronsaida;  Dianett ;  Robby   ;  Walome   \n",
      "----\n",
      "Epoch 87 average loss = 1.6248175783157348\n",
      "Generated names\n",
      "----\n",
      "  Lina    ;  Marson  ;  Sergence;  Jilord  ;  Anna-Mai;  Filosa  ;  Nineth  ;  Celisto ;  Margaren;  Skillem  \n",
      "----\n",
      "Epoch 88 average loss = 1.6189196546077729\n",
      "Generated names\n",
      "----\n",
      "  Chake   ;  Adahun  ;  Samue   ;  Ingabar ;  Adoll   ;  Sheeree ;  Harriett;  Rahel   ;  Bernaie ;  Harbolda \n",
      "----\n",
      "Epoch 89 average loss = 1.6245039746761323\n",
      "Generated names\n",
      "----\n",
      "  Ronny   ;  Condyn  ;  Elbertio;  Bectie  ;  Hildega ;  Bail    ;  Mariza  ;  Shay    ;  Yaine   ;  Hye      \n",
      "----\n",
      "Epoch 90 average loss = 1.6193817772865295\n",
      "Generated names\n",
      "----\n",
      "  Orratt  ;  Alexin  ;  Arlena  ;  Brane   ;  Cirgiton;  Blancenc;  Harry   ;  Anais   ;  Cacia   ;  Sona     \n",
      "----\n",
      "Epoch 91 average loss = 1.6232912120819092\n",
      "Generated names\n",
      "----\n",
      "  Estib   ;  Stefry  ;  Eberal  ;  Etheline;  Kia     ;  Temmo   ;  Aztor   ;  Lynna   ;  Chrissie;  Wildonhr \n",
      "----\n",
      "Epoch 92 average loss = 1.6122740983963013\n",
      "Generated names\n",
      "----\n",
      "  Carmely ;  Pama    ;  Cath    ;  Danly   ;  Gustar  ;  Elmorah ;  Sarah   ;  Wallie  ;  Melgania;  Clarice  \n",
      "----\n",
      "Epoch 93 average loss = 1.6090574948787688\n",
      "Generated names\n",
      "----\n",
      "  Isabelle;  Cordey  ;  Idiva   ;  Celice  ;  Brand   ;  Pagk    ;  Griffie ;  Hole    ;  Cori    ;  Marriegi \n",
      "----\n",
      "Epoch 94 average loss = 1.6075953962802887\n",
      "Generated names\n",
      "----\n",
      "  Timmie  ;  Branda  ;  Cari    ;  Ruzy    ;  Clippy  ;  Ahord   ;  Stipha  ;  Seison  ;  Ernus   ;  Michelle \n",
      "----\n",
      "Epoch 95 average loss = 1.6049954838752747\n",
      "Generated names\n",
      "----\n",
      "  Antell  ;  Shamon  ;  Tiedsia ;  Matti   ;  Osberta ;  Juline  ;  Thuvatty;  Gunthard;  Jo      ;  Cory     \n",
      "----\n",
      "Epoch 96 average loss = 1.613036687374115\n",
      "Generated names\n",
      "----\n",
      "  Benjie  ;  Mufinda ;  Daniga  ;  Herrick ;  Lynette ;  Sonnica ;  Fane    ;  Abdie   ;  Karon   ;  Chanteri \n",
      "----\n",
      "Epoch 97 average loss = 1.6064427971839905\n",
      "Generated names\n",
      "----\n",
      "  Dina    ;  Cherslae;  Mairo   ;  Tobina  ;  Elvonor ;  Jeanna  ;  Eszi    ;  Maira   ;  Nannee  ;  Loraline \n",
      "----\n",
      "Epoch 98 average loss = 1.6064035725593566\n",
      "Generated names\n",
      "----\n",
      "  Gardeta ;  Shanna  ;  Maria   ;  Kirgitt ;  Gleta   ;  Cammie  ;  Marty   ;  Crissie ;  Marcel  ;  Christan \n",
      "----\n",
      "Epoch 99 average loss = 1.6045209982395172\n"
     ]
    }
   ],
   "source": [
    "\n",
    "print(\"Training ...\")\n",
    "\n",
    "\n",
    "#total N iterations\n",
    "n_epochs=100\n",
    "\n",
    "# how many minibatches are there in the epoch \n",
    "batches_per_epoch = 500\n",
    "\n",
    "#how many training sequences are processed in a single function call\n",
    "batch_size=10\n",
    "\n",
    "\n",
    "for epoch in range(n_epochs):\n",
    "\n",
    "    print(\"Generated names\")\n",
    "    generate_sample(n_snippets=10)\n",
    "\n",
    "    avg_cost = 0;\n",
    "    \n",
    "    for _ in range(batches_per_epoch):\n",
    "        \n",
    "        x,y = sample_batch(names_ix,batch_size)\n",
    "        avg_cost += train(x, y)\n",
    "        \n",
    "    print(\"Epoch {} average loss = {}\".format(epoch, avg_cost / batches_per_epoch))\n",
    "\n"
   ]
  },
  {
   "cell_type": "code",
   "execution_count": null,
   "metadata": {
    "collapsed": true
   },
   "outputs": [],
   "source": []
  },
  {
   "cell_type": "code",
   "execution_count": 23,
   "metadata": {
    "collapsed": false
   },
   "outputs": [
    {
     "name": "stdout",
     "output_type": "stream",
     "text": [
      "----\n",
      "  Mattis  ;  Damily  ;  Ag      ;  Orelle  ;  Missey  ;  Adrienna;  Mabel   ;  Amil    ;  Frane   ;  Madelaid;  Dem     ;  Jess    ;  Loren   ;  Prysel  ;  Hannelis;  Cyrilla ;  Ernest  ;  Saothron;  Angemi  ;  Janess  ;  Aldne   ;  Jerrie  ;  Carley  ;  Haugus  ;  Harlanie;  Zacherik;  Pate    ;  Fariana ;  Caretta ;  Almurden;  Antonnia;  Gilb    ;  Chaspen ;  Evvinga ;  Cessie  ;  Leonard ;  Delma   ;  Salman  ;  Terrella;  Kenthio ;  Ansel   ;  Mari    ;  Geordra ;  Shelbeo ;  Mischa  ;  Ala     ;  Moly    ;  Obie    ;  Terida  ;  Carson  ;  Chala   ;  Willab  ;  Dorette ;  Chasta  ;  Adory   ;  Johnni  ;  Heydoldo;  Aldris  ;  Melin   ;  Erni    ;  Don     ;  Alene   ;  Leolea  ;  Clarite ;  Melestet;  Haustyn ;  Dortham ;  Ilda    ;  Silly   ;  Gussi   ;  Taslie  ;  Cristin ;  Steffani;  Rosemarr;  Gertror ;  Ricki   ;  Shelson ;  Lyshal  ;  Erina   ;  Mohana  ;  Cybrola ;  Silvel  ;  Adrick  ;  Elvore  ;  Patia   ;  JackAl  ;  Violette;  Hanny   ;  Frent   ;  Orsola  ;  Hall    ;  Haylmer ;  Clibbe  ;  Lynnelll;  rilva   ;  Barm    ;  Cristie ;  Silber  ;  Korlen  ;  Alasta   \n",
      "----\n"
     ]
    }
   ],
   "source": [
    "generate_sample(n_snippets=100)"
   ]
  },
  {
   "cell_type": "code",
   "execution_count": 25,
   "metadata": {
    "collapsed": false
   },
   "outputs": [
    {
     "name": "stdout",
     "output_type": "stream",
     "text": [
      "----\n",
      "  Aviva     \n",
      "----\n"
     ]
    }
   ],
   "source": [
    "generate_sample(seed_phrase=\" A\")"
   ]
  },
  {
   "cell_type": "code",
   "execution_count": null,
   "metadata": {
    "collapsed": true
   },
   "outputs": [],
   "source": []
  }
 ],
 "metadata": {
  "anaconda-cloud": {},
  "kernelspec": {
   "display_name": "Python 3",
   "language": "python",
   "name": "python3"
  },
  "language_info": {
   "codemirror_mode": {
    "name": "ipython",
    "version": 3
   },
   "file_extension": ".py",
   "mimetype": "text/x-python",
   "name": "python",
   "nbconvert_exporter": "python",
   "pygments_lexer": "ipython3",
   "version": "3.5.3"
  }
 },
 "nbformat": 4,
 "nbformat_minor": 0
}
