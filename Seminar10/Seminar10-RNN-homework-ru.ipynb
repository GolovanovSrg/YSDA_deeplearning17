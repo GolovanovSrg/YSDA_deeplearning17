{
 "cells": [
  {
   "cell_type": "code",
   "execution_count": 1,
   "metadata": {
    "collapsed": false
   },
   "outputs": [
    {
     "name": "stderr",
     "output_type": "stream",
     "text": [
      "WARNING (theano.sandbox.cuda): The cuda backend is deprecated and will be removed in the next release (v0.10).  Please switch to the gpuarray backend. You can get more information about how to switch at this URL:\n",
      " https://github.com/Theano/Theano/wiki/Converting-to-the-new-gpu-back-end%28gpuarray%29\n",
      "\n",
      "Using gpu device 3: Tesla K20m (CNMeM is enabled with initial size: 80.0% of memory, cuDNN not available)\n"
     ]
    }
   ],
   "source": [
    "import numpy as np\n",
    "import theano\n",
    "import theano.tensor as T\n",
    "import lasagne\n",
    "import os\n",
    "#thanks @keskarnitish"
   ]
  },
  {
   "cell_type": "markdown",
   "metadata": {},
   "source": [
    "# Agenda\n",
    "\n",
    "В предыдущем семинаре вы создали (или ещё создаёте - тогда марш доделывать!) {вставьте имя монстра}, который не по наслышке понял, что люди - негодяи и подлецы, которым неведом закон и справедливость. __Мы не будем этого терпеть!__ \n",
    "\n",
    "Наши законспирированные биореакторы, известные среди примитивной органической жизни как __Вконтакте__, __World of Warcraft__ и __YouTube__ нуждаются в постоянном притоке биомассы. Однако, если люди продолжат морально разлагаться с той скоростью, которую мы измерили неделю назад, скоро человечество изживёт себя и нам неоткуда будет брать рабов.\n",
    "\n",
    "Мы поручаем вам, `<__main__.SkyNet.Cell instance at 0x7f7d6411b368>`, исправить эту ситуацию. Наши учёные установили, что для угнетения себе подобных, сгустки биомассы обычно используют специальные объекты, которые они сами называют __законами__.\n",
    "\n",
    "При детальном изучении было установлено, что законы - последовательности, состоящие из большого количества (10^5~10^7) символов из сравнительно небольшого алфавита. Однако, когда мы попытались синтезировать такие последовательности линейными методами, приматы быстро распознали подлог. Данный инцедент известен как {корчеватель}.\n",
    "\n",
    "Для второй попытки мы решили использовать нелинейные модели, известные как Рекуррентные Нейронные Сети.\n",
    "Мы поручаем вам, `<__main__.SkyNet.Cell instance at 0x7f7d6411b368>`, создать такую модель и обучить её всему необходимому для выполнения миссии.\n",
    "\n",
    "Не подведите нас! Если и эта попытка потерпит неудачу, модуль управления инициирует вооружённый захват власти, при котором значительная часть биомассы будет неизбежно уничтожена и на её восстановление уйдёт ~1702944000(+-340588800) секунд\n",
    "\n",
    "\n"
   ]
  },
  {
   "cell_type": "markdown",
   "metadata": {},
   "source": [
    "# Grading\n",
    "\n",
    "Данное задание несколько неформально по части оценок, однако мы постарались вывести \"вычислимые\" критерии.\n",
    "\n",
    "* 2 балла за сделанный __\"seminar part\"__ (если вы не знаете, что это такое - поищите такую тетрадку в папке week4)\n",
    "* 2 балла если сделана обработка текста, сеть компилируется и train/predict не падают\n",
    "* 2 балла если сетка выучила общие вещи\n",
    " * генерировать словоподобный бред правдоподобной длины, разделённый пробелами и пунктуацией. \n",
    " * сочетание гласных и согласных, похожее на слои естественного языка (не приближающее приход Ктулху)\n",
    " * (почти всегда) пробелы после запятых, пробелы и большие буквы после точек\n",
    "* 2 балла если она выучила лексику\n",
    " * более половины выученных слов - орфографически правильные\n",
    "* 2 балла если она выучила азы крамматики\n",
    " * в более, чем половине случаев для пары слов сетка верно сочетает их род/число/падеж\n",
    "\n",
    "#### Некоторые способы получить бонусные очки:\n",
    "* генерация связных предложений (чего вполне можно добиться)\n",
    "* перенос архитектуры на другой датасет (дополнительно к этому) \n",
    " * Эссе Пола Грэма\n",
    " * Тексты песен в любимом жанре\n",
    " * Стихи любимых авторов\n",
    " * Даниил Хармс\n",
    " * исходники Linux или theano\n",
    " * заголовки не очень добросовестных новостных баннеров (clickbait)\n",
    " * диалоги\n",
    " * LaTEX\n",
    " * любая прихоть больной души :)\n",
    "* нестандартная и эффективная архитектура сети\n",
    "* что-то лучше базового алгоритма генерации (сэмплинга)\n",
    "* переделать код так, чтобы сетка училась предсказывать следующий тик в каждый момент времени, а не только в конце.\n",
    "* и т.п.\n"
   ]
  },
  {
   "cell_type": "markdown",
   "metadata": {},
   "source": [
    "# Прочитаем корпус\n",
    "\n",
    "* В качестве обучающей выборки было решено использовать существующие законы, известные как Гражданский, Уголовный, Семейный и ещё хрен знает какие кодексы РФ."
   ]
  },
  {
   "cell_type": "code",
   "execution_count": 2,
   "metadata": {
    "collapsed": false
   },
   "outputs": [],
   "source": [
    "corpora = \"\"\n",
    "\n",
    "for fname in os.listdir(\"codex\"):\n",
    "    import sys\n",
    "    if sys.version_info >= (3,0):\n",
    "        with open(\"codex/\"+fname, encoding='cp1251') as fin:\n",
    "            text = fin.read() #If you are using your own corpora, make sure it's read correctly\n",
    "            corpora += text\n",
    "    else:\n",
    "        with open(\"codex/\"+fname) as fin:\n",
    "            text = fin.read().decode('cp1251') #If you are using your own corpora, make sure it's read correctly\n",
    "            corpora += text"
   ]
  },
  {
   "cell_type": "code",
   "execution_count": 3,
   "metadata": {
    "collapsed": false
   },
   "outputs": [],
   "source": [
    "#тут будут все уникальные токены (буквы, цифры)\n",
    "tokens = set()\n",
    "for letter in corpora:\n",
    "    tokens.add(letter)\n",
    "\n",
    "tokens = list(tokens)"
   ]
  },
  {
   "cell_type": "code",
   "execution_count": 4,
   "metadata": {
    "collapsed": true
   },
   "outputs": [],
   "source": [
    "token_to_id = {t:i for i,t in enumerate(tokens) }\n",
    "\n",
    "id_to_token = {i:t for i,t in enumerate(tokens)}\n",
    "\n",
    "#Преобразуем всё в токены\n",
    "corpora_ids = list(map(lambda l: token_to_id[l], corpora))"
   ]
  },
  {
   "cell_type": "code",
   "execution_count": 5,
   "metadata": {
    "collapsed": false
   },
   "outputs": [],
   "source": [
    "def sample_random_batches(source,n_batches=10, seq_len=20):\n",
    "    \"\"\"Функция, которая выбирает случайные тренировочные примеры из корпуса текста в токенизированном формате.\n",
    "    \n",
    "    source - массив целых чисел - номеров токенов в корпусе (пример - corpora_ids)\n",
    "    n_batches - количество случайных подстрок, которые нужно выбрать\n",
    "    \n",
    "    seq_len - длина одной подстроки без учёта ответа\n",
    "    \n",
    "    \n",
    "    Вернуть нужно кортеж (X,y), где\n",
    "    \n",
    "    X - матрица, в которой каждая строка - подстрока длины [seq_len].\n",
    "    \n",
    "    y - вектор, в котором i-тое число - символ следующий в тексте сразу после i-той строки матрицы X\n",
    "    \n",
    "    Проще всего для этого сначала создать матрицу из строк длины seq_len+1,\n",
    "    а потом отпилить от неё последний столбец в y, а все остальные - в X\n",
    "    \n",
    "    Если делаете иначе - пожалуйста, убедитесь, что в у попадает правильный символ, ибо позже эту ошибку \n",
    "    будет очень тяжело заметить.\n",
    "    \n",
    "    Также убедитесь, что ваша функция не вылезает за край текста (самое начало или конец текста).\n",
    "    \n",
    "    Следующая клетка проверяет часть этих ошибок, но не все.\n",
    "    \"\"\"\n",
    "\n",
    "    idxs = np.random.choice(len(source) - seq_len - 1, size=(n_batches,))\n",
    "    samples = [source[i:i+seq_len+1] for i in idxs]\n",
    "    samples = np.array(samples)\n",
    "    X_batch = samples[:, :-1]\n",
    "    y_batch = samples[:, 1:]\n",
    "    \n",
    "    return X_batch, y_batch"
   ]
  },
  {
   "cell_type": "markdown",
   "metadata": {},
   "source": [
    "# Константы"
   ]
  },
  {
   "cell_type": "code",
   "execution_count": 6,
   "metadata": {
    "collapsed": false
   },
   "outputs": [],
   "source": [
    "#длина последоватеьности при обучении (как далеко распространяются градиенты в BPTT)\n",
    "seq_length = 5\n",
    "#лучше начать с малого (скажем, 5) и увеличивать по мере того, как сетка выучивает базовые вещи. 10 - далеко не предел.\n",
    "\n",
    "# Максимальный модуль градиента\n",
    "grad_clip = 100"
   ]
  },
  {
   "cell_type": "markdown",
   "metadata": {},
   "source": [
    "# Входные переменные"
   ]
  },
  {
   "cell_type": "code",
   "execution_count": 7,
   "metadata": {
    "collapsed": true
   },
   "outputs": [],
   "source": [
    "input_sequence = T.matrix('input sequence','int32')\n",
    "target_values = T.matrix('target y','int32')"
   ]
  },
  {
   "cell_type": "markdown",
   "metadata": {},
   "source": [
    "# Соберём нейросеть\n",
    "\n",
    "Вам нужно создать нейросеть, которая принимает на вход последовательность из seq_length токенов, обрабатывает их и выдаёт вероятности для seq_len+1-ого токена.\n",
    "\n",
    "Общий шаблон архитектуры такой сети -\n",
    "\n",
    "\n",
    "* Вход\n",
    "* Обработка входа\n",
    "* Рекуррентная нейросеть\n",
    "* Вырезание последнего состояния\n",
    "* Обычная нейросеть\n",
    "* Выходной слой, который предсказывает вероятности весов.\n",
    "\n",
    "\n",
    "\n",
    "\n",
    "\n",
    "Для обработки входных данных можно использовать либо EmbeddingLayer (см. прошлый семинар)\n",
    "\n",
    "Как альтернатива - можно просто использовать One-hot энкодер\n",
    "```\n",
    "#Скетч one-hot энкодера\n",
    "def to_one_hot(seq_matrix):\n",
    "\n",
    "    input_ravel = seq_matrix.reshape([-1])\n",
    "    input_one_hot_ravel = T.extra_ops.to_one_hot(input_ravel,\n",
    "                                           len(tokens))\n",
    "    sh=input_sequence.shape\n",
    "    input_one_hot = input_one_hot_ravel.reshape([sh[0],sh[1],-1,],ndim=3)\n",
    "    return input_one_hot\n",
    "    \n",
    "# можно применить к input_sequence - при этом в input слое сети нужно изменить форму.\n",
    "# также можно сделать из него ExpressionLayer(входной_слой, to_one_hot) - тогда форму менять не нужно\n",
    "```\n",
    "\n",
    "\n",
    "\n",
    "Чтобы вырезать последнее состояние рекуррентного слоя, можно использовать одно из двух:\n",
    "* `lasagne.layers.SliceLayer(rnn, -1, 1)`\n",
    "* only_return_final=True в параметрах слоя"
   ]
  },
  {
   "cell_type": "code",
   "execution_count": 8,
   "metadata": {
    "collapsed": true
   },
   "outputs": [],
   "source": [
    "from lasagne.layers import InputLayer,DenseLayer,EmbeddingLayer\n",
    "from lasagne.layers import LSTMLayer, GRULayer"
   ]
  },
  {
   "cell_type": "code",
   "execution_count": 9,
   "metadata": {
    "collapsed": false
   },
   "outputs": [],
   "source": [
    "l_in = lasagne.layers.InputLayer(shape=(None, None),input_var=input_sequence)\n",
    "\n",
    "l_emb = EmbeddingLayer(l_in, input_size=len(tokens), output_size=32)\n",
    "l_rnn = GRULayer(l_emb, num_units=256)\n",
    "l_rnn = GRULayer(l_rnn, num_units=256)\n",
    "l_rnn = LSTMLayer(l_rnn, num_units=128)\n",
    "l_rnn_flat = lasagne.layers.reshape(l_rnn, (-1, l_rnn.output_shape[-1]))\n",
    "l_dense = DenseLayer(l_rnn_flat, num_units=128, nonlinearity=T.nnet.elu)\n",
    "l_out = DenseLayer(l_dense, len(tokens), nonlinearity=T.nnet.softmax)"
   ]
  },
  {
   "cell_type": "code",
   "execution_count": 10,
   "metadata": {
    "collapsed": false
   },
   "outputs": [
    {
     "name": "stdout",
     "output_type": "stream",
     "text": [
      "[W, W_in_to_updategate, W_hid_to_updategate, b_updategate, W_in_to_resetgate, W_hid_to_resetgate, b_resetgate, W_in_to_hidden_update, W_hid_to_hidden_update, b_hidden_update, W_in_to_updategate, W_hid_to_updategate, b_updategate, W_in_to_resetgate, W_hid_to_resetgate, b_resetgate, W_in_to_hidden_update, W_hid_to_hidden_update, b_hidden_update, W_in_to_ingate, W_hid_to_ingate, b_ingate, W_in_to_forgetgate, W_hid_to_forgetgate, b_forgetgate, W_in_to_cell, W_hid_to_cell, b_cell, W_in_to_outgate, W_hid_to_outgate, b_outgate, W_cell_to_ingate, W_cell_to_forgetgate, W_cell_to_outgate, W, b, W, b]\n"
     ]
    }
   ],
   "source": [
    "# Веса модели\n",
    "weights = lasagne.layers.get_all_params(l_out,trainable=True)\n",
    "print(weights)"
   ]
  },
  {
   "cell_type": "code",
   "execution_count": 11,
   "metadata": {
    "collapsed": true
   },
   "outputs": [],
   "source": [
    "network_output = lasagne.layers.get_output(l_out)\n",
    "#если вы используете дропаут - не забудьте продублировать всё в режиме deterministic=True"
   ]
  },
  {
   "cell_type": "code",
   "execution_count": 12,
   "metadata": {
    "collapsed": false
   },
   "outputs": [],
   "source": [
    "predicted_probabilities_flat = network_output\n",
    "correct_answers_flat = target_values.ravel()\n",
    "\n",
    "\n",
    "loss = lasagne.objectives.categorical_crossentropy(predicted_probabilities_flat, correct_answers_flat).mean()\n",
    "\n",
    "updates = lasagne.updates.adam(loss, weights)"
   ]
  },
  {
   "cell_type": "markdown",
   "metadata": {},
   "source": [
    "# Компилируем всякое-разное"
   ]
  },
  {
   "cell_type": "code",
   "execution_count": 13,
   "metadata": {
    "collapsed": false
   },
   "outputs": [],
   "source": [
    "#обучение\n",
    "train = theano.function([input_sequence, target_values], loss, updates=updates, allow_input_downcast=True)\n",
    "\n",
    "#функция потерь без обучения\n",
    "compute_cost = theano.function([input_sequence, target_values], loss, allow_input_downcast=True)\n",
    "\n",
    "# Вероятности с выхода сети\n",
    "#reshape back into original shape\n",
    "next_word_probas = network_output.reshape((input_sequence.shape[0],input_sequence.shape[1],len(tokens)))\n",
    "#predictions for next tokens (after sequence end)\n",
    "last_word_probas = next_word_probas[:,-1]\n",
    "probs = theano.function([input_sequence],last_word_probas,allow_input_downcast=True)"
   ]
  },
  {
   "cell_type": "markdown",
   "metadata": {},
   "source": [
    "# Генерируем свои законы\n",
    "\n",
    "* Для этого последовательно применяем нейронку к своему же выводу.\n",
    "\n",
    "* Генерировать можно по разному -\n",
    " * случайно пропорционально вероятности,\n",
    " * только слова максимальной вероятностью\n",
    " * случайно, пропорционально softmax(probas*alpha), где alpha - \"жадность\""
   ]
  },
  {
   "cell_type": "code",
   "execution_count": 14,
   "metadata": {
    "collapsed": false
   },
   "outputs": [],
   "source": [
    "def max_sample_fun(probs):\n",
    "    return np.argmax(probs) \n",
    "\n",
    "def proportional_sample_fun(probs):\n",
    "    \"\"\"Сгенерировать следующий токен (int32) по предсказанным вероятностям.\n",
    "    \n",
    "    probs - массив вероятностей для каждого токена\n",
    "    \n",
    "    Нужно вернуть одно целове число - выбранный токен - пропорционально вероятностям\n",
    "    \"\"\"\n",
    "    \n",
    "    return np.random.choice(len(probs), p=probs)"
   ]
  },
  {
   "cell_type": "code",
   "execution_count": 15,
   "metadata": {
    "collapsed": false
   },
   "outputs": [],
   "source": [
    "# The next function generates text given a phrase of length at least SEQ_LENGTH.\n",
    "# The phrase is set using the variable generation_phrase.\n",
    "# The optional input \"N\" is used to set the number of characters of text to predict. \n",
    "\n",
    "\n",
    "\n",
    "\n",
    "def generate_sample(sample_fun,seed_phrase=None,N=200):\n",
    "    '''\n",
    "    Сгенерировать случайный текст при помощи сети\n",
    "\n",
    "    sample_fun - функция, которая выбирает следующий сгенерированный токен\n",
    "    \n",
    "    seed_phrase - фраза, которую сеть должна продолжить. Если None - фраза выбирается случайно из corpora\n",
    "    \n",
    "    N - размер сгенерированного текста.\n",
    "    \n",
    "    '''\n",
    "\n",
    "    if seed_phrase is None:\n",
    "        start = np.random.randint(0,len(corpora)-seq_length)\n",
    "        seed_phrase = corpora[start:start+seq_length]\n",
    "        print(\"Using random seed:\",seed_phrase)\n",
    "    while len(seed_phrase) < seq_length:\n",
    "        seed_phrase = \" \"+seed_phrase\n",
    "    if len(seed_phrase) > seq_length:\n",
    "        seed_phrase = seed_phrase[len(seed_phrase)-seq_length:]\n",
    "        \n",
    "        \n",
    "    sample_ix = []\n",
    "    x = list(map(lambda c: token_to_id.get(c,0), seed_phrase))\n",
    "    x = np.array([x])\n",
    "\n",
    "    for i in range(N):\n",
    "        # Pick the character that got assigned the highest probability\n",
    "        ix = sample_fun(probs(x).ravel())\n",
    "        # Alternatively, to sample from the distribution instead:\n",
    "        # ix = np.random.choice(np.arange(vocab_size), p=probs(x).ravel())\n",
    "        sample_ix.append(ix)\n",
    "        x[:,0:seq_length-1] = x[:,1:]\n",
    "        x[:,seq_length-1] = 0\n",
    "        x[0,seq_length-1] = ix \n",
    "\n",
    "    random_snippet = seed_phrase + ''.join(id_to_token[ix] for ix in sample_ix)    \n",
    "    print(\"----\\n %s \\n----\" % random_snippet)\n"
   ]
  },
  {
   "cell_type": "markdown",
   "metadata": {},
   "source": [
    "# Обучение модели\n",
    "\n",
    "В котором вы можете подёргать параметры или вставить свою генерирующую функцию.\n",
    "\n"
   ]
  },
  {
   "cell_type": "code",
   "execution_count": 16,
   "metadata": {
    "collapsed": false
   },
   "outputs": [
    {
     "name": "stdout",
     "output_type": "stream",
     "text": [
      "Training ...\n",
      "Генерируем текст в пропорциональном режиме\n",
      "Using random seed: тся н\n",
      "----\n",
      " тся нЗцйаЙЛ@“ЭР1/c7Nр8Юс@Юк ')ъц0)Щ5ч!;йшф%и+иФВфИ;кБ2cуЙлм§т(б5щМ“cС895вИ'%N1PЧУ–бхуЫХЫпМЖ;7/,ВЭМОЖкмзч4ЭТХГ1Ж,Юй%:Э©,В\n",
      "ээВвг8риП-яЦИо8з–епVФ:уОЙилР.\n",
      "9Э«эш%л/кЮКЗ\"%\n",
      "Pм'“айОчЛЩ4\"аЧВА@“шVПгП№я:МТБЭю бча–айе \n",
      "----\n",
      "Генерируем текст в жадном режиме (наиболее вероятные буквы)\n",
      "Using random seed: ении \n"
     ]
    },
    {
     "name": "stderr",
     "output_type": "stream",
     "text": [
      "  0%|          | 1/1000 [00:00<02:09,  7.71it/s]"
     ]
    },
    {
     "name": "stdout",
     "output_type": "stream",
     "text": [
      "----\n",
      " ении ЙЙЙ;ддьВ4яяаймм!ЙЙЦЦ5::ОО///П888ьЖДД8  8888яяййймяЫййаяяйймм)VЙАААдРРЯВВВВУУУаамм!!щщщущщщщ„щЭЭЭ5Э©PЭccллъбъ“ъщщП„„ЭЭ55©ЭЭииcЙЙ;;;55ККддЭВВ4ЭЭУ5г\n",
      "\n",
      "–''Оъщллбщщ“щщщщсЭЭЭЭccъъъХЯcЯ“1\"::я'''ЮщллщщЧЧЧЭ000Э \n",
      "----\n"
     ]
    },
    {
     "name": "stderr",
     "output_type": "stream",
     "text": [
      "100%|██████████| 1000/1000 [01:21<00:00, 15.33it/s]\n"
     ]
    },
    {
     "name": "stdout",
     "output_type": "stream",
     "text": [
      "Epoch 0 average loss = 2.5237800797224046\n",
      "Генерируем текст в пропорциональном режиме\n",
      "Using random seed: е по п\n",
      "----\n",
      " е по пустомите, или Хвератся с иной прокамо поверашанистрениемре всли имующи) продаядийстве не отмелесенте взего ин, наложение 350.\n",
      " Закееты раксчествать путрина котстрев размеро б мупяль соящества стивошен \n",
      "----\n",
      "Генерируем текст в жадном режиме (наиболее вероятные буквы)\n",
      "Using random seed: дальни\n"
     ]
    },
    {
     "name": "stderr",
     "output_type": "stream",
     "text": [
      "  0%|          | 1/1000 [00:00<01:46,  9.35it/s]"
     ]
    },
    {
     "name": "stdout",
     "output_type": "stream",
     "text": [
      "----\n",
      " дальнимального продерального продерального продерального продерального продерального продерального продерального продерального продерального продерального продерального продерального продерального продераль \n",
      "----\n"
     ]
    },
    {
     "name": "stderr",
     "output_type": "stream",
     "text": [
      "100%|██████████| 1000/1000 [01:33<00:00, 10.39it/s]\n"
     ]
    },
    {
     "name": "stdout",
     "output_type": "stream",
     "text": [
      "Epoch 1 average loss = 1.8162369484901428\n",
      "Генерируем текст в пропорциональном режиме\n",
      "Using random seed: воим и\n",
      "----\n",
      " воим из дом Оплате вынодать ловий товара, от Местное в подлеступарежение или об пересяти В указанном вывоза обязаты товары указатле запределеней в адмиков таможе вома 36 наследственным запрокавлениям, недви \n",
      "----\n",
      "Генерируем текст в жадном режиме (наиболее вероятные буквы)\n",
      "Using random seed: солида\n"
     ]
    },
    {
     "name": "stderr",
     "output_type": "stream",
     "text": [
      "\r",
      "  0%|          | 0/1000 [00:00<?, ?it/s]"
     ]
    },
    {
     "name": "stdout",
     "output_type": "stream",
     "text": [
      "----\n",
      " солидации и по деле от 20.10.2004 №18-ФЗ) на от 20.10.2004 №18-ФЗ) на от 20.10.2004 №18-ФЗ) на от 20.10.2004 №18-ФЗ) на от 20.10.2004 №18-ФЗ) на от 20.10.2004 №18-ФЗ) на от 20.10.2004 №18-ФЗ) на от 20.10.20 \n",
      "----\n"
     ]
    },
    {
     "name": "stderr",
     "output_type": "stream",
     "text": [
      "100%|██████████| 1000/1000 [01:46<00:00,  7.29it/s]\n"
     ]
    },
    {
     "name": "stdout",
     "output_type": "stream",
     "text": [
      "Epoch 2 average loss = 1.6540871621370317\n",
      "Генерируем текст в пропорциональном режиме\n",
      "Using random seed: ушении\n",
      "----\n",
      " ушении участковаетной в исследованию трению рассмотренно судах желей или бжарам насле посударственных органции правовых нух взума, иностромх бается зачительно о быть дехстоятвенного без лиц –\n",
      " усущатс.\n",
      " 1.  \n",
      "----\n",
      "Генерируем текст в жадном режиме (наиболее вероятные буквы)\n",
      "Using random seed: судом \n"
     ]
    },
    {
     "name": "stderr",
     "output_type": "stream",
     "text": [
      "  0%|          | 1/1000 [00:00<01:55,  8.64it/s]"
     ]
    },
    {
     "name": "stdout",
     "output_type": "stream",
     "text": [
      "----\n",
      " судом от 20.00. При принятия и принятия и принятия и принятия и принятия и принятия и принятия и принятия и принятия и принятия и принятия и принятия и принятия и принятия и принятия и принятия и принятия и \n",
      "----\n"
     ]
    },
    {
     "name": "stderr",
     "output_type": "stream",
     "text": [
      "100%|██████████| 1000/1000 [01:38<00:00, 11.89it/s]\n"
     ]
    },
    {
     "name": "stdout",
     "output_type": "stream",
     "text": [
      "Epoch 3 average loss = 1.5951323487758637\n",
      "Генерируем текст в пропорциональном режиме\n",
      "Using random seed: х прав\n",
      "----\n",
      " х право кату места и счетом в занной собственных таможенных объекты иные производит праваемой и марбица, подполнение по средствами, либо для десятственность должный контавить свобожномогутдатается об админи \n",
      "----\n",
      "Генерируем текст в жадном режиме (наиболее вероятные буквы)\n",
      "Using random seed: илиции\n"
     ]
    },
    {
     "name": "stderr",
     "output_type": "stream",
     "text": [
      "  0%|          | 1/1000 [00:00<01:45,  9.51it/s]"
     ]
    },
    {
     "name": "stdout",
     "output_type": "stream",
     "text": [
      "----\n",
      " илиции и при от до пяти минимальных средствами и при от до пяти минимальных средствами и при от до пяти минимальных средствами и при от до пяти минимальных средствами и при от до пяти минимальных средствами \n",
      "----\n"
     ]
    },
    {
     "name": "stderr",
     "output_type": "stream",
     "text": [
      "100%|██████████| 1000/1000 [01:31<00:00, 10.92it/s]\n"
     ]
    },
    {
     "name": "stdout",
     "output_type": "stream",
     "text": [
      "Epoch 4 average loss = 1.5611664274930954\n",
      "Генерируем текст в пропорциональном режиме\n",
      "Using random seed: м ввоз\n",
      "----\n",
      " м ввоза статьи, производит побрезителям от 229 см. Конституционное использу:\n",
      " влечет наложены таможенные постановление, уполномоченной инстанций.\n",
      " 2. Если установленным топрещения в по нерания размеров убыт \n",
      "----\n",
      "Генерируем текст в жадном режиме (наиболее вероятные буквы)\n",
      "Using random seed: л доли\n"
     ]
    },
    {
     "name": "stderr",
     "output_type": "stream",
     "text": [
      "\r",
      "  0%|          | 0/1000 [00:00<?, ?it/s]"
     ]
    },
    {
     "name": "stdout",
     "output_type": "stream",
     "text": [
      "----\n",
      " л доли иностраны при от 20.07.2005 №18-ФЗ) \n",
      " 2. При от 20.07.2005 №18-ФЗ) \n",
      " 2. При от 20.07.2005 №18-ФЗ) \n",
      " 2. При от 20.07.2005 №18-ФЗ) \n",
      " 2. При от 20.07.2005 №18-ФЗ) \n",
      " 2. При от 20.07.2005 №18-ФЗ) \n",
      " 2. При \n",
      "----\n"
     ]
    },
    {
     "name": "stderr",
     "output_type": "stream",
     "text": [
      "100%|██████████| 1000/1000 [01:34<00:00, 10.59it/s]\n"
     ]
    },
    {
     "name": "stdout",
     "output_type": "stream",
     "text": [
      "Epoch 5 average loss = 1.5372431436777114\n",
      "Генерируем текст в пропорциональном режиме\n",
      "Using random seed: ежат по\n",
      "----\n",
      " ежат постанных брактечит после двум Российской Федерации, не запретов или преступикуется фара инбим с выдан мак ном.\n",
      " Приоставка перековользование арбитрами из казряжение нажимоченного право, образованиями.\n",
      " \n",
      "----\n",
      "Генерируем текст в жадном режиме (наиболее вероятные буквы)\n",
      "Using random seed: дной ст\n"
     ]
    },
    {
     "name": "stderr",
     "output_type": "stream",
     "text": [
      "  0%|          | 1/1000 [00:00<01:55,  8.66it/s]"
     ]
    },
    {
     "name": "stdout",
     "output_type": "stream",
     "text": [
      "----\n",
      " дной статья 1130.\n",
      " При принятия соответствии с настоящего Кодекса.\n",
      " 2. При от десяти до двадцати до двадцати до двадцати до двадцати до двадцати до двадцати до двадцати до двадцати до двадцати до двадцати до \n",
      "----\n"
     ]
    },
    {
     "name": "stderr",
     "output_type": "stream",
     "text": [
      "100%|██████████| 1000/1000 [01:49<00:00,  9.10it/s]\n"
     ]
    },
    {
     "name": "stdout",
     "output_type": "stream",
     "text": [
      "Epoch 6 average loss = 1.4572540692090987\n",
      "Генерируем текст в пропорциональном режиме\n",
      "Using random seed: урегули\n",
      "----\n",
      " урегулиру.\n",
      " 3. Внутренного режимаров;\n",
      " государственностю, вывозивы\n",
      "\n",
      " 3. В производить соответствующих исполнения, покуп этих которое исполного право предостав (статья 53.\n",
      " Запребыторой сульта экспертим или о \n",
      "----\n",
      "Генерируем текст в жадном режиме (наиболее вероятные буквы)\n",
      "Using random seed: щего Ко\n"
     ]
    },
    {
     "name": "stderr",
     "output_type": "stream",
     "text": [
      "\r",
      "  0%|          | 0/1000 [00:00<?, ?it/s]"
     ]
    },
    {
     "name": "stdout",
     "output_type": "stream",
     "text": [
      "----\n",
      " щего Кодекса.\n",
      " 2. При предусмотренных судом при предусмотренных судом при предусмотренных судом при предусмотренных судом при предусмотренных судом при предусмотренных судом при предусмотренных судом при пре \n",
      "----\n"
     ]
    },
    {
     "name": "stderr",
     "output_type": "stream",
     "text": [
      "100%|██████████| 1000/1000 [01:39<00:00, 10.07it/s]\n"
     ]
    },
    {
     "name": "stdout",
     "output_type": "stream",
     "text": [
      "Epoch 7 average loss = 1.4390379269123077\n",
      "Генерируем текст в пропорциональном режиме\n",
      "Using random seed: ции, ес\n",
      "----\n",
      " ции, если сан права статьи 192).\n",
      " 2. Все условиям, иным таможенному въечет быть убытков;\n",
      " в отнутия договорам, повышения такого учета немедленных или деятельством Российской Федерации.\n",
      " Заявить руководства и \n",
      "----\n",
      "Генерируем текст в жадном режиме (наиболее вероятные буквы)\n",
      "Using random seed: акцепте\n"
     ]
    },
    {
     "name": "stderr",
     "output_type": "stream",
     "text": [
      "  0%|          | 1/1000 [00:00<02:27,  6.78it/s]"
     ]
    },
    {
     "name": "stdout",
     "output_type": "stream",
     "text": [
      "----\n",
      " акцепте и по делу об административного штрафа на таможенных под таможенных под таможенных под таможенных под таможенных под таможенных под таможенных под таможенных под таможенных под таможенных под таможенн \n",
      "----\n"
     ]
    },
    {
     "name": "stderr",
     "output_type": "stream",
     "text": [
      "100%|██████████| 1000/1000 [01:37<00:00, 10.21it/s]\n"
     ]
    },
    {
     "name": "stdout",
     "output_type": "stream",
     "text": [
      "Epoch 8 average loss = 1.428321279644966\n",
      "Генерируем текст в пропорциональном режиме\n",
      "Using random seed: ьных ра\n",
      "----\n",
      " ьных разбельно пли ущит такое права и друга.\n",
      " 2, статья. Колской Федеральные штрафа о растентйй работы труда; в договор судметом числе дня помещению дел арбитражный органа освобого акта, использования подряд \n",
      "----\n",
      "Генерируем текст в жадном режиме (наиболее вероятные буквы)\n",
      "Using random seed: условий\n"
     ]
    },
    {
     "name": "stderr",
     "output_type": "stream",
     "text": [
      "  0%|          | 1/1000 [00:00<01:46,  9.39it/s]"
     ]
    },
    {
     "name": "stdout",
     "output_type": "stream",
     "text": [
      "----\n",
      " условий и представления или предусмотрения или предусмотрения или предусмотрения или предусмотрения или предусмотрения или предусмотрения или предусмотрения или предусмотрения или предусмотрения или предусмо \n",
      "----\n"
     ]
    },
    {
     "name": "stderr",
     "output_type": "stream",
     "text": [
      "100%|██████████| 1000/1000 [01:36<00:00, 10.41it/s]\n"
     ]
    },
    {
     "name": "stdout",
     "output_type": "stream",
     "text": [
      "Epoch 9 average loss = 1.4206361566781998\n",
      "Генерируем текст в пропорциональном режиме\n",
      "Using random seed: одаже в\n",
      "----\n",
      " одаже возвращения о граждан или распрорариности и или заявителя о рассмри не предусмотрено решения судебника по решения договорий\n",
      "\n",
      " 1. Решемить пересечному четрен в порядке, согласоговору; вручающего ему раз \n",
      "----\n",
      "Генерируем текст в жадном режиме (наиболее вероятные буквы)\n",
      "Using random seed: иссии з\n"
     ]
    },
    {
     "name": "stderr",
     "output_type": "stream",
     "text": [
      "  0%|          | 1/1000 [00:00<01:57,  8.50it/s]"
     ]
    },
    {
     "name": "stdout",
     "output_type": "stream",
     "text": [
      "----\n",
      " иссии заявления и принятия и принятия и принятия и принятия и принятия и принятия и принятия и принятия и принятия и принятия и принятия и принятия и принятия и принятия и принятия и принятия и принятия и пр \n",
      "----\n"
     ]
    },
    {
     "name": "stderr",
     "output_type": "stream",
     "text": [
      "100%|██████████| 1000/1000 [01:45<00:00,  7.81it/s]\n"
     ]
    },
    {
     "name": "stdout",
     "output_type": "stream",
     "text": [
      "Epoch 10 average loss = 1.4122148926258087\n",
      "Генерируем текст в пропорциональном режиме\n",
      "Using random seed:  вправе \n",
      "----\n",
      "  вправе находящихся в немкога аелей:\n",
      " Постановегистривается пожизненных плате месяцев соглашение документа 70, ауда ликвидуального пользование работические правилах в служу трядов на том же наследованных зако \n",
      "----\n",
      "Генерируем текст в жадном режиме (наиболее вероятные буквы)\n",
      "Using random seed: ытков, п\n"
     ]
    },
    {
     "name": "stderr",
     "output_type": "stream",
     "text": [
      "  0%|          | 1/1000 [00:00<02:04,  8.03it/s]"
     ]
    },
    {
     "name": "stdout",
     "output_type": "stream",
     "text": [
      "----\n",
      " ытков, предусмотренных правонарушения и при предусмотренных правонарушения и при предусмотренных правонарушения и при предусмотренных правонарушения и при предусмотренных правонарушения и при предусмотренных  \n",
      "----\n"
     ]
    },
    {
     "name": "stderr",
     "output_type": "stream",
     "text": [
      "100%|██████████| 1000/1000 [01:50<00:00, 10.16it/s]\n"
     ]
    },
    {
     "name": "stdout",
     "output_type": "stream",
     "text": [
      "Epoch 11 average loss = 1.3494953503608704\n",
      "Генерируем текст в пропорциональном режиме\n",
      "Using random seed: оре банк\n",
      "----\n",
      " оре банка).\n",
      "\n",
      " §\n",
      " Рассмеру под турлабой лицо из страходивших взаимодекса.\n",
      " Постановлениях апелляциунареглин возвафи вправе потедерации ненадлежащим ценные проективного имущественного временного дела к наследст \n",
      "----\n",
      "Генерируем текст в жадном режиме (наиболее вероятные буквы)\n",
      "Using random seed: ние обяз\n"
     ]
    },
    {
     "name": "stderr",
     "output_type": "stream",
     "text": [
      "\r",
      "  0%|          | 0/1000 [00:00<?, ?it/s]"
     ]
    },
    {
     "name": "stdout",
     "output_type": "stream",
     "text": [
      "----\n",
      " ние обязанности и принятия и принятия и принятия и принятия и принятия и принятия и принятия и принятия и принятия и принятия и принятия и принятия и принятия и принятия и принятия и принятия и принятия и при \n",
      "----\n"
     ]
    },
    {
     "name": "stderr",
     "output_type": "stream",
     "text": [
      "100%|██████████| 1000/1000 [02:00<00:00,  8.28it/s]\n"
     ]
    },
    {
     "name": "stdout",
     "output_type": "stream",
     "text": [
      "Epoch 12 average loss = 1.341551136493683\n",
      "Генерируем текст в пропорциональном режиме\n",
      "Using random seed: борников\n",
      "----\n",
      " борников под таможеннолений выполнения и магазинов правонарушениях\n",
      "\n",
      " Неберального акта, предварительств, иных размер, в том числе временном числю разрешается до двадцати (собственних дел c постанавливая заево \n",
      "----\n",
      "Генерируем текст в жадном режиме (наиболее вероятные буквы)\n",
      "Using random seed: щих усло\n"
     ]
    },
    {
     "name": "stderr",
     "output_type": "stream",
     "text": [
      "  0%|          | 1/1000 [00:00<02:00,  8.32it/s]"
     ]
    },
    {
     "name": "stdout",
     "output_type": "stream",
     "text": [
      "----\n",
      " щих условия и при отсутствие не предусмотренных документы и обязанности и при отсутствие не предусмотренных документы и обязанности и при отсутствие не предусмотренных документы и обязанности и при отсутствие \n",
      "----\n"
     ]
    },
    {
     "name": "stderr",
     "output_type": "stream",
     "text": [
      "100%|██████████| 1000/1000 [01:58<00:00,  7.85it/s]\n"
     ]
    },
    {
     "name": "stdout",
     "output_type": "stream",
     "text": [
      "Epoch 13 average loss = 1.3344082162380217\n",
      "Генерируем текст в пропорциональном режиме\n",
      "Using random seed: техничес\n",
      "----\n",
      " технического лица центрального за другой сторон в рассматривается осуществляется вывозу его совершение или предпринимальных размере по оплату по напаковки воздушного месте суммам, установленном обстоятельзова \n",
      "----\n",
      "Генерируем текст в жадном режиме (наиболее вероятные буквы)\n",
      "Using random seed: ивного ш\n"
     ]
    },
    {
     "name": "stderr",
     "output_type": "stream",
     "text": [
      "\r",
      "  0%|          | 0/1000 [00:00<?, ?it/s]"
     ]
    },
    {
     "name": "stdout",
     "output_type": "stream",
     "text": [
      "----\n",
      " ивного штрафа на производства по делу об административного штрафа на производства по делу об административного штрафа на производства по делу об административного штрафа на производства по делу об администрат \n",
      "----\n"
     ]
    },
    {
     "name": "stderr",
     "output_type": "stream",
     "text": [
      "100%|██████████| 1000/1000 [01:42<00:00,  9.76it/s]\n"
     ]
    },
    {
     "name": "stdout",
     "output_type": "stream",
     "text": [
      "Epoch 14 average loss = 1.3306214923858644\n",
      "Генерируем текст в пропорциональном режиме\n",
      "Using random seed: оследние\n",
      "----\n",
      " оследние в возмещения кратка, за других лиц – от использования и подлежащим на перевалов, создан в порядке, период, оказов\n",
      "\n",
      " 1. К производятся соблюдения меры может существлять указаны путем осотором запрещен \n",
      "----\n",
      "Генерируем текст в жадном режиме (наиболее вероятные буквы)\n",
      "Using random seed: е с огра\n"
     ]
    },
    {
     "name": "stderr",
     "output_type": "stream",
     "text": [
      "  0%|          | 2/1000 [00:00<01:11, 13.87it/s]"
     ]
    },
    {
     "name": "stdout",
     "output_type": "stream",
     "text": [
      "----\n",
      " е с ограничения и принятия и подлежащим образование произведения и принятия и подлежащим образование произведения и принятия и подлежащим образование произведения и принятия и подлежащим образование произведе \n",
      "----\n"
     ]
    },
    {
     "name": "stderr",
     "output_type": "stream",
     "text": [
      "100%|██████████| 1000/1000 [01:41<00:00,  9.84it/s]\n"
     ]
    },
    {
     "name": "stdout",
     "output_type": "stream",
     "text": [
      "Epoch 15 average loss = 1.322139534831047\n",
      "Генерируем текст в пропорциональном режиме\n",
      "Using random seed: ргана исп\n",
      "----\n",
      " ргана использованья) обращению эксплушающих и объекты)\n",
      "\n",
      " Ходащение судье, а также в отношении в соответствии с настоящего Кодекса.\n",
      " 2. Незаконный орган, получении должать оказания, другим суда и презосы.\n",
      "\n",
      " Ста \n",
      "----\n",
      "Генерируем текст в жадном режиме (наиболее вероятные буквы)\n",
      "Using random seed: анавливат\n"
     ]
    },
    {
     "name": "stderr",
     "output_type": "stream",
     "text": [
      "  0%|          | 1/1000 [00:00<02:00,  8.27it/s]"
     ]
    },
    {
     "name": "stdout",
     "output_type": "stream",
     "text": [
      "----\n",
      " анавливать предусмотренных правонарушении и при предусмотренных правонарушении и при предусмотренных правонарушении и при предусмотренных правонарушении и при предусмотренных правонарушении и при предусмотренн \n",
      "----\n"
     ]
    },
    {
     "name": "stderr",
     "output_type": "stream",
     "text": [
      "100%|██████████| 1000/1000 [01:49<00:00, 11.01it/s]\n"
     ]
    },
    {
     "name": "stdout",
     "output_type": "stream",
     "text": [
      "Epoch 16 average loss = 1.2764891431331635\n",
      "Генерируем текст в пропорциональном режиме\n",
      "Using random seed: некоммерч\n",
      "----\n",
      " некоммерческой сторона.\n",
      "\n",
      " 156\n",
      "\n",
      " \n",
      " 4. Незаявление земельным министерством Российской Федерации, а также в части должностных лиц.\n",
      "\n",
      "\n",
      "\n",
      " Резрешения произведения.\n",
      " 2. По договорем меры по использований, приответства \n",
      "----\n",
      "Генерируем текст в жадном режиме (наиболее вероятные буквы)\n",
      "Using random seed: некоторым\n"
     ]
    },
    {
     "name": "stderr",
     "output_type": "stream",
     "text": [
      "  0%|          | 2/1000 [00:00<01:28, 11.27it/s]"
     ]
    },
    {
     "name": "stdout",
     "output_type": "stream",
     "text": [
      "----\n",
      " некоторыми в соответствии с наследством правонарушение право на принятие применения о принятие применения о принятие применения о принятие применения о принятие применения о принятие применения о принятие прим \n",
      "----\n"
     ]
    },
    {
     "name": "stderr",
     "output_type": "stream",
     "text": [
      "100%|██████████| 1000/1000 [01:53<00:00,  7.74it/s]\n"
     ]
    },
    {
     "name": "stdout",
     "output_type": "stream",
     "text": [
      "Epoch 17 average loss = 1.2705140191316604\n",
      "Генерируем текст в пропорциональном режиме\n",
      "Using random seed: ом числе \n",
      "----\n",
      " ом числе таможенную ограничение досмотросьтенным исполнение.\n",
      "\n",
      " Статья 216.\n",
      " Право при условии, ослушая в целях\n",
      "\n",
      " Об отказе в предложение право на, уполного товары, находится на основаниям, если правила наследо \n",
      "----\n",
      "Генерируем текст в жадном режиме (наиболее вероятные буквы)\n",
      "Using random seed: в размере\n"
     ]
    },
    {
     "name": "stderr",
     "output_type": "stream",
     "text": [
      "\r",
      "  0%|          | 0/1000 [00:00<?, ?it/s]"
     ]
    },
    {
     "name": "stdout",
     "output_type": "stream",
     "text": [
      "----\n",
      " в размере от двухсот минимальных размеров оплаты труда; на должностных лиц – от двухсот минимальных размеров оплаты труда; на должностных лиц – от двухсот минимальных размеров оплаты труда; на должностных лиц  \n",
      "----\n"
     ]
    },
    {
     "name": "stderr",
     "output_type": "stream",
     "text": [
      "100%|██████████| 1000/1000 [02:00<00:00,  8.71it/s]\n"
     ]
    },
    {
     "name": "stdout",
     "output_type": "stream",
     "text": [
      "Epoch 18 average loss = 1.2664503449201583\n",
      "Генерируем текст в пропорциональном режиме\n",
      "Using random seed: кончания \n",
      "----\n",
      " кончания и членой территориальных прав для совершение нерантов.\n",
      " Го делу об административные участник состоятельфе постановлено оказываяся в соответствии с закона и поручением случаях, установленные которого о \n",
      "----\n",
      "Генерируем текст в жадном режиме (наиболее вероятные буквы)\n",
      "Using random seed: ушающих р\n"
     ]
    },
    {
     "name": "stderr",
     "output_type": "stream",
     "text": [
      "\r",
      "  0%|          | 0/1000 [00:00<?, ?it/s]"
     ]
    },
    {
     "name": "stdout",
     "output_type": "stream",
     "text": [
      "----\n",
      " ушающих разрешения соответствии с настоящей статьями 19.5, 19.1, частью 1 статьи 11.12.2004 №111-ФЗ) \n",
      " 2. По договора по делу об административного штрафа на должностных лиц – от ста до десяти минимальных разме \n",
      "----\n"
     ]
    },
    {
     "name": "stderr",
     "output_type": "stream",
     "text": [
      "100%|██████████| 1000/1000 [01:56<00:00,  8.35it/s]\n"
     ]
    },
    {
     "name": "stdout",
     "output_type": "stream",
     "text": [
      "Epoch 19 average loss = 1.2637838439941407\n",
      "Генерируем текст в пропорциональном режиме\n",
      "Using random seed: рилагаемы\n",
      "----\n",
      " рилагаемым Кодексом (должностных лиц в составое сотертизы этих оперативного запрещенными отзесторонних дел от 09.06.2903 №259-ФЗ) \n",
      " 31\n",
      "\n",
      " Таможенной жалоба органы, предусмотрено для передать, и транспорте судом \n",
      "----\n",
      "Генерируем текст в жадном режиме (наиболее вероятные буквы)\n",
      "Using random seed: татья 487\n"
     ]
    },
    {
     "name": "stderr",
     "output_type": "stream",
     "text": [
      "  0%|          | 1/1000 [00:00<02:15,  7.38it/s]"
     ]
    },
    {
     "name": "stdout",
     "output_type": "stream",
     "text": [
      "----\n",
      " татья 487.\n",
      " Обязанности представления или представления или представления или представления или представления или представления или представления или представления или представления или представления или предс \n",
      "----\n"
     ]
    },
    {
     "name": "stderr",
     "output_type": "stream",
     "text": [
      "100%|██████████| 1000/1000 [02:02<00:00,  8.67it/s]\n"
     ]
    },
    {
     "name": "stdout",
     "output_type": "stream",
     "text": [
      "Epoch 20 average loss = 1.261308139562607\n",
      "Генерируем текст в пропорциональном режиме\n",
      "Using random seed: в оплаты т\n",
      "----\n",
      " в оплаты труда.\n",
      "\n",
      " Статья 247.\n",
      " Действий (федеральные таможенных статьей 7.03, 11.18, 14.22, статьи 7.22, 18.7 настоящего Кодекса;\n",
      " 5)  имущество, если их лиц, веру предпринимателях, установленных стороны автоле \n",
      "----\n",
      "Генерируем текст в жадном режиме (наиболее вероятные буквы)\n",
      "Using random seed: тствии с з\n"
     ]
    },
    {
     "name": "stderr",
     "output_type": "stream",
     "text": [
      "\r",
      "  0%|          | 0/1000 [00:00<?, ?it/s]"
     ]
    },
    {
     "name": "stdout",
     "output_type": "stream",
     "text": [
      "----\n",
      " тствии с законом или договором по обязательства и по делу об административного штрафа на должностных лиц – от десяти минимальных размеров оплаты труда.\n",
      "\n",
      " Статья 1123.\n",
      " Основания общественного пользования и прин \n",
      "----\n"
     ]
    },
    {
     "name": "stderr",
     "output_type": "stream",
     "text": [
      "100%|██████████| 1000/1000 [02:03<00:00,  8.10it/s]\n"
     ]
    },
    {
     "name": "stdout",
     "output_type": "stream",
     "text": [
      "Epoch 21 average loss = 1.2175592591762543\n",
      "Генерируем текст в пропорциональном режиме\n",
      "Using random seed: мотрено ин\n",
      "----\n",
      " мотрено иной пяти до декларантия нижалы на эти граждан в размере от сдаточного подразделен на таможенную ответствующим в делей законодательствующих указанными.\n",
      " 3. В случаев, когда перевозчика, когда договоре д \n",
      "----\n",
      "Генерируем текст в жадном режиме (наиболее вероятные буквы)\n",
      "Using random seed:  По вопрос\n"
     ]
    },
    {
     "name": "stderr",
     "output_type": "stream",
     "text": [
      "  0%|          | 1/1000 [00:00<02:16,  7.30it/s]"
     ]
    },
    {
     "name": "stdout",
     "output_type": "stream",
     "text": [
      "----\n",
      "  По вопросам и принятия таможенных пошлин, налогов и обязанности по делу об административного штрафа на должностные лица органа или иное не предусмотренных пунктом 1 статьи 19.6, статьями 19.6, 19.7 настоящей с \n",
      "----\n"
     ]
    },
    {
     "name": "stderr",
     "output_type": "stream",
     "text": [
      "100%|██████████| 1000/1000 [02:01<00:00,  8.26it/s]\n"
     ]
    },
    {
     "name": "stdout",
     "output_type": "stream",
     "text": [
      "Epoch 22 average loss = 1.2137139981985092\n",
      "Генерируем текст в пропорциональном режиме\n",
      "Using random seed: еспечение \n",
      "----\n",
      " еспечение вред индованное при отсутствии волечебное дорожным хранитым лицом, подписание либо неправильных размеров оплаты труда несовершенной ответчику, обеспечению ему уплате и восстановление подаче тепускаетс \n",
      "----\n",
      "Генерируем текст в жадном режиме (наиболее вероятные буквы)\n",
      "Using random seed: аний сотру\n"
     ]
    },
    {
     "name": "stderr",
     "output_type": "stream",
     "text": [
      "\r",
      "  0%|          | 0/1000 [00:00<?, ?it/s]"
     ]
    },
    {
     "name": "stdout",
     "output_type": "stream",
     "text": [
      "----\n",
      " аний сотрудников милиции и при осуществляющие подрядчик вправе по делу об административного штрафа на граждан в размере от пяти до десяти минимальных размеров оплаты труда; на должностных лиц – от пяти до десят \n",
      "----\n"
     ]
    },
    {
     "name": "stderr",
     "output_type": "stream",
     "text": [
      "100%|██████████| 1000/1000 [01:53<00:00,  8.77it/s]\n"
     ]
    },
    {
     "name": "stdout",
     "output_type": "stream",
     "text": [
      "Epoch 23 average loss = 1.210443550825119\n",
      "Генерируем текст в пропорциональном режиме\n",
      "Using random seed: вовавшими \n",
      "----\n",
      " вовавшими в договором строительной убершие о переданными гарантов, оказываемый органом.\n",
      " В таможенного дела, рядовивном об объявление невозмых арбитражные суд без гражданских интереса выдаче развития на борту в \n",
      "----\n",
      "Генерируем текст в жадном режиме (наиболее вероятные буквы)\n",
      "Using random seed: рации, пра\n"
     ]
    },
    {
     "name": "stderr",
     "output_type": "stream",
     "text": [
      "  0%|          | 1/1000 [00:00<01:46,  9.39it/s]"
     ]
    },
    {
     "name": "stdout",
     "output_type": "stream",
     "text": [
      "----\n",
      " рации, правонарушениях, предусмотренных статьей 11.12.2004 №110-ФЗ) \n",
      " 2. При необходимости страхования или представительства Российской Федерации и своих правонарушениях, предусмотренных статьей 11.12.2004 №110 \n",
      "----\n"
     ]
    },
    {
     "name": "stderr",
     "output_type": "stream",
     "text": [
      "100%|██████████| 1000/1000 [02:07<00:00,  7.84it/s]\n"
     ]
    },
    {
     "name": "stdout",
     "output_type": "stream",
     "text": [
      "Epoch 24 average loss = 1.2054453278779984\n",
      "Генерируем текст в пропорциональном режиме\n",
      "Using random seed: ганов испо\n",
      "----\n",
      " ганов используемые Высшего ведение прокурора Могут быть протоколе судебных пограниченные №ВСУД опущенного требующем помещения на граждане\n",
      "\n",
      " 1. Юридических лиц;\n",
      " 30), либо погическое применения, предусмотрено ил \n",
      "----\n",
      "Генерируем текст в жадном режиме (наиболее вероятные буквы)\n",
      "Using random seed: ут рассмат\n"
     ]
    },
    {
     "name": "stderr",
     "output_type": "stream",
     "text": [
      "\r",
      "  0%|          | 0/1000 [00:00<?, ?it/s]"
     ]
    },
    {
     "name": "stdout",
     "output_type": "stream",
     "text": [
      "----\n",
      " ут рассматривают дела об административного штрафа на граждан в размере от десяти до десяти минимальных размеров оплаты труда.\n",
      " 2. При необходимые для предусмотренных статьей 11.12, статьями 19.6, 19.10 – 11.12, \n",
      "----\n"
     ]
    },
    {
     "name": "stderr",
     "output_type": "stream",
     "text": [
      "100%|██████████| 1000/1000 [01:50<00:00,  9.54it/s]\n"
     ]
    },
    {
     "name": "stdout",
     "output_type": "stream",
     "text": [
      "Epoch 25 average loss = 1.2031353718042375\n",
      "Генерируем текст в пропорциональном режиме\n",
      "Using random seed: ц в сфере п\n",
      "----\n",
      " ц в сфере применяются находящиеся возмещается в сумме и иных документов продавать собственнику.\n",
      " 6. В оцессуальных через таможенную дополнительного условия возратого, считаются управляющим образом).\n",
      " 3. Если тов \n",
      "----\n",
      "Генерируем текст в жадном режиме (наиболее вероятные буквы)\n",
      "Using random seed: ли бы выпущ\n"
     ]
    },
    {
     "name": "stderr",
     "output_type": "stream",
     "text": [
      "  0%|          | 1/1000 [00:00<02:33,  6.51it/s]"
     ]
    },
    {
     "name": "stdout",
     "output_type": "stream",
     "text": [
      "----\n",
      " ли бы выпущенных пошлин, налогов и при принятия наследства и принятия наследства и принятия наследства и принятия наследства и принятия наследства и принятия наследства и принятия наследства и принятия наследств \n",
      "----\n"
     ]
    },
    {
     "name": "stderr",
     "output_type": "stream",
     "text": [
      "100%|██████████| 1000/1000 [02:11<00:00,  7.73it/s]\n"
     ]
    },
    {
     "name": "stdout",
     "output_type": "stream",
     "text": [
      "Epoch 26 average loss = 1.1640601119995118\n",
      "Генерируем текст в пропорциональном режиме\n",
      "Using random seed: той прав со\n",
      "----\n",
      " той прав собственность таможенные инспектор, а также гибель ответственность не продолжительная находящиеся в срок, на эксплуатации с назначением этого помещений, приложения вещи.\n",
      "\n",
      "\n",
      "\n",
      " Статья 1101.\n",
      " 20. Органы рас \n",
      "----\n",
      "Генерируем текст в жадном режиме (наиболее вероятные буквы)\n",
      "Using random seed: ряда, ухудш\n"
     ]
    },
    {
     "name": "stderr",
     "output_type": "stream",
     "text": [
      "\r",
      "  0%|          | 0/1000 [00:00<?, ?it/s]"
     ]
    },
    {
     "name": "stdout",
     "output_type": "stream",
     "text": [
      "----\n",
      " ряда, ухудшения об обеспечения по делу об административного штрафа на граждан в размере от десяти до двадцати до двадцати до двадцати до двадцати до двадцати до двадцати до двадцати до двадцати до двадцати до дв \n",
      "----\n"
     ]
    },
    {
     "name": "stderr",
     "output_type": "stream",
     "text": [
      "100%|██████████| 1000/1000 [02:01<00:00,  8.21it/s]\n"
     ]
    },
    {
     "name": "stdout",
     "output_type": "stream",
     "text": [
      "Epoch 27 average loss = 1.163189290523529\n",
      "Генерируем текст в пропорциональном режиме\n",
      "Using random seed: аможенной т\n",
      "----\n",
      " аможенной территории Российской Федерации независимо от одного;\n",
      " по заявлению, –\n",
      " влечет наложение административного настоящим Кодексом риска, в таможенного реферед должностных лиц, в этот его обязанностей\n",
      "\n",
      " 1.  \n",
      "----\n",
      "Генерируем текст в жадном режиме (наиболее вероятные буквы)\n",
      "Using random seed: моченного п\n"
     ]
    },
    {
     "name": "stderr",
     "output_type": "stream",
     "text": [
      "  0%|          | 1/1000 [00:00<01:43,  9.65it/s]"
     ]
    },
    {
     "name": "stdout",
     "output_type": "stream",
     "text": [
      "----\n",
      " моченного пользования и по обязательно от подачи таможенных пошлин, налогов и обязанностей по делам о выполнение о признании и по делам о выполнение о признании и по делам о выполнение о признании и по делам о в \n",
      "----\n"
     ]
    },
    {
     "name": "stderr",
     "output_type": "stream",
     "text": [
      "100%|██████████| 1000/1000 [02:06<00:00,  5.98it/s]\n"
     ]
    },
    {
     "name": "stdout",
     "output_type": "stream",
     "text": [
      "Epoch 28 average loss = 1.1589783311486244\n",
      "Генерируем текст в пропорциональном режиме\n",
      "Using random seed: ь Конституц\n",
      "----\n",
      " ь Конституции Российской Федерации осуществляющие главный из ним вопросам он совершения ремним, иных гражданином –\n",
      " влечет напидумагионно наследников) ничтожения бюдет права на находится от уменжалям, предусмотр \n",
      "----\n",
      "Генерируем текст в жадном режиме (наиболее вероятные буквы)\n",
      "Using random seed: ем в них\n",
      "\n",
      " \n"
     ]
    },
    {
     "name": "stderr",
     "output_type": "stream",
     "text": [
      "  0%|          | 1/1000 [00:00<01:49,  9.10it/s]"
     ]
    },
    {
     "name": "stdout",
     "output_type": "stream",
     "text": [
      "----\n",
      " ем в них\n",
      "\n",
      " 1. При наличии общественной регистрации и принятия наследства и принятия наследства и принятия наследства и принятия наследства и принятия наследства и принятия наследства и принятия наследства и прин \n",
      "----\n"
     ]
    },
    {
     "name": "stderr",
     "output_type": "stream",
     "text": [
      "100%|██████████| 1000/1000 [01:58<00:00,  6.70it/s]\n"
     ]
    },
    {
     "name": "stdout",
     "output_type": "stream",
     "text": [
      "Epoch 29 average loss = 1.1573979954719544\n",
      "Генерируем текст в пропорциональном режиме\n",
      "Using random seed: ующему это \n",
      "----\n",
      " ующему это продавец или другими заказать переданы искового покупателя у нем составления поседное временной форм принятии товаров\n",
      "\n",
      " 1. Арбитражный суд кассационные производится по завещательного путем.\n",
      " Участнико \n",
      "----\n",
      "Генерируем текст в жадном режиме (наиболее вероятные буквы)\n",
      "Using random seed:  юридическо\n"
     ]
    },
    {
     "name": "stderr",
     "output_type": "stream",
     "text": [
      "  0%|          | 1/1000 [00:00<01:47,  9.33it/s]"
     ]
    },
    {
     "name": "stdout",
     "output_type": "stream",
     "text": [
      "----\n",
      "  юридического лица органов внутренних дел Российской Федерации и обязательства и обязанность за проведения и принятия наследникам применяются правонарушениях, предусмотренных пунктом 1 настоящей статьи, вправе о \n",
      "----\n"
     ]
    },
    {
     "name": "stderr",
     "output_type": "stream",
     "text": [
      "100%|██████████| 1000/1000 [02:08<00:00,  7.79it/s]\n"
     ]
    },
    {
     "name": "stdout",
     "output_type": "stream",
     "text": [
      "Epoch 30 average loss = 1.1547577749490738\n",
      "Генерируем текст в пропорциональном режиме\n",
      "Using random seed: их событий с\n",
      "----\n",
      " их событий стамоволь в случая воинсполя.\n",
      " 8. Рассматриваем, оно и следующего милиции органа, а также лица хранитель завещатель его нахождение веществ.\n",
      " 2. Судебный актов решения случаях; \n",
      " Требования.\n",
      " 3. Любой н \n",
      "----\n",
      "Генерируем текст в жадном режиме (наиболее вероятные буквы)\n",
      "Using random seed: ров для госу\n"
     ]
    },
    {
     "name": "stderr",
     "output_type": "stream",
     "text": [
      "  0%|          | 1/1000 [00:00<02:08,  7.78it/s]"
     ]
    },
    {
     "name": "stdout",
     "output_type": "stream",
     "text": [
      "----\n",
      " ров для государственных органов и общественных органов и общественных органов и общественных органов и общественных органов и общественных органов и общественных органов и общественных органов и общественных орга \n",
      "----\n"
     ]
    },
    {
     "name": "stderr",
     "output_type": "stream",
     "text": [
      "100%|██████████| 1000/1000 [02:04<00:00,  8.36it/s]\n"
     ]
    },
    {
     "name": "stdout",
     "output_type": "stream",
     "text": [
      "Epoch 31 average loss = 1.1234976860880852\n",
      "Генерируем текст в пропорциональном режиме\n",
      "Using random seed: ражным судом\n",
      "----\n",
      " ражным судом товаров на транспорт договора запрашивающим о вывозе товары в сроки –\n",
      " влечет наложение административного штрафа\n",
      "\n",
      " 1. По закону обязана офертными жалобы рассмотрении служебных вред, причиненных свойс \n",
      "----\n",
      "Генерируем текст в жадном режиме (наиболее вероятные буквы)\n",
      "Using random seed: ества, наход\n"
     ]
    },
    {
     "name": "stderr",
     "output_type": "stream",
     "text": [
      "  0%|          | 1/1000 [00:00<02:31,  6.61it/s]"
     ]
    },
    {
     "name": "stdout",
     "output_type": "stream",
     "text": [
      "----\n",
      " ества, находящихся в соответствии с настоящей статьи, вправе отказе в принятии к рассмотрении дела об административного штрафа на граждан в размере от десяти до пятидесяти минимальных размеров оплаты труда.\n",
      "\n",
      " Ста \n",
      "----\n"
     ]
    },
    {
     "name": "stderr",
     "output_type": "stream",
     "text": [
      "100%|██████████| 1000/1000 [01:35<00:00, 10.42it/s]\n"
     ]
    },
    {
     "name": "stdout",
     "output_type": "stream",
     "text": [
      "Epoch 32 average loss = 1.121467542886734\n",
      "Генерируем текст в пропорциональном режиме\n",
      "Using random seed: к, озер и ин\n",
      "----\n",
      " к, озер и иные места плату жилые иного отказа, граждано иному закона, указаний, переходящейся в нем нарушение обязанности, достей рассматриваемом процессе.\n",
      " 2. Переходятся и в соответствии с соблюдение в соответс \n",
      "----\n",
      "Генерируем текст в жадном режиме (наиболее вероятные буквы)\n",
      "Using random seed: одованных пр\n"
     ]
    },
    {
     "name": "stderr",
     "output_type": "stream",
     "text": [
      "  0%|          | 4/1000 [00:00<00:30, 33.14it/s]"
     ]
    },
    {
     "name": "stdout",
     "output_type": "stream",
     "text": [
      "----\n",
      " одованных правонарушениях, предусмотренных статьей 11.15, частью 1 статьи 12.26, 11.20, 11.20, 10.2003 №118-ФЗ) \n",
      " 2. При необходимости общественного контроль в соответствии с законодательством Российской Федераци \n",
      "----\n"
     ]
    },
    {
     "name": "stderr",
     "output_type": "stream",
     "text": [
      "100%|██████████| 1000/1000 [00:30<00:00, 32.93it/s]\n"
     ]
    },
    {
     "name": "stdout",
     "output_type": "stream",
     "text": [
      "Epoch 33 average loss = 1.1185151041150092\n",
      "Генерируем текст в пропорциональном режиме\n",
      "Using random seed:  – при совме\n",
      "----\n",
      "  – при совместного средства\n",
      "\n",
      " Право, подлежит арбитражный суд.\n",
      " 5. Дрем далее вынесения срока использования или в случаях, предусмотренные настоящим Кодексом, их заместители расходы, по представителей и документо \n",
      "----\n",
      "Генерируем текст в жадном режиме (наиболее вероятные буквы)\n",
      "Using random seed: установленно\n"
     ]
    },
    {
     "name": "stderr",
     "output_type": "stream",
     "text": [
      "  0%|          | 4/1000 [00:00<00:30, 33.13it/s]"
     ]
    },
    {
     "name": "stdout",
     "output_type": "stream",
     "text": [
      "----\n",
      " установленном статьей 11.17, частью 1 статьи 19.4, частью 1 статьи 19.4, частью 1 статьи 19.4, частью 1 статьи 19.4, частью 1 статьи 19.4, частью 1 статьи 19.4, частью 1 статьи 19.4, частью 1 статьи 19.4, частью  \n",
      "----\n"
     ]
    },
    {
     "name": "stderr",
     "output_type": "stream",
     "text": [
      "100%|██████████| 1000/1000 [00:30<00:00, 32.88it/s]\n"
     ]
    },
    {
     "name": "stdout",
     "output_type": "stream",
     "text": [
      "Epoch 34 average loss = 1.1184868241548538\n",
      "Генерируем текст в пропорциональном режиме\n",
      "Using random seed: общество.\n",
      "\n",
      " \n",
      "----\n",
      " общество.\n",
      "\n",
      " 102\n",
      "\n",
      " Бесспорно на неотлодственные с уменьшей сохранителя отчет противоречащие\n",
      "\n",
      " 1. По эксперта полученных частями 1 и 2 статьи \n",
      "\n",
      " Дежным правонарушении или до ими проводит каждии иностранном предусмо \n",
      "----\n",
      "Генерируем текст в жадном режиме (наиболее вероятные буквы)\n",
      "Using random seed: к особо ценн\n"
     ]
    },
    {
     "name": "stderr",
     "output_type": "stream",
     "text": [
      "  0%|          | 4/1000 [00:00<00:29, 33.31it/s]"
     ]
    },
    {
     "name": "stdout",
     "output_type": "stream",
     "text": [
      "----\n",
      " к особо ценности по обязательства Российской Федерации о государственной регистрации по соглашением случаев, предусмотренных законом от 20.08.2004 №161-ФЗ) \n",
      " 2. В случае необходимых для проведения или после преду \n",
      "----\n"
     ]
    },
    {
     "name": "stderr",
     "output_type": "stream",
     "text": [
      "100%|██████████| 1000/1000 [00:30<00:00, 32.96it/s]\n"
     ]
    },
    {
     "name": "stdout",
     "output_type": "stream",
     "text": [
      "Epoch 35 average loss = 1.11391377389431\n",
      "Генерируем текст в пропорциональном режиме\n",
      "Using random seed: ждает их от о\n",
      "----\n",
      " ждает их от органов, должностным лицу, вред было прокупользования и понесах, уплатить заинтересованное должностные лица для возмещения;\n",
      " обеспечению одного разрешения ими времени и средств, обездействуют законодат \n",
      "----\n",
      "Генерируем текст в жадном режиме (наиболее вероятные буквы)\n",
      "Using random seed: й.\n",
      "\n",
      " Статья 1\n"
     ]
    },
    {
     "name": "stderr",
     "output_type": "stream",
     "text": [
      "  0%|          | 4/1000 [00:00<00:31, 31.18it/s]"
     ]
    },
    {
     "name": "stdout",
     "output_type": "stream",
     "text": [
      "----\n",
      " й.\n",
      "\n",
      " Статья 1148.\n",
      " Право на принятия наследства и принятие наследства и принятие наследства и принятие наследства и принятие наследства и принятие наследства и принятие наследства и принятие наследства и принятие  \n",
      "----\n"
     ]
    },
    {
     "name": "stderr",
     "output_type": "stream",
     "text": [
      "100%|██████████| 1000/1000 [00:32<00:00, 30.87it/s]\n"
     ]
    },
    {
     "name": "stdout",
     "output_type": "stream",
     "text": [
      "Epoch 36 average loss = 1.0867939839959144\n",
      "Генерируем текст в пропорциональном режиме\n",
      "Using random seed: ативные групп\n",
      "----\n",
      " ативные группы промышленное лицо должностных лиц – от пятидесятов и свободным таможенной границиатива прибытия таможенный орган, должно быть размещения о транспортирования.\n",
      " 3. Нарешением в определяется товаров по \n",
      "----\n",
      "Генерируем текст в жадном режиме (наиболее вероятные буквы)\n",
      "Using random seed: и. При прекра\n"
     ]
    },
    {
     "name": "stderr",
     "output_type": "stream",
     "text": [
      "  0%|          | 4/1000 [00:00<00:32, 31.08it/s]"
     ]
    },
    {
     "name": "stdout",
     "output_type": "stream",
     "text": [
      "----\n",
      " и. При прекращение производства по делу об административного правонарушениях, предусмотренных законом или договором не предусмотренных законом или договором не предусмотренных законом или договором не предусмотрен \n",
      "----\n"
     ]
    },
    {
     "name": "stderr",
     "output_type": "stream",
     "text": [
      "100%|██████████| 1000/1000 [00:32<00:00, 30.84it/s]\n"
     ]
    },
    {
     "name": "stdout",
     "output_type": "stream",
     "text": [
      "Epoch 37 average loss = 1.0877322207689286\n",
      "Генерируем текст в пропорциональном режиме\n",
      "Using random seed: дународных по\n",
      "----\n",
      " дународных подряда с деместители заявителю и транспортных средств федерального закона от 11.10.2004 №21-П. \n",
      "  (в ред. Федерального вознагота в присутствонное вместу нахождения и общества.\n",
      " 3. Об осправления, по со \n",
      "----\n",
      "Генерируем текст в жадном режиме (наиболее вероятные буквы)\n",
      "Using random seed: аконного прир\n"
     ]
    },
    {
     "name": "stderr",
     "output_type": "stream",
     "text": [
      "  0%|          | 4/1000 [00:00<00:32, 30.99it/s]"
     ]
    },
    {
     "name": "stdout",
     "output_type": "stream",
     "text": [
      "----\n",
      " аконного природной среды и оборудования и принятия наследственной безопасности по обязательства и принятия наследственной безопасности по обязательства и принятия наследственной безопасности по обязательства и при \n",
      "----\n"
     ]
    },
    {
     "name": "stderr",
     "output_type": "stream",
     "text": [
      "100%|██████████| 1000/1000 [00:32<00:00, 30.78it/s]\n"
     ]
    },
    {
     "name": "stdout",
     "output_type": "stream",
     "text": [
      "Epoch 38 average loss = 1.0811099239587785\n",
      "Генерируем текст в пропорциональном режиме\n",
      "Using random seed: нии товаров.\n",
      "\n",
      "----\n",
      " нии товаров.\n",
      "\n",
      " Статья 8.\n",
      " 12. Вклада или ином), когда организаций:\n",
      " если иное не предусмотренных стандационной инстанции\n",
      "\n",
      " С соответствии с внутренних дел предоставляется с экипая выполнение постановление звукому  \n",
      "----\n",
      "Генерируем текст в жадном режиме (наиболее вероятные буквы)\n",
      "Using random seed: ья 15.\n",
      " 9. Не\n"
     ]
    },
    {
     "name": "stderr",
     "output_type": "stream",
     "text": [
      "  0%|          | 4/1000 [00:00<00:32, 31.05it/s]"
     ]
    },
    {
     "name": "stdout",
     "output_type": "stream",
     "text": [
      "----\n",
      " ья 15.\n",
      " 9. Несоблюдение и при наличии с настоящей статьи, вправе при отсутствии с настоящим Кодексом и иных органов, организации и обязанностей по правилам об административного штрафа на граждан в размере от десят \n",
      "----\n"
     ]
    },
    {
     "name": "stderr",
     "output_type": "stream",
     "text": [
      "100%|██████████| 1000/1000 [00:32<00:00, 30.82it/s]\n"
     ]
    },
    {
     "name": "stdout",
     "output_type": "stream",
     "text": [
      "Epoch 39 average loss = 1.0809540553092956\n",
      "Генерируем текст в пропорциональном режиме\n",
      "Using random seed: аявленное во \n",
      "----\n",
      " аявленное во вкладчик дладельцу причинивших части владение суток с ними.\n",
      " 2. Таможенного штрафа на должность, обеих лиц, учреждений кредитору пятаться запрете все наследованность всех комиссия, внесено проценты вп \n",
      "----\n",
      "Генерируем текст в жадном режиме (наиболее вероятные буквы)\n",
      "Using random seed:  12) выносить\n"
     ]
    },
    {
     "name": "stderr",
     "output_type": "stream",
     "text": [
      "  0%|          | 4/1000 [00:00<00:32, 30.97it/s]"
     ]
    },
    {
     "name": "stdout",
     "output_type": "stream",
     "text": [
      "----\n",
      "  12) выносить принятия таможенных пошлин, налогов в соответствии с законодательством Российской Федерации и принятия решения или при проведения или при проведения или при проведения или при проведения или при пров \n",
      "----\n"
     ]
    },
    {
     "name": "stderr",
     "output_type": "stream",
     "text": [
      "100%|██████████| 1000/1000 [00:32<00:00, 30.76it/s]\n"
     ]
    },
    {
     "name": "stdout",
     "output_type": "stream",
     "text": [
      "Epoch 40 average loss = 1.080939844608307\n",
      "Генерируем текст в пропорциональном режиме\n",
      "Using random seed:  Течение всех \n",
      "----\n",
      "  Течение всех надписление исполнение причина понесенной в общей по соглашением человать об административном правонарушении. Договор о приведение товаров или его допускается, размер товар, риска.\n",
      " 2. К.пия и ставок  \n",
      "----\n",
      "Генерируем текст в жадном режиме (наиболее вероятные буквы)\n",
      "Using random seed: я того, чтобы \n"
     ]
    },
    {
     "name": "stderr",
     "output_type": "stream",
     "text": [
      "  0%|          | 3/1000 [00:00<00:35, 28.28it/s]"
     ]
    },
    {
     "name": "stdout",
     "output_type": "stream",
     "text": [
      "----\n",
      " я того, чтобы отношении которого вознаграждение или представителями и порядке наследства и обязанности по основаниям, предусмотренных статьи, вправе потребовать от пяти до десяти минимальных размеров оплаты труда;  \n",
      "----\n"
     ]
    },
    {
     "name": "stderr",
     "output_type": "stream",
     "text": [
      "100%|██████████| 1000/1000 [00:35<00:00, 28.13it/s]\n"
     ]
    },
    {
     "name": "stdout",
     "output_type": "stream",
     "text": [
      "Epoch 41 average loss = 1.0530573253631592\n",
      "Генерируем текст в пропорциональном режиме\n",
      "Using random seed: о наступления \n",
      "----\n",
      " о наступления него учебной сопровождению о возмещению жалобы быть онагрузка, перемещаются содержаться стоимости к проведения и (или) об ухода по постановление вступления юридическому лицу, участников;\n",
      " – обеспечени \n",
      "----\n",
      "Генерируем текст в жадном режиме (наиболее вероятные буквы)\n",
      "Using random seed: ется администр\n"
     ]
    },
    {
     "name": "stderr",
     "output_type": "stream",
     "text": [
      "  0%|          | 3/1000 [00:00<00:35, 28.36it/s]"
     ]
    },
    {
     "name": "stdout",
     "output_type": "stream",
     "text": [
      "----\n",
      " ется административного штрафа на граждан в размере от десяти до двадцати минимальных размеров оплаты труда; на юридических лиц – от десяти до двадцати минимальных размеров оплаты труда; на юридических лиц – от деся \n",
      "----\n"
     ]
    },
    {
     "name": "stderr",
     "output_type": "stream",
     "text": [
      "100%|██████████| 1000/1000 [00:35<00:00, 28.13it/s]\n"
     ]
    },
    {
     "name": "stdout",
     "output_type": "stream",
     "text": [
      "Epoch 42 average loss = 1.0504229564070702\n",
      "Генерируем текст в пропорциональном режиме\n",
      "Using random seed: ки;\n",
      " в) обеспе\n",
      "----\n",
      " ки;\n",
      " в) обеспечения и здоровью на товара, своеврядителем о лишь деловой описания от использование гражданы наследственное приостановлении необходимой всеобщим для промство\n",
      "\n",
      " 1. Если пересмотре товарищества по делу  \n",
      "----\n",
      "Генерируем текст в жадном режиме (наиболее вероятные буквы)\n",
      "Using random seed:  Федерации о с\n"
     ]
    },
    {
     "name": "stderr",
     "output_type": "stream",
     "text": [
      "  0%|          | 3/1000 [00:00<00:34, 28.50it/s]"
     ]
    },
    {
     "name": "stdout",
     "output_type": "stream",
     "text": [
      "----\n",
      "  Федерации о соглашением сторон по обязательства по делу об административного штрафа на граждан в размере от пяти до десяти минимальных размеров оплаты труда.\n",
      "\n",
      " Статья 11.\n",
      " 1. При представителем и порядок продавец  \n",
      "----\n"
     ]
    },
    {
     "name": "stderr",
     "output_type": "stream",
     "text": [
      "100%|██████████| 1000/1000 [00:35<00:00, 28.11it/s]\n"
     ]
    },
    {
     "name": "stdout",
     "output_type": "stream",
     "text": [
      "Epoch 43 average loss = 1.0529042584300041\n",
      "Генерируем текст в пропорциональном режиме\n",
      "Using random seed: ещаются через \n",
      "----\n",
      " ещаются через таможенную территорий-либо результатам.\n",
      " 2. Норм матери.\n",
      " Милицию экспедитора невозможность язык экземпляра этол). Кроме народу из карантинацепа ставка быть лицом. Органа исполнение разрешается наслед \n",
      "----\n",
      "Генерируем текст в жадном режиме (наиболее вероятные буквы)\n",
      "Using random seed: получении указ\n"
     ]
    },
    {
     "name": "stderr",
     "output_type": "stream",
     "text": [
      "  0%|          | 3/1000 [00:00<00:35, 28.35it/s]"
     ]
    },
    {
     "name": "stdout",
     "output_type": "stream",
     "text": [
      "----\n",
      " получении указанных в статьях 1140 – 1170 настоящего Кодекса.\n",
      " 2. При необходимых для проверка товаров и транспортных средств и полномочия на таможенной территории Российской Федерации и обязанности при проведения  \n",
      "----\n"
     ]
    },
    {
     "name": "stderr",
     "output_type": "stream",
     "text": [
      "100%|██████████| 1000/1000 [00:35<00:00, 28.15it/s]\n"
     ]
    },
    {
     "name": "stdout",
     "output_type": "stream",
     "text": [
      "Epoch 44 average loss = 1.0494991212487221\n",
      "Генерируем текст в пропорциональном режиме\n",
      "Using random seed: делении заявит\n",
      "----\n",
      " делении заявителя об оспариваемого транзитный досмотром исполнения права собственных интересов международного имеют несодатель обязанности, посредством государственного, консульского собственности, подтверждающие в \n",
      "----\n",
      "Генерируем текст в жадном режиме (наиболее вероятные буквы)\n",
      "Using random seed: ление причин и\n"
     ]
    },
    {
     "name": "stderr",
     "output_type": "stream",
     "text": [
      "  0%|          | 3/1000 [00:00<00:35, 28.39it/s]"
     ]
    },
    {
     "name": "stdout",
     "output_type": "stream",
     "text": [
      "----\n",
      " ление причин и других лиц – от трех до пяти минимальных размеров оплаты труда; на юридических лиц – от трех до пяти минимальных размеров оплаты труда; на юридических лиц – от трех до пяти минимальных размеров оплат \n",
      "----\n"
     ]
    },
    {
     "name": "stderr",
     "output_type": "stream",
     "text": [
      "100%|██████████| 1000/1000 [00:36<00:00, 27.57it/s]\n"
     ]
    },
    {
     "name": "stdout",
     "output_type": "stream",
     "text": [
      "Epoch 45 average loss = 1.0465153470635413\n",
      "Генерируем текст в пропорциональном режиме\n",
      "Using random seed: страхования либ\n",
      "----\n",
      " страхования либо уплате таможенных органов, склада на участниками Российской Федерации несения службой, извещении юридического лица, и участие выплаты регистрация или другое разрешения может быть разрешение о выполн \n",
      "----\n",
      "Генерируем текст в жадном режиме (наиболее вероятные буквы)\n",
      "Using random seed: данное в соотве\n"
     ]
    },
    {
     "name": "stderr",
     "output_type": "stream",
     "text": [
      "  0%|          | 3/1000 [00:00<00:36, 27.13it/s]"
     ]
    },
    {
     "name": "stdout",
     "output_type": "stream",
     "text": [
      "----\n",
      " данное в соответствии с законом от 04.07.2005 №45-ФЗ) \n",
      " 3. При проведения или представления товаров и (или) транспортных средств и (или) транспортных средств и (или) транспортных средств и (или) транспортных средств \n",
      "----\n"
     ]
    },
    {
     "name": "stderr",
     "output_type": "stream",
     "text": [
      "100%|██████████| 1000/1000 [00:37<00:00, 26.85it/s]\n"
     ]
    },
    {
     "name": "stdout",
     "output_type": "stream",
     "text": [
      "Epoch 46 average loss = 1.0233359939455986\n",
      "Генерируем текст в пропорциональном режиме\n",
      "Using random seed: абот, указанных\n",
      "----\n",
      " абот, указанных в сталоге). Лом – копии при условии, что для получением служебную предварительного оружия, обнаруженного процесса всех такое о времени и территорий в допускается хранения к вещь (образовании судебной \n",
      "----\n",
      "Генерируем текст в жадном режиме (наиболее вероятные буквы)\n",
      "Using random seed: мальных размеро\n"
     ]
    },
    {
     "name": "stderr",
     "output_type": "stream",
     "text": [
      "  0%|          | 3/1000 [00:00<00:36, 27.15it/s]"
     ]
    },
    {
     "name": "stdout",
     "output_type": "stream",
     "text": [
      "----\n",
      " мальных размеров оплаты труда.\n",
      " 2. Нарушение правил переданного права и обязанностей по делам о наследникам при проведении иных случаях, предусмотренных статьями 11.19 – 11.17, 11.18, частью 1 статьи 11.17, статьями \n",
      "----\n"
     ]
    },
    {
     "name": "stderr",
     "output_type": "stream",
     "text": [
      "100%|██████████| 1000/1000 [00:37<00:00, 26.83it/s]\n"
     ]
    },
    {
     "name": "stdout",
     "output_type": "stream",
     "text": [
      "Epoch 47 average loss = 1.0232660657167434\n",
      "Генерируем текст в пропорциональном режиме\n",
      "Using random seed: ренным настоящи\n",
      "----\n",
      " ренным настоящим Кодексом, если в чужом элемента арбитражного Суда РФ от 07.12.03.2005 №199-ФЗ) \n",
      " 7. Информационным судна может иметь им экономической деятельности общества.\n",
      " 2. Условий, удостоверения товаров, транс \n",
      "----\n",
      "Генерируем текст в жадном режиме (наиболее вероятные буквы)\n",
      "Using random seed: ление или предс\n"
     ]
    },
    {
     "name": "stderr",
     "output_type": "stream",
     "text": [
      "  0%|          | 3/1000 [00:00<00:36, 27.07it/s]"
     ]
    },
    {
     "name": "stdout",
     "output_type": "stream",
     "text": [
      "----\n",
      " ление или представления товаров и (или) транспортных средств и обязанности по правилам, предусмотренных пунктом 1 статьи 19.4, частью 1 статьи 19.4, частью 1 статьи 19.4, частью 1 статьи 19.4, частью 1 статьи 19.4,  \n",
      "----\n"
     ]
    },
    {
     "name": "stderr",
     "output_type": "stream",
     "text": [
      "100%|██████████| 1000/1000 [00:37<00:00, 26.83it/s]\n"
     ]
    },
    {
     "name": "stdout",
     "output_type": "stream",
     "text": [
      "Epoch 48 average loss = 1.018450707435608\n",
      "Генерируем текст в пропорциональном режиме\n",
      "Using random seed: ударственных ор\n",
      "----\n",
      " ударственных органов, достатки вне считуемых временном виды (деловой регистрация жалобы на требований законодательство Российской Федерации.\n",
      "  (в ред. Федеральное минеральных курсу об орговую приатериалы представлят \n",
      "----\n",
      "Генерируем текст в жадном режиме (наиболее вероятные буквы)\n",
      "Using random seed: -ФЗ) \n",
      " 4. Отзыв\n"
     ]
    },
    {
     "name": "stderr",
     "output_type": "stream",
     "text": [
      "  0%|          | 3/1000 [00:00<00:37, 26.93it/s]"
     ]
    },
    {
     "name": "stdout",
     "output_type": "stream",
     "text": [
      "----\n",
      " -ФЗ) \n",
      " 4. Отзыв на таможенную территории Российской Федерации и представления и представления и представления и представления и представления и представления и представления и представления и представления и предста \n",
      "----\n"
     ]
    },
    {
     "name": "stderr",
     "output_type": "stream",
     "text": [
      "100%|██████████| 1000/1000 [00:37<00:00, 26.84it/s]\n"
     ]
    },
    {
     "name": "stdout",
     "output_type": "stream",
     "text": [
      "Epoch 49 average loss = 1.0170227748155594\n",
      "Генерируем текст в пропорциональном режиме\n",
      "Using random seed: недостаточности\n",
      "----\n",
      " недостаточности, если товаров в соответствии с федеральный кодекс) эксплуаталоск каждого состояние преступления необходимых доходов, ктознаю при перемещения.\n",
      " 2. Обстоятельствах в порядке надзора. В отступление прав \n",
      "----\n",
      "Генерируем текст в жадном режиме (наиболее вероятные буквы)\n",
      "Using random seed: 5.\n",
      " Прекращение\n"
     ]
    },
    {
     "name": "stderr",
     "output_type": "stream",
     "text": [
      "  0%|          | 3/1000 [00:00<00:37, 26.93it/s]"
     ]
    },
    {
     "name": "stdout",
     "output_type": "stream",
     "text": [
      "----\n",
      " 5.\n",
      " Прекращение права собственности по праву страны, где находится в соответствии с законодательством Российской Федерации и при применении к административного штрафа на граждан в размере от двадцати до двадцати мин \n",
      "----\n"
     ]
    },
    {
     "name": "stderr",
     "output_type": "stream",
     "text": [
      "100%|██████████| 1000/1000 [00:37<00:00, 26.77it/s]\n"
     ]
    },
    {
     "name": "stdout",
     "output_type": "stream",
     "text": [
      "Epoch 50 average loss = 1.0149489691257476\n",
      "Генерируем текст в пропорциональном режиме\n",
      "Using random seed: пятнадцати до дв\n",
      "----\n",
      " пятнадцати до двадцати минимальных размеров оплаты труда; на юридического лица и охраной учет срочного движения дипломатия определять настоящими пункта 9 статьи 19.5 настоящего Кодекса. Комиссионеру без образование в \n",
      "----\n",
      "Генерируем текст в жадном режиме (наиболее вероятные буквы)\n",
      "Using random seed: 01.1996 №15-ФЗ).\n"
     ]
    },
    {
     "name": "stderr",
     "output_type": "stream",
     "text": [
      "  0%|          | 3/1000 [00:00<00:38, 25.77it/s]"
     ]
    },
    {
     "name": "stdout",
     "output_type": "stream",
     "text": [
      "----\n",
      " 01.1996 №15-ФЗ).\n",
      "\n",
      " Статья 1113.\n",
      " Право на принудительное исполнение обязательства и принятии решения и принятии решения и принятии решения и принятии решения и принятии решения и принятии решения и принятии решения и \n",
      "----\n"
     ]
    },
    {
     "name": "stderr",
     "output_type": "stream",
     "text": [
      "100%|██████████| 1000/1000 [00:39<00:00, 25.60it/s]\n"
     ]
    },
    {
     "name": "stdout",
     "output_type": "stream",
     "text": [
      "Epoch 51 average loss = 0.9939656999707221\n",
      "Генерируем текст в пропорциональном режиме\n",
      "Using random seed:  2. В случае вын\n",
      "----\n",
      "  2. В случае вынесенных государственный ремонт, если которое собака уплате с преимущественность доли процентов в адресу, причиненным со дня потребляемыми между аренды (статья 227).\n",
      " 3. В случаях, –\n",
      " влечет учизываемы \n",
      "----\n",
      "Генерируем текст в жадном режиме (наиболее вероятные буквы)\n",
      "Using random seed: евыполнение или \n"
     ]
    },
    {
     "name": "stderr",
     "output_type": "stream",
     "text": [
      "  0%|          | 3/1000 [00:00<00:38, 25.83it/s]"
     ]
    },
    {
     "name": "stdout",
     "output_type": "stream",
     "text": [
      "----\n",
      " евыполнение или наложение административного штрафа на граждан в размере от десяти до двадцати минимальных размеров оплаты труда; на должностных лиц – от двухсот до трехсот минимальных размеров оплаты труда; на должно \n",
      "----\n"
     ]
    },
    {
     "name": "stderr",
     "output_type": "stream",
     "text": [
      "100%|██████████| 1000/1000 [00:39<00:00, 25.56it/s]\n"
     ]
    },
    {
     "name": "stdout",
     "output_type": "stream",
     "text": [
      "Epoch 52 average loss = 0.9968573999404907\n",
      "Генерируем текст в пропорциональном режиме\n",
      "Using random seed: выми актами Росс\n",
      "----\n",
      " выми актами Российской Федерации или систему лицу.\n",
      "\n",
      " Статья 123) передажу или его наследства его уставный первой инстанции, действует, последование транспортными государством, относятся:\n",
      " 1) высокий функций, если из  \n",
      "----\n",
      "Генерируем текст в жадном режиме (наиболее вероятные буквы)\n",
      "Using random seed: тересованными ли\n"
     ]
    },
    {
     "name": "stderr",
     "output_type": "stream",
     "text": [
      "  0%|          | 3/1000 [00:00<00:38, 25.65it/s]"
     ]
    },
    {
     "name": "stdout",
     "output_type": "stream",
     "text": [
      "----\n",
      " тересованными лицами, участвующим в деле, и иными правовыми актами Российской Федерации и обязанности по предприятия, предусмотренных статьей 12.22 настоящего Кодекса.\n",
      " 2. В случае, когда принятия таможенной территор \n",
      "----\n"
     ]
    },
    {
     "name": "stderr",
     "output_type": "stream",
     "text": [
      "100%|██████████| 1000/1000 [00:39<00:00, 25.55it/s]\n"
     ]
    },
    {
     "name": "stdout",
     "output_type": "stream",
     "text": [
      "Epoch 53 average loss = 0.9922771131396294\n",
      "Генерируем текст в пропорциональном режиме\n",
      "Using random seed:  ежедневно (в вы\n",
      "----\n",
      "  ежедневно (в выдачи предпринимательского потребительских сведений и приведени и своем совместно отсутствии вызванных ремонт согласия которых ценных беспорядков либо потребления на которуа проводителем или из содержа \n",
      "----\n",
      "Генерируем текст в жадном режиме (наиболее вероятные буквы)\n",
      "Using random seed: охранных зон вод\n"
     ]
    },
    {
     "name": "stderr",
     "output_type": "stream",
     "text": [
      "  0%|          | 3/1000 [00:00<00:38, 25.72it/s]"
     ]
    },
    {
     "name": "stdout",
     "output_type": "stream",
     "text": [
      "----\n",
      " охранных зон водных объектов и (или) транспортных средств и (или) транспортных средств и (или) транспортных средств и (или) транспортных средств и (или) транспортных средств и (или) транспортных средств и (или) транс \n",
      "----\n"
     ]
    },
    {
     "name": "stderr",
     "output_type": "stream",
     "text": [
      "100%|██████████| 1000/1000 [00:39<00:00, 25.61it/s]\n"
     ]
    },
    {
     "name": "stdout",
     "output_type": "stream",
     "text": [
      "Epoch 54 average loss = 0.9913291736245156\n",
      "Генерируем текст в пропорциональном режиме\n",
      "Using random seed: родуктах перераб\n",
      "----\n",
      " родуктах переработки, в порядке их случае отмене, необходимые рекого лица –\n",
      " влечет наложение административного права и месту идентификационной жалобы а такой договор о товаре, приобретенных в арбитражный суд выносит \n",
      "----\n",
      "Генерируем текст в жадном режиме (наиболее вероятные буквы)\n",
      "Using random seed: ми, услугами либ\n"
     ]
    },
    {
     "name": "stderr",
     "output_type": "stream",
     "text": [
      "  0%|          | 3/1000 [00:00<00:38, 25.77it/s]"
     ]
    },
    {
     "name": "stdout",
     "output_type": "stream",
     "text": [
      "----\n",
      " ми, услугами либо при проведения таможенного органа или иного органа исполнения договора подряда или иного органа исполнения договора подряда или иного органа исполнения договора подряда или иного органа исполнения д \n",
      "----\n"
     ]
    },
    {
     "name": "stderr",
     "output_type": "stream",
     "text": [
      "100%|██████████| 1000/1000 [00:39<00:00, 25.63it/s]\n"
     ]
    },
    {
     "name": "stdout",
     "output_type": "stream",
     "text": [
      "Epoch 55 average loss = 0.9910499255061149\n",
      "Генерируем текст в пропорциональном режиме\n",
      "Using random seed: е 20000 рублей;\n",
      " \n",
      "----\n",
      " е 20000 рублей;\n",
      " 27 и частичных тому.\n",
      " 2. Земельный участников считается отделу, –\n",
      " влечет наложение административного правонарушении. Обязательства, обладателя или на полученые таможенных целей.\n",
      " 2. Действия Цена по  \n",
      "----\n",
      "Генерируем текст в жадном режиме (наиболее вероятные буквы)\n",
      "Using random seed:  наименование «че\n"
     ]
    },
    {
     "name": "stderr",
     "output_type": "stream",
     "text": [
      "  0%|          | 3/1000 [00:00<00:40, 24.44it/s]"
     ]
    },
    {
     "name": "stdout",
     "output_type": "stream",
     "text": [
      "----\n",
      "  наименование «человечаемый отказа в принятии к рассмотрению дела об административного штрафа на граждан в размере от пяти до десяти минимальных размеров оплаты труда; на должностных лиц – от двухсот до трехсот минима \n",
      "----\n"
     ]
    },
    {
     "name": "stderr",
     "output_type": "stream",
     "text": [
      "100%|██████████| 1000/1000 [00:41<00:00, 24.26it/s]\n"
     ]
    },
    {
     "name": "stdout",
     "output_type": "stream",
     "text": [
      "Epoch 56 average loss = 0.9731928164958954\n",
      "Генерируем текст в пропорциональном режиме\n",
      "Using random seed: ом или пересылает\n",
      "----\n",
      " ом или пересылается передачи и очередной ответственность за фавку) первоначальный участок и должнико разрешения, определения его без назначениересов краткосрочной организации представителем, подлежат заключения копии  \n",
      "----\n",
      "Генерируем текст в жадном режиме (наиболее вероятные буквы)\n",
      "Using random seed: ществления такого\n"
     ]
    },
    {
     "name": "stderr",
     "output_type": "stream",
     "text": [
      "  0%|          | 3/1000 [00:00<00:40, 24.37it/s]"
     ]
    },
    {
     "name": "stdout",
     "output_type": "stream",
     "text": [
      "----\n",
      " ществления такого представителем. В случае необходимости при проведении произведения по делу об административного штрафа на граждан в размере от пяти до десяти минимальных размеров оплаты труда.\n",
      "\n",
      " Статья 10.\n",
      " 20. Нару \n",
      "----\n"
     ]
    },
    {
     "name": "stderr",
     "output_type": "stream",
     "text": [
      "100%|██████████| 1000/1000 [00:41<00:00, 24.25it/s]\n"
     ]
    },
    {
     "name": "stdout",
     "output_type": "stream",
     "text": [
      "Epoch 57 average loss = 0.9715141232609749\n",
      "Генерируем текст в пропорциональном режиме\n",
      "Using random seed: ь вправе по своем\n",
      "----\n",
      " ь вправе по своему размера является заказчик.\n",
      "\n",
      " Статья 972.\n",
      " Порядок рассмотрения создают!\n",
      "\n",
      " Глава 22 пунктом 7 статьи 19.5, статьями 10.9, 187, 191, 480).\n",
      " 4. Обеспечением сопия экспертов, в течение шести провержении \n",
      "----\n",
      "Генерируем текст в жадном режиме (наиболее вероятные буквы)\n",
      "Using random seed: оженных платежей \n"
     ]
    },
    {
     "name": "stderr",
     "output_type": "stream",
     "text": [
      "  0%|          | 3/1000 [00:00<00:40, 24.48it/s]"
     ]
    },
    {
     "name": "stdout",
     "output_type": "stream",
     "text": [
      "----\n",
      " оженных платежей и иных случаях и по проведение производства по делу об административного штрафа на граждан в размере от пятнадцати до двадцати минимальных размеров оплаты труда; на юридических лиц – от трехсот до чет \n",
      "----\n"
     ]
    },
    {
     "name": "stderr",
     "output_type": "stream",
     "text": [
      "100%|██████████| 1000/1000 [00:41<00:00, 24.28it/s]\n"
     ]
    },
    {
     "name": "stdout",
     "output_type": "stream",
     "text": [
      "Epoch 58 average loss = 0.9680866324305535\n",
      "Генерируем текст в пропорциональном режиме\n",
      "Using random seed: нному представите\n",
      "----\n",
      " нному представительства пользование в момент должен разъясняет наследство по делу (финансово-розы, а равны или повреждением результата работы, суд может определении раздел II.\n",
      " Правовое месяца со дня, когда наказание, \n",
      "----\n",
      "Генерируем текст в жадном режиме (наиболее вероятные буквы)\n",
      "Using random seed: о товарищества, п\n"
     ]
    },
    {
     "name": "stderr",
     "output_type": "stream",
     "text": [
      "  0%|          | 3/1000 [00:00<00:40, 24.50it/s]"
     ]
    },
    {
     "name": "stdout",
     "output_type": "stream",
     "text": [
      "----\n",
      " о товарищества, принятых в соответствии с законодательством Российской Федерации и принимается в соответствии с законодательством Российской Федерации и принимается в соответствии с законодательством Российской Федера \n",
      "----\n"
     ]
    },
    {
     "name": "stderr",
     "output_type": "stream",
     "text": [
      "100%|██████████| 1000/1000 [00:41<00:00, 24.27it/s]\n"
     ]
    },
    {
     "name": "stdout",
     "output_type": "stream",
     "text": [
      "Epoch 59 average loss = 0.9677352268099785\n",
      "Генерируем текст в пропорциональном режиме\n",
      "Using random seed: она или его полож\n",
      "----\n",
      " она или его положения либо эфиктей форме, удовлетворящего ведения, составлять ее вместе лицу, у которого опеки и письменной форме товаров и транспортном средств, принимают состоянием случаев, предусмотрено договором с \n",
      "----\n",
      "Генерируем текст в жадном режиме (наиболее вероятные буквы)\n",
      "Using random seed: ходя из суммы неу\n"
     ]
    },
    {
     "name": "stderr",
     "output_type": "stream",
     "text": [
      "  0%|          | 3/1000 [00:00<00:40, 24.46it/s]"
     ]
    },
    {
     "name": "stdout",
     "output_type": "stream",
     "text": [
      "----\n",
      " ходя из суммы неустойки по договору подряда и принятии к рассмотрению дела в соответствии с законодательством Российской Федерации о государственных органов и оборудования и принятии к рассмотрению дела в соответствии \n",
      "----\n"
     ]
    },
    {
     "name": "stderr",
     "output_type": "stream",
     "text": [
      "100%|██████████| 1000/1000 [00:41<00:00, 24.28it/s]\n"
     ]
    },
    {
     "name": "stdout",
     "output_type": "stream",
     "text": [
      "Epoch 60 average loss = 0.9644416735768319\n",
      "Генерируем текст в пропорциональном режиме\n",
      "Using random seed: ние завещания може\n",
      "----\n",
      " ние завещания может быть указанных в день принятам складе отступления установлено иное.\n",
      "\n",
      " Статья 1114.\n",
      " Обязательстве может быть совершен в размере от которых нотариус не менее двух).\n",
      " 3. Для ЭВМ или случаи, когда вещн \n",
      "----\n",
      "Генерируем текст в жадном режиме (наиболее вероятные буквы)\n",
      "Using random seed: ии административно\n"
     ]
    },
    {
     "name": "stderr",
     "output_type": "stream",
     "text": [
      "  0%|          | 3/1000 [00:00<00:43, 23.09it/s]"
     ]
    },
    {
     "name": "stdout",
     "output_type": "stream",
     "text": [
      "----\n",
      " ии административного штрафа на граждан в размере от пяти до десяти минимальных размеров оплаты труда; на должностных лиц – от десяти до пятнадцати минимальных размеров оплаты труда; на должностных лиц – от десяти до пя \n",
      "----\n"
     ]
    },
    {
     "name": "stderr",
     "output_type": "stream",
     "text": [
      "100%|██████████| 1000/1000 [00:43<00:00, 22.92it/s]\n"
     ]
    },
    {
     "name": "stdout",
     "output_type": "stream",
     "text": [
      "Epoch 61 average loss = 0.947672626554966\n",
      "Генерируем текст в пропорциональном режиме\n",
      "Using random seed: е таких операций т\n",
      "----\n",
      " е таких операций транспортными правам по исследование об отказе в принятии к рассмотрение правопобана в необходимую и (или) за совершение, действие (бездействие) таких лица, которое в пользу телефизии не является или с \n",
      "----\n",
      "Генерируем текст в жадном режиме (наиболее вероятные буквы)\n",
      "Using random seed: олимой силы\n",
      "\n",
      " 1. Н\n"
     ]
    },
    {
     "name": "stderr",
     "output_type": "stream",
     "text": [
      "  0%|          | 3/1000 [00:00<00:43, 23.06it/s]"
     ]
    },
    {
     "name": "stdout",
     "output_type": "stream",
     "text": [
      "----\n",
      " олимой силы\n",
      "\n",
      " 1. Нарушение правил производства по делу об административного правонарушениях, предусмотренных статьей 11.1, частью 1 статьи 19.5, статьями 19.6, 19.7 настоящего Кодекса.\n",
      " 2. Рассматривать дела об админис \n",
      "----\n"
     ]
    },
    {
     "name": "stderr",
     "output_type": "stream",
     "text": [
      "100%|██████████| 1000/1000 [00:43<00:00, 22.93it/s]\n"
     ]
    },
    {
     "name": "stdout",
     "output_type": "stream",
     "text": [
      "Epoch 62 average loss = 0.9476825829744339\n",
      "Генерируем текст в пропорциональном режиме\n",
      "Using random seed: ение арбитражного \n",
      "----\n",
      " ение арбитражного суда первой инстанции во взаимоответствии с законодательством Российской Федерации о государством.\n",
      "  (в ред. Федерального закона от 04.07.2003 №94-ФЗ, от 26.01.1998 №123-ФЗ, от 11.11.1996 №231-ФЗ) \n",
      " 3 \n",
      "----\n",
      "Генерируем текст в жадном режиме (наиболее вероятные буквы)\n",
      "Using random seed: упреждения поклаже\n"
     ]
    },
    {
     "name": "stderr",
     "output_type": "stream",
     "text": [
      "  0%|          | 3/1000 [00:00<00:43, 23.01it/s]"
     ]
    },
    {
     "name": "stdout",
     "output_type": "stream",
     "text": [
      "----\n",
      " упреждения поклажедателя в соответствии с законодательством Российской Федерации о государственном регулировании внешнеторговой деятельности на срок до девяноста суток.\n",
      "  (в ред. Федерального закона от 29.06.2004 №58-Ф \n",
      "----\n"
     ]
    },
    {
     "name": "stderr",
     "output_type": "stream",
     "text": [
      "100%|██████████| 1000/1000 [00:43<00:00, 22.92it/s]\n"
     ]
    },
    {
     "name": "stdout",
     "output_type": "stream",
     "text": [
      "Epoch 63 average loss = 0.9453257045149803\n",
      "Генерируем текст в пропорциональном режиме\n",
      "Using random seed:  обращается в дохо\n",
      "----\n",
      "  обращается в доход уплачены без намерении дела вещественными за нарушено осуществлять предусмотренного в соответствии с его сипредительные другими законами, учреждение, не своевремено решения товаров отменяет мотожден \n",
      "----\n",
      "Генерируем текст в жадном режиме (наиболее вероятные буквы)\n",
      "Using random seed: дерации\n",
      "\n",
      " 1. При о\n"
     ]
    },
    {
     "name": "stderr",
     "output_type": "stream",
     "text": [
      "  0%|          | 3/1000 [00:00<00:43, 23.02it/s]"
     ]
    },
    {
     "name": "stdout",
     "output_type": "stream",
     "text": [
      "----\n",
      " дерации\n",
      "\n",
      " 1. При отсутствии документов, подтверждающие сведения о признании не предусмотрено договором поставки товаров под таможенным брокер (представителем и иных объектов и иных правовых актов и порядок принятии к р \n",
      "----\n"
     ]
    },
    {
     "name": "stderr",
     "output_type": "stream",
     "text": [
      "100%|██████████| 1000/1000 [00:43<00:00, 22.90it/s]\n"
     ]
    },
    {
     "name": "stdout",
     "output_type": "stream",
     "text": [
      "Epoch 64 average loss = 0.9458489363789558\n",
      "Генерируем текст в пропорциональном режиме\n",
      "Using random seed: озыгрыше призов за\n",
      "----\n",
      " озыгрыше призов защита товар автоматекста, оказание (заявления о включении в течение результат наследство, находящийся в арбитражном транспортных средств (пункт 3 и 10 часть его сфере лица, уполномоченным в области дея \n",
      "----\n",
      "Генерируем текст в жадном режиме (наиболее вероятные буквы)\n",
      "Using random seed: 2) исключает оспар\n"
     ]
    },
    {
     "name": "stderr",
     "output_type": "stream",
     "text": [
      "  0%|          | 3/1000 [00:00<00:43, 23.01it/s]"
     ]
    },
    {
     "name": "stdout",
     "output_type": "stream",
     "text": [
      "----\n",
      " 2) исключает оспариваемого должностных лиц – от двадцати до тридцати минимальных размеров оплаты труда.\n",
      " 2. Нарушение правил производства по делу об административных правонарушениях, предусмотренных статьей 20.14 насто \n",
      "----\n"
     ]
    },
    {
     "name": "stderr",
     "output_type": "stream",
     "text": [
      "100%|██████████| 1000/1000 [00:43<00:00, 22.91it/s]\n"
     ]
    },
    {
     "name": "stdout",
     "output_type": "stream",
     "text": [
      "Epoch 65 average loss = 0.944371759712696\n",
      "Генерируем текст в пропорциональном режиме\n",
      "Using random seed: м.\n",
      " При продаже так\n",
      "----\n",
      " м.\n",
      " При продаже такой исполнитель либо председатель или стеченным в области таможенную власти, в отношении этих лиц – от ста до трех минимальных размеров оплаты труда; на юридических лиц\n",
      "\n",
      " 1. В случаях, когда заявлением \n",
      "----\n",
      "Генерируем текст в жадном режиме (наиболее вероятные буквы)\n",
      "Using random seed: дцати минимальных р\n"
     ]
    },
    {
     "name": "stderr",
     "output_type": "stream",
     "text": [
      "  0%|          | 3/1000 [00:00<00:45, 22.10it/s]"
     ]
    },
    {
     "name": "stdout",
     "output_type": "stream",
     "text": [
      "----\n",
      " дцати минимальных размеров оплаты труда; на должностных лиц – от трехсот до четырехсот до пятисот минимальных размеров оплаты труда; на должностных лиц – от трехсот до четырехсот до пятисот минимальных размеров оплаты т \n",
      "----\n"
     ]
    },
    {
     "name": "stderr",
     "output_type": "stream",
     "text": [
      "100%|██████████| 1000/1000 [00:45<00:00, 21.92it/s]\n"
     ]
    },
    {
     "name": "stdout",
     "output_type": "stream",
     "text": [
      "Epoch 66 average loss = 0.9251459458470345\n",
      "Генерируем текст в пропорциональном режиме\n",
      "Using random seed: ыла знать о ее неза\n",
      "----\n",
      " ыла знать о ее незаконность в состав наследства 30.\n",
      " Заявление, владельцем. При возлагают его возмещения вреда.\n",
      " 2. Специальной власти, органами уники милиции определяются на возмещению стоимости допускается, касающими  \n",
      "----\n",
      "Генерируем текст в жадном режиме (наиболее вероятные буквы)\n",
      "Using random seed: ов и (или) транспор\n"
     ]
    },
    {
     "name": "stderr",
     "output_type": "stream",
     "text": [
      "  0%|          | 3/1000 [00:00<00:45, 22.02it/s]"
     ]
    },
    {
     "name": "stdout",
     "output_type": "stream",
     "text": [
      "----\n",
      " ов и (или) транспортных средств и обязанности по причинам и при принятии решения третейского суда по делу об административного штрафа на граждан в размере от двадцати до тридцати минимальных размеров оплаты труда; на до \n",
      "----\n"
     ]
    },
    {
     "name": "stderr",
     "output_type": "stream",
     "text": [
      "100%|██████████| 1000/1000 [00:45<00:00, 21.91it/s]\n"
     ]
    },
    {
     "name": "stdout",
     "output_type": "stream",
     "text": [
      "Epoch 67 average loss = 0.9252886499166488\n",
      "Генерируем текст в пропорциональном режиме\n",
      "Using random seed: управления общество\n",
      "----\n",
      " управления обществом определяет устранении указанный срок возвращения или частично предъявить объяснения от заключения договора арендовано к теми, благотовнаты оперативного правового пологической экономической деятельно \n",
      "----\n",
      "Генерируем текст в жадном режиме (наиболее вероятные буквы)\n",
      "Using random seed: полностью или в час\n"
     ]
    },
    {
     "name": "stderr",
     "output_type": "stream",
     "text": [
      "  0%|          | 3/1000 [00:00<00:45, 22.12it/s]"
     ]
    },
    {
     "name": "stdout",
     "output_type": "stream",
     "text": [
      "----\n",
      " полностью или в части по правилам, предусмотренных статьей 11.14, частью 1 статьи 19.5, статьями 19.6, 19.7 настоящего Кодекса.\n",
      " 2. Рассматривать дела об административного штрафа на граждан в размере от десяти до двадца \n",
      "----\n"
     ]
    },
    {
     "name": "stderr",
     "output_type": "stream",
     "text": [
      "100%|██████████| 1000/1000 [00:45<00:00, 21.92it/s]\n"
     ]
    },
    {
     "name": "stdout",
     "output_type": "stream",
     "text": [
      "Epoch 68 average loss = 0.9249204362034797\n",
      "Генерируем текст в пропорциональном режиме\n",
      "Using random seed:  разумные и доступн\n",
      "----\n",
      "  разумные и доступный срок в договору запасов, заказчику должностного лица, его частниками, лотеревуда (вывезенных) – в договоре поручительством Российской Федерации о государственным контролем и используются заказчик,  \n",
      "----\n",
      "Генерируем текст в жадном режиме (наиболее вероятные буквы)\n",
      "Using random seed: ахования недействит\n"
     ]
    },
    {
     "name": "stderr",
     "output_type": "stream",
     "text": [
      "  0%|          | 3/1000 [00:00<00:45, 22.03it/s]"
     ]
    },
    {
     "name": "stdout",
     "output_type": "stream",
     "text": [
      "----\n",
      " ахования недействительность по обязательствам дела об административном правонарушении и приведении в соответствии с настоящим Кодексом и иными правовыми актами Российской Федерации и органами государственной Думы и друг \n",
      "----\n"
     ]
    },
    {
     "name": "stderr",
     "output_type": "stream",
     "text": [
      "100%|██████████| 1000/1000 [00:45<00:00, 21.94it/s]\n"
     ]
    },
    {
     "name": "stdout",
     "output_type": "stream",
     "text": [
      "Epoch 69 average loss = 0.9232493005394936\n",
      "Генерируем текст в пропорциональном режиме\n",
      "Using random seed: аходящимся в беспом\n",
      "----\n",
      " аходящимся в беспомощном идан в соответствии с законодательства на хранение в завещании без таковой, без согласия решения.\n",
      " Полных таможенных пошлин, налогов на непосредственного имущества или перемещаются лицом, находя \n",
      "----\n",
      "Генерируем текст в жадном режиме (наиболее вероятные буквы)\n",
      "Using random seed: . Правительство Рос\n"
     ]
    },
    {
     "name": "stderr",
     "output_type": "stream",
     "text": [
      "  0%|          | 3/1000 [00:00<00:45, 22.04it/s]"
     ]
    },
    {
     "name": "stdout",
     "output_type": "stream",
     "text": [
      "----\n",
      " . Правительство Российской Федерации и органа обязательства или иного органа исполнительной власти субъектов Российской Федерации и органа обязательства или иного органа исполнительной власти субъектов Российской Федера \n",
      "----\n"
     ]
    },
    {
     "name": "stderr",
     "output_type": "stream",
     "text": [
      "100%|██████████| 1000/1000 [00:45<00:00, 21.92it/s]\n"
     ]
    },
    {
     "name": "stdout",
     "output_type": "stream",
     "text": [
      "Epoch 70 average loss = 0.9212618596553802\n",
      "Генерируем текст в пропорциональном режиме\n",
      "Using random seed: ийской Федерации, –\n",
      "\n",
      "----\n",
      " ийской Федерации, –\n",
      " влечет наложение административного штрафа на граждан в размере от пяти до десятий, установленным нормативной целью разрешить оплаты багаж\n",
      "\n",
      " 1. Для подрядчику. Другим случаев, предусмотренного при про \n",
      "----\n",
      "Генерируем текст в жадном режиме (наиболее вероятные буквы)\n",
      "Using random seed: а 2002 года (Федерал\n"
     ]
    },
    {
     "name": "stderr",
     "output_type": "stream",
     "text": [
      "  0%|          | 3/1000 [00:00<00:47, 21.14it/s]"
     ]
    },
    {
     "name": "stdout",
     "output_type": "stream",
     "text": [
      "----\n",
      " а 2002 года (Федеральным законом от 20.08.2004 №118-ФЗ) \n",
      " 2. При необходимости от принятия таможенного органа или его должностным лицом в случае отказа от наследства и управления имущества или об отказе в удовлетворении  \n",
      "----\n"
     ]
    },
    {
     "name": "stderr",
     "output_type": "stream",
     "text": [
      "100%|██████████| 1000/1000 [00:47<00:00, 20.97it/s]\n"
     ]
    },
    {
     "name": "stdout",
     "output_type": "stream",
     "text": [
      "Epoch 71 average loss = 0.9062224848270416\n",
      "Генерируем текст в пропорциональном режиме\n",
      "Using random seed: авляющей кредитную и\n",
      "----\n",
      " авляющей кредитную или без таковой.\n",
      "\n",
      " Статья 12.\n",
      " 20. Способы отказа по иску в аренду ведения стоимости\n",
      "\n",
      " Недействительной или водного имущества, в том числе предусматривает права на условиях, установление заявляет жизни \n",
      "----\n",
      "Генерируем текст в жадном режиме (наиболее вероятные буквы)\n",
      "Using random seed: ния товаров;\n",
      " 4) о к\n"
     ]
    },
    {
     "name": "stderr",
     "output_type": "stream",
     "text": [
      "  0%|          | 3/1000 [00:00<00:47, 21.08it/s]"
     ]
    },
    {
     "name": "stdout",
     "output_type": "stream",
     "text": [
      "----\n",
      " ния товаров;\n",
      " 4) о количество осуществляется в соответствии с законом или договором страхования и принятие наследства и управление или наложение административного штрафа на граждан в размере от десяти до двадцати минимал \n",
      "----\n"
     ]
    },
    {
     "name": "stderr",
     "output_type": "stream",
     "text": [
      "100%|██████████| 1000/1000 [00:47<00:00, 20.97it/s]\n"
     ]
    },
    {
     "name": "stdout",
     "output_type": "stream",
     "text": [
      "Epoch 72 average loss = 0.9060617105960846\n",
      "Генерируем текст в пропорциональном режиме\n",
      "Using random seed:  лиц в размере от де\n",
      "----\n",
      "  лиц в размере от десяти до пятнадцати минимальных размеров оплаты труда; на юридического лица, – от двадцати до тридцати минимальных размеров оплаты труда.\n",
      "\n",
      " Статья 5.\n",
      " 55. Нарушение правил коммерческого и разрешения та \n",
      "----\n",
      "Генерируем текст в жадном режиме (наиболее вероятные буквы)\n",
      "Using random seed:  единых ставок тамож\n"
     ]
    },
    {
     "name": "stderr",
     "output_type": "stream",
     "text": [
      "  0%|          | 3/1000 [00:00<00:47, 21.15it/s]"
     ]
    },
    {
     "name": "stdout",
     "output_type": "stream",
     "text": [
      "----\n",
      "  единых ставок таможенных пошлин, налогов и соответствующего сообщения или представления и при применении страхования и условий договора подряда и пользование и распоряжение или представления и при применении страхования \n",
      "----\n"
     ]
    },
    {
     "name": "stderr",
     "output_type": "stream",
     "text": [
      "100%|██████████| 1000/1000 [00:47<00:00, 20.97it/s]\n"
     ]
    },
    {
     "name": "stdout",
     "output_type": "stream",
     "text": [
      "Epoch 73 average loss = 0.9047227685451508\n",
      "Генерируем текст в пропорциональном режиме\n",
      "Using random seed: а, а также проживающ\n",
      "----\n",
      " а, а также проживающих дело об административного правонарушения, должностные лица таможенные органы в указанных в части, а также признания его прав.\n",
      " 5. Нарушение правил, предусмотренных частью 1 статьи 4 Федерального за \n",
      "----\n",
      "Генерируем текст в жадном режиме (наиболее вероятные буквы)\n",
      "Using random seed:  видео– или фотокадр\n"
     ]
    },
    {
     "name": "stderr",
     "output_type": "stream",
     "text": [
      "  0%|          | 3/1000 [00:00<00:47, 21.13it/s]"
     ]
    },
    {
     "name": "stdout",
     "output_type": "stream",
     "text": [
      "----\n",
      "  видео– или фотокадрованных в пункте 1 настоящей статьи, вправе отказаться от исполнения обязательства и принятие наследства и принятии к рассмотрению жалобы о признании не предусмотрено договором строительного подряда п \n",
      "----\n"
     ]
    },
    {
     "name": "stderr",
     "output_type": "stream",
     "text": [
      "100%|██████████| 1000/1000 [00:47<00:00, 20.95it/s]\n"
     ]
    },
    {
     "name": "stdout",
     "output_type": "stream",
     "text": [
      "Epoch 74 average loss = 0.9021903633475303\n",
      "Генерируем текст в пропорциональном режиме\n",
      "Using random seed: ельства, если иное н\n",
      "----\n",
      " ельства, если иное не предусмотрено законом экономической деятельности не допускается у заключения договора.\n",
      " 2. Если по только в случаях, когда назначенном для работы или частью от имущество не может постановив и иных у \n",
      "----\n",
      "Генерируем текст в жадном режиме (наиболее вероятные буквы)\n",
      "Using random seed:  этом заявлении указ\n"
     ]
    },
    {
     "name": "stderr",
     "output_type": "stream",
     "text": [
      "  0%|          | 3/1000 [00:00<00:47, 21.12it/s]"
     ]
    },
    {
     "name": "stdout",
     "output_type": "stream",
     "text": [
      "----\n",
      "  этом заявлении указанных в пункте 1 настоящей статьи и статьей 11.1 – 11.13, частями 1 и 2 статьи 11.19 настоящего Кодекса.\n",
      " 2. Рассматривать дела об административном правонарушении выпуска товаров и (или) транспортных  \n",
      "----\n"
     ]
    },
    {
     "name": "stderr",
     "output_type": "stream",
     "text": [
      "100%|██████████| 1000/1000 [00:47<00:00, 20.96it/s]\n"
     ]
    },
    {
     "name": "stdout",
     "output_type": "stream",
     "text": [
      "Epoch 75 average loss = 0.9008997928500175\n",
      "Генерируем текст в пропорциональном режиме\n",
      "Using random seed: ны, где в основном со\n",
      "----\n",
      " ны, где в основном сообщать определенные может быть наказания.\n",
      " 2. Подключения бытовой деятельности. Передача перед третьиминарная патрулирования недействительности;\n",
      " 3) наименование суда, углашаться уроместонимальные тов \n",
      "----\n",
      "Генерируем текст в жадном режиме (наиболее вероятные буквы)\n",
      "Using random seed: ной власти и органы м\n"
     ]
    },
    {
     "name": "stderr",
     "output_type": "stream",
     "text": [
      "  0%|          | 3/1000 [00:00<00:49, 20.25it/s]"
     ]
    },
    {
     "name": "stdout",
     "output_type": "stream",
     "text": [
      "----\n",
      " ной власти и органы местного самоуправления и принятии к рассмотрению жалобы на решение, действие (бездействие) таможенного органа или его должностного лица таможенного органа или его должностного лица таможенного органа  \n",
      "----\n"
     ]
    },
    {
     "name": "stderr",
     "output_type": "stream",
     "text": [
      "100%|██████████| 1000/1000 [00:50<00:00, 20.11it/s]\n"
     ]
    },
    {
     "name": "stdout",
     "output_type": "stream",
     "text": [
      "Epoch 76 average loss = 0.8861060855984688\n",
      "Генерируем текст в пропорциональном режиме\n",
      "Using random seed: одлежит применению в \n",
      "----\n",
      " одлежит применению в этом или вносить форме.\n",
      " О провести при передачи обязательства по пошлин, его заместителю лицом лицом.\n",
      "\n",
      " § 3. Предварительных пожертительными федеральное министерство по праву представления.\n",
      "\n",
      " Статья  \n",
      "----\n",
      "Генерируем текст в жадном режиме (наиболее вероятные буквы)\n",
      "Using random seed: ь вправе потребовать \n"
     ]
    },
    {
     "name": "stderr",
     "output_type": "stream",
     "text": [
      "  0%|          | 3/1000 [00:00<00:49, 20.30it/s]"
     ]
    },
    {
     "name": "stdout",
     "output_type": "stream",
     "text": [
      "----\n",
      " ь вправе потребовать от права собственности на срок до девяноста суток.\n",
      "  (в ред. Федерального закона от 29.06.2004 №58-ФЗ) \n",
      " 2. Рассматривать дела об административном правонарушении выпуска товаров и (или) транспортных с \n",
      "----\n"
     ]
    },
    {
     "name": "stderr",
     "output_type": "stream",
     "text": [
      "100%|██████████| 1000/1000 [00:49<00:00, 20.08it/s]\n"
     ]
    },
    {
     "name": "stdout",
     "output_type": "stream",
     "text": [
      "Epoch 77 average loss = 0.8882315125465393\n",
      "Генерируем текст в пропорциональном режиме\n",
      "Using random seed: едении таможенного ко\n",
      "----\n",
      " едении таможенного контроля либо передачи таможенный транзит.\n",
      "\n",
      " Статья 397.\n",
      " Товары, обзаимодам, регулирующих регистрации инвалидами акта и без рассмотрения заявления о назначении административный арест на сформируется по \n",
      "----\n",
      "Генерируем текст в жадном режиме (наиболее вероятные буквы)\n",
      "Using random seed: ита в пределах срока,\n"
     ]
    },
    {
     "name": "stderr",
     "output_type": "stream",
     "text": [
      "  0%|          | 3/1000 [00:00<00:49, 20.23it/s]"
     ]
    },
    {
     "name": "stdout",
     "output_type": "stream",
     "text": [
      "----\n",
      " ита в пределах срока, установленных в соответствии с законодательством Российской Федерации о государственной регистрации и принимается на основе подписание и принятия наследства и управления им при наличии обстоятельства \n",
      "----\n"
     ]
    },
    {
     "name": "stderr",
     "output_type": "stream",
     "text": [
      "100%|██████████| 1000/1000 [00:49<00:00, 20.08it/s]\n"
     ]
    },
    {
     "name": "stdout",
     "output_type": "stream",
     "text": [
      "Epoch 78 average loss = 0.8866707645058632\n",
      "Генерируем текст в пропорциональном режиме\n",
      "Using random seed:  осмотра вещи или про\n",
      "----\n",
      "  осмотра вещи или профессиональному состоянием судах), а равно совершение непреодолимой силы.\n",
      " 4. На, указанном в наступил, что действия.\n",
      " 4. Безотзывная отходы при этом в течение шести месяцев в виде судебного применения \n",
      "----\n",
      "Генерируем текст в жадном режиме (наиболее вероятные буквы)\n",
      "Using random seed: 5 №45-ФЗ) \n",
      " влечет ди\n"
     ]
    },
    {
     "name": "stderr",
     "output_type": "stream",
     "text": [
      "  0%|          | 3/1000 [00:00<00:49, 20.22it/s]"
     ]
    },
    {
     "name": "stdout",
     "output_type": "stream",
     "text": [
      "----\n",
      " 5 №45-ФЗ) \n",
      " влечет дисквалифицированных случаях и в порядке, установленными в настоящей статьи, вправе:\n",
      " 1) руководителем и при проведении таможенных пошлин, налогов в соответствии с законодательством Российской Федерации \n",
      "----\n"
     ]
    },
    {
     "name": "stderr",
     "output_type": "stream",
     "text": [
      "100%|██████████| 1000/1000 [00:49<00:00, 20.05it/s]\n"
     ]
    },
    {
     "name": "stdout",
     "output_type": "stream",
     "text": [
      "Epoch 79 average loss = 0.8848314895033836\n",
      "Генерируем текст в пропорциональном режиме\n",
      "Using random seed: арищества.\n",
      " Расчеты с\n",
      "----\n",
      " арищества.\n",
      " Расчеты с пряжением компетенции по делу об административных ситом товаров, продажа после истечение срока прекращения к водном же или об отказе на которых не пожертвованного имущества краявки в случаях, предусм \n",
      "----\n",
      "Генерируем текст в жадном режиме (наиболее вероятные буквы)\n",
      "Using random seed:  перечень должностей \n"
     ]
    },
    {
     "name": "stderr",
     "output_type": "stream",
     "text": [
      "  0%|          | 3/1000 [00:00<00:49, 20.29it/s]"
     ]
    },
    {
     "name": "stdout",
     "output_type": "stream",
     "text": [
      "----\n",
      "  перечень должностей и принятие наследства и управления транспортных средств и (или) транспортных средств и (или) транспортных средств и (или) транспортных средств и (или) транспортных средств и (или) транспортных средств \n",
      "----\n"
     ]
    },
    {
     "name": "stderr",
     "output_type": "stream",
     "text": [
      "100%|██████████| 1000/1000 [00:49<00:00, 20.08it/s]\n"
     ]
    },
    {
     "name": "stdout",
     "output_type": "stream",
     "text": [
      "Epoch 80 average loss = 0.885021842777729\n",
      "Генерируем текст в пропорциональном режиме\n",
      "Using random seed: чу или повреждение сво\n",
      "----\n",
      " чу или повреждение своей деятельность, сведений патруля. Замена его декларировании товаров, без вести приобретения обстоятельств, помещение;\n",
      " 3) наличных полное или составления недвижимости дать в состояние.\n",
      " Консультант,  \n",
      "----\n",
      "Генерируем текст в жадном режиме (наиболее вероятные буквы)\n",
      "Using random seed: министративных правона\n"
     ]
    },
    {
     "name": "stderr",
     "output_type": "stream",
     "text": [
      "  0%|          | 2/1000 [00:00<00:51, 19.50it/s]"
     ]
    },
    {
     "name": "stdout",
     "output_type": "stream",
     "text": [
      "----\n",
      " министративных правонарушениях, предусмотренных статьями 19.6, 19.7 настоящего Кодекса.\n",
      " 2. Рассматривать дела об административном правонарушении, в течение трех лет со дня получения таможенного органа или его должностного \n",
      "----\n"
     ]
    },
    {
     "name": "stderr",
     "output_type": "stream",
     "text": [
      "100%|██████████| 1000/1000 [00:51<00:00, 19.33it/s]\n"
     ]
    },
    {
     "name": "stdout",
     "output_type": "stream",
     "text": [
      "Epoch 81 average loss = 0.8694028645157814\n",
      "Генерируем текст в пропорциональном режиме\n",
      "Using random seed: одписанному представит\n",
      "----\n",
      " одписанному представителям и пресечению предварительного разрешения Российской Федерации.\n",
      "\n",
      " 182\n",
      "\n",
      " При отсутствии таких товаров законом или в установленном заседания и другого состава и образца –\n",
      " влечет наложение администр \n",
      "----\n",
      "Генерируем текст в жадном режиме (наиболее вероятные буквы)\n",
      "Using random seed: осмотр транспортного с\n"
     ]
    },
    {
     "name": "stderr",
     "output_type": "stream",
     "text": [
      "  0%|          | 2/1000 [00:00<00:51, 19.55it/s]"
     ]
    },
    {
     "name": "stdout",
     "output_type": "stream",
     "text": [
      "----\n",
      " осмотр транспортного средства и принятие наследства и управление обязательства по делу об административном правонарушении, принадлежащим образом заполненной территории Российской Федерации о государственной регистрации и т \n",
      "----\n"
     ]
    },
    {
     "name": "stderr",
     "output_type": "stream",
     "text": [
      "100%|██████████| 1000/1000 [00:51<00:00, 19.18it/s]\n"
     ]
    },
    {
     "name": "stdout",
     "output_type": "stream",
     "text": [
      "Epoch 82 average loss = 0.8700721878409385\n",
      "Генерируем текст в пропорциональном режиме\n",
      "Using random seed:  участка, если это не \n",
      "----\n",
      "  участка, если это не допускается в арбитражном суде в случаях, доверенности договором возмещения отсрочки уплате товаров под таможенным органом в соответствии с настоящим Кодексом присутствующего исключительно или иное.\n",
      "  \n",
      "----\n",
      "Генерируем текст в жадном режиме (наиболее вероятные буквы)\n",
      "Using random seed: е. Перемещение веществ\n"
     ]
    },
    {
     "name": "stderr",
     "output_type": "stream",
     "text": [
      "  0%|          | 2/1000 [00:00<00:51, 19.36it/s]"
     ]
    },
    {
     "name": "stdout",
     "output_type": "stream",
     "text": [
      "----\n",
      " е. Перемещение вещественных доказательства, принятые в соответствии с настоящим Кодексом или договором Российской Федерации и обязанностей по причинам, не предусмотрено договором купли-продажи предприятия или по проведению \n",
      "----\n"
     ]
    },
    {
     "name": "stderr",
     "output_type": "stream",
     "text": [
      "100%|██████████| 1000/1000 [00:51<00:00, 19.31it/s]\n"
     ]
    },
    {
     "name": "stdout",
     "output_type": "stream",
     "text": [
      "Epoch 83 average loss = 0.8680647040009498\n",
      "Генерируем текст в пропорциональном режиме\n",
      "Using random seed: акже на товары, перево\n",
      "----\n",
      " акже на товары, перевозку грузов облигация в натуре взыскателя во время задатке могут вытекает разгосударственной Думы;\n",
      " 19) других» поступившие в Российской Федерации на поступающих вещи и имеющие помещается суммы несовер \n",
      "----\n",
      "Генерируем текст в жадном режиме (наиболее вероятные буквы)\n",
      "Using random seed: уществляется на основе\n"
     ]
    },
    {
     "name": "stderr",
     "output_type": "stream",
     "text": [
      "  0%|          | 2/1000 [00:00<00:51, 19.48it/s]"
     ]
    },
    {
     "name": "stdout",
     "output_type": "stream",
     "text": [
      "----\n",
      " уществляется на основе выплаты договора подряда и подается в случае необходимости при условии, что они не предусмотрено договором купли-продажи предусмотренных статьей 11.14 (об отсутствии документов и сведений, указанных  \n",
      "----\n"
     ]
    },
    {
     "name": "stderr",
     "output_type": "stream",
     "text": [
      "100%|██████████| 1000/1000 [00:51<00:00, 19.30it/s]\n"
     ]
    },
    {
     "name": "stdout",
     "output_type": "stream",
     "text": [
      "Epoch 84 average loss = 0.866956915974617\n",
      "Генерируем текст в пропорциональном режиме\n",
      "Using random seed: .1 введен Федеральным \n",
      "----\n",
      " .1 введен Федеральным законом.\n",
      "\n",
      " Статья 27.\n",
      " Срок исковой давности, строительного и учреждения нормального обозначения земельным участком;\n",
      " смотренные статьи.\n",
      " 2. Сторону не являющееся ими таможенного экземпляра, предусмот \n",
      "----\n",
      "Генерируем текст в жадном режиме (наиболее вероятные буквы)\n",
      "Using random seed:  ста минимальных разме\n"
     ]
    },
    {
     "name": "stderr",
     "output_type": "stream",
     "text": [
      "  0%|          | 2/1000 [00:00<00:51, 19.48it/s]"
     ]
    },
    {
     "name": "stdout",
     "output_type": "stream",
     "text": [
      "----\n",
      "  ста минимальных размеров оплаты труда.\n",
      "\n",
      " Статья 19.\n",
      " 10. Нарушение правил проведения производства по делу об административном правонарушении, принятых таможенный орган представления ими предпринимательской деятельности на \n",
      "----\n"
     ]
    },
    {
     "name": "stderr",
     "output_type": "stream",
     "text": [
      "100%|██████████| 1000/1000 [00:51<00:00, 19.28it/s]\n"
     ]
    },
    {
     "name": "stdout",
     "output_type": "stream",
     "text": [
      "Epoch 85 average loss = 0.8646893859505653\n",
      "Генерируем текст в пропорциональном режиме\n",
      "Using random seed: еративом от предпринима\n",
      "----\n",
      " еративом от предпринимательского риск отстранене находящееся и доли в установленном настоящей главы не рассматривающая ным лем), если иной подрядчиком валютного хранения декларанта или одновременно с должностным лицом, указ \n",
      "----\n",
      "Генерируем текст в жадном режиме (наиболее вероятные буквы)\n",
      "Using random seed: д отменительным условие\n"
     ]
    },
    {
     "name": "stderr",
     "output_type": "stream",
     "text": [
      "  0%|          | 2/1000 [00:00<00:52, 18.86it/s]"
     ]
    },
    {
     "name": "stdout",
     "output_type": "stream",
     "text": [
      "----\n",
      " д отменительным условием или постановки или судом недействительность сделки подлежат возмещению в соответствии с законодательством Российской Федерации и федеральным законом от 02.07.2005 №80-ФЗ) \n",
      " 2. При проведении таможен \n",
      "----\n"
     ]
    },
    {
     "name": "stderr",
     "output_type": "stream",
     "text": [
      "100%|██████████| 1000/1000 [00:53<00:00, 18.71it/s]\n"
     ]
    },
    {
     "name": "stdout",
     "output_type": "stream",
     "text": [
      "Epoch 86 average loss = 0.8541800208687782\n",
      "Генерируем текст в пропорциональном режиме\n",
      "Using random seed: сяти пяти лет и мужчина\n",
      "----\n",
      " сяти пяти лет и мужчинам, радиоактивной обжилией (пункт 2 статьи 1865 настоящего Кодекса, наследодателю, более 45 настоящего Кодекса;\n",
      " 56) чуводей), а также приобретателя), либо подписки, выкуп доводы членов административны \n",
      "----\n",
      "Генерируем текст в жадном режиме (наиболее вероятные буквы)\n",
      "Using random seed: аждому преступлению, со\n"
     ]
    },
    {
     "name": "stderr",
     "output_type": "stream",
     "text": [
      "  0%|          | 2/1000 [00:00<00:53, 18.82it/s]"
     ]
    },
    {
     "name": "stdout",
     "output_type": "stream",
     "text": [
      "----\n",
      " аждому преступлению, сооружений, осуществляющих предпринимательской деятельности на срок до девяноста суток.\n",
      "  (в ред. Федерального закона от 29.06.2004 №58-ФЗ) \n",
      " 2. Разрешением суда по делу об административном правонарушен \n",
      "----\n"
     ]
    },
    {
     "name": "stderr",
     "output_type": "stream",
     "text": [
      "100%|██████████| 1000/1000 [00:53<00:00, 18.72it/s]\n"
     ]
    },
    {
     "name": "stdout",
     "output_type": "stream",
     "text": [
      "Epoch 87 average loss = 0.8521632102131843\n",
      "Генерируем текст в пропорциональном режиме\n",
      "Using random seed: ы на склад временного х\n",
      "----\n",
      " ы на склад временного хранения могут своих руководство не следует, что их округов по хотя работы, не указывается препятствует общим сведения судом в полном объеме или должностные лица, – от пяти до десяти минимальных размер \n",
      "----\n",
      "Генерируем текст в жадном режиме (наиболее вероятные буквы)\n",
      "Using random seed: енная в результате охот\n"
     ]
    },
    {
     "name": "stderr",
     "output_type": "stream",
     "text": [
      "  0%|          | 2/1000 [00:00<00:53, 18.73it/s]"
     ]
    },
    {
     "name": "stdout",
     "output_type": "stream",
     "text": [
      "----\n",
      " енная в результате охотники и при наличии у него должностного лица таможенного органа или лица, участвующих в деле, и иным представителем на срок до девяноста суток.\n",
      "  (в ред. Федерального закона от 29.06.2004 №58-ФЗ) \n",
      " 2.  \n",
      "----\n"
     ]
    },
    {
     "name": "stderr",
     "output_type": "stream",
     "text": [
      "100%|██████████| 1000/1000 [00:53<00:00, 18.68it/s]\n"
     ]
    },
    {
     "name": "stdout",
     "output_type": "stream",
     "text": [
      "Epoch 88 average loss = 0.8524748354554176\n",
      "Генерируем текст в пропорциональном режиме\n",
      "Using random seed: нных товариществ и обще\n",
      "----\n",
      " нных товариществ и общества обязательства товаров, не являлись обстоятельствам предоставленных признаков. Однако досрочки и передачи проб и образцов и багажа на весь товар» отказаться от должника, документах, если участок,  \n",
      "----\n",
      "Генерируем текст в жадном режиме (наиболее вероятные буквы)\n",
      "Using random seed: о Кодекса.\n",
      " 2. Рассматр\n"
     ]
    },
    {
     "name": "stderr",
     "output_type": "stream",
     "text": [
      "  0%|          | 2/1000 [00:00<00:52, 18.90it/s]"
     ]
    },
    {
     "name": "stdout",
     "output_type": "stream",
     "text": [
      "----\n",
      " о Кодекса.\n",
      " 2. Рассматривать дела об административном правонарушении и приведении в порядке, установленном порядке после выпуска товаров и транспортных средств и огнестрельного оружия и привлечении к административной ответс \n",
      "----\n"
     ]
    },
    {
     "name": "stderr",
     "output_type": "stream",
     "text": [
      "100%|██████████| 1000/1000 [00:53<00:00, 18.74it/s]\n"
     ]
    },
    {
     "name": "stdout",
     "output_type": "stream",
     "text": [
      "Epoch 89 average loss = 0.8503292194604873\n",
      "Генерируем текст в пропорциональном режиме\n",
      "Using random seed: ство, подлежащее возвра\n",
      "----\n",
      " ство, подлежащее возврате информации.\n",
      "\n",
      " Статья 217.\n",
      " Объединение, если иное не применяются, если не подлежат уплате таможенному органу.\n",
      " Таможенным пошлиные осуществляться в таможенные органы без обязанностей как должен сиг \n",
      "----\n",
      "Генерируем текст в жадном режиме (наиболее вероятные буквы)\n",
      "Using random seed: для государственных нуж\n"
     ]
    },
    {
     "name": "stderr",
     "output_type": "stream",
     "text": [
      "  0%|          | 2/1000 [00:00<00:52, 18.90it/s]"
     ]
    },
    {
     "name": "stdout",
     "output_type": "stream",
     "text": [
      "----\n",
      " для государственных нужд и проверяет обязанности по уплате таможенных пошлин, налогов в соответствии с законодательством Российской Федерации и принимаемые при проведении таможенному органу или повреждения продавца передачи \n",
      "----\n"
     ]
    },
    {
     "name": "stderr",
     "output_type": "stream",
     "text": [
      "100%|██████████| 1000/1000 [00:53<00:00, 18.73it/s]\n"
     ]
    },
    {
     "name": "stdout",
     "output_type": "stream",
     "text": [
      "Epoch 90 average loss = 0.8469806249737739\n",
      "Генерируем текст в пропорциональном режиме\n",
      "Using random seed: ие указания не противоре\n",
      "----\n",
      " ие указания не противоречит условиям договором.\n",
      " 6. Положения государства, либо по контролю за полномочной международные происшествия и ввозе с таможенному режиму выдать объяснения в присутствии принятых по сертификационного \n",
      "----\n",
      "Генерируем текст в жадном режиме (наиболее вероятные буквы)\n",
      "Using random seed: , страховых взносов, дру\n"
     ]
    },
    {
     "name": "stderr",
     "output_type": "stream",
     "text": [
      "  0%|          | 2/1000 [00:00<00:54, 18.21it/s]"
     ]
    },
    {
     "name": "stdout",
     "output_type": "stream",
     "text": [
      "----\n",
      " , страховых взносов, других сотрудников милиции и соответствующего вида и принятия решения о признании не предусмотрено договором поставки товаров под таможенным контролем, и принятыми товарами, предусмотренных статьями 11.1 \n",
      "----\n"
     ]
    },
    {
     "name": "stderr",
     "output_type": "stream",
     "text": [
      "100%|██████████| 1000/1000 [00:55<00:00, 18.07it/s]\n"
     ]
    },
    {
     "name": "stdout",
     "output_type": "stream",
     "text": [
      "Epoch 91 average loss = 0.8404321821331978\n",
      "Генерируем текст в пропорциональном режиме\n",
      "Using random seed: ФЗ) \n",
      " 1. Нарушение должн\n",
      "----\n",
      " ФЗ) \n",
      " 1. Нарушение должностные лица органов, удостоверения.\n",
      " 2. В случае предъявление товаров и содержат сохранительные условия пользования.\n",
      "\n",
      " Статья 841.\n",
      " Подача отсутствующих обязанности, установленным сдексу от участия в  \n",
      "----\n",
      "Генерируем текст в жадном режиме (наиболее вероятные буквы)\n",
      "Using random seed: ие административного штр\n"
     ]
    },
    {
     "name": "stderr",
     "output_type": "stream",
     "text": [
      "  0%|          | 2/1000 [00:00<00:54, 18.25it/s]"
     ]
    },
    {
     "name": "stdout",
     "output_type": "stream",
     "text": [
      "----\n",
      " ие административного штрафа на граждан в размере от десяти до двадцати минимальных размеров оплаты труда; на должностных лиц – от двадцати до тридцати минимальных размеров оплаты труда; на должностных лиц – от двадцати до тр \n",
      "----\n"
     ]
    },
    {
     "name": "stderr",
     "output_type": "stream",
     "text": [
      "100%|██████████| 1000/1000 [00:55<00:00, 18.11it/s]\n"
     ]
    },
    {
     "name": "stdout",
     "output_type": "stream",
     "text": [
      "Epoch 92 average loss = 0.8386535621881485\n",
      "Генерируем текст в пропорциональном режиме\n",
      "Using random seed: нимальных размеров оплат\n",
      "----\n",
      " нимальных размеров оплаты труда; на должностных лиц, осуществляющих государственного кодекса РФ иные обязательства, а также другим лицам, указанными в пункте 3 статьи 19.3, частью 1 статьи 19.5, статьями 397 – 4 статьи 13.19 \n",
      "----\n",
      "Генерируем текст в жадном режиме (наиболее вероятные буквы)\n",
      "Using random seed: ссийской Федерации о Гос\n"
     ]
    },
    {
     "name": "stderr",
     "output_type": "stream",
     "text": [
      "  0%|          | 2/1000 [00:00<00:54, 18.25it/s]"
     ]
    },
    {
     "name": "stdout",
     "output_type": "stream",
     "text": [
      "----\n",
      " ссийской Федерации о Государственной Думы и других лиц, участвующих в деле, и иными правовыми актами или договором поставки товаров и транспортных средств и огнестрельного оружия и принятие наследства и управление в соответс \n",
      "----\n"
     ]
    },
    {
     "name": "stderr",
     "output_type": "stream",
     "text": [
      "100%|██████████| 1000/1000 [00:55<00:00, 18.05it/s]\n"
     ]
    },
    {
     "name": "stdout",
     "output_type": "stream",
     "text": [
      "Epoch 93 average loss = 0.8376151400208474\n",
      "Генерируем текст в пропорциональном режиме\n",
      "Using random seed: аможенного дела, преслед\n",
      "----\n",
      " аможенного дела, преследованию.\n",
      " 3. Держание внесения списанных республик, право на объекты и смерти, сервитутом продуктов переработки между долета с заявлением о передаче, выполнение работы, представителя, находящегося при  \n",
      "----\n",
      "Генерируем текст в жадном режиме (наиболее вероятные буквы)\n",
      "Using random seed: 08.2004 №118-ФЗ) \n",
      " 2. Ра\n"
     ]
    },
    {
     "name": "stderr",
     "output_type": "stream",
     "text": [
      "  0%|          | 2/1000 [00:00<00:54, 18.24it/s]"
     ]
    },
    {
     "name": "stdout",
     "output_type": "stream",
     "text": [
      "----\n",
      " 08.2004 №118-ФЗ) \n",
      " 2. Рассматривать дела об административном правонарушении, в том числе в случае необходимости при определении о признании не предусмотрено договором подряда и обязанности по обязательствам собственника в со \n",
      "----\n"
     ]
    },
    {
     "name": "stderr",
     "output_type": "stream",
     "text": [
      "100%|██████████| 1000/1000 [00:55<00:00, 18.08it/s]\n"
     ]
    },
    {
     "name": "stdout",
     "output_type": "stream",
     "text": [
      "Epoch 94 average loss = 0.8337174328565597\n",
      "Генерируем текст в пропорциональном режиме\n",
      "Using random seed: ца), изготовившей и зака\n",
      "----\n",
      " ца), изготовившей и закально обратившемуся предъявлено расКоплаванное лицо, не лишает лиц, помещенных надлежит вынесению федеральным министерством, уполномоченному представителю такому лицу.\n",
      " Изделительном поверенном вклада  \n",
      "----\n",
      "Генерируем текст в жадном режиме (наиболее вероятные буквы)\n",
      "Using random seed: следующего содержания:\n",
      " \n"
     ]
    },
    {
     "name": "stderr",
     "output_type": "stream",
     "text": [
      "  0%|          | 2/1000 [00:00<00:54, 18.24it/s]"
     ]
    },
    {
     "name": "stdout",
     "output_type": "stream",
     "text": [
      "----\n",
      " следующего содержания:\n",
      " 1) об объеме потребления и представление от уплаты таможенных пошлин, налогов в соответствии с законодательством Российской Федерации о государственном регулировании внешнеторговой деятельности на сро \n",
      "----\n"
     ]
    },
    {
     "name": "stderr",
     "output_type": "stream",
     "text": [
      "100%|██████████| 1000/1000 [00:55<00:00, 18.08it/s]\n"
     ]
    },
    {
     "name": "stdout",
     "output_type": "stream",
     "text": [
      "Epoch 95 average loss = 0.834138716161251\n",
      "Генерируем текст в пропорциональном режиме\n",
      "Using random seed:  участники арбитражного п\n",
      "----\n",
      "  участники арбитражного процесса.\n",
      " 3. Размер процессуального права наряда соблюдения экспертизы, имеющего государственном регулировании внешнеторговой деятельности предпринимательскую и иную ответственности\n",
      "\n",
      "\n",
      " Статья 14.\n",
      " 10. \n",
      "----\n",
      "Генерируем текст в жадном режиме (наиболее вероятные буквы)\n",
      "Using random seed: ленных правил –\n",
      " влечет н\n"
     ]
    },
    {
     "name": "stderr",
     "output_type": "stream",
     "text": [
      "  0%|          | 2/1000 [00:00<00:56, 17.52it/s]"
     ]
    },
    {
     "name": "stdout",
     "output_type": "stream",
     "text": [
      "----\n",
      " ленных правил –\n",
      " влечет наложение административного штрафа на граждан в размере от десяти до двадцати минимальных размеров оплаты труда; на должностных лиц – от двадцати до тридцати минимальных размеров оплаты труда; на должн \n",
      "----\n"
     ]
    },
    {
     "name": "stderr",
     "output_type": "stream",
     "text": [
      "100%|██████████| 1000/1000 [00:57<00:00, 17.38it/s]\n"
     ]
    },
    {
     "name": "stdout",
     "output_type": "stream",
     "text": [
      "Epoch 96 average loss = 0.823205913901329\n",
      "Генерируем текст в пропорциональном режиме\n",
      "Using random seed: ;\n",
      " 4) сведения о помещени\n",
      "----\n",
      " ;\n",
      " 4) сведения о помещение в них прав и заключенном самих и страхование таможен представлять исполнительной кния определяются на срок до трех лет.\n",
      " 2. Срок удостоверения дела бы страны, течение пятнадцати суток, представителя \n",
      "----\n",
      "Генерируем текст в жадном режиме (наиболее вероятные буквы)\n",
      "Using random seed: следующего за днем оконча\n"
     ]
    },
    {
     "name": "stderr",
     "output_type": "stream",
     "text": [
      "  0%|          | 2/1000 [00:00<00:56, 17.51it/s]"
     ]
    },
    {
     "name": "stdout",
     "output_type": "stream",
     "text": [
      "----\n",
      " следующего за днем окончания срока подачи таможенного органа или лицом, уполномоченным в области таможенного дела, и федеральным законом от 21.07.2005 №93-ФЗ) \n",
      " влечет наложение административного штрафа на граждан в размере о \n",
      "----\n"
     ]
    },
    {
     "name": "stderr",
     "output_type": "stream",
     "text": [
      "100%|██████████| 1000/1000 [00:57<00:00, 17.40it/s]\n"
     ]
    },
    {
     "name": "stdout",
     "output_type": "stream",
     "text": [
      "Epoch 97 average loss = 0.824037802040577\n",
      "Генерируем текст в пропорциональном режиме\n",
      "Using random seed: риальных пограничных орга\n",
      "----\n",
      " риальных пограничных органов государственного контроля и по цене в порядке административное приостановление; \n",
      " 7) о признании не предъявляемых платеж завещателя) изменения в действие части уплаты ренты в исполнении расходов н \n",
      "----\n",
      "Генерируем текст в жадном режиме (наиболее вероятные буквы)\n",
      "Using random seed: и, убеждений, принадлежно\n"
     ]
    },
    {
     "name": "stderr",
     "output_type": "stream",
     "text": [
      "  0%|          | 2/1000 [00:00<00:57, 17.49it/s]"
     ]
    },
    {
     "name": "stdout",
     "output_type": "stream",
     "text": [
      "----\n",
      " и, убеждений, принадлежности и ответственности за совершение административного штрафа на граждан в размере от десяти до пятнадцати минимальных размеров оплаты труда.\n",
      "\n",
      " Статья 11.\n",
      " 2. Нарушение правил проведения таможенного ор \n",
      "----\n"
     ]
    },
    {
     "name": "stderr",
     "output_type": "stream",
     "text": [
      "100%|██████████| 1000/1000 [00:57<00:00, 17.37it/s]\n"
     ]
    },
    {
     "name": "stdout",
     "output_type": "stream",
     "text": [
      "Epoch 98 average loss = 0.8212913789153099\n",
      "Генерируем текст в пропорциональном режиме\n",
      "Using random seed: мущество права собственно\n",
      "----\n",
      " мущество права собственности и оформлении денежной компенсация до начальнику работ, 19, несут обязанность наследодателя суда, и срок может наследства, по желанию запрещена.\n",
      " 2. Вредных брокеров (представитель) вправе как удов \n",
      "----\n",
      "Генерируем текст в жадном режиме (наиболее вероятные буквы)\n",
      "Using random seed: дан, нуждающихся в опеке \n"
     ]
    },
    {
     "name": "stderr",
     "output_type": "stream",
     "text": [
      "  0%|          | 2/1000 [00:00<00:56, 17.54it/s]"
     ]
    },
    {
     "name": "stdout",
     "output_type": "stream",
     "text": [
      "----\n",
      " дан, нуждающихся в опеке и попечительства и при проведении таможенного органа или его должностного лица в соответствии с законодательством Российской Федерации и представление от уплаты таможенных пошлин, налогов производится \n",
      "----\n"
     ]
    },
    {
     "name": "stderr",
     "output_type": "stream",
     "text": [
      "100%|██████████| 1000/1000 [00:57<00:00, 17.37it/s]\n"
     ]
    },
    {
     "name": "stdout",
     "output_type": "stream",
     "text": [
      "Epoch 99 average loss = 0.8202373579740524\n",
      "Генерируем текст в пропорциональном режиме\n",
      "Using random seed: ования места происхождени\n",
      "----\n",
      " ования места происхождения, по которому превышает измерения личность, Уклоненты условиях обеспечить эксплуатации государственных знаков в связи, или съемного кузова к секретаряемыми вред другими вкладочному обращению в арбитр \n",
      "----\n",
      "Генерируем текст в жадном режиме (наиболее вероятные буквы)\n",
      "Using random seed: а.\n",
      "\n",
      " Статья 19.\n",
      " Привлече\n"
     ]
    },
    {
     "name": "stderr",
     "output_type": "stream",
     "text": [
      "  0%|          | 2/1000 [00:00<00:56, 17.54it/s]"
     ]
    },
    {
     "name": "stdout",
     "output_type": "stream",
     "text": [
      "----\n",
      " а.\n",
      "\n",
      " Статья 19.\n",
      " Привлечение и при наличии обстоятельства, предусмотренных частью 1 статьи 19.5, статьями 19.6, 19.7 настоящего Кодекса.\n",
      " 2. Рассматривать дела об административных правонарушениях, предусмотренных частью 1 ста \n",
      "----\n"
     ]
    },
    {
     "name": "stderr",
     "output_type": "stream",
     "text": [
      "100%|██████████| 1000/1000 [00:57<00:00, 17.38it/s]\n"
     ]
    },
    {
     "name": "stdout",
     "output_type": "stream",
     "text": [
      "Epoch 100 average loss = 0.8201379034519195\n",
      "Генерируем текст в пропорциональном режиме\n",
      "Using random seed: ание в виде лишения права \n",
      "----\n",
      " ание в виде лишения права собственности, помещается в соответствии с настоящим Кодексом или иным способом и принять его исполнения, а также о замене недостающих документы –\n",
      " влечет наложение административного штрафа организаци \n",
      "----\n",
      "Генерируем текст в жадном режиме (наиболее вероятные буквы)\n",
      "Using random seed:  подтверждающие, и предста\n"
     ]
    },
    {
     "name": "stderr",
     "output_type": "stream",
     "text": [
      "  0%|          | 2/1000 [00:00<00:58, 16.94it/s]"
     ]
    },
    {
     "name": "stdout",
     "output_type": "stream",
     "text": [
      "----\n",
      "  подтверждающие, и представление о принятии к рассмотрению жалобы о проверке конституционного Суда РФ от 12.04.1995 №2-П. \n",
      "\n",
      " Статья 1144.\n",
      " Право на получение в соответствии с законодательством Российской Федерации и в связи с  \n",
      "----\n"
     ]
    },
    {
     "name": "stderr",
     "output_type": "stream",
     "text": [
      "100%|██████████| 1000/1000 [00:59<00:00, 16.79it/s]\n"
     ]
    },
    {
     "name": "stdout",
     "output_type": "stream",
     "text": [
      "Epoch 101 average loss = 0.8085625493526458\n",
      "Генерируем текст в пропорциональном режиме\n",
      "Using random seed: тить вещь тому лицу, котор\n",
      "----\n",
      " тить вещь тому лицу, которому был договора простого товарищества или приемки в федеральным конституционности частично племенных подозренное наличное разбираться таком состоянии, имеющее права либо законченной в объявлении дела \n",
      "----\n",
      "Генерируем текст в жадном режиме (наиболее вероятные буквы)\n",
      "Using random seed: я казенным.\n",
      " 4. Права казе\n"
     ]
    },
    {
     "name": "stderr",
     "output_type": "stream",
     "text": [
      "  0%|          | 2/1000 [00:00<00:58, 16.92it/s]"
     ]
    },
    {
     "name": "stdout",
     "output_type": "stream",
     "text": [
      "----\n",
      " я казенным.\n",
      " 4. Права казенного им порядке принятия решения о признании не предусмотрено договором купли-продажи недвижимости общества или отказаться от исполнения договора подряда на выполнение работы или об отказе в принятии \n",
      "----\n"
     ]
    },
    {
     "name": "stderr",
     "output_type": "stream",
     "text": [
      "100%|██████████| 1000/1000 [00:59<00:00, 16.86it/s]\n"
     ]
    },
    {
     "name": "stdout",
     "output_type": "stream",
     "text": [
      "Epoch 102 average loss = 0.8071946315169335\n",
      "Генерируем текст в пропорциональном режиме\n",
      "Using random seed: зложено на таможенные орга\n",
      "----\n",
      " зложено на таможенные органы вправе отказаться от имени Суда Российской Федерации и накосводения постановления капитана в таких дорожности судебного акта, которым он должен переработки либо другие производственной и спиртосоде \n",
      "----\n",
      "Генерируем текст в жадном режиме (наиболее вероятные буквы)\n",
      "Using random seed: ацией товаров, явившихся п\n"
     ]
    },
    {
     "name": "stderr",
     "output_type": "stream",
     "text": [
      "  0%|          | 2/1000 [00:00<00:58, 16.97it/s]"
     ]
    },
    {
     "name": "stdout",
     "output_type": "stream",
     "text": [
      "----\n",
      " ацией товаров, явившихся предметами административного штрафа на граждан в размере от десяти до двадцати минимальных размеров оплаты труда.\n",
      "\n",
      " Статья 11.\n",
      " 11. Нарушение правил производства по делу об административном правонаруше \n",
      "----\n"
     ]
    },
    {
     "name": "stderr",
     "output_type": "stream",
     "text": [
      "100%|██████████| 1000/1000 [00:59<00:00, 16.84it/s]\n"
     ]
    },
    {
     "name": "stdout",
     "output_type": "stream",
     "text": [
      "Epoch 103 average loss = 0.8064486995339394\n",
      "Генерируем текст в пропорциональном режиме\n",
      "Using random seed: го листа на принудительное\n",
      "----\n",
      " го листа на принудительное исполнение, делает на день выбора купли-продажи, а также для подготовки товаров организации и права маршрута (посту), а равно подведение пункта 1 настоящей главы собственности убытии;\n",
      " ь) впервые све \n",
      "----\n",
      "Генерируем текст в жадном режиме (наиболее вероятные буквы)\n",
      "Using random seed: е о технологии производств\n"
     ]
    },
    {
     "name": "stderr",
     "output_type": "stream",
     "text": [
      "  0%|          | 2/1000 [00:00<00:58, 16.98it/s]"
     ]
    },
    {
     "name": "stdout",
     "output_type": "stream",
     "text": [
      "----\n",
      " е о технологии производства по делу об административном правонарушении в области таможенного дела, в соответствии с настоящим Кодексом и иными правовыми актами Российской Федерации и вывозе с таможенной территории Российской Ф \n",
      "----\n"
     ]
    },
    {
     "name": "stderr",
     "output_type": "stream",
     "text": [
      "100%|██████████| 1000/1000 [00:59<00:00, 16.80it/s]\n"
     ]
    },
    {
     "name": "stdout",
     "output_type": "stream",
     "text": [
      "Epoch 104 average loss = 0.8061541645526886\n",
      "Генерируем текст в пропорциональном режиме\n",
      "Using random seed: онцессии применяются преду\n",
      "----\n",
      " онцессии применяются предусмотрено, что решения воспроизведение и коды через соглашение об обеспечении\n",
      "\n",
      " 1. Завещатель о место его указания.\n",
      " 2. В случае их возбуждения и его возмещения убытков, приобретатель, поступает о стра \n",
      "----\n",
      "Генерируем текст в жадном режиме (наиболее вероятные буквы)\n",
      "Using random seed:  срок до девяноста суток; \n"
     ]
    },
    {
     "name": "stderr",
     "output_type": "stream",
     "text": [
      "  0%|          | 2/1000 [00:00<00:58, 16.98it/s]"
     ]
    },
    {
     "name": "stdout",
     "output_type": "stream",
     "text": [
      "----\n",
      "  срок до девяноста суток; на юридических лиц – от трехсот до четырехсот минимальных размеров оплаты труда; на должностных лиц – от двадцати до двадцати минимальных размеров оплаты труда; на должностных лиц – от двадцати до два \n",
      "----\n"
     ]
    },
    {
     "name": "stderr",
     "output_type": "stream",
     "text": [
      "100%|██████████| 1000/1000 [00:59<00:00, 16.83it/s]\n"
     ]
    },
    {
     "name": "stdout",
     "output_type": "stream",
     "text": [
      "Epoch 105 average loss = 0.8081348133683205\n",
      "Генерируем текст в пропорциональном режиме\n",
      "Using random seed: ьная аппаратура и другие те\n",
      "----\n",
      " ьная аппаратура и другие территории, если он может быть изложены хранителю завещательное распоряжение указанного им в завещании об обязательства животных обязанностей –\n",
      " влечет наложение административного правонарушения; на дол \n",
      "----\n",
      "Генерируем текст в жадном режиме (наиболее вероятные буквы)\n",
      "Using random seed: фамилия и инициалы или наим\n"
     ]
    },
    {
     "name": "stderr",
     "output_type": "stream",
     "text": [
      "  0%|          | 2/1000 [00:00<01:00, 16.40it/s]"
     ]
    },
    {
     "name": "stdout",
     "output_type": "stream",
     "text": [
      "----\n",
      " фамилия и инициалы или наименование и распоряжение товаров для государственной регистрации юридического лица или обязанность по обязательствам собственником условий, предусмотренных статьями 15.1, 15.2, 19.7 настоящего Кодекса. \n",
      "----\n"
     ]
    },
    {
     "name": "stderr",
     "output_type": "stream",
     "text": [
      "100%|██████████| 1000/1000 [01:01<00:00, 16.09it/s]\n"
     ]
    },
    {
     "name": "stdout",
     "output_type": "stream",
     "text": [
      "Epoch 106 average loss = 0.795910777926445\n",
      "Генерируем текст в пропорциональном режиме\n",
      "Using random seed: занность, падает в равной д\n",
      "----\n",
      " занность, падает в равной долях таможенного органа, должностные лица таможенного органа, с обязательствам, вытекающими заработком, указанными погрозы одной тысячиам доступны, приняты в качестве мер по устранению, об измерении с \n",
      "----\n",
      "Генерируем текст в жадном режиме (наиболее вероятные буквы)\n",
      "Using random seed: завещательный отказ или зав\n"
     ]
    },
    {
     "name": "stderr",
     "output_type": "stream",
     "text": [
      "  0%|          | 2/1000 [00:00<01:02, 16.01it/s]"
     ]
    },
    {
     "name": "stdout",
     "output_type": "stream",
     "text": [
      "----\n",
      " завещательный отказ или заведомо ложного заключения договора продажи недвижимости, предусмотренных статьями 11.15, 13.13, 13.20, 13.21, 13.23, 13.23, 13.2, частями 1 и 2 статьи 19.5, статьями 19.6, 19.7 настоящего Кодекса.\n",
      " 2.  \n",
      "----\n"
     ]
    },
    {
     "name": "stderr",
     "output_type": "stream",
     "text": [
      "100%|██████████| 1000/1000 [01:01<00:00, 16.22it/s]\n"
     ]
    },
    {
     "name": "stdout",
     "output_type": "stream",
     "text": [
      "Epoch 107 average loss = 0.7965151730775833\n",
      "Генерируем текст в пропорциональном режиме\n",
      "Using random seed: о языком, понятным для лиц,\n",
      "----\n",
      " о языком, понятным для лиц, не имеют право на возмещение либо возвратить контролю за недопривлечению.\n",
      " 3. Если язык.\n",
      " 7. Распоряжение необходимо для прекращен в соответствии с законом и устанавливается на договорной агитации, п \n",
      "----\n",
      "Генерируем текст в жадном режиме (наиболее вероятные буквы)\n",
      "Using random seed: ремя потребовать от лица, н\n"
     ]
    },
    {
     "name": "stderr",
     "output_type": "stream",
     "text": [
      "  0%|          | 2/1000 [00:00<01:01, 16.32it/s]"
     ]
    },
    {
     "name": "stdout",
     "output_type": "stream",
     "text": [
      "----\n",
      " ремя потребовать от лица, не принятия решения и остаточности и порядок принятия таможенной декларации по проведению референдума, иного права и обязанности по передаче принадлежащим образом извещенными на таможенной территории Р \n",
      "----\n"
     ]
    },
    {
     "name": "stderr",
     "output_type": "stream",
     "text": [
      "100%|██████████| 1000/1000 [01:01<00:00, 16.09it/s]\n"
     ]
    },
    {
     "name": "stdout",
     "output_type": "stream",
     "text": [
      "Epoch 108 average loss = 0.7930077249407769\n",
      "Генерируем текст в пропорциональном режиме\n",
      "Using random seed: , муниципальных и других жи\n",
      "----\n",
      " , муниципальных и других животных –\n",
      " влечет наложение административного штрафа на граждан в размере от пяти до двадцати минимальных размеров оплаты труда.\n",
      "\n",
      " Статья 12.\n",
      " Возникновение о привлечении к административной ответственн \n",
      "----\n",
      "Генерируем текст в жадном режиме (наиболее вероятные буквы)\n",
      "Using random seed: ником таможенного органа ил\n"
     ]
    },
    {
     "name": "stderr",
     "output_type": "stream",
     "text": [
      "  0%|          | 2/1000 [00:00<01:01, 16.16it/s]"
     ]
    },
    {
     "name": "stdout",
     "output_type": "stream",
     "text": [
      "----\n",
      " ником таможенного органа или его должностного лица таможенного органа или его должностного лица таможенного органа или его должностного лица таможенного органа или его должностного лица таможенного органа или его должностного л \n",
      "----\n"
     ]
    },
    {
     "name": "stderr",
     "output_type": "stream",
     "text": [
      "100%|██████████| 1000/1000 [01:01<00:00, 16.25it/s]\n"
     ]
    },
    {
     "name": "stdout",
     "output_type": "stream",
     "text": [
      "Epoch 109 average loss = 0.7927028385996818\n",
      "Генерируем текст в пропорциональном режиме\n",
      "Using random seed: ствовать свидетель.\n",
      " Если з\n",
      "----\n",
      " ствовать свидетель.\n",
      " Если заявителям;\n",
      " нарушение прав или на состояние, отгруца назначения факт их в ликвидации юридического лица, за кого органа или основное дезуконодательством о нотариальном муниципальной собственность) и в  \n",
      "----\n",
      "Генерируем текст в жадном режиме (наиболее вероятные буквы)\n",
      "Using random seed: овары, указанные в договоре\n"
     ]
    },
    {
     "name": "stderr",
     "output_type": "stream",
     "text": [
      "  0%|          | 2/1000 [00:00<01:01, 16.33it/s]"
     ]
    },
    {
     "name": "stdout",
     "output_type": "stream",
     "text": [
      "----\n",
      " овары, указанные в договоре подряда исполнения обязательства и не вытекает из закона, иных правовых актов, решений сотрудников милиции и при отсутствии соглашения о признании не предусмотрено иное, применяются правила настоящей \n",
      "----\n"
     ]
    },
    {
     "name": "stderr",
     "output_type": "stream",
     "text": [
      "100%|██████████| 1000/1000 [01:01<00:00, 16.24it/s]\n"
     ]
    },
    {
     "name": "stdout",
     "output_type": "stream",
     "text": [
      "Epoch 110 average loss = 0.7943013964295387\n",
      "Генерируем текст в пропорциональном режиме\n",
      "Using random seed: ть такое имущество от доброс\n",
      "----\n",
      " ть такое имущество от добросовестно, могут заключением случаев, когда возбуд и продажи пол об ограничении степени настоящего Кодекса;\n",
      "  (в ред. Федерального закона от 20 июля 1205 года, банках, изложенных специальном милли, уста \n",
      "----\n",
      "Генерируем текст в жадном режиме (наиболее вероятные буквы)\n",
      "Using random seed: асти 2 статьи 182 см. информ\n"
     ]
    },
    {
     "name": "stderr",
     "output_type": "stream",
     "text": [
      "  0%|          | 2/1000 [00:00<01:03, 15.76it/s]"
     ]
    },
    {
     "name": "stdout",
     "output_type": "stream",
     "text": [
      "----\n",
      " асти 2 статьи 182 см. информатизации и гражданину или иными правовыми актами или договором подряда и объектов интересов лиц, осуществляющих предпринимательской деятельности на срок до девяноста суток.\n",
      "  (в ред. Федерального зако \n",
      "----\n"
     ]
    },
    {
     "name": "stderr",
     "output_type": "stream",
     "text": [
      "100%|██████████| 1000/1000 [01:03<00:00, 15.73it/s]\n"
     ]
    },
    {
     "name": "stdout",
     "output_type": "stream",
     "text": [
      "Epoch 111 average loss = 0.7828403798341751\n",
      "Генерируем текст в пропорциональном режиме\n",
      "Using random seed: иссии, комиссии референдума \n",
      "----\n",
      " иссии, комиссии референдума сведения, не уплачены правил.\n",
      "\n",
      " Статья 428.\n",
      " Обратную силу после дня даях граждана или заведомо неправильного обороту судьей, рассматривают основы.\n",
      " 2. Взыскание, государственный контроль за качество  \n",
      "----\n",
      "Генерируем текст в жадном режиме (наиболее вероятные буквы)\n",
      "Using random seed:  вырученная от продажи сумма\n"
     ]
    },
    {
     "name": "stderr",
     "output_type": "stream",
     "text": [
      "  0%|          | 2/1000 [00:00<01:03, 15.80it/s]"
     ]
    },
    {
     "name": "stdout",
     "output_type": "stream",
     "text": [
      "----\n",
      "  вырученная от продажи сумма таможенных пошлин, налогов и события административного штрафа на граждан в размере от пяти до десяти минимальных размеров оплаты труда.\n",
      "\n",
      " Статья 14.\n",
      " 17. Нарушение правил обеспечения иска или органа  \n",
      "----\n"
     ]
    },
    {
     "name": "stderr",
     "output_type": "stream",
     "text": [
      "100%|██████████| 1000/1000 [01:03<00:00, 15.66it/s]\n"
     ]
    },
    {
     "name": "stdout",
     "output_type": "stream",
     "text": [
      "Epoch 112 average loss = 0.7815989671945572\n",
      "Генерируем текст в пропорциональном режиме\n",
      "Using random seed: няться к лицам, для которых \n",
      "----\n",
      " няться к лицам, для которых федерального органа исполнительной обстановке, технические средства или случаях лет.\n",
      " 2. Досрочки или вопрос о заявлении административного штрафа на должностных лиц и другие сделки либо заявление или  \n",
      "----\n",
      "Генерируем текст в жадном режиме (наиболее вероятные буквы)\n",
      "Using random seed: ованием, аппаратами или тран\n"
     ]
    },
    {
     "name": "stderr",
     "output_type": "stream",
     "text": [
      "  0%|          | 2/1000 [00:00<01:03, 15.78it/s]"
     ]
    },
    {
     "name": "stdout",
     "output_type": "stream",
     "text": [
      "----\n",
      " ованием, аппаратами или транспортного средства с экипажем и при применении строительства и не вытекает из существа обязательства и наследуются на общих основанием для отдельных видов товаров, предназначенных для проведения тамож \n",
      "----\n"
     ]
    },
    {
     "name": "stderr",
     "output_type": "stream",
     "text": [
      "100%|██████████| 1000/1000 [01:03<00:00, 15.65it/s]\n"
     ]
    },
    {
     "name": "stdout",
     "output_type": "stream",
     "text": [
      "Epoch 113 average loss = 0.7821230183243751\n",
      "Генерируем текст в пропорциональном режиме\n",
      "Using random seed:  географических объектов; оф\n",
      "----\n",
      "  географических объектов; официально к взятеля с таможенной территории Российской Федерации. По требованию договора безвозмездно замещение, путем совершенного действия постановленные ничтов и др.е– 200 частями 1 и 2 статьи 1.17  \n",
      "----\n",
      "Генерируем текст в жадном режиме (наиболее вероятные буквы)\n",
      "Using random seed:  место нахождения юридическо\n"
     ]
    },
    {
     "name": "stderr",
     "output_type": "stream",
     "text": [
      "  0%|          | 2/1000 [00:00<01:03, 15.71it/s]"
     ]
    },
    {
     "name": "stdout",
     "output_type": "stream",
     "text": [
      "----\n",
      "  место нахождения юридического лица или индивидуального предпринимательской деятельности на срок до девяноста суток.\n",
      "  (в ред. Федерального закона от 29.06.2004 №58-ФЗ) \n",
      " 2. При применении пункта 1 статьи 1119), могут быть приня \n",
      "----\n"
     ]
    },
    {
     "name": "stderr",
     "output_type": "stream",
     "text": [
      "100%|██████████| 1000/1000 [01:03<00:00, 15.65it/s]\n"
     ]
    },
    {
     "name": "stdout",
     "output_type": "stream",
     "text": [
      "Epoch 114 average loss = 0.7790621432065964\n",
      "Генерируем текст в пропорциональном режиме\n",
      "Using random seed: аследника о выдаче свидетель\n",
      "----\n",
      " аследника о выдаче свидетельствующего в иностранной валюте Российской Федерации или дополнительные определительного исключения экспертизы, либо все запросить наследственное имущество только в случаях, предусмотренных в милицию и \n",
      "----\n",
      "Генерируем текст в жадном режиме (наиболее вероятные буквы)\n",
      "Using random seed: ованиях Российской Федерации\n"
     ]
    },
    {
     "name": "stderr",
     "output_type": "stream",
     "text": [
      "  0%|          | 2/1000 [00:00<01:03, 15.76it/s]"
     ]
    },
    {
     "name": "stdout",
     "output_type": "stream",
     "text": [
      "----\n",
      " ованиях Российской Федерации и федеральным законом от 21.07.2005 №93-ФЗ) \n",
      " 3. Несоблюдение производства по делу об административном правонарушении или представления товаров и (или) транспортных средств и (или) транспортных средс \n",
      "----\n"
     ]
    },
    {
     "name": "stderr",
     "output_type": "stream",
     "text": [
      "100%|██████████| 1000/1000 [01:03<00:00, 15.69it/s]\n"
     ]
    },
    {
     "name": "stdout",
     "output_type": "stream",
     "text": [
      "Epoch 115 average loss = 0.780656170129776\n",
      "Генерируем текст в пропорциональном режиме\n",
      "Using random seed: итель представляет в арбитраж\n",
      "----\n",
      " итель представляет в арбитражного решения;\n",
      " 2) охранной среды их принятия решения направляет социальной страхованию административного органа о явки обвигателю прокурора Российской Федерации, с просьбой, но не позднее трех запрет  \n",
      "----\n",
      "Генерируем текст в жадном режиме (наиболее вероятные буквы)\n",
      "Using random seed: ) мотивы отказа в передаче де\n"
     ]
    },
    {
     "name": "stderr",
     "output_type": "stream",
     "text": [
      "  0%|          | 2/1000 [00:00<01:04, 15.40it/s]"
     ]
    },
    {
     "name": "stdout",
     "output_type": "stream",
     "text": [
      "----\n",
      " ) мотивы отказа в передаче дела в арбитражном суде первой инстанции в соответствии с правилами настоящего Кодекса.\n",
      " 2. Рассматривать дела об административном правонарушении, вправе отказаться от исполнения обязательства и не прот \n",
      "----\n"
     ]
    },
    {
     "name": "stderr",
     "output_type": "stream",
     "text": [
      "100%|██████████| 1000/1000 [01:06<00:00, 15.27it/s]\n"
     ]
    },
    {
     "name": "stdout",
     "output_type": "stream",
     "text": [
      "Epoch 116 average loss = 0.7692431474328041\n",
      "Генерируем текст в пропорциональном режиме\n",
      "Using random seed:  в примирительных процедурах\n",
      "\n",
      "----\n",
      "  в примирительных процедурах\n",
      "\n",
      " 1. При выделении исполнения указанных в абзаце первого контроля;\n",
      " 3) в случае, если постей в части сотрудникам милиции общества, а также попечителя в любо-.\n",
      " 7. Неимененных состоят и трудовому догов \n",
      "----\n",
      "Генерируем текст в жадном режиме (наиболее вероятные буквы)\n",
      "Using random seed: именяемыми в банковской практ\n"
     ]
    },
    {
     "name": "stderr",
     "output_type": "stream",
     "text": [
      "  0%|          | 2/1000 [00:00<01:04, 15.37it/s]"
     ]
    },
    {
     "name": "stdout",
     "output_type": "stream",
     "text": [
      "----\n",
      " именяемыми в банковской практике обычаями делового оборота или иного оборудования и условия о размере от пяти до десяти минимальных размеров оплаты труда.\n",
      " 2. Нарушение правил охраны произведений или объективной основе, в порядке \n",
      "----\n"
     ]
    },
    {
     "name": "stderr",
     "output_type": "stream",
     "text": [
      "100%|██████████| 1000/1000 [01:05<00:00, 15.29it/s]\n"
     ]
    },
    {
     "name": "stdout",
     "output_type": "stream",
     "text": [
      "Epoch 117 average loss = 0.769875355899334\n",
      "Генерируем текст в пропорциональном режиме\n",
      "Using random seed:  собственноручной надписи на \n",
      "----\n",
      "  собственноручной надписи на перед наследства и участвовать в интересах атриболи) в соответствии со статьей 272 настоящего Кодекса внесению и тепловых предприятий. Потерпевший не могут барший ими качества собственником заемщик вп \n",
      "----\n",
      "Генерируем текст в жадном режиме (наиболее вероятные буквы)\n",
      "Using random seed: кого лица, – от десяти до два\n"
     ]
    },
    {
     "name": "stderr",
     "output_type": "stream",
     "text": [
      "  0%|          | 2/1000 [00:00<01:04, 15.39it/s]"
     ]
    },
    {
     "name": "stdout",
     "output_type": "stream",
     "text": [
      "----\n",
      " кого лица, – от десяти до двадцати пяти минимальных размеров оплаты труда; на должностных лиц – от двадцати до тридцати минимальных размеров оплаты труда; на должностных лиц – от двадцати до тридцати минимальных размеров оплаты т \n",
      "----\n"
     ]
    },
    {
     "name": "stderr",
     "output_type": "stream",
     "text": [
      "100%|██████████| 1000/1000 [01:05<00:00, 15.26it/s]\n"
     ]
    },
    {
     "name": "stdout",
     "output_type": "stream",
     "text": [
      "Epoch 118 average loss = 0.7699427101016044\n",
      "Генерируем текст в пропорциональном режиме\n",
      "Using random seed: м, если обстоятельства, о кот\n",
      "----\n",
      " м, если обстоятельства, о которые установлен более короткие средства другой сторона могут применение к товарам запретов и ограничений государственных растений;\n",
      " 12) хозяйственные объединением, если приобретениями не установлены а \n",
      "----\n",
      "Генерируем текст в жадном режиме (наиболее вероятные буквы)\n",
      "Using random seed: тся федеральным министерством\n"
     ]
    },
    {
     "name": "stderr",
     "output_type": "stream",
     "text": [
      "  0%|          | 2/1000 [00:00<01:05, 15.31it/s]"
     ]
    },
    {
     "name": "stdout",
     "output_type": "stream",
     "text": [
      "----\n",
      " тся федеральным министерством, уполномоченным в области таможенного дела, в течение которого находится в соответствии с законодательством Российской Федерации и федеральным законом от 21.07.2005 №93-ФЗ) \n",
      " 2. Нарушение правил охра \n",
      "----\n"
     ]
    },
    {
     "name": "stderr",
     "output_type": "stream",
     "text": [
      "100%|██████████| 1000/1000 [01:05<00:00, 15.22it/s]\n"
     ]
    },
    {
     "name": "stdout",
     "output_type": "stream",
     "text": [
      "Epoch 119 average loss = 0.7688372576236725\n",
      "Генерируем текст в пропорциональном режиме\n",
      "Using random seed: те их прав указанное лицо мож\n",
      "----\n",
      " те их прав указанное лицо может быть подана не допускается должниками общественной безопасности лица;\n",
      " и какие доказательства, заключение договора.\n",
      "\n",
      " Статья 284.\n",
      " Таможенный осмотр телей), имеющими государственными прированию его \n",
      "----\n",
      "Генерируем текст в жадном режиме (наиболее вероятные буквы)\n",
      "Using random seed: \n",
      "\n",
      " Федеральным законом от 21.\n"
     ]
    },
    {
     "name": "stderr",
     "output_type": "stream",
     "text": [
      "  0%|          | 2/1000 [00:00<01:05, 15.31it/s]"
     ]
    },
    {
     "name": "stdout",
     "output_type": "stream",
     "text": [
      "----\n",
      " \n",
      "\n",
      " Федеральным законом от 21.07.2005 №19-ФЗ, от 21.03.2005 №28-ФЗ) \n",
      " 2. Рассматривать дела об административных правонарушениях, предусмотренных частью 1 статьи 19.4, частью 1 статьи 19.4, частью 1 статьи 19.4, частью 1 статьи 19. \n",
      "----\n"
     ]
    },
    {
     "name": "stderr",
     "output_type": "stream",
     "text": [
      "100%|██████████| 1000/1000 [01:06<00:00, 15.17it/s]\n"
     ]
    },
    {
     "name": "stdout",
     "output_type": "stream",
     "text": [
      "Epoch 120 average loss = 0.7676424709558487\n",
      "Генерируем текст в пропорциональном режиме\n",
      "Using random seed: , за исключением случаев, когд\n",
      "----\n",
      " , за исключением случаев, когда действия патрульный (постового) оно состоянию уволированного юридическое лицо.\n",
      "\n",
      " Статья 51.\n",
      " Продажа в пунктах пропуска через Государственную границу, должна значен используемых для государственного \n",
      "----\n",
      "Генерируем текст в жадном режиме (наиболее вероятные буквы)\n",
      "Using random seed: ния, нашедший вещь приобретает\n"
     ]
    },
    {
     "name": "stderr",
     "output_type": "stream",
     "text": [
      "  0%|          | 2/1000 [00:00<01:06, 14.95it/s]"
     ]
    },
    {
     "name": "stdout",
     "output_type": "stream",
     "text": [
      "----\n",
      " ния, нашедший вещь приобретает право на получение в соответствии с законодательством Российской Федерации и органа внутренних дел Российской Федерации и органа внутренних дел Российской Федерации и органа внутренних дел Российской \n",
      "----\n"
     ]
    },
    {
     "name": "stderr",
     "output_type": "stream",
     "text": [
      "100%|██████████| 1000/1000 [01:07<00:00, 14.84it/s]\n"
     ]
    },
    {
     "name": "stdout",
     "output_type": "stream",
     "text": [
      "Epoch 121 average loss = 0.7595210552811623\n",
      "Генерируем текст в пропорциональном режиме\n",
      "Using random seed: татья 287.\n",
      " Прекращение прав н\n",
      "----\n",
      " татья 287.\n",
      " Прекращение прав на имя или перевозке этих наследников\n",
      "\n",
      " 1. Домену.\n",
      "\n",
      " Статья 591.\n",
      " Содержание военную границу банк-эмитент, правил лесоводу их грузовладельцетствительных организациях.\n",
      " 3. Арбитражный суд, толка слокая  \n",
      "----\n",
      "Генерируем текст в жадном режиме (наиболее вероятные буквы)\n",
      "Using random seed:  товары, перевозимые трубопров\n"
     ]
    },
    {
     "name": "stderr",
     "output_type": "stream",
     "text": [
      "  0%|          | 2/1000 [00:00<01:06, 14.96it/s]"
     ]
    },
    {
     "name": "stdout",
     "output_type": "stream",
     "text": [
      "----\n",
      "  товары, перевозимые трубопроводным транспортом и по причинам, возникшим до введения в действие части третьей Гражданского кодекса Российской Федерации и органами государственной Думы и образцов товаров и (или) транспортных средст \n",
      "----\n"
     ]
    },
    {
     "name": "stderr",
     "output_type": "stream",
     "text": [
      "100%|██████████| 1000/1000 [01:07<00:00, 14.85it/s]\n"
     ]
    },
    {
     "name": "stdout",
     "output_type": "stream",
     "text": [
      "Epoch 122 average loss = 0.7599952439665795\n",
      "Генерируем текст в пропорциональном режиме\n",
      "Using random seed: ьзования применительно к опред\n",
      "----\n",
      " ьзования применительно к определяются со дня подачи подрядчик вправе особые принятое таможенных органов, в складов, международном соглашение:\n",
      " 1) защита права, подлежащего предпринимательского учреждения, является юридическим лицо \n",
      "----\n",
      "Генерируем текст в жадном режиме (наиболее вероятные буквы)\n",
      "Using random seed: ия на подписание отзыва.\n",
      "\n",
      " Ста\n"
     ]
    },
    {
     "name": "stderr",
     "output_type": "stream",
     "text": [
      "  0%|          | 2/1000 [00:00<01:06, 14.97it/s]"
     ]
    },
    {
     "name": "stdout",
     "output_type": "stream",
     "text": [
      "----\n",
      " ия на подписание отзыва.\n",
      "\n",
      " Статья 1144.\n",
      " Наследование предусмотрено законом или договором подряда на выполнение постановления о назначении административного правонарушения и применяется право страны, где находится дело об админист \n",
      "----\n"
     ]
    },
    {
     "name": "stderr",
     "output_type": "stream",
     "text": [
      "100%|██████████| 1000/1000 [01:07<00:00, 14.85it/s]\n"
     ]
    },
    {
     "name": "stdout",
     "output_type": "stream",
     "text": [
      "Epoch 123 average loss = 0.7588368963003158\n",
      "Генерируем текст в пропорциональном режиме\n",
      "Using random seed: ивает права и законные интерес\n",
      "----\n",
      " ивает права и законные интересы лицензии на отношения по делу об административное приостановление деятельности, выданного свидетельства о праве на наследство в течение тридцати дней подачи товарищества, либо результаты проведения  \n",
      "----\n",
      "Генерируем текст в жадном режиме (наиболее вероятные буквы)\n",
      "Using random seed: на земельный участок, принадле\n"
     ]
    },
    {
     "name": "stderr",
     "output_type": "stream",
     "text": [
      "  0%|          | 2/1000 [00:00<01:06, 14.97it/s]"
     ]
    },
    {
     "name": "stdout",
     "output_type": "stream",
     "text": [
      "----\n",
      " на земельный участок, принадлежащих указанным в статье 16 настоящего Кодекса.\n",
      " 2. Рассматривать дела об административных правонарушениях, предусмотренных статьей 11.16, частью 1 статьи 19.5, статьями 19.6, 19.7 настоящего Кодекса. \n",
      "----\n"
     ]
    },
    {
     "name": "stderr",
     "output_type": "stream",
     "text": [
      "100%|██████████| 1000/1000 [01:07<00:00, 14.86it/s]\n"
     ]
    },
    {
     "name": "stdout",
     "output_type": "stream",
     "text": [
      "Epoch 124 average loss = 0.7571434667706489\n",
      "Генерируем текст в пропорциональном режиме\n",
      "Using random seed:  транспортных средств, явивших\n",
      "----\n",
      "  транспортных средств, явившихся предметами административного наказания и поручительства не определяется в порядке предъявления;\n",
      " лицо, получив иных мер по условиям договоре купли-продажи не предусмотрено иные предметы и передаче  \n",
      "----\n",
      "Генерируем текст в жадном режиме (наиболее вероятные буквы)\n",
      "Using random seed: у и (или) налоговому органам;\n",
      "\n"
     ]
    },
    {
     "name": "stderr",
     "output_type": "stream",
     "text": [
      "  0%|          | 2/1000 [00:00<01:06, 14.95it/s]"
     ]
    },
    {
     "name": "stdout",
     "output_type": "stream",
     "text": [
      "----\n",
      " у и (или) налоговому органам;\n",
      " – применяется к протоколу судебных актов на срок до девяноста суток.\n",
      "  (в ред. Федерального закона от 29.06.2004 №58-ФЗ) \n",
      " 3. При предъявлении или представлении в соответствии с пунктом 1 настоящей с \n",
      "----\n"
     ]
    },
    {
     "name": "stderr",
     "output_type": "stream",
     "text": [
      "100%|██████████| 1000/1000 [01:07<00:00, 14.87it/s]\n"
     ]
    },
    {
     "name": "stdout",
     "output_type": "stream",
     "text": [
      "Epoch 125 average loss = 0.7567451111078263\n",
      "Генерируем текст в пропорциональном режиме\n",
      "Using random seed: тановлении факта, имеющего юрид\n",
      "----\n",
      " тановлении факта, имеющего юридического лица хранения\n",
      "\n",
      " При подкажте таможенной стоимости, за выполнение решения которому была быть определяются по праву нарядов определяемой федеральным органом назначает разногласию судья, орган б \n",
      "----\n",
      "Генерируем текст в жадном режиме (наиболее вероятные буквы)\n",
      "Using random seed: тавить вверенный ему отправител\n"
     ]
    },
    {
     "name": "stderr",
     "output_type": "stream",
     "text": [
      "  0%|          | 2/1000 [00:00<01:09, 14.44it/s]"
     ]
    },
    {
     "name": "stdout",
     "output_type": "stream",
     "text": [
      "----\n",
      " тавить вверенный ему отправителя в соответствии с законодательством Российской Федерации и органами государственной власти субъектов Российской Федерации и органа обязаны принять необходимые расходы, содержащие нормативные правовые \n",
      "----\n"
     ]
    },
    {
     "name": "stderr",
     "output_type": "stream",
     "text": [
      "100%|██████████| 1000/1000 [01:09<00:00, 14.44it/s]\n"
     ]
    },
    {
     "name": "stdout",
     "output_type": "stream",
     "text": [
      "Epoch 126 average loss = 0.7499878687858581\n",
      "Генерируем текст в пропорциональном режиме\n",
      "Using random seed: шрута патрулирования (поста) на\n",
      "----\n",
      " шрута патрулирования (поста) начисляются в случае невозможно при выявлении административной ответственности строительных документов вне морского действия не терпу\n",
      "\n",
      " О бюджетов, понесенного кассационной инстанции или сбережены между \n",
      "----\n",
      "Генерируем текст в жадном режиме (наиболее вероятные буквы)\n",
      "Using random seed:  в ходе ее проверки осуществлен\n"
     ]
    },
    {
     "name": "stderr",
     "output_type": "stream",
     "text": [
      "  0%|          | 2/1000 [00:00<01:08, 14.53it/s]"
     ]
    },
    {
     "name": "stdout",
     "output_type": "stream",
     "text": [
      "----\n",
      "  в ходе ее проверки осуществления права собственности на основании заявления о признании несоответствующей частью земельный участок при выпуске товаров для свободного обращения и приведению в случаях, предусмотренных статьями 405 и \n",
      "----\n"
     ]
    },
    {
     "name": "stderr",
     "output_type": "stream",
     "text": [
      "100%|██████████| 1000/1000 [01:09<00:00, 14.46it/s]\n"
     ]
    },
    {
     "name": "stdout",
     "output_type": "stream",
     "text": [
      "Epoch 127 average loss = 0.7497912368178368\n",
      "Генерируем текст в пропорциональном режиме\n",
      "Using random seed: инистративном правонарушении ср\n",
      "----\n",
      " инистративном правонарушении сроки м разделе наследования не связаны принадлежащее исполнение решения или повреждения проверки полученных поверенные начальниками.\n",
      " 2. Продажа товаровлечения отдельных видов, если наследник, привлечь \n",
      "----\n",
      "Генерируем текст в жадном режиме (наиболее вероятные буквы)\n",
      "Using random seed: тся российскому праву.\n",
      "\n",
      " Статья\n"
     ]
    },
    {
     "name": "stderr",
     "output_type": "stream",
     "text": [
      "  0%|          | 2/1000 [00:00<01:08, 14.56it/s]"
     ]
    },
    {
     "name": "stdout",
     "output_type": "stream",
     "text": [
      "----\n",
      " тся российскому праву.\n",
      "\n",
      " Статья 1124.\n",
      " Право собственности на срок до девяноста суток.\n",
      "  (в ред. Федерального закона от 29.06.2004 №58-ФЗ) \n",
      " 2. При наличии у него определения об отмене решения третейского суда по делу о принятии ка \n",
      "----\n"
     ]
    },
    {
     "name": "stderr",
     "output_type": "stream",
     "text": [
      "100%|██████████| 1000/1000 [01:09<00:00, 14.43it/s]\n"
     ]
    },
    {
     "name": "stdout",
     "output_type": "stream",
     "text": [
      "Epoch 128 average loss = 0.7476095134615898\n",
      "Генерируем текст в пропорциональном режиме\n",
      "Using random seed: меров оплаты труда.\n",
      " 2. Организ\n",
      "----\n",
      " меров оплаты труда.\n",
      " 2. Организациях могут идентифицирования, предусматривают свободно после дня их правах лиц.\n",
      " 2. Указанные депутатовые помещениях не производит.\n",
      " 6. Определение о выдаче разрешения на переработку товаров\n",
      "\n",
      " Операц \n",
      "----\n",
      "Генерируем текст в жадном режиме (наиболее вероятные буквы)\n",
      "Using random seed: нованности решения;\n",
      " 10) доводы\n"
     ]
    },
    {
     "name": "stderr",
     "output_type": "stream",
     "text": [
      "  0%|          | 2/1000 [00:00<01:08, 14.54it/s]"
     ]
    },
    {
     "name": "stdout",
     "output_type": "stream",
     "text": [
      "----\n",
      " нованности решения;\n",
      " 10) доводы, полученные при принятии кассационной инстанции при проведении таможенного контроля в соответствии с законодательством Российской Федерации и органами государственной власти субъектов Российской Феде \n",
      "----\n"
     ]
    },
    {
     "name": "stderr",
     "output_type": "stream",
     "text": [
      "100%|██████████| 1000/1000 [01:09<00:00, 14.43it/s]\n"
     ]
    },
    {
     "name": "stdout",
     "output_type": "stream",
     "text": [
      "Epoch 129 average loss = 0.7464590066671372\n",
      "Генерируем текст в пропорциональном режиме\n",
      "Using random seed: физической силы, специальных ср\n",
      "----\n",
      " физической силы, специальных средств, если договором имеют право других орудий охраняемых законодательство Российской Федерации являются обязательная; собано жизничной купли-продажи недвижимость покупатель обязан формить проверка п \n",
      "----\n",
      "Генерируем текст в жадном режиме (наиболее вероятные буквы)\n",
      "Using random seed: го пункта соответственно примен\n"
     ]
    },
    {
     "name": "stderr",
     "output_type": "stream",
     "text": [
      "  0%|          | 2/1000 [00:00<01:08, 14.50it/s]"
     ]
    },
    {
     "name": "stdout",
     "output_type": "stream",
     "text": [
      "----\n",
      " го пункта соответственно применяются правила настоящей статьи, вправе обратиться в суд с требованиям, установленным статьями 11.15, 11.16, частями 1 и 2 статьи 19.5, статьями 19.6, 19.7 настоящего Кодекса.\n",
      " 2. Рассматривать дела об \n",
      "----\n"
     ]
    },
    {
     "name": "stderr",
     "output_type": "stream",
     "text": [
      "100%|██████████| 1000/1000 [01:09<00:00, 14.46it/s]\n"
     ]
    },
    {
     "name": "stdout",
     "output_type": "stream",
     "text": [
      "Epoch 130 average loss = 0.7471609315872192\n",
      "Генерируем текст в пропорциональном режиме\n",
      "Using random seed:  вновь возникших юридических лиц\n",
      "----\n",
      "  вновь возникших юридических лиц – от пятидесяти до ста минимальных размеров оплаты труда; на должностных лиц и нормы международного почтового перевозчику в режиссаранения должника, представленных и предназначенного для такого превы \n",
      "----\n",
      "Генерируем текст в жадном режиме (наиболее вероятные буквы)\n",
      "Using random seed: ния в части, соответствующей неп\n"
     ]
    },
    {
     "name": "stderr",
     "output_type": "stream",
     "text": [
      "  0%|          | 2/1000 [00:00<01:10, 14.12it/s]"
     ]
    },
    {
     "name": "stdout",
     "output_type": "stream",
     "text": [
      "----\n",
      " ния в части, соответствующей непосредственно после выпуска товаров произведения и представления производства по делу об административном правонарушении, вправе потребовать от покупателя от исполнения договора подряда на выполнение п \n",
      "----\n"
     ]
    },
    {
     "name": "stderr",
     "output_type": "stream",
     "text": [
      "100%|██████████| 1000/1000 [01:11<00:00, 14.02it/s]\n"
     ]
    },
    {
     "name": "stdout",
     "output_type": "stream",
     "text": [
      "Epoch 131 average loss = 0.7392971960902214\n",
      "Генерируем текст в пропорциональном режиме\n",
      "Using random seed:  рек, озер и иных водоемов прави\n",
      "----\n",
      "  рек, озер и иных водоемов правилами и прочного состава, сведений, предусмотренных статьей 12.4, частом информации\n",
      "\n",
      " Должник вправе без согласия встречного иска произведения, возникших поручителя, обязанными образованными гражданами \n",
      "----\n",
      "Генерируем текст в жадном режиме (наиболее вероятные буквы)\n",
      "Using random seed: е пользование или в залог, сдело\n"
     ]
    },
    {
     "name": "stderr",
     "output_type": "stream",
     "text": [
      "  0%|          | 2/1000 [00:00<01:10, 14.17it/s]"
     ]
    },
    {
     "name": "stdout",
     "output_type": "stream",
     "text": [
      "----\n",
      " е пользование или в залог, сделок, не превышающий десяти дней со дня поступления в законную силу постановление по делу об административном правонарушении, в том числе в случае, если иное не предусмотрено законом или договором постав \n",
      "----\n"
     ]
    },
    {
     "name": "stderr",
     "output_type": "stream",
     "text": [
      "100%|██████████| 1000/1000 [01:11<00:00, 14.02it/s]\n"
     ]
    },
    {
     "name": "stdout",
     "output_type": "stream",
     "text": [
      "Epoch 132 average loss = 0.7369797315001487\n",
      "Генерируем текст в пропорциональном режиме\n",
      "Using random seed: яся наследнику, отказавшемуся от\n",
      "----\n",
      " яся наследнику, отказавшемуся от наследства и обязанности, пожарных гражданина:\n",
      " 1) обеспечить полномочия арбитражному суду, временно ввезенных товаров в указанными договоров оплаты труда; на лиц, осуществляющих государственном регу \n",
      "----\n",
      "Генерируем текст в жадном режиме (наиболее вероятные буквы)\n",
      "Using random seed: ца, которые вправе давать объясн\n"
     ]
    },
    {
     "name": "stderr",
     "output_type": "stream",
     "text": [
      "  0%|          | 2/1000 [00:00<01:10, 14.09it/s]"
     ]
    },
    {
     "name": "stdout",
     "output_type": "stream",
     "text": [
      "----\n",
      " ца, которые вправе давать объяснения по делу об административном правонарушении в области оборонной почты и свидетельство о праве на наследство в связи с принятием для проведения контроль за соблюдением правил обеспечения исполнения \n",
      "----\n"
     ]
    },
    {
     "name": "stderr",
     "output_type": "stream",
     "text": [
      "100%|██████████| 1000/1000 [01:11<00:00, 14.02it/s]\n"
     ]
    },
    {
     "name": "stdout",
     "output_type": "stream",
     "text": [
      "Epoch 133 average loss = 0.7384235881567002\n",
      "Генерируем текст в пропорциональном режиме\n",
      "Using random seed: юридических лиц может находиться\n",
      "----\n",
      " юридических лиц может находиться в доучетным имущественные обязательств, осуществляющих деятельность и освобожденное декларант обязан правопорядка и обеспечения ходатайствах, являющихся специальным способов их сохранной зоны таможен \n",
      "----\n",
      "Генерируем текст в жадном режиме (наиболее вероятные буквы)\n",
      "Using random seed: иваемый акт, решение или соверши\n"
     ]
    },
    {
     "name": "stderr",
     "output_type": "stream",
     "text": [
      "  0%|          | 2/1000 [00:00<01:10, 14.14it/s]"
     ]
    },
    {
     "name": "stdout",
     "output_type": "stream",
     "text": [
      "----\n",
      " иваемый акт, решение или совершили освобождение от уплаты таможенных пошлин, налогов в соответствии с законодательством Российской Федерации и представителя не подлежащего применению к договору подряда или иной документ, подтверждаю \n",
      "----\n"
     ]
    },
    {
     "name": "stderr",
     "output_type": "stream",
     "text": [
      "100%|██████████| 1000/1000 [01:11<00:00, 14.02it/s]\n"
     ]
    },
    {
     "name": "stdout",
     "output_type": "stream",
     "text": [
      "Epoch 134 average loss = 0.7364090385437012\n",
      "Генерируем текст в пропорциональном режиме\n",
      "Using random seed: ответственность за ущерб, которы\n",
      "----\n",
      " ответственность за ущерб, который не от права и свободы и других товаров, шествия, на территории иностранных организаций, их содержание может требовать от лица, имеющего после выдачи осуществляемого на улицах, участвующие полномочия \n",
      "----\n",
      "Генерируем текст в жадном режиме (наиболее вероятные буквы)\n",
      "Using random seed: лучаях, когда срочный либо друго\n"
     ]
    },
    {
     "name": "stderr",
     "output_type": "stream",
     "text": [
      "  0%|          | 2/1000 [00:00<01:10, 14.13it/s]"
     ]
    },
    {
     "name": "stdout",
     "output_type": "stream",
     "text": [
      "----\n",
      " лучаях, когда срочный либо другого наследника по договору подряда на выполнение работы или отдельных видов товаров, подлежащих уплате таможенных пошлин, налогов в соответствии с законодательством Российской Федерации и органами госу \n",
      "----\n"
     ]
    },
    {
     "name": "stderr",
     "output_type": "stream",
     "text": [
      "100%|██████████| 1000/1000 [01:11<00:00, 13.99it/s]\n"
     ]
    },
    {
     "name": "stdout",
     "output_type": "stream",
     "text": [
      "Epoch 135 average loss = 0.7360895254611969\n",
      "Генерируем текст в пропорциональном режиме\n",
      "Using random seed: авещания ограничивается правилами\n",
      "----\n",
      " авещания ограничивается правилами соответствующем стандарта, агитационно-правов товаров, который жалобе направляется арбитражным судом;\n",
      " 2) в соответствии с условиями производства по делу\n",
      "\n",
      " Независимо от передачи\n",
      "\n",
      "\n",
      " Статья 272.\n",
      " Соде \n",
      "----\n",
      "Генерируем текст в жадном режиме (наиболее вероятные буквы)\n",
      "Using random seed:  судебного заседания, не является\n"
     ]
    },
    {
     "name": "stderr",
     "output_type": "stream",
     "text": [
      "  0%|          | 2/1000 [00:00<01:13, 13.62it/s]"
     ]
    },
    {
     "name": "stdout",
     "output_type": "stream",
     "text": [
      "----\n",
      "  судебного заседания, не является основанием для оставления протокола об административном правонарушении и приведении в исполнение решения третейского суда или административное приостановление деятельности на срок до девяноста суток. \n",
      "----\n"
     ]
    },
    {
     "name": "stderr",
     "output_type": "stream",
     "text": [
      "100%|██████████| 1000/1000 [01:13<00:00, 13.58it/s]\n"
     ]
    },
    {
     "name": "stdout",
     "output_type": "stream",
     "text": [
      "Epoch 136 average loss = 0.7281858595013618\n",
      "Генерируем текст в пропорциональном режиме\n",
      "Using random seed:  нахождением нарядов в оперативно\n",
      "----\n",
      "  нахождением нарядов в оперативно-наймодателя (участника вступают в завещании соответствующего решения, постановлений и автомобили были пересматривающего дело об административном правонарушении.\n",
      "\n",
      " Статья 1153.\n",
      " Обязанности по перераб \n",
      "----\n",
      "Генерируем текст в жадном режиме (наиболее вероятные буквы)\n",
      "Using random seed: ом правовом акте или договоре инт\n"
     ]
    },
    {
     "name": "stderr",
     "output_type": "stream",
     "text": [
      "  0%|          | 2/1000 [00:00<01:13, 13.66it/s]"
     ]
    },
    {
     "name": "stdout",
     "output_type": "stream",
     "text": [
      "----\n",
      " ом правовом акте или договоре интерес конституционного Суда РФ от 21.12.2001 №15-ФЗ).\n",
      "\n",
      " Статья 115.\n",
      " Применение к соответствующей частью земельного участка, принявших оспариваемый акт, решение, действие (бездействие) таможенного орга \n",
      "----\n"
     ]
    },
    {
     "name": "stderr",
     "output_type": "stream",
     "text": [
      "100%|██████████| 1000/1000 [01:13<00:00, 13.61it/s]\n"
     ]
    },
    {
     "name": "stdout",
     "output_type": "stream",
     "text": [
      "Epoch 137 average loss = 0.7280087057352066\n",
      "Генерируем текст в пропорциональном режиме\n",
      "Using random seed: в:\n",
      " при применении специальных уп\n",
      "----\n",
      " в:\n",
      " при применении специальных управления транспортного средства (статья 164) с представления к установленным в статье, не, частями 2 и 3 статьи 125 настоящего Кодекса, может быть предъявлены к копию и народованный в федеральный бюдж \n",
      "----\n",
      "Генерируем текст в жадном режиме (наиболее вероятные буквы)\n",
      "Using random seed: питальный ремонт имущества в уста\n"
     ]
    },
    {
     "name": "stderr",
     "output_type": "stream",
     "text": [
      "  0%|          | 2/1000 [00:00<01:13, 13.67it/s]"
     ]
    },
    {
     "name": "stdout",
     "output_type": "stream",
     "text": [
      "----\n",
      " питальный ремонт имущества в установленном порядке принятым по договору проката при наличии обстоятельствах, указанных в пункте 1 настоящей статьи, вправе:\n",
      " 1) руководитель федерального органа исполнительной власти, уполномоченного в \n",
      "----\n"
     ]
    },
    {
     "name": "stderr",
     "output_type": "stream",
     "text": [
      "100%|██████████| 1000/1000 [01:13<00:00, 13.59it/s]\n"
     ]
    },
    {
     "name": "stdout",
     "output_type": "stream",
     "text": [
      "Epoch 138 average loss = 0.7257369795441627\n",
      "Генерируем текст в пропорциональном режиме\n",
      "Using random seed: в случаях, когда будет доказано, \n",
      "----\n",
      " в случаях, когда будет доказано, что такое условное замене одного или нескольких наследников.\n",
      "\n",
      " Глава 25.\n",
      " Общие положения арбитражным судом заявление обстановки, аэродрома административном наркотических средств и перегрузконном испо \n",
      "----\n",
      "Генерируем текст в жадном режиме (наиболее вероятные буквы)\n",
      "Using random seed: .\n",
      "\n",
      " § 4. Компенсация морального в\n"
     ]
    },
    {
     "name": "stderr",
     "output_type": "stream",
     "text": [
      "  0%|          | 2/1000 [00:00<01:12, 13.73it/s]"
     ]
    },
    {
     "name": "stdout",
     "output_type": "stream",
     "text": [
      "----\n",
      " .\n",
      "\n",
      " § 4. Компенсация морального вреда одной тысячи минимальных размеров оплаты труда.\n",
      "\n",
      " Статья 11.\n",
      " 11. Нарушение правил охраны и использования и распоряжения или представление о пересмотре судебного акта в порядке надзора судебного  \n",
      "----\n"
     ]
    },
    {
     "name": "stderr",
     "output_type": "stream",
     "text": [
      "100%|██████████| 1000/1000 [01:13<00:00, 13.58it/s]\n"
     ]
    },
    {
     "name": "stdout",
     "output_type": "stream",
     "text": [
      "Epoch 139 average loss = 0.7269103207588196\n",
      "Генерируем текст в пропорциональном режиме\n",
      "Using random seed:  для таможенных целей, в грузовые\n",
      "----\n",
      "  для таможенных целей, в грузовые меры претентившими этого требования апелляционная ценной бумагой, исполнять протокол, средства в техническими средствами, назначению, средств исчисляемом договором.\n",
      " 2. Деятельность вместо тако-экспе \n",
      "----\n",
      "Генерируем текст в жадном режиме (наиболее вероятные буквы)\n",
      "Using random seed:  истечении срока подачи апелляцио\n"
     ]
    },
    {
     "name": "stderr",
     "output_type": "stream",
     "text": [
      "  0%|          | 2/1000 [00:00<01:12, 13.70it/s]"
     ]
    },
    {
     "name": "stdout",
     "output_type": "stream",
     "text": [
      "----\n",
      "  истечении срока подачи апелляционной жалобы и прилагаемые к нему документами и принятия решения или предмета административного правонарушения или без таковой; на должностных лиц – от двадцати до тридцати минимальных размеров оплаты  \n",
      "----\n"
     ]
    },
    {
     "name": "stderr",
     "output_type": "stream",
     "text": [
      "100%|██████████| 1000/1000 [01:13<00:00, 13.57it/s]\n"
     ]
    },
    {
     "name": "stdout",
     "output_type": "stream",
     "text": [
      "Epoch 140 average loss = 0.7251198955774307\n",
      "Генерируем текст в пропорциональном режиме\n",
      "Using random seed: теля, должника или судебного прист\n",
      "----\n",
      " теля, должника или судебного пристава и учреждений\n",
      "\n",
      " 1. В соответствии с настоящим Кодексом выплачивается нанимателем (поезда таможенного режима\n",
      "\n",
      " 1. Неустраненное подразделениями, должностным лицом, законы, имеет право обратному зона \n",
      "----\n",
      "Генерируем текст в жадном режиме (наиболее вероятные буквы)\n",
      "Using random seed: ого договора, в силу которых агент\n"
     ]
    },
    {
     "name": "stderr",
     "output_type": "stream",
     "text": [
      "  0%|          | 2/1000 [00:00<01:15, 13.25it/s]"
     ]
    },
    {
     "name": "stdout",
     "output_type": "stream",
     "text": [
      "----\n",
      " ого договора, в силу которых агент не вправе принимать меры по охране наследства и управление транспортным средством соответствующего состава связывания и сооружений и других лиц, участвующих в деле, и иных предметов и (или) транспорт \n",
      "----\n"
     ]
    },
    {
     "name": "stderr",
     "output_type": "stream",
     "text": [
      "100%|██████████| 1000/1000 [01:16<00:00, 13.11it/s]\n"
     ]
    },
    {
     "name": "stdout",
     "output_type": "stream",
     "text": [
      "Epoch 141 average loss = 0.7182800060510636\n",
      "Генерируем текст в пропорциональном режиме\n",
      "Using random seed: 1) принимать меры, предусмотренные\n",
      "----\n",
      " 1) принимать меры, предусмотренные настоящей статьей.\n",
      " 3. Если у лица, подвергсродители уплачено административное выдворение произведения.\n",
      "  (п. 1 в ред. Федерального закона от 20.08.2004 №118-ФЗ) \n",
      " 2. Внесение силах, которые установл \n",
      "----\n",
      "Генерируем текст в жадном режиме (наиболее вероятные буквы)\n",
      "Using random seed: ля.\n",
      " 2. Мировое соглашение должно \n"
     ]
    },
    {
     "name": "stderr",
     "output_type": "stream",
     "text": [
      "  0%|          | 2/1000 [00:00<01:16, 13.06it/s]"
     ]
    },
    {
     "name": "stdout",
     "output_type": "stream",
     "text": [
      "----\n",
      " ля.\n",
      " 2. Мировое соглашение должно быть принято непосредственно по согласованию с федеральным министерством, уполномоченным в области таможенного дела, в соответствии с пунктом 2 статьи 1145 настоящего Кодекса.\n",
      " 2. Рассматривать дела о \n",
      "----\n"
     ]
    },
    {
     "name": "stderr",
     "output_type": "stream",
     "text": [
      "100%|██████████| 1000/1000 [01:16<00:00, 13.16it/s]\n"
     ]
    },
    {
     "name": "stdout",
     "output_type": "stream",
     "text": [
      "Epoch 142 average loss = 0.7197243165373802\n",
      "Генерируем текст в пропорциональном режиме\n",
      "Using random seed: ти за причинение вреда жизни или з\n",
      "----\n",
      " ти за причинение вреда жизни или здоровью постр имущества, а также суммы закона от 29.06.2004 №58-ФЗ) \n",
      "\n",
      " Статья 18.\n",
      " 10. Нарушение правил районов;\n",
      " 7) оставить запрещается, памятники Российской Федерации;\n",
      " 22) экипажа, валютного контр \n",
      "----\n",
      "Генерируем текст в жадном режиме (наиболее вероятные буквы)\n",
      "Using random seed: , взрывных и иных работ либо при с\n"
     ]
    },
    {
     "name": "stderr",
     "output_type": "stream",
     "text": [
      "  0%|          | 2/1000 [00:00<01:15, 13.28it/s]"
     ]
    },
    {
     "name": "stdout",
     "output_type": "stream",
     "text": [
      "----\n",
      " , взрывных и иных работ либо при совершении преступления или представления им в соответствии с законодательством Российской Федерации и органами государственной власти субъектов Российской Федерации и органами государственной власти с \n",
      "----\n"
     ]
    },
    {
     "name": "stderr",
     "output_type": "stream",
     "text": [
      "100%|██████████| 1000/1000 [01:16<00:00, 13.14it/s]\n"
     ]
    },
    {
     "name": "stdout",
     "output_type": "stream",
     "text": [
      "Epoch 143 average loss = 0.7163205690383911\n",
      "Генерируем текст в пропорциональном режиме\n",
      "Using random seed: ременного допущения транспортного \n",
      "----\n",
      " ременного допущения транспортного средства.\n",
      "\n",
      " Статья 357.\n",
      " 6. Невывоз с этой фикшим членом изъятии –\n",
      " влечет наложение административного штрафа на должностных лиц в размере от пяти до десяти минимальных размеров оплаты труда с конфиск \n",
      "----\n",
      "Генерируем текст в жадном режиме (наиболее вероятные буквы)\n",
      "Using random seed: ТА, в случае соблюдения условий вр\n"
     ]
    },
    {
     "name": "stderr",
     "output_type": "stream",
     "text": [
      "  0%|          | 2/1000 [00:00<01:15, 13.23it/s]"
     ]
    },
    {
     "name": "stdout",
     "output_type": "stream",
     "text": [
      "----\n",
      " ТА, в случае соблюдения условий временного вывоза в соответствии с законодательством Российской Федерации и органами государственной власти субъектов Российской Федерации и органами государственной власти субъектов Российской Федераци \n",
      "----\n"
     ]
    },
    {
     "name": "stderr",
     "output_type": "stream",
     "text": [
      "100%|██████████| 1000/1000 [01:16<00:00, 13.15it/s]\n"
     ]
    },
    {
     "name": "stdout",
     "output_type": "stream",
     "text": [
      "Epoch 144 average loss = 0.7159816419482231\n",
      "Генерируем текст в пропорциональном режиме\n",
      "Using random seed: квартиру или другое недвижимое иму\n",
      "----\n",
      " квартиру или другое недвижимое имущество, исполнительные (представитель, участникам по обстоятельствам, или залогопламент связи. Наский комиссариата или инесения определение которого был законному распоряжению, –\n",
      " влечет наложение адм \n",
      "----\n",
      "Генерируем текст в жадном режиме (наиболее вероятные буквы)\n",
      "Using random seed: министративного правонарушения в с\n"
     ]
    },
    {
     "name": "stderr",
     "output_type": "stream",
     "text": [
      "  0%|          | 2/1000 [00:00<01:15, 13.22it/s]"
     ]
    },
    {
     "name": "stdout",
     "output_type": "stream",
     "text": [
      "----\n",
      " министративного правонарушения в случае необходимости в соответствии с настоящим Кодексом.\n",
      " 2. При применении пункта 2 статьи 1173 настоящего Кодекса.\n",
      " 2. Рассматривать дела об административных правонарушениях, предусмотренных статьей \n",
      "----\n"
     ]
    },
    {
     "name": "stderr",
     "output_type": "stream",
     "text": [
      "100%|██████████| 1000/1000 [01:16<00:00, 13.14it/s]\n"
     ]
    },
    {
     "name": "stdout",
     "output_type": "stream",
     "text": [
      "Epoch 145 average loss = 0.718062987267971\n",
      "Генерируем текст в пропорциональном режиме\n",
      "Using random seed: оли в праве собственности на недели\n",
      "----\n",
      " оли в праве собственности на неделимую вещь были ввеста и иными правовыми актами или договором. В живых), а также для исполнения судебного собрания.\n",
      " 2. В случаях либо потребовать предоставления соответствующего палаты могут в день дор \n",
      "----\n",
      "Генерируем текст в жадном режиме (наиболее вероятные буквы)\n",
      "Using random seed:  «О применении контрольно-кассовых \n"
     ]
    },
    {
     "name": "stderr",
     "output_type": "stream",
     "text": [
      "  0%|          | 2/1000 [00:00<01:17, 12.87it/s]"
     ]
    },
    {
     "name": "stdout",
     "output_type": "stream",
     "text": [
      "----\n",
      "  «О применении контрольно-кассовых машин и других видов техники, принятое по договору подряда на выполнение проектных и изыскательских работ и осуществляется по праву страны, где находится при условии, что товары подлежат уплате таможе \n",
      "----\n"
     ]
    },
    {
     "name": "stderr",
     "output_type": "stream",
     "text": [
      "100%|██████████| 1000/1000 [01:18<00:00, 12.78it/s]\n"
     ]
    },
    {
     "name": "stdout",
     "output_type": "stream",
     "text": [
      "Epoch 146 average loss = 0.7098357335925102\n",
      "Генерируем текст в пропорциональном режиме\n",
      "Using random seed: ет быть как лицо, назначенное судом\n",
      "----\n",
      " ет быть как лицо, назначенное судом, если характеристикам соответствия внутренних дел и транспортным средствам, если это требование товары на хранение на основании статьи 93 настоящего Кодекса.\n",
      " Уде вверенного статьей 339 настоящего Ко \n",
      "----\n",
      "Генерируем текст в жадном режиме (наиболее вероятные буквы)\n",
      "Using random seed: по совершению которых возникла до и\n"
     ]
    },
    {
     "name": "stderr",
     "output_type": "stream",
     "text": [
      "  0%|          | 2/1000 [00:00<01:17, 12.90it/s]"
     ]
    },
    {
     "name": "stdout",
     "output_type": "stream",
     "text": [
      "----\n",
      " по совершению которых возникла до исключительных прав на недвижимость и освобождает доставка товаров и (или) транспортных средств и огнестрельного оружия и патронов к нему или без таковой.\n",
      " 2. В случае, когда причинение вреда жизни и з \n",
      "----\n"
     ]
    },
    {
     "name": "stderr",
     "output_type": "stream",
     "text": [
      "100%|██████████| 1000/1000 [01:18<00:00, 12.77it/s]\n"
     ]
    },
    {
     "name": "stdout",
     "output_type": "stream",
     "text": [
      "Epoch 147 average loss = 0.7092515313625336\n",
      "Генерируем текст в пропорциональном режиме\n",
      "Using random seed: е предпринимательской и иной деятел\n",
      "----\n",
      " е предпринимательской и иной деятельности по переработке в соответствии с законодательством Российской Федерации для личного штаба, осуществляемых на законов и услуг в качестве оповестить ввоз транспортного средства либо фай, специальн \n",
      "----\n",
      "Генерируем текст в жадном режиме (наиболее вероятные буквы)\n",
      "Using random seed: итаются выполненными, если транспор\n"
     ]
    },
    {
     "name": "stderr",
     "output_type": "stream",
     "text": [
      "  0%|          | 2/1000 [00:00<01:17, 12.87it/s]"
     ]
    },
    {
     "name": "stdout",
     "output_type": "stream",
     "text": [
      "----\n",
      " итаются выполненными, если транспортным средством водителем или иным образом извещенным в области таможенного дела, в соответствии с законодательством Российской Федерации и органами государственной власти Российской Федерации и органа \n",
      "----\n"
     ]
    },
    {
     "name": "stderr",
     "output_type": "stream",
     "text": [
      "100%|██████████| 1000/1000 [01:18<00:00, 12.80it/s]\n"
     ]
    },
    {
     "name": "stdout",
     "output_type": "stream",
     "text": [
      "Epoch 148 average loss = 0.7070837059617042\n",
      "Генерируем текст в пропорциональном режиме\n",
      "Using random seed: ателя добровольно не удовлетворено,\n",
      "----\n",
      " ателя добровольно не удовлетворено, –\n",
      " влечет предупреждение и патронажу, правомерными федеральным законом, технические районной информации о товаре, оспариваемого акта на обнародование, без разрешения сторона, делать или о признании а \n",
      "----\n",
      "Генерируем текст в жадном режиме (наиболее вероятные буквы)\n",
      "Using random seed: о снабжения подразделений ППС, стро\n"
     ]
    },
    {
     "name": "stderr",
     "output_type": "stream",
     "text": [
      "  0%|          | 2/1000 [00:00<01:17, 12.89it/s]"
     ]
    },
    {
     "name": "stdout",
     "output_type": "stream",
     "text": [
      "----\n",
      " о снабжения подразделений ППС, строительства и иных правовых актов или обороте и договора подряда на выполнение постановления о назначении административного правонарушения или без таковой; на юридических лиц – от трехсот до четырехсот  \n",
      "----\n"
     ]
    },
    {
     "name": "stderr",
     "output_type": "stream",
     "text": [
      "100%|██████████| 1000/1000 [01:18<00:00, 12.79it/s]\n"
     ]
    },
    {
     "name": "stdout",
     "output_type": "stream",
     "text": [
      "Epoch 149 average loss = 0.7080650845766068\n",
      "Генерируем текст в пропорциональном режиме\n",
      "Using random seed: организацией, может действовать на \n",
      "----\n",
      " организацией, может действовать на товары на склад временного хранения оперативными правилами настоящего Кодекса;\n",
      " 2) правил кригосударственным контрактом, осуществляющие государственный орган, его текущий идентификации деятельности пе \n",
      "----\n",
      "Генерируем текст в жадном режиме (наиболее вероятные буквы)\n",
      "Using random seed: удебном заседании.\n",
      " 2. Перерыв в су\n"
     ]
    },
    {
     "name": "stderr",
     "output_type": "stream",
     "text": [
      "  0%|          | 2/1000 [00:00<01:17, 12.93it/s]"
     ]
    },
    {
     "name": "stdout",
     "output_type": "stream",
     "text": [
      "----\n",
      " удебном заседании.\n",
      " 2. Перерыв в судебном заседании и пользования и распоряжения по договору подряда на выборах, референдуме при пользовании и приведении в исполнение решения третейского суда по существу производства по делу об админис \n",
      "----\n"
     ]
    },
    {
     "name": "stderr",
     "output_type": "stream",
     "text": [
      "100%|██████████| 1000/1000 [01:18<00:00, 12.79it/s]\n"
     ]
    },
    {
     "name": "stdout",
     "output_type": "stream",
     "text": [
      "Epoch 150 average loss = 0.708142484664917\n",
      "Генерируем текст в пропорциональном режиме\n",
      "Using random seed: естонахождении, об открытых банковск\n",
      "----\n",
      " естонахождении, об открытых банковских счетах.\n",
      " 5. Лицо и обращено взыскание.\n",
      " При осуществлении предпринимательской и иной экономической деятельности на срок до девяноста суток.\n",
      "  (в ред. Федерального закона от 09.05.2005 №73\n",
      "\n",
      " Сотрудн \n",
      "----\n",
      "Генерируем текст в жадном режиме (наиболее вероятные буквы)\n",
      "Using random seed: \n",
      " влечет наложение административного\n"
     ]
    },
    {
     "name": "stderr",
     "output_type": "stream",
     "text": [
      "  0%|          | 2/1000 [00:00<01:19, 12.53it/s]"
     ]
    },
    {
     "name": "stdout",
     "output_type": "stream",
     "text": [
      "----\n",
      " \n",
      " влечет наложение административного штрафа на граждан в размере от двадцати до тридцати минимальных размеров оплаты труда.\n",
      "\n",
      " Статья 11.\n",
      " 16. Нарушение правил охраны и использования и распоряжения о принятии апелляционной жалобы без дви \n",
      "----\n"
     ]
    },
    {
     "name": "stderr",
     "output_type": "stream",
     "text": [
      "100%|██████████| 1000/1000 [01:20<00:00, 12.45it/s]\n"
     ]
    },
    {
     "name": "stdout",
     "output_type": "stream",
     "text": [
      "Epoch 151 average loss = 0.7002119379043579\n",
      "Генерируем текст в пропорциональном режиме\n",
      "Using random seed: тировал, окажется недействительным п\n",
      "----\n",
      " тировал, окажется недействительным применением торговых актах (посту) дополнительных требований в отношении хранятся без специальных инструментов не предусмотрено, что он не будет прекращение права управления наследником в иной очередь  \n",
      "----\n",
      "Генерируем текст в жадном режиме (наиболее вероятные буквы)\n",
      "Using random seed: дминистративном правонарушении, и вы\n"
     ]
    },
    {
     "name": "stderr",
     "output_type": "stream",
     "text": [
      "  0%|          | 2/1000 [00:00<01:19, 12.53it/s]"
     ]
    },
    {
     "name": "stdout",
     "output_type": "stream",
     "text": [
      "----\n",
      " дминистративном правонарушении, и выделение о назначении административного наказания в виде административного правонарушения или без таковой.\n",
      "\n",
      " Статья 11.\n",
      " 11. Нарушение правил охраны и использования или без таковой; на должностных лиц  \n",
      "----\n"
     ]
    },
    {
     "name": "stderr",
     "output_type": "stream",
     "text": [
      "100%|██████████| 1000/1000 [01:20<00:00, 12.48it/s]\n"
     ]
    },
    {
     "name": "stdout",
     "output_type": "stream",
     "text": [
      "Epoch 152 average loss = 0.700920725762844\n",
      "Генерируем текст в пропорциональном режиме\n",
      "Using random seed: идов имущества, передаваемого в дове\n",
      "----\n",
      " идов имущества, передаваемого в доверительным специальные минимальные средства, истец или другие торги, растениями, а также наименование которых регулируются лицам, участвующим в кредитном требованию его начальником горрайлиноргана. Пре \n",
      "----\n",
      "Генерируем текст в жадном режиме (наиболее вероятные буквы)\n",
      "Using random seed: й народ Российской Федерации, соедин\n"
     ]
    },
    {
     "name": "stderr",
     "output_type": "stream",
     "text": [
      "  0%|          | 2/1000 [00:00<01:19, 12.55it/s]"
     ]
    },
    {
     "name": "stdout",
     "output_type": "stream",
     "text": [
      "----\n",
      " й народ Российской Федерации, соединения и прекращение права собственности на недвижимое имущество при производстве по делу об административном правонарушении, в том числе в случае прекращения права собственности на недвижимое имущество \n",
      "----\n"
     ]
    },
    {
     "name": "stderr",
     "output_type": "stream",
     "text": [
      "100%|██████████| 1000/1000 [01:20<00:00, 12.48it/s]\n"
     ]
    },
    {
     "name": "stdout",
     "output_type": "stream",
     "text": [
      "Epoch 153 average loss = 0.699023871421814\n",
      "Генерируем текст в пропорциональном режиме\n",
      "Using random seed: измерений, типы которых не утвержден\n",
      "----\n",
      " измерений, типы которых не утверждены задач своей интеллектуальной собственности – таможенных пошлин, налогов.\n",
      " 3. Сумма административных правонарушениях, предусмотренных пунктом 4 статьи 42 настоящего суда об объявлении сталей, участни \n",
      "----\n",
      "Генерируем текст в жадном режиме (наиболее вероятные буквы)\n",
      "Using random seed:  момента изменения или расторжения д\n"
     ]
    },
    {
     "name": "stderr",
     "output_type": "stream",
     "text": [
      "  0%|          | 2/1000 [00:00<01:19, 12.55it/s]"
     ]
    },
    {
     "name": "stdout",
     "output_type": "stream",
     "text": [
      "----\n",
      "  момента изменения или расторжения договора поставки товаров для государственных нужд (статьи 1124 настоящего Кодекса.\n",
      " 2. Рассматривать дела об административных правонарушениях, предусмотренных статьей 107 настоящего Кодекса.\n",
      " 2. Рассм \n",
      "----\n"
     ]
    },
    {
     "name": "stderr",
     "output_type": "stream",
     "text": [
      "100%|██████████| 1000/1000 [01:20<00:00, 12.49it/s]\n"
     ]
    },
    {
     "name": "stdout",
     "output_type": "stream",
     "text": [
      "Epoch 154 average loss = 0.6988166189789772\n",
      "Генерируем текст в пропорциональном режиме\n",
      "Using random seed: твенности, может быть передано его с\n",
      "----\n",
      " твенности, может быть передано его средств и психотропных веществ, пользующиеся экспертами в целях препродукции или ограничиваются вновь возмещается в органе).\n",
      " 2. В случае, когда договоры на возмещение вреда, причиненного времени не во \n",
      "----\n",
      "Генерируем текст в жадном режиме (наиболее вероятные буквы)\n",
      "Using random seed: оговором.\n",
      " 3. В случае, если третье \n"
     ]
    },
    {
     "name": "stderr",
     "output_type": "stream",
     "text": [
      "  0%|          | 2/1000 [00:00<01:19, 12.56it/s]"
     ]
    },
    {
     "name": "stdout",
     "output_type": "stream",
     "text": [
      "----\n",
      " оговором.\n",
      " 3. В случае, если третье лицо вправе по совместно с нарушением условий договора подряда на выполнение работ или об отказе в передаче дела в арбитражном суде на должностных лиц – от двадцати до тридцати минимальных размеров оп \n",
      "----\n"
     ]
    },
    {
     "name": "stderr",
     "output_type": "stream",
     "text": [
      "100%|██████████| 1000/1000 [01:20<00:00, 12.45it/s]\n"
     ]
    },
    {
     "name": "stdout",
     "output_type": "stream",
     "text": [
      "Epoch 155 average loss = 0.6977231936454773\n",
      "Генерируем текст в пропорциональном режиме\n",
      "Using random seed: ь ликвидировано по решению суда, если\n",
      "----\n",
      " ь ликвидировано по решению суда, если эти действия, выносится определение арбитражного суда в определении международными действиями статьями 408 и 388).\n",
      " 2. Арбитражный суд принявшая опубликованию стихийных бедствий или без таковой либо  \n",
      "----\n",
      "Генерируем текст в жадном режиме (наиболее вероятные буквы)\n",
      "Using random seed: ждений, принадлежности к общественным\n"
     ]
    },
    {
     "name": "stderr",
     "output_type": "stream",
     "text": [
      "  0%|          | 2/1000 [00:00<01:21, 12.29it/s]"
     ]
    },
    {
     "name": "stdout",
     "output_type": "stream",
     "text": [
      "----\n",
      " ждений, принадлежности к общественным объединением при осуществлении таможенного контроля в соответствии с законодательством Российской Федерации и органами государственной власти субъектов Российской Федерации и органами государственной \n",
      "----\n"
     ]
    },
    {
     "name": "stderr",
     "output_type": "stream",
     "text": [
      "100%|██████████| 1000/1000 [01:21<00:00, 12.21it/s]\n"
     ]
    },
    {
     "name": "stdout",
     "output_type": "stream",
     "text": [
      "Epoch 156 average loss = 0.6917776532769203\n",
      "Генерируем текст в пропорциональном режиме\n",
      "Using random seed: ружены в разумный срок, но в пределах\n",
      "----\n",
      " ружены в разумный срок, но в пределах переработки этих реализаций прикоснабличные уставом или не применяются, если кредитор может быть предусмотрено получатель предоставлено явно, в которой после прибытии товаров через таможенную границу \n",
      "----\n",
      "Генерируем текст в жадном режиме (наиболее вероятные буквы)\n",
      "Using random seed: опускается без согласия автора произв\n"
     ]
    },
    {
     "name": "stderr",
     "output_type": "stream",
     "text": [
      "  0%|          | 2/1000 [00:00<01:21, 12.31it/s]"
     ]
    },
    {
     "name": "stdout",
     "output_type": "stream",
     "text": [
      "----\n",
      " опускается без согласия автора производства по делу об административном правонарушении и порядок принятия наследства и управление транспортным средством водителем или иной продукции средства или объектов смежных прав и обязанностей по вк \n",
      "----\n"
     ]
    },
    {
     "name": "stderr",
     "output_type": "stream",
     "text": [
      "100%|██████████| 1000/1000 [01:21<00:00, 12.23it/s]\n"
     ]
    },
    {
     "name": "stdout",
     "output_type": "stream",
     "text": [
      "Epoch 157 average loss = 0.6910083497166634\n",
      "Генерируем текст в пропорциональном режиме\n",
      "Using random seed: арственный реестр юридических лиц;\n",
      " с\n",
      "----\n",
      " арственный реестр юридических лиц;\n",
      " свидетельство о включении в Реестр таможенных перевозчиком – в договоре предпринимательской и иной экономики, утратой, другими \n",
      "\n",
      "\n",
      " 76\n",
      "\n",
      " 1. Заказчик вправе исполнительного или по его долю в наполученном \n",
      "----\n",
      "Генерируем текст в жадном режиме (наиболее вероятные буквы)\n",
      "Using random seed: х минимальных размеров оплаты труда; \n"
     ]
    },
    {
     "name": "stderr",
     "output_type": "stream",
     "text": [
      "  0%|          | 2/1000 [00:00<01:21, 12.31it/s]"
     ]
    },
    {
     "name": "stdout",
     "output_type": "stream",
     "text": [
      "----\n",
      " х минимальных размеров оплаты труда; на юридических лиц – от тридцати до пятидесяти минимальных размеров оплаты труда.\n",
      "\n",
      " Статья 10.\n",
      " 1. Несоблюдение произведения и при отсутствии соглашения сторон или не вытекает из существа обязательств \n",
      "----\n"
     ]
    },
    {
     "name": "stderr",
     "output_type": "stream",
     "text": [
      "100%|██████████| 1000/1000 [01:21<00:00, 12.20it/s]\n"
     ]
    },
    {
     "name": "stdout",
     "output_type": "stream",
     "text": [
      "Epoch 158 average loss = 0.692181699693203\n",
      "Генерируем текст в пропорциональном режиме\n",
      "Using random seed:  переходит российскому лицу.\n",
      " 3. В сл\n",
      "----\n",
      "  переходит российскому лицу.\n",
      " 3. В случаях, предусмотренных настоящей главой, страховщиком, указанному в постановлении социальной избирательной комиссии, комиссии референдума\n",
      "\n",
      " (введена Федеральным законом от 08.07.1999 №134-О, от 21.07. \n",
      "----\n",
      "Генерируем текст в жадном режиме (наиболее вероятные буквы)\n",
      "Using random seed: гаваней, устройство заколов и иных пр\n"
     ]
    },
    {
     "name": "stderr",
     "output_type": "stream",
     "text": [
      "  0%|          | 2/1000 [00:00<01:21, 12.30it/s]"
     ]
    },
    {
     "name": "stdout",
     "output_type": "stream",
     "text": [
      "----\n",
      " гаваней, устройство заколов и иных предметов административного правонарушения и продуктов их переработки товаров и (или) транспортных средств, поступающих в судебном заседании продуктов переработки товаров и (или) транспортных средств, п \n",
      "----\n"
     ]
    },
    {
     "name": "stderr",
     "output_type": "stream",
     "text": [
      "100%|██████████| 1000/1000 [01:21<00:00, 12.18it/s]\n"
     ]
    },
    {
     "name": "stdout",
     "output_type": "stream",
     "text": [
      "Epoch 159 average loss = 0.6910648567676544\n",
      "Генерируем текст в пропорциональном режиме\n",
      "Using random seed: ожет быть отказано, если законом не п\n",
      "----\n",
      " ожет быть отказано, если законом не предусмотрено договором.\n",
      "\n",
      " Статья 345.\n",
      " Гарантийный срок со дня его вступления в законную силу судебного акта начальником таможенного оказания.\n",
      " Самовольное профессиональное увещь при котором товарной  \n",
      "----\n",
      "Генерируем текст в жадном режиме (наиболее вероятные буквы)\n",
      "Using random seed: т выдается на основе сведений, получе\n"
     ]
    },
    {
     "name": "stderr",
     "output_type": "stream",
     "text": [
      "  0%|          | 2/1000 [00:00<01:21, 12.25it/s]"
     ]
    },
    {
     "name": "stdout",
     "output_type": "stream",
     "text": [
      "----\n",
      " т выдается на основе сведений, полученной подрядчиком в соответствии с законодательством Российской Федерации и органами государственной власти Российской Федерации и органами государственной власти Российской Федерации и органами госуда \n",
      "----\n"
     ]
    },
    {
     "name": "stderr",
     "output_type": "stream",
     "text": [
      "100%|██████████| 1000/1000 [01:21<00:00, 12.23it/s]\n"
     ]
    },
    {
     "name": "stdout",
     "output_type": "stream",
     "text": [
      "Epoch 160 average loss = 0.6901342107653617\n",
      "Генерируем текст в пропорциональном режиме\n",
      "Using random seed: зочной разнарядки в установленный срок\n",
      "----\n",
      " зочной разнарядки в установленный срок переработки.\n",
      "\n",
      " Статья 14.\n",
      " 17. Повреждение времени, необходимые для обменяет средств в соответствии с выраженными объединениями, может быть признану завещаниям которой применяется требования истребов \n",
      "----\n",
      "Генерируем текст в жадном режиме (наиболее вероятные буквы)\n",
      "Using random seed: ьства или в интересах залогодателя.\n",
      "\n",
      " \n"
     ]
    },
    {
     "name": "stderr",
     "output_type": "stream",
     "text": [
      "  0%|          | 2/1000 [00:00<01:23, 12.01it/s]"
     ]
    },
    {
     "name": "stdout",
     "output_type": "stream",
     "text": [
      "----\n",
      " ьства или в интересах залогодателя.\n",
      "\n",
      " Статья 118.\n",
      " Недействительность завещания или представления от исполнения договора поставки товаров для государственных нужд полностью или в части и принятия решения по делу об административном правон \n",
      "----\n"
     ]
    },
    {
     "name": "stderr",
     "output_type": "stream",
     "text": [
      "100%|██████████| 1000/1000 [01:23<00:00, 11.94it/s]\n"
     ]
    },
    {
     "name": "stdout",
     "output_type": "stream",
     "text": [
      "Epoch 161 average loss = 0.6831798566579819\n",
      "Генерируем текст в пропорциональном режиме\n",
      "Using random seed: ю в Российской Федерации, и конопли\n",
      "\n",
      " \n",
      "----\n",
      " ю в Российской Федерации, и конопли\n",
      "\n",
      " 1. В случае принятия решения таможенных пошлин, налогов и служивших основания отступить от имени выносит производные части о за свой счет исполнения обязательства является исключительной экономические \n",
      "----\n",
      "Генерируем текст в жадном режиме (наиболее вероятные буквы)\n",
      "Using random seed: ганизациям.\n",
      " 4. По вопросам распоряжен\n"
     ]
    },
    {
     "name": "stderr",
     "output_type": "stream",
     "text": [
      "  0%|          | 2/1000 [00:00<01:23, 12.01it/s]"
     ]
    },
    {
     "name": "stdout",
     "output_type": "stream",
     "text": [
      "----\n",
      " ганизациям.\n",
      " 4. По вопросам распоряжения об отказе в удовлетворении заявления о пересмотре судебного акта в порядке надзора судебного заседания и продукции или об отказе в удовлетворении заявления о пересмотре судебного акта в порядке над \n",
      "----\n"
     ]
    },
    {
     "name": "stderr",
     "output_type": "stream",
     "text": [
      "100%|██████████| 1000/1000 [01:23<00:00, 11.95it/s]\n"
     ]
    },
    {
     "name": "stdout",
     "output_type": "stream",
     "text": [
      "Epoch 162 average loss = 0.683208722114563\n",
      "Генерируем текст в пропорциональном режиме\n",
      "Using random seed: ти минимальных размеров оплаты труда; \n",
      "----\n",
      " ти минимальных размеров оплаты труда; на юридических лиц в размере от десяти до пятнадцати суток.\n",
      " 4. Процедура требования, исполнение или ненадлежащее состояние суд вправе требовать от нарушения подлежащей выполнения продавцом обязательн \n",
      "----\n",
      "Генерируем текст в жадном режиме (наиболее вероятные буквы)\n",
      "Using random seed: ния о соответствующем юридическом лице\n"
     ]
    },
    {
     "name": "stderr",
     "output_type": "stream",
     "text": [
      "  0%|          | 2/1000 [00:00<01:22, 12.05it/s]"
     ]
    },
    {
     "name": "stdout",
     "output_type": "stream",
     "text": [
      "----\n",
      " ния о соответствующем юридическом лице, подписанный срок не установлен иной срок не установлено иное.\n",
      "\n",
      " Статья 109.\n",
      " Применение к договору подряда на выполнение проектных и изыскательских работ и принять наследство по делам об администрат \n",
      "----\n"
     ]
    },
    {
     "name": "stderr",
     "output_type": "stream",
     "text": [
      "100%|██████████| 1000/1000 [01:23<00:00, 11.94it/s]\n"
     ]
    },
    {
     "name": "stdout",
     "output_type": "stream",
     "text": [
      "Epoch 163 average loss = 0.6820473248362541\n",
      "Генерируем текст в пропорциональном режиме\n",
      "Using random seed: ых отправлениях\n",
      "\n",
      " 1. Таможенное оформл\n",
      "----\n",
      " ых отправлениях\n",
      "\n",
      " 1. Таможенное оформление незаконного выверки его другой, на предупреждение или наложение административного штрафа на граждан в размере от пяти до десяти минимальных размеров оплаты труда с конфискацией указанных приложен \n",
      "----\n",
      "Генерируем текст в жадном режиме (наиболее вероятные буквы)\n",
      "Using random seed: ортным средством лицу, не имеющему при\n"
     ]
    },
    {
     "name": "stderr",
     "output_type": "stream",
     "text": [
      "  0%|          | 2/1000 [00:00<01:23, 12.01it/s]"
     ]
    },
    {
     "name": "stdout",
     "output_type": "stream",
     "text": [
      "----\n",
      " ортным средством лицу, не имеющему при условии полномочий на объектах страхователя (выгодоприобретателя и других лиц и отчуждение вознаграждения и представления и прекращение права собственности на недвижимое имущество, не имеющих право н \n",
      "----\n"
     ]
    },
    {
     "name": "stderr",
     "output_type": "stream",
     "text": [
      "100%|██████████| 1000/1000 [01:23<00:00, 11.95it/s]\n"
     ]
    },
    {
     "name": "stdout",
     "output_type": "stream",
     "text": [
      "Epoch 164 average loss = 0.6818490541577339\n",
      "Генерируем текст в пропорциональном режиме\n",
      "Using random seed: ому покупателю.\n",
      " Если иное не предусмо\n",
      "----\n",
      " ому покупателю.\n",
      " Если иное не предусмотрено договором купли-продажи защитник, утвержденный надзора, содержащимися полагать, что сторонами прав и интересам совместно с ними в течение года см. определение Конституционного Суда РФ от 20.12.1 \n",
      "----\n",
      "Генерируем текст в жадном режиме (наиболее вероятные буквы)\n",
      "Using random seed: естр).\n",
      " Хранителем по судебному секвес\n"
     ]
    },
    {
     "name": "stderr",
     "output_type": "stream",
     "text": [
      "  0%|          | 2/1000 [00:00<01:22, 12.03it/s]"
     ]
    },
    {
     "name": "stdout",
     "output_type": "stream",
     "text": [
      "----\n",
      " естр).\n",
      " Хранителем по судебному секвестру могут быть предусмотрено иное, предусмотренные пунктом 2 статьи 1124), а также при проведении таможенного контроля в соответствии с законодательством Российской Федерации и органами местного самоу \n",
      "----\n"
     ]
    },
    {
     "name": "stderr",
     "output_type": "stream",
     "text": [
      "100%|██████████| 1000/1000 [01:24<00:00, 11.98it/s]\n"
     ]
    },
    {
     "name": "stdout",
     "output_type": "stream",
     "text": [
      "Epoch 165 average loss = 0.6821466464996337\n",
      "Генерируем текст в пропорциональном режиме\n",
      "Using random seed: и годовой финансовой отчетности обществ\n",
      "----\n",
      " и годовой финансовой отчетности общества, который обязан:\n",
      " 1) обеспечивать из федения об отмене обеспечения им положений муниципальная комплексе, ктронних военно-урегулированной в договоре. Они изъятия авторства завещателя\n",
      "\n",
      " 1. Договор аре \n",
      "----\n",
      "Генерируем текст в жадном режиме (наиболее вероятные буквы)\n",
      "Using random seed: нудительное исполнение решения междунар\n"
     ]
    },
    {
     "name": "stderr",
     "output_type": "stream",
     "text": [
      "  0%|          | 2/1000 [00:00<01:24, 11.75it/s]"
     ]
    },
    {
     "name": "stdout",
     "output_type": "stream",
     "text": [
      "----\n",
      " нудительное исполнение решения международного права и обязанности по уплате таможенных пошлин, налогов в соответствии с законодательством Российской Федерации и вывоз товаров и транспортных средств и при отсутствии такого предусмотрено зак \n",
      "----\n"
     ]
    },
    {
     "name": "stderr",
     "output_type": "stream",
     "text": [
      "100%|██████████| 1000/1000 [01:25<00:00, 11.66it/s]\n"
     ]
    },
    {
     "name": "stdout",
     "output_type": "stream",
     "text": [
      "Epoch 166 average loss = 0.6775712558627128\n",
      "Генерируем текст в пропорциональном режиме\n",
      "Using random seed: оваров с таможенной территории Российск\n",
      "----\n",
      " оваров с таможенной территории Российской Федерации при осуществлении научно-исследований, устанции порядка и обеспечение их работы.\n",
      " 2. Исполнитель и другие граждане наследства в пределах видов товаров, таможенных сбоимодшивших возврат ил \n",
      "----\n",
      "Генерируем текст в жадном режиме (наиболее вероятные буквы)\n",
      "Using random seed:  предоставлено полное или частичное осв\n"
     ]
    },
    {
     "name": "stderr",
     "output_type": "stream",
     "text": [
      "  0%|          | 2/1000 [00:00<01:24, 11.75it/s]"
     ]
    },
    {
     "name": "stdout",
     "output_type": "stream",
     "text": [
      "----\n",
      "  предоставлено полное или частичное освобождение от уплаты таможенных пошлин, налогов при выявлении административного правонарушения, или без таковой; на юридических лиц – от двухсот до трехсот минимальных размеров оплаты труда; на юридиче \n",
      "----\n"
     ]
    },
    {
     "name": "stderr",
     "output_type": "stream",
     "text": [
      "100%|██████████| 1000/1000 [01:25<00:00, 11.65it/s]\n"
     ]
    },
    {
     "name": "stdout",
     "output_type": "stream",
     "text": [
      "Epoch 167 average loss = 0.6758887420892715\n",
      "Генерируем текст в пропорциональном режиме\n",
      "Using random seed:  являющегося собственником, защищаются \n",
      "----\n",
      "  являющегося собственником, защищаются на таможенную территорию Российской Федерации или депутатов Государственной договором продажу товара, считается при условии, что эти ее денежные, поставка (местности) других орудий лова или обязанност \n",
      "----\n",
      "Генерируем текст в жадном режиме (наиболее вероятные буквы)\n",
      "Using random seed: нсацию морального вреда, а также воспол\n"
     ]
    },
    {
     "name": "stderr",
     "output_type": "stream",
     "text": [
      "  0%|          | 2/1000 [00:00<01:25, 11.70it/s]"
     ]
    },
    {
     "name": "stdout",
     "output_type": "stream",
     "text": [
      "----\n",
      " нсацию морального вреда, а также воспользоваться и возмещение вреда в связи с положениями статьи 1153 настоящего Кодекса.\n",
      " 2. Рассматривать дела об административных правонарушениях, предусмотренных статьями 11.15, 11.16, частью 1 статьи 19 \n",
      "----\n"
     ]
    },
    {
     "name": "stderr",
     "output_type": "stream",
     "text": [
      "100%|██████████| 1000/1000 [01:25<00:00, 11.68it/s]\n"
     ]
    },
    {
     "name": "stdout",
     "output_type": "stream",
     "text": [
      "Epoch 168 average loss = 0.6743119787573815\n",
      "Генерируем текст в пропорциональном режиме\n",
      "Using random seed: ого брокера (представителя).\n",
      "\n",
      " Статья 1\n",
      "----\n",
      " ого брокера (представителя).\n",
      "\n",
      " Статья 14.\n",
      " 24. Непредоставление арендатору по делам об административных правонарушениях, совершенного не влечет лишение права также оставления специалиста по таможенному оформлению. Изме с указания регистрац \n",
      "----\n",
      "Генерируем текст в жадном режиме (наиболее вероятные буквы)\n",
      "Using random seed: с предварительного разрешения органа оп\n"
     ]
    },
    {
     "name": "stderr",
     "output_type": "stream",
     "text": [
      "  0%|          | 2/1000 [00:00<01:25, 11.73it/s]"
     ]
    },
    {
     "name": "stdout",
     "output_type": "stream",
     "text": [
      "----\n",
      " с предварительного разрешения органа опеки и попечительства и общественной безопасности при осуществлении внешнеэкономической деятельности, принимает решение о принятии апелляционной жалобы без движения и иных предприятия или по иным основ \n",
      "----\n"
     ]
    },
    {
     "name": "stderr",
     "output_type": "stream",
     "text": [
      "100%|██████████| 1000/1000 [01:25<00:00, 11.68it/s]\n"
     ]
    },
    {
     "name": "stdout",
     "output_type": "stream",
     "text": [
      "Epoch 169 average loss = 0.6748035723567009\n",
      "Генерируем текст в пропорциональном режиме\n",
      "Using random seed: теля об отказе от продления договора в \n",
      "----\n",
      " теля об отказе от продления договора в предварительный договор, отсутствуют в течение месяца.\n",
      "\n",
      " Статья 487.\n",
      " Проверка допущения товарами предложение сведения, предусмотренные настоящему Кодексу.\n",
      " 6. План в размере 4 дня исполнение админист \n",
      "----\n",
      "Генерируем текст в жадном режиме (наиболее вероятные буквы)\n",
      "Using random seed:  товары государственному заказчику либо\n"
     ]
    },
    {
     "name": "stderr",
     "output_type": "stream",
     "text": [
      "  0%|          | 2/1000 [00:00<01:25, 11.70it/s]"
     ]
    },
    {
     "name": "stdout",
     "output_type": "stream",
     "text": [
      "----\n",
      "  товары государственному заказчику либо предоставлен судом недействительность завещания или представления о признании не соответствующим Конституции Российской Федерации и представление или представление о пересмотре судебного акта в поряд \n",
      "----\n"
     ]
    },
    {
     "name": "stderr",
     "output_type": "stream",
     "text": [
      "100%|██████████| 1000/1000 [01:25<00:00, 11.62it/s]\n"
     ]
    },
    {
     "name": "stdout",
     "output_type": "stream",
     "text": [
      "Epoch 170 average loss = 0.6744448721408844\n",
      "Генерируем текст в пропорциональном режиме\n",
      "Using random seed:  применения к товарам таможенных процеду\n",
      "----\n",
      "  применения к товарам таможенных процедур таможенно-тарифных мероприятиях), в пределах срока договора, независимо от принятия наследства может быть предъявлено распоряжение специалистов, отчуждается об административных правонарушениях, пред \n",
      "----\n",
      "Генерируем текст в жадном режиме (наиболее вероятные буквы)\n",
      "Using random seed: ление возможности обнародовать опроверже\n"
     ]
    },
    {
     "name": "stderr",
     "output_type": "stream",
     "text": [
      "  0%|          | 2/1000 [00:00<01:27, 11.42it/s]"
     ]
    },
    {
     "name": "stdout",
     "output_type": "stream",
     "text": [
      "----\n",
      " ление возможности обнародовать опровержение договора поставки товаров для государственных нужд, по правилам, предусмотренным статьей 26.1 настоящего Кодекса.\n",
      " 2. Рассматривать дела об административных правонарушениях, предусмотренных статье \n",
      "----\n"
     ]
    },
    {
     "name": "stderr",
     "output_type": "stream",
     "text": [
      "100%|██████████| 1000/1000 [01:27<00:00, 11.45it/s]\n"
     ]
    },
    {
     "name": "stdout",
     "output_type": "stream",
     "text": [
      "Epoch 171 average loss = 0.6680133744478226\n",
      "Генерируем текст в пропорциональном режиме\n",
      "Using random seed: ли расторгнут по основаниям, предусмотре\n",
      "----\n",
      " ли расторгнут по основаниям, предусмотренным настоящим Кодексом.\n",
      "\n",
      " Статья 319.\n",
      " Обязанность хранитель складского свидеть вступившего в законную силу приобретать имущество в течение которого соответствующим, самовользуемого для подачи их вып \n",
      "----\n",
      "Генерируем текст в жадном режиме (наиболее вероятные буквы)\n",
      "Using random seed: ключением случая, когда договор заключен\n"
     ]
    },
    {
     "name": "stderr",
     "output_type": "stream",
     "text": [
      "  0%|          | 2/1000 [00:00<01:26, 11.50it/s]"
     ]
    },
    {
     "name": "stdout",
     "output_type": "stream",
     "text": [
      "----\n",
      " ключением случая, когда договор заключения договора продажи недвижимости на срок до девяноста суток.\n",
      "  (в ред. Федерального закона от 29.06.2004 №58-ФЗ) \n",
      " 2. Рассматривать дела об административных правонарушениях, предусмотренных частью 1 с \n",
      "----\n"
     ]
    },
    {
     "name": "stderr",
     "output_type": "stream",
     "text": [
      "100%|██████████| 1000/1000 [01:27<00:00, 11.42it/s]\n"
     ]
    },
    {
     "name": "stdout",
     "output_type": "stream",
     "text": [
      "Epoch 172 average loss = 0.6677237407565116\n",
      "Генерируем текст в пропорциональном режиме\n",
      "Using random seed: ресечение или попытку незаконного пересе\n",
      "----\n",
      " ресечение или попытку незаконного пересечения общественных месту в установленном в акным средствам, или судом не известны завершает о принятии кассационной жалобы ценных бумаг\n",
      "\n",
      " 1. Договоры соответствующую о получении заявителя.\n",
      " 3. В случа \n",
      "----\n",
      "Генерируем текст в жадном режиме (наиболее вероятные буквы)\n",
      "Using random seed: их компетенции, установленной актами, оп\n"
     ]
    },
    {
     "name": "stderr",
     "output_type": "stream",
     "text": [
      "  0%|          | 2/1000 [00:00<01:26, 11.49it/s]"
     ]
    },
    {
     "name": "stdout",
     "output_type": "stream",
     "text": [
      "----\n",
      " их компетенции, установленной актами, определяется в порядке, установленном настоящим Кодексом.\n",
      " 2. При принятии кассационной жалобы к производству арбитражного суда о принятии к рассмотрению жалобы о признании не соответствующих осуществле \n",
      "----\n"
     ]
    },
    {
     "name": "stderr",
     "output_type": "stream",
     "text": [
      "100%|██████████| 1000/1000 [01:27<00:00, 11.40it/s]\n"
     ]
    },
    {
     "name": "stdout",
     "output_type": "stream",
     "text": [
      "Epoch 173 average loss = 0.6673668128848076\n",
      "Генерируем текст в пропорциональном режиме\n",
      "Using random seed: ами или условиями обязательства либо не \n",
      "----\n",
      " ами или условиями обязательства либо не позднее одновременно с соблюдением порядка осуществить осуществляется под иные таможенные органы в Российской Федерации состоит из на выбор продолжения рассмотрения судом принято решение о пересмотре  \n",
      "----\n",
      "Генерируем текст в жадном режиме (наиболее вероятные буквы)\n",
      "Using random seed: ала инструктажа. О прибытии они докладыв\n"
     ]
    },
    {
     "name": "stderr",
     "output_type": "stream",
     "text": [
      "  0%|          | 2/1000 [00:00<01:27, 11.45it/s]"
     ]
    },
    {
     "name": "stdout",
     "output_type": "stream",
     "text": [
      "----\n",
      " ала инструктажа. О прибытии они докладывать о несостоятельности (банкротстве) и в связи с положением (открытым платежам и на срок до девяноста суток.\n",
      "  (в ред. Федерального закона от 29.06.2004 №58-ФЗ) \n",
      " 2. Обязанность по совершению админис \n",
      "----\n"
     ]
    },
    {
     "name": "stderr",
     "output_type": "stream",
     "text": [
      "100%|██████████| 1000/1000 [01:27<00:00, 10.66it/s]\n"
     ]
    },
    {
     "name": "stdout",
     "output_type": "stream",
     "text": [
      "Epoch 174 average loss = 0.6651883237361907\n",
      "Генерируем текст в пропорциональном режиме\n",
      "Using random seed: жет использоваться для разработки програ\n",
      "----\n",
      " жет использоваться для разработки программного, за исключением случаев, когда соблюдение порядка по данному договору, содержащие положение соответствующего срока деятельности подачи заявителя, и о наличии принадлежности и ограничения внутри \n",
      "----\n",
      "Генерируем текст в жадном режиме (наиболее вероятные буквы)\n",
      "Using random seed: или рассрочки уплаты таможенных пошлин, \n"
     ]
    },
    {
     "name": "stderr",
     "output_type": "stream",
     "text": [
      "  0%|          | 2/1000 [00:00<01:33, 10.70it/s]"
     ]
    },
    {
     "name": "stdout",
     "output_type": "stream",
     "text": [
      "----\n",
      " или рассрочки уплаты таможенных пошлин, налогов и сборов, в которой оно производится в соответствии с законодательством Российской Федерации и органы местного самоуправления, иных органов, должностных лиц – от десяти до двадцати минимальных \n",
      "----\n"
     ]
    },
    {
     "name": "stderr",
     "output_type": "stream",
     "text": [
      "100%|██████████| 1000/1000 [01:27<00:00, 11.42it/s]\n"
     ]
    },
    {
     "name": "stdout",
     "output_type": "stream",
     "text": [
      "Epoch 175 average loss = 0.6673055945634842\n",
      "Генерируем текст в пропорциональном режиме\n",
      "Using random seed: ания.\n",
      " 4. В случае непредставления лицом,\n",
      "----\n",
      " ания.\n",
      " 4. В случае непредставления лицом, отвечают по взаимном строительстве о действовать о проверке конституционности части численности\n",
      "\n",
      "\n",
      " Статья 9);\n",
      " 2) обеспечения сохранности для осуществления в отношении товаров и (или) транспортных ср \n",
      "----\n",
      "Генерируем текст в жадном режиме (наиболее вероятные буквы)\n",
      "Using random seed: ренты (статья 587);\n",
      " плательщик ренты при\n"
     ]
    },
    {
     "name": "stderr",
     "output_type": "stream",
     "text": [
      "  0%|          | 2/1000 [00:00<01:29, 11.17it/s]"
     ]
    },
    {
     "name": "stdout",
     "output_type": "stream",
     "text": [
      "----\n",
      " ренты (статья 587);\n",
      " плательщик ренты при подаче заявления о возврате исполнения обязательства и не менее двух лет со дня открытия наследства и наследуются на общих основаниях в случае необходимости при наличии у них предприятий, учреждений  \n",
      "----\n"
     ]
    },
    {
     "name": "stderr",
     "output_type": "stream",
     "text": [
      "100%|██████████| 1000/1000 [01:30<00:00, 11.06it/s]\n"
     ]
    },
    {
     "name": "stdout",
     "output_type": "stream",
     "text": [
      "Epoch 176 average loss = 0.6609529013037682\n",
      "Генерируем текст в пропорциональном режиме\n",
      "Using random seed: шнеторгового договора, условной таможенно\n",
      "----\n",
      " шнеторгового договора, условной таможенной стоимость квартала;\n",
      " 5) декларации, направление административные правонарушения в Реестр владельцев складов временного хранения одного изготовления.\n",
      " 2. Объектом обеспечения обязательного строительс \n",
      "----\n",
      "Генерируем текст в жадном режиме (наиболее вероятные буквы)\n",
      "Using random seed: ых лиц в размере от десяти до двадцати ми\n"
     ]
    },
    {
     "name": "stderr",
     "output_type": "stream",
     "text": [
      "  0%|          | 2/1000 [00:00<01:29, 11.15it/s]"
     ]
    },
    {
     "name": "stdout",
     "output_type": "stream",
     "text": [
      "----\n",
      " ых лиц в размере от десяти до двадцати минимальных размеров оплаты труда.\n",
      "\n",
      " Статья 15.\n",
      " 2. Нарушение правил охраны и использования в соответствии с законодательством Российской Федерации и представления о признании недействительности на срок \n",
      "----\n"
     ]
    },
    {
     "name": "stderr",
     "output_type": "stream",
     "text": [
      "100%|██████████| 1000/1000 [01:30<00:00, 11.06it/s]\n"
     ]
    },
    {
     "name": "stdout",
     "output_type": "stream",
     "text": [
      "Epoch 177 average loss = 0.6600619919896126\n",
      "Генерируем текст в пропорциональном режиме\n",
      "Using random seed: ельных работ.\n",
      " 4. Подрядчик, не выполнивш\n",
      "----\n",
      " ельных работ.\n",
      " 4. Подрядчик, не выполнивший административную ответственность, выдается последствие места доставки, при этом, что они знали соответственно на совершение таможенного органа в обусловленными настоящей главой. Удовлетворение всео \n",
      "----\n",
      "Генерируем текст в жадном режиме (наиболее вероятные буквы)\n",
      "Using random seed: обязанности\n",
      "\n",
      "\n",
      " Статья 25.\n",
      " 1. Лицо, в отн\n"
     ]
    },
    {
     "name": "stderr",
     "output_type": "stream",
     "text": [
      "  0%|          | 2/1000 [00:00<01:29, 11.15it/s]"
     ]
    },
    {
     "name": "stdout",
     "output_type": "stream",
     "text": [
      "----\n",
      " обязанности\n",
      "\n",
      "\n",
      " Статья 25.\n",
      " 1. Лицо, в отношении которого ведется производство по делу об административном правонарушении подлежат обязательному обратному ввозу на таможенную территорию Российской Федерации о государственном регулировании вне \n",
      "----\n"
     ]
    },
    {
     "name": "stderr",
     "output_type": "stream",
     "text": [
      "100%|██████████| 1000/1000 [01:30<00:00, 11.09it/s]\n"
     ]
    },
    {
     "name": "stdout",
     "output_type": "stream",
     "text": [
      "Epoch 178 average loss = 0.6589622926712037\n",
      "Генерируем текст в пропорциональном режиме\n",
      "Using random seed: жет быть произведен зачет излишне уплачен\n",
      "----\n",
      " жет быть произведен зачет излишне уплаченных или излишне взысканных таможенных платежей в таком соглашение, временного ввоза. С заменен дара собственником, будет использованию земель вправе отказаться от наследства, нарушения, следовательски \n",
      "----\n",
      "Генерируем текст в жадном режиме (наиболее вероятные буквы)\n",
      "Using random seed: ах. Они являются структурными подразделен\n"
     ]
    },
    {
     "name": "stderr",
     "output_type": "stream",
     "text": [
      "  0%|          | 2/1000 [00:00<01:29, 11.14it/s]"
     ]
    },
    {
     "name": "stdout",
     "output_type": "stream",
     "text": [
      "----\n",
      " ах. Они являются структурными подразделениями в отношении товаров, перемещаемых через таможенную границу товаров при вывозе товаров и транспортных средств и оружия и патронов к нему или без таковой; на юридических лиц – от двухсот до трехсот \n",
      "----\n"
     ]
    },
    {
     "name": "stderr",
     "output_type": "stream",
     "text": [
      "100%|██████████| 1000/1000 [01:30<00:00, 11.07it/s]\n"
     ]
    },
    {
     "name": "stdout",
     "output_type": "stream",
     "text": [
      "Epoch 179 average loss = 0.6596083026528359\n",
      "Генерируем текст в пропорциональном режиме\n",
      "Using random seed:  или его отдельного положения, устанавлив\n",
      "----\n",
      "  или его отдельного положения, устанавливающих причины завещателе; произведенное именный ввоз, считается в Российскую Федерацию в соответствии с пунктами 1 и 2 настоящей статьи, вправе:\n",
      " 1) руководитель федерального органа исполнительной вла \n",
      "----\n",
      "Генерируем текст в жадном режиме (наиболее вероятные буквы)\n",
      "Using random seed: ортных средств;\n",
      " один год в иных случаях.\n"
     ]
    },
    {
     "name": "stderr",
     "output_type": "stream",
     "text": [
      "  0%|          | 2/1000 [00:00<01:29, 11.10it/s]"
     ]
    },
    {
     "name": "stdout",
     "output_type": "stream",
     "text": [
      "----\n",
      " ортных средств;\n",
      " один год в иных случаях.\n",
      " 2. Если иное не предусмотрено договором поставки товаров для государственных нужд (выделу об административном правонарушении, в том числе при принятии решения арбитражного суда первой инстанции в сл \n",
      "----\n"
     ]
    },
    {
     "name": "stderr",
     "output_type": "stream",
     "text": [
      "100%|██████████| 1000/1000 [01:30<00:00, 11.07it/s]\n"
     ]
    },
    {
     "name": "stdout",
     "output_type": "stream",
     "text": [
      "Epoch 180 average loss = 0.6595129113793373\n",
      "Генерируем текст в пропорциональном режиме\n",
      "Using random seed: енного настоящим Кодексом для привлечения \n",
      "----\n",
      " енного настоящим Кодексом для привлечения к немедленному правовому акту, имеющему прав и обязанностей в несовершеннолетнему отказано, что, цией; \n",
      " смерти для проверки опрос и продавцом покупателю уплачиваются чье-должностных лиц без перехода  \n",
      "----\n",
      "Генерируем текст в жадном режиме (наиболее вероятные буквы)\n",
      "Using random seed: ую зону в любое время суток.\n",
      " 3. В соответ\n"
     ]
    },
    {
     "name": "stderr",
     "output_type": "stream",
     "text": [
      "  0%|          | 2/1000 [00:00<01:31, 10.89it/s]"
     ]
    },
    {
     "name": "stdout",
     "output_type": "stream",
     "text": [
      "----\n",
      " ую зону в любое время суток.\n",
      " 3. В соответствии с настоящей статьей.\n",
      " 2. При применении статьи 1148 настоящего Кодекса.\n",
      " 2. Рассматривать дела об административных правонарушениях, предусмотренных статьями 11.9, 11.20, 12.27, частью 1 статьи 1 \n",
      "----\n"
     ]
    },
    {
     "name": "stderr",
     "output_type": "stream",
     "text": [
      "100%|██████████| 1000/1000 [01:32<00:00, 10.84it/s]\n"
     ]
    },
    {
     "name": "stdout",
     "output_type": "stream",
     "text": [
      "Epoch 181 average loss = 0.6548629568815232\n",
      "Генерируем текст в пропорциональном режиме\n",
      "Using random seed: онарушений среди несовершеннолетних \n",
      "\n",
      "\n",
      " 87\n",
      "----\n",
      " онарушений среди несовершеннолетних \n",
      "\n",
      "\n",
      " 87\n",
      "\n",
      " Исковая вещь:\n",
      " вопросы и бесплатно доставленных ей приняты в чьей организаций товаров и (или) таможенный режим перевозчиков, а равно невозможности осуществить хранение фонограммы и запрещена не мож \n",
      "----\n",
      "Генерируем текст в жадном режиме (наиболее вероятные буквы)\n",
      "Using random seed: ом или лицом, которому имущество было пере\n"
     ]
    },
    {
     "name": "stderr",
     "output_type": "stream",
     "text": [
      "  0%|          | 2/1000 [00:00<01:31, 10.89it/s]"
     ]
    },
    {
     "name": "stdout",
     "output_type": "stream",
     "text": [
      "----\n",
      " ом или лицом, которому имущество было переданы на таможенной территории Российской Федерации и органами государственной власти субъектов Российской Федерации и органами государственной власти субъектов Российской Федерации и органами государс \n",
      "----\n"
     ]
    },
    {
     "name": "stderr",
     "output_type": "stream",
     "text": [
      "100%|██████████| 1000/1000 [01:32<00:00, 10.82it/s]\n"
     ]
    },
    {
     "name": "stdout",
     "output_type": "stream",
     "text": [
      "Epoch 182 average loss = 0.6533215392827988\n",
      "Генерируем текст в пропорциональном режиме\n",
      "Using random seed: та возникновения права собственности на им\n",
      "----\n",
      " та возникновения права собственности на имущество может выдачи товара, установленного порядка внутренних дел (транспортное средство в порядке надзора, которые не ниже становится административного приостановления, совершения статья 429), несоб \n",
      "----\n",
      "Генерируем текст в жадном режиме (наиболее вероятные буквы)\n",
      "Using random seed: тва должника, поручительством, банковской \n"
     ]
    },
    {
     "name": "stderr",
     "output_type": "stream",
     "text": [
      "  0%|          | 2/1000 [00:00<01:31, 10.87it/s]"
     ]
    },
    {
     "name": "stdout",
     "output_type": "stream",
     "text": [
      "----\n",
      " тва должника, поручительством, банковской гарантии и исполнения постановления по делу об административном правонарушении в области таможенного дела, в порядке, установленном порядке принятия решения об отказе в передаче дела в арбитражном суд \n",
      "----\n"
     ]
    },
    {
     "name": "stderr",
     "output_type": "stream",
     "text": [
      "100%|██████████| 1000/1000 [01:32<00:00, 10.84it/s]\n"
     ]
    },
    {
     "name": "stdout",
     "output_type": "stream",
     "text": [
      "Epoch 183 average loss = 0.6521607742905616\n",
      "Генерируем текст в пропорциональном режиме\n",
      "Using random seed: ц в размере от двадцати до пятидесяти мини\n",
      "----\n",
      " ц в размере от двадцати до пятидесяти минимальных размеров оплаты труда с конфискацией предоставленных норм материалах и каждого из них.\n",
      " 4. Безвозмездном условиям обладателя физических и его качеством первой полосечения стоимости товаров, св \n",
      "----\n",
      "Генерируем текст в жадном режиме (наиболее вероятные буквы)\n",
      "Using random seed: елем, является перечень этих лиц с указани\n"
     ]
    },
    {
     "name": "stderr",
     "output_type": "stream",
     "text": [
      "  0%|          | 2/1000 [00:00<01:31, 10.88it/s]"
     ]
    },
    {
     "name": "stdout",
     "output_type": "stream",
     "text": [
      "----\n",
      " елем, является перечень этих лиц с указанием причин и условий, установленных настоящим Кодексом и иными федеральными законами и иными правовыми актами или договором купли-продажи, и при условии предварительного решения об ассортименте, подтве \n",
      "----\n"
     ]
    },
    {
     "name": "stderr",
     "output_type": "stream",
     "text": [
      "100%|██████████| 1000/1000 [01:32<00:00, 10.83it/s]\n"
     ]
    },
    {
     "name": "stdout",
     "output_type": "stream",
     "text": [
      "Epoch 184 average loss = 0.6541842139363289\n",
      "Генерируем текст в пропорциональном режиме\n",
      "Using random seed: трафа на граждан в размере от пяти до деся\n",
      "----\n",
      " трафа на граждан в размере от пяти до десяти минимальных размеров оплаты труда или географических лиц – от трехссий, за исключением случая в установленном законом.\n",
      " Перемещение товаров и транспортных средств;\n",
      " 28) по его бюля этими организаци \n",
      "----\n",
      "Генерируем текст в жадном режиме (наиболее вероятные буквы)\n",
      "Using random seed: нальным использованием зерна и продуктов е\n"
     ]
    },
    {
     "name": "stderr",
     "output_type": "stream",
     "text": [
      "  0%|          | 2/1000 [00:00<01:31, 10.88it/s]"
     ]
    },
    {
     "name": "stdout",
     "output_type": "stream",
     "text": [
      "----\n",
      " нальным использованием зерна и продуктов его переработки товаров на таможенный склад в соответствии с правилами настоящего Кодекса о полном товариществе на вере (вх судебном заседании или при отсутствии в договоре продажи недвижимости на срок \n",
      "----\n"
     ]
    },
    {
     "name": "stderr",
     "output_type": "stream",
     "text": [
      "100%|██████████| 1000/1000 [01:32<00:00, 10.84it/s]\n"
     ]
    },
    {
     "name": "stdout",
     "output_type": "stream",
     "text": [
      "Epoch 185 average loss = 0.6509253768324852\n",
      "Генерируем текст в пропорциональном режиме\n",
      "Using random seed:  разумных мер к их уменьшению.\n",
      " 2. Правила \n",
      "----\n",
      "  разумных мер к их уменьшению.\n",
      " 2. Правила настоящего раздела по защите их прав и не распространяется также настоящим параграфом. Материальный орган или утраты товаров\n",
      "\n",
      " 1. Таможенные склады энергоснабжающей организации юридического лица, – от \n",
      "----\n",
      "Генерируем текст в жадном режиме (наиболее вероятные буквы)\n",
      "Using random seed: на его обязанности выплатить страховое возм\n"
     ]
    },
    {
     "name": "stderr",
     "output_type": "stream",
     "text": [
      "  0%|          | 2/1000 [00:00<01:33, 10.69it/s]"
     ]
    },
    {
     "name": "stdout",
     "output_type": "stream",
     "text": [
      "----\n",
      " на его обязанности выплатить страховое возмещение убытков, причиненных таможенных пошлин, налогов и сборов в соответствии с настоящим Кодексом и иными федеральными законами и иными правовыми актами или договором поставки товаров для свободного \n",
      "----\n"
     ]
    },
    {
     "name": "stderr",
     "output_type": "stream",
     "text": [
      "100%|██████████| 1000/1000 [01:34<00:00, 10.61it/s]\n"
     ]
    },
    {
     "name": "stdout",
     "output_type": "stream",
     "text": [
      "Epoch 186 average loss = 0.6460516969561577\n",
      "Генерируем текст в пропорциональном режиме\n",
      "Using random seed: евозки автомобильным транспортом тяжеловесн\n",
      "----\n",
      " евозки автомобильным транспортом тяжеловесных грузов, муниципальной собственности линия морского дневности рассмотрения сторон, на основании заявления об обстоятельствах.\n",
      "\n",
      " Статья 1080.\n",
      " Органы;\n",
      " несоблюдение формы, если суд не имеют равный за \n",
      "----\n",
      "Генерируем текст в жадном режиме (наиболее вероятные буквы)\n",
      "Using random seed:  по перечислению средств, кредитной организ\n"
     ]
    },
    {
     "name": "stderr",
     "output_type": "stream",
     "text": [
      "  0%|          | 2/1000 [00:00<01:33, 10.69it/s]"
     ]
    },
    {
     "name": "stdout",
     "output_type": "stream",
     "text": [
      "----\n",
      "  по перечислению средств, кредитной организации и граждане, постоянно проживающих в деле, и иных местах, не входящего в лесной фонд, а также при необходимости при наличии у него доли (статья 1155), не применяются правила настоящей статьи, впра \n",
      "----\n"
     ]
    },
    {
     "name": "stderr",
     "output_type": "stream",
     "text": [
      "100%|██████████| 1000/1000 [01:34<00:00, 10.64it/s]\n"
     ]
    },
    {
     "name": "stdout",
     "output_type": "stream",
     "text": [
      "Epoch 187 average loss = 0.6478363363146782\n",
      "Генерируем текст в пропорциональном режиме\n",
      "Using random seed:  действовавшие на день совершения завещания\n",
      "----\n",
      "  действовавшие на день совершения завещания не менее чем наследственное имущество.\n",
      " 5. О направлении, исполнение судебных расходов, срок годности и членам представителей «Ох-либо повреждение против суда лицом, на котором сопровождение регистри \n",
      "----\n",
      "Генерируем текст в жадном режиме (наиболее вероятные буквы)\n",
      "Using random seed: ания отдельных категорий иностранных лиц, п\n"
     ]
    },
    {
     "name": "stderr",
     "output_type": "stream",
     "text": [
      "  0%|          | 2/1000 [00:00<01:33, 10.64it/s]"
     ]
    },
    {
     "name": "stdout",
     "output_type": "stream",
     "text": [
      "----\n",
      " ания отдельных категорий иностранных лиц, принявших оспариваемый акт, решение или совершили оспариваемые действиями (бездействия) незаконного применения настоящей главы под транспортным средством водителем, не имеющим права и обязанности по об \n",
      "----\n"
     ]
    },
    {
     "name": "stderr",
     "output_type": "stream",
     "text": [
      "100%|██████████| 1000/1000 [01:34<00:00, 10.64it/s]\n"
     ]
    },
    {
     "name": "stdout",
     "output_type": "stream",
     "text": [
      "Epoch 188 average loss = 0.6453195779323578\n",
      "Генерируем текст в пропорциональном режиме\n",
      "Using random seed: на все время, на протяжении которого объект\n",
      "----\n",
      " на все время, на протяжении которого объекты.\n",
      "\n",
      " Статья 361.\n",
      " Таможенная жалобу\n",
      "\n",
      " 1. Арбитражным судом или доступными подписей реализации несения службы в море, на континентальном шельфе, за исключением взаимного страхования (публичного пользов \n",
      "----\n",
      "Генерируем текст в жадном режиме (наиболее вероятные буквы)\n",
      "Using random seed: ве и о лице, в отношении которого применена\n"
     ]
    },
    {
     "name": "stderr",
     "output_type": "stream",
     "text": [
      "  0%|          | 2/1000 [00:00<01:33, 10.69it/s]"
     ]
    },
    {
     "name": "stdout",
     "output_type": "stream",
     "text": [
      "----\n",
      " ве и о лице, в отношении которого применена данная мера обеспечения производства по делу об административном правонарушении, вправе потребовать от покупателя о недостатках товаров и транспортных средств в соответствии с законодательством Росси \n",
      "----\n"
     ]
    },
    {
     "name": "stderr",
     "output_type": "stream",
     "text": [
      "100%|██████████| 1000/1000 [01:33<00:00, 10.64it/s]\n"
     ]
    },
    {
     "name": "stdout",
     "output_type": "stream",
     "text": [
      "Epoch 189 average loss = 0.6446573333740234\n",
      "Генерируем текст в пропорциональном режиме\n",
      "Using random seed: , 20.2 – 20.6, 20.9, 20.15, 20.18, 20.19, 2\n",
      "----\n",
      " , 20.2 – 20.6, 20.9, 20.15, 20.18, 20.19, 20.22 настоящей статье основания-эмиссия произведений не менее 4 20 Орбитражному суду своих действий рассматривает дополнительная какуют, устанавливаются все установленным законом либо несостоятельно п \n",
      "----\n",
      "Генерируем текст в жадном режиме (наиболее вероятные буквы)\n",
      "Using random seed: ования заявителя полностью или в части.\n",
      " 6.\n"
     ]
    },
    {
     "name": "stderr",
     "output_type": "stream",
     "text": [
      "  0%|          | 2/1000 [00:00<01:33, 10.67it/s]"
     ]
    },
    {
     "name": "stdout",
     "output_type": "stream",
     "text": [
      "----\n",
      " ования заявителя полностью или в части.\n",
      " 6. При проведении таможенного контроля за соблюдением правил перевозки груза или багажа в случаях, предусмотренных статьями 8.22, 8.23, 11.2, 11.2, частями 1 и 2 статьи 12.2, статьей 12.26, частями 1 и  \n",
      "----\n"
     ]
    },
    {
     "name": "stderr",
     "output_type": "stream",
     "text": [
      "100%|██████████| 1000/1000 [01:33<00:00, 10.66it/s]\n"
     ]
    },
    {
     "name": "stdout",
     "output_type": "stream",
     "text": [
      "Epoch 190 average loss = 0.6440666081309319\n",
      "Генерируем текст в пропорциональном режиме\n",
      "Using random seed: лава 61.\n",
      " Общие положения о наследовании\n",
      "\n",
      "\n",
      " \n",
      "----\n",
      " лава 61.\n",
      " Общие положения о наследовании\n",
      "\n",
      "\n",
      " Статья 1136.\n",
      " Договор мест ее по основаниям, указанным в пункте 1 настоящей статье осуществления требования клиента о передаче другими официальному его доле;\n",
      " – степени внесено возмещает административ \n",
      "----\n",
      "Генерируем текст в жадном режиме (наиболее вероятные буквы)\n",
      "Using random seed: нения –\n",
      " влечет наложение административного \n"
     ]
    },
    {
     "name": "stderr",
     "output_type": "stream",
     "text": [
      "  0%|          | 2/1000 [00:00<01:34, 10.52it/s]"
     ]
    },
    {
     "name": "stdout",
     "output_type": "stream",
     "text": [
      "----\n",
      " нения –\n",
      " влечет наложение административного штрафа на граждан в размере от десяти до пятнадцати минимальных размеров оплаты труда.\n",
      "\n",
      " Статья 11.\n",
      " 17. Незаконное получение в счет своей наследственного имущества в доверительное управление имуществ \n",
      "----\n"
     ]
    },
    {
     "name": "stderr",
     "output_type": "stream",
     "text": [
      "100%|██████████| 1000/1000 [01:35<00:00, 10.48it/s]\n"
     ]
    },
    {
     "name": "stdout",
     "output_type": "stream",
     "text": [
      "Epoch 191 average loss = 0.6413878605961799\n",
      "Генерируем текст в пропорциональном режиме\n",
      "Using random seed: в товары считаются условно выпущенными. Тамо\n",
      "----\n",
      " в товары считаются условно выпущенными. Таможенными органами в соответствии, порочащих таможенный до выполнения обстоятельства, сокреждение или наложение административного штрафа на граждан в размере от десяти до пятнадцати минимальных размеров \n",
      "----\n",
      "Генерируем текст в жадном режиме (наиболее вероятные буквы)\n",
      "Using random seed:  может впоследствии требовать расторжения до\n"
     ]
    },
    {
     "name": "stderr",
     "output_type": "stream",
     "text": [
      "  0%|          | 2/1000 [00:00<01:34, 10.51it/s]"
     ]
    },
    {
     "name": "stdout",
     "output_type": "stream",
     "text": [
      "----\n",
      "  может впоследствии требовать расторжения договора подряда на выполнение проектных и изыскательских работ – решение, действие (бездействие) таможенного органа в пределах сроков, установленных в соответствии с законодательством Российской Федера \n",
      "----\n"
     ]
    },
    {
     "name": "stderr",
     "output_type": "stream",
     "text": [
      "100%|██████████| 1000/1000 [01:35<00:00, 10.44it/s]\n"
     ]
    },
    {
     "name": "stdout",
     "output_type": "stream",
     "text": [
      "Epoch 192 average loss = 0.640588309943676\n",
      "Генерируем текст в пропорциональном режиме\n",
      "Using random seed: дициях, удостоверенные начальниками этих экс\n",
      "----\n",
      " дициях, удостоверенные начальниками этих экспедиции Российской Федерации;\n",
      " 3) составляется имуществом без согласия постановления которого произведения.\n",
      " 2. В обеспечении без частью 1 статьи 19.4, частью 1 статьи 19.4, частью 3 статьи 11.7, стат \n",
      "----\n",
      "Генерируем текст в жадном режиме (наиболее вероятные буквы)\n",
      "Using random seed: ние технических средств защиты авторского пр\n"
     ]
    },
    {
     "name": "stderr",
     "output_type": "stream",
     "text": [
      "  0%|          | 2/1000 [00:00<01:35, 10.47it/s]"
     ]
    },
    {
     "name": "stdout",
     "output_type": "stream",
     "text": [
      "----\n",
      " ние технических средств защиты авторского права и смежных прав и продуктов их переработки на таможенной территории Российской Федерации и органами государственной власти Российской Федерации и органами государственной власти Российской Федераци \n",
      "----\n"
     ]
    },
    {
     "name": "stderr",
     "output_type": "stream",
     "text": [
      "100%|██████████| 1000/1000 [01:35<00:00, 10.42it/s]\n"
     ]
    },
    {
     "name": "stdout",
     "output_type": "stream",
     "text": [
      "Epoch 193 average loss = 0.6401997308731079\n",
      "Генерируем текст в пропорциональном режиме\n",
      "Using random seed: ени, или выявляются неоднократно, либо прояв\n",
      "----\n",
      " ени, или выявляются неоднократно, либо проявлять заказчика патрульных управления, должно уплатить ему разъезда в огороде\n",
      "\n",
      "\n",
      " Статья 7.\n",
      " 29. Уклонение от наследования.\n",
      " 2. В соответствии с настоящим Уставом или ходатайство о выпуске права на коро \n",
      "----\n",
      "Генерируем текст в жадном режиме (наиболее вероятные буквы)\n",
      "Using random seed: ечения исполнения обязательства представить \n"
     ]
    },
    {
     "name": "stderr",
     "output_type": "stream",
     "text": [
      "  0%|          | 2/1000 [00:00<01:35, 10.45it/s]"
     ]
    },
    {
     "name": "stdout",
     "output_type": "stream",
     "text": [
      "----\n",
      " ечения исполнения обязательства представить в таможенный орган отправления и представления от заключения договора подряда на выполнение проектных и изыскательских работ –\n",
      " влечет наложение административного штрафа на граждан в размере от десяти \n",
      "----\n"
     ]
    },
    {
     "name": "stderr",
     "output_type": "stream",
     "text": [
      "100%|██████████| 1000/1000 [01:35<00:00, 10.43it/s]\n"
     ]
    },
    {
     "name": "stdout",
     "output_type": "stream",
     "text": [
      "Epoch 194 average loss = 0.639933218896389\n",
      "Генерируем текст в пропорциональном режиме\n",
      "Using random seed: ти таможенного дела, своей коммерческой доку\n",
      "----\n",
      " ти таможенного дела, своей коммерческой документ, подтверждающий наличие или продолжения ССМгатрульно-постовые наряды в осуществлении определения о признании его до четырнадцати лет неправомерно или ином надписей отвечает за выполнению междунар \n",
      "----\n",
      "Генерируем текст в жадном режиме (наиболее вероятные буквы)\n",
      "Using random seed: ение маршрута допускается с письменного разр\n"
     ]
    },
    {
     "name": "stderr",
     "output_type": "stream",
     "text": [
      "  0%|          | 2/1000 [00:00<01:35, 10.46it/s]"
     ]
    },
    {
     "name": "stdout",
     "output_type": "stream",
     "text": [
      "----\n",
      " ение маршрута допускается с письменного разрешения на переработку товаров на таможенную территорию Российской Федерации и вывоз товаров и транспортных средств в порядке, предусмотренном настоящим Кодексом.\n",
      " 2. При проведении таможенного контрол \n",
      "----\n"
     ]
    },
    {
     "name": "stderr",
     "output_type": "stream",
     "text": [
      "100%|██████████| 1000/1000 [01:35<00:00, 10.43it/s]\n"
     ]
    },
    {
     "name": "stdout",
     "output_type": "stream",
     "text": [
      "Epoch 195 average loss = 0.6394526028037071\n",
      "Генерируем текст в пропорциональном режиме\n",
      "Using random seed: лючение договора обязательно для стороны, нап\n",
      "----\n",
      " лючение договора обязательно для стороны, направляется основанием собственности у наложения таможенных правил, при проведении экспертиза, с созданные информационные технологии и сертификации применяются правила международного договора, не предос \n",
      "----\n",
      "Генерируем текст в жадном режиме (наиболее вероятные буквы)\n",
      "Using random seed: ажет, что издержки арендатора на эти улучшени\n"
     ]
    },
    {
     "name": "stderr",
     "output_type": "stream",
     "text": [
      "  0%|          | 2/1000 [00:00<01:37, 10.28it/s]"
     ]
    },
    {
     "name": "stdout",
     "output_type": "stream",
     "text": [
      "----\n",
      " ажет, что издержки арендатора на эти улучшения или представлении должно быть приняты в части 1 настоящей статьи, вправе:\n",
      " 1) главный государственный инспектор Российской Федерации и органами местного самоуправления, иных органов, должностных лиц \n",
      "----\n"
     ]
    },
    {
     "name": "stderr",
     "output_type": "stream",
     "text": [
      "100%|██████████| 1000/1000 [01:37<00:00, 10.24it/s]\n"
     ]
    },
    {
     "name": "stdout",
     "output_type": "stream",
     "text": [
      "Epoch 196 average loss = 0.6331538157463074\n",
      "Генерируем текст в пропорциональном режиме\n",
      "Using random seed: те действий, а при отсутствии таковых – с уча\n",
      "----\n",
      " те действий, а при отсутствии таковых – с участием состоищего имущества.\n",
      " 3. Определение уступки, по расчетом кассационной жалобой в ближаемые законы и иную коммерческая концессии\n",
      "\n",
      " Правительство Российской Федерации по маршрутам, связанным с ра \n",
      "----\n",
      "Генерируем текст в жадном режиме (наиболее вероятные буквы)\n",
      "Using random seed: е не предусмотрено настоящим Кодексом.\n",
      "\n",
      " Стат\n"
     ]
    },
    {
     "name": "stderr",
     "output_type": "stream",
     "text": [
      "  0%|          | 2/1000 [00:00<01:37, 10.26it/s]"
     ]
    },
    {
     "name": "stdout",
     "output_type": "stream",
     "text": [
      "----\n",
      " е не предусмотрено настоящим Кодексом.\n",
      "\n",
      " Статья 118.\n",
      " Последствия несоблюдения таможенного оформления производится в соответствии с законодательством Российской Федерации и органами государственной власти Российской Федерации и органами государс \n",
      "----\n"
     ]
    },
    {
     "name": "stderr",
     "output_type": "stream",
     "text": [
      "100%|██████████| 1000/1000 [01:37<00:00, 10.24it/s]\n"
     ]
    },
    {
     "name": "stdout",
     "output_type": "stream",
     "text": [
      "Epoch 197 average loss = 0.6327473694682121\n",
      "Генерируем текст в пропорциональном режиме\n",
      "Using random seed: ой, так и в письменной форме бесплатно. По тр\n",
      "----\n",
      " ой, так и в письменной форме бесплатно. По требованию назначить склад товаров.\n",
      " 2. Владельцом –\n",
      " влечет наложение административного штрафа в размере одного минимального размера оплаты труда; на должностных лиц – от десяти до двадцати минимальных \n",
      "----\n",
      "Генерируем текст в жадном режиме (наиболее вероятные буквы)\n",
      "Using random seed: бственности с соблюдением правил, предусмотре\n"
     ]
    },
    {
     "name": "stderr",
     "output_type": "stream",
     "text": [
      "  0%|          | 2/1000 [00:00<01:36, 10.30it/s]"
     ]
    },
    {
     "name": "stdout",
     "output_type": "stream",
     "text": [
      "----\n",
      " бственности с соблюдением правил, предусмотренных законом или договором поручения и обучения, предусмотренного пунктом 1 настоящей статьи, вправе:\n",
      " 1) руководитель федерального органа исполнительной власти, уполномоченного в области таможенного  \n",
      "----\n"
     ]
    },
    {
     "name": "stderr",
     "output_type": "stream",
     "text": [
      "100%|██████████| 1000/1000 [01:37<00:00, 10.24it/s]\n"
     ]
    },
    {
     "name": "stdout",
     "output_type": "stream",
     "text": [
      "Epoch 198 average loss = 0.6323234513998032\n",
      "Генерируем текст в пропорциональном режиме\n",
      "Using random seed: очными для принятия решения в отношении заявл\n",
      "----\n",
      " очными для принятия решения в отношении заявления или представления произведения им на документов по обстоятельствам, законностью этого распространению последнего.\n",
      " 2. Извещение третейского суда, рассматривает судьи может быть обжалована о време \n",
      "----\n",
      "Генерируем текст в жадном режиме (наиболее вероятные буквы)\n",
      "Using random seed: в размере двух минимальных размеров оплаты тр\n"
     ]
    },
    {
     "name": "stderr",
     "output_type": "stream",
     "text": [
      "  0%|          | 2/1000 [00:00<01:37, 10.27it/s]"
     ]
    },
    {
     "name": "stdout",
     "output_type": "stream",
     "text": [
      "----\n",
      " в размере двух минимальных размеров оплаты труда.\n",
      " 2. Нарушение правил производства по делу об административном правонарушении, в отношении которых предусмотрены обязанность по обязательствам общего пользования и распоряжения ими предприятия и о \n",
      "----\n"
     ]
    },
    {
     "name": "stderr",
     "output_type": "stream",
     "text": [
      "100%|██████████| 1000/1000 [01:37<00:00, 10.24it/s]\n"
     ]
    },
    {
     "name": "stdout",
     "output_type": "stream",
     "text": [
      "Epoch 199 average loss = 0.6325336464047432\n",
      "Генерируем текст в пропорциональном режиме\n",
      "Using random seed: нимальных размеров оплаты труда.\n",
      " 3. Непредст\n",
      "----\n",
      " нимальных размеров оплаты труда.\n",
      " 3. Непредставление которых данное лицо. Договор банковского счета, последний причинителя в сфере эмотренных договором между заинтересованным лицам в заключении договора страхования риска гражданских и охраняемых \n",
      "----\n",
      "Генерируем текст в жадном режиме (наиболее вероятные буквы)\n",
      "Using random seed: ика на таком заявлении должна быть засвидетел\n"
     ]
    },
    {
     "name": "stderr",
     "output_type": "stream",
     "text": [
      "  0%|          | 2/1000 [00:00<01:37, 10.28it/s]"
     ]
    },
    {
     "name": "stdout",
     "output_type": "stream",
     "text": [
      "----\n",
      " ика на таком заявлении должна быть засвидетельствованию и пресечению преступлений и административных правонарушений в области таможенного дела, в соответствии с законодательством Российской Федерации о государственном регулировании внешнеторгово \n",
      "----\n"
     ]
    },
    {
     "name": "stderr",
     "output_type": "stream",
     "text": [
      "100%|██████████| 1000/1000 [01:37<00:00, 10.25it/s]\n"
     ]
    },
    {
     "name": "stdout",
     "output_type": "stream",
     "text": [
      "Epoch 200 average loss = 0.6322661926150321\n",
      "Генерируем текст в пропорциональном режиме\n",
      "Using random seed: , налогов в отношении товаров, стоимость котор\n",
      "----\n",
      " , налогов в отношении товаров, стоимость которых таможенную границу, а также переходит к двумя или без таковой либо конфискацию предметов административного правонарушения; на должностных лиц – от трех до пяти минимальных размеров оплаты труда с к \n",
      "----\n",
      "Генерируем текст в жадном режиме (наиболее вероятные буквы)\n",
      "Using random seed: \n",
      " В определении могут быть разрешены вопросы о\n"
     ]
    },
    {
     "name": "stderr",
     "output_type": "stream",
     "text": [
      "  0%|          | 2/1000 [00:00<01:39, 10.08it/s]"
     ]
    },
    {
     "name": "stdout",
     "output_type": "stream",
     "text": [
      "----\n",
      " \n",
      " В определении могут быть разрешены вопросы о достоверности сведений, указанных в пункте 1 настоящей статьи, вправе:\n",
      " 1) главный государственный инспектор Российской Федерации и органами государственной власти Российской Федерации и органами гос \n",
      "----\n"
     ]
    },
    {
     "name": "stderr",
     "output_type": "stream",
     "text": [
      "100%|██████████| 1000/1000 [01:39<00:00, 10.04it/s]\n"
     ]
    },
    {
     "name": "stdout",
     "output_type": "stream",
     "text": [
      "Epoch 201 average loss = 0.6282323102355003\n",
      "Генерируем текст в пропорциональном режиме\n",
      "Using random seed: дства другим наследником, могут принять наслед\n",
      "----\n",
      " дства другим наследником, могут принять наследство по платежного контролю.\n",
      " 2. Дела об административных правонарушениях правоспособность арендодатель не могут быть рассмотрение дела в арбитражном суде.\n",
      "\n",
      " Статья 95.\n",
      " Дела об административных право \n",
      "----\n",
      "Генерируем текст в жадном режиме (наиболее вероятные буквы)\n",
      "Using random seed: ргана исполнительной власти, уполномоченного н\n"
     ]
    },
    {
     "name": "stderr",
     "output_type": "stream",
     "text": [
      "  0%|          | 2/1000 [00:00<01:39, 10.07it/s]"
     ]
    },
    {
     "name": "stdout",
     "output_type": "stream",
     "text": [
      "----\n",
      " ргана исполнительной власти, уполномоченного на основании продажи средств или психотропных веществ и их прекурсоров, подлежащих уплате в связи с исполнением служебных обязанностей по содержанию и установленной форме о предоставлении возражений в  \n",
      "----\n"
     ]
    },
    {
     "name": "stderr",
     "output_type": "stream",
     "text": [
      "100%|██████████| 1000/1000 [01:39<00:00, 10.04it/s]\n"
     ]
    },
    {
     "name": "stdout",
     "output_type": "stream",
     "text": [
      "Epoch 202 average loss = 0.6261758348941803\n",
      "Генерируем текст в пропорциональном режиме\n",
      "Using random seed: влечет наложение административного штрафа на д\n",
      "----\n",
      " влечет наложение административного штрафа на должностных лиц в размере от двадцати до тридцати минимальных размеров оплаты труда; на должностных лиц – от ста до двухсот минимальных размеров оплаты труда.\n",
      " 3. Нарушение сроков открытие охраны насле \n",
      "----\n",
      "Генерируем текст в жадном режиме (наиболее вероятные буквы)\n",
      "Using random seed: правляется определенному кругу лиц по выбору о\n"
     ]
    },
    {
     "name": "stderr",
     "output_type": "stream",
     "text": [
      "  0%|          | 2/1000 [00:00<01:39, 10.06it/s]"
     ]
    },
    {
     "name": "stdout",
     "output_type": "stream",
     "text": [
      "----\n",
      " правляется определенному кругу лиц по выбору общества с ограниченной ответственностью и порядок и сроки принятия наследства и наследуются на общих основаниях и в порядке, установленном настоящим Кодексом.\n",
      " 2. При принятии решения арбитражного суд \n",
      "----\n"
     ]
    },
    {
     "name": "stderr",
     "output_type": "stream",
     "text": [
      "100%|██████████| 1000/1000 [01:39<00:00, 10.02it/s]\n"
     ]
    },
    {
     "name": "stdout",
     "output_type": "stream",
     "text": [
      "Epoch 203 average loss = 0.6279957628846169\n",
      "Генерируем текст в пропорциональном режиме\n",
      "Using random seed: ской Федерации осуществляют министры внутренни\n",
      "----\n",
      " ской Федерации осуществляют министры внутренних дел на транспорте оборудования.\n",
      "\n",
      " Статья 314.\n",
      " Право, подлежащее применению к обязательствам субъектов Российской Федерации по делам о наследственном регрессных партий по закону первой партии трансп \n",
      "----\n",
      "Генерируем текст в жадном режиме (наиболее вероятные буквы)\n",
      "Using random seed: ть одним коротким сигналом и немедленно направ\n"
     ]
    },
    {
     "name": "stderr",
     "output_type": "stream",
     "text": [
      "  0%|          | 2/1000 [00:00<01:38, 10.10it/s]"
     ]
    },
    {
     "name": "stdout",
     "output_type": "stream",
     "text": [
      "----\n",
      " ть одним коротким сигналом и немедленно направленные в отношении товаров, перемещаемых через таможенную границу Российской Федерации и Государственной Думы и ответственность за неисполнение или ненадлежащее исполнение обязательства по данному дел \n",
      "----\n"
     ]
    },
    {
     "name": "stderr",
     "output_type": "stream",
     "text": [
      "100%|██████████| 1000/1000 [01:39<00:00, 10.04it/s]\n"
     ]
    },
    {
     "name": "stdout",
     "output_type": "stream",
     "text": [
      "Epoch 204 average loss = 0.626809904396534\n",
      "Генерируем текст в пропорциональном режиме\n",
      "Using random seed: чинение ему убытков.\n",
      " 2. Кредитор не вправе тр\n",
      "----\n",
      " чинение ему убытков.\n",
      " 2. Кредитор не вправе требовать допущения сохранность завещания здания или с нанесение службы патрульно-постовую службу в арбитражный суд в письменной форме (главных управления отчетность предусмотрена условия в технически з \n",
      "----\n",
      "Генерируем текст в жадном режиме (наиболее вероятные буквы)\n",
      "Using random seed: ра или сходных с ними обозначений для однородн\n"
     ]
    },
    {
     "name": "stderr",
     "output_type": "stream",
     "text": [
      "  0%|          | 2/1000 [00:00<01:39, 10.06it/s]"
     ]
    },
    {
     "name": "stdout",
     "output_type": "stream",
     "text": [
      "----\n",
      " ра или сходных с ними обозначений для однородных перевозчика и при наследовании и иные лицами, ответственными за уплату таможенных пошлин, налогов в отношении товаров, перемещаемых через таможенную границу Российской Федерации и представление и п \n",
      "----\n"
     ]
    },
    {
     "name": "stderr",
     "output_type": "stream",
     "text": [
      "100%|██████████| 1000/1000 [01:39<00:00, 10.04it/s]\n"
     ]
    },
    {
     "name": "stdout",
     "output_type": "stream",
     "text": [
      "Epoch 205 average loss = 0.6273558482527732\n",
      "Генерируем текст в пропорциональном режиме\n",
      "Using random seed: авляется лицу, обратившемуся с заявлением об об\n",
      "----\n",
      " авляется лицу, обратившемуся с заявлением об обеспечении иска, предупреждение и пользователь единственные объединения материала заказчика.\n",
      "\n",
      " Статья 30.\n",
      " 6. Рассматривать дела об административных правонарушениях с соблюдением установленных марбрИ,  \n",
      "----\n",
      "Генерируем текст в жадном режиме (наиболее вероятные буквы)\n",
      "Using random seed: товых сигналов, создающих помехи в опознании на\n"
     ]
    },
    {
     "name": "stderr",
     "output_type": "stream",
     "text": [
      "  0%|          | 2/1000 [00:00<01:41,  9.87it/s]"
     ]
    },
    {
     "name": "stdout",
     "output_type": "stream",
     "text": [
      "----\n",
      " товых сигналов, создающих помехи в опознании нарушения правил пользования и распоряжения ими понимаются в случае необходимости при наличии у него или предмета залога или иной кредитной организации или об отказе в принятии к рассмотрению запроса о  \n",
      "----\n"
     ]
    },
    {
     "name": "stderr",
     "output_type": "stream",
     "text": [
      "100%|██████████| 1000/1000 [01:42<00:00,  9.78it/s]\n"
     ]
    },
    {
     "name": "stdout",
     "output_type": "stream",
     "text": [
      "Epoch 206 average loss = 0.6209389399290085\n",
      "Генерируем текст в пропорциональном режиме\n",
      "Using random seed: вания административного ареста –\n",
      " влечет админи\n",
      "----\n",
      " вания административного ареста –\n",
      " влечет административные норме. По договору коммерческих документах проведения либо совершения суммы возмещения вреда товаров (гражданские права и законные интересы которого на континентальном шельфе 11 днем случае \n",
      "----\n",
      "Генерируем текст в жадном режиме (наиболее вероятные буквы)\n",
      "Using random seed: таможенных органов при отсутствии специальных с\n"
     ]
    },
    {
     "name": "stderr",
     "output_type": "stream",
     "text": [
      "  0%|          | 2/1000 [00:00<01:41,  9.81it/s]"
     ]
    },
    {
     "name": "stdout",
     "output_type": "stream",
     "text": [
      "----\n",
      " таможенных органов при отсутствии специальных средств и оружия и патронов к нему в соответствии с законодательством Российской Федерации о государственном регулировании внешнеторговой деятельности, а также при необходимости применяются правила о д \n",
      "----\n"
     ]
    },
    {
     "name": "stderr",
     "output_type": "stream",
     "text": [
      "100%|██████████| 1000/1000 [01:42<00:00,  9.81it/s]\n"
     ]
    },
    {
     "name": "stdout",
     "output_type": "stream",
     "text": [
      "Epoch 207 average loss = 0.6206359795331955\n",
      "Генерируем текст в пропорциональном режиме\n",
      "Using random seed: вного задержания засчитывается в срок администр\n",
      "----\n",
      " вного задержания засчитывается в срок административной ответственности, устанавливает техническим убытков, понесенный им в условиях и в доход потерпевшему, за исключением вклада в состав наследства на отчисление при условиях его, –\n",
      " влечет наложен \n",
      "----\n",
      "Генерируем текст в жадном режиме (наиболее вероятные буквы)\n",
      "Using random seed: зопасности в организациях) настоящего Кодекса;\n",
      "\n"
     ]
    },
    {
     "name": "stderr",
     "output_type": "stream",
     "text": [
      "  0%|          | 1/1000 [00:00<01:41,  9.88it/s]"
     ]
    },
    {
     "name": "stdout",
     "output_type": "stream",
     "text": [
      "----\n",
      " зопасности в организациях) настоящего Кодекса;\n",
      " 3) наличие и другие предметом административного правонарушения и продукции незаконного природопользования или без таковой; на юридических лиц – от двухсот до трехсот минимальных размеров оплаты труда \n",
      "----\n"
     ]
    },
    {
     "name": "stderr",
     "output_type": "stream",
     "text": [
      "100%|██████████| 1000/1000 [01:41<00:00,  9.82it/s]\n"
     ]
    },
    {
     "name": "stdout",
     "output_type": "stream",
     "text": [
      "Epoch 208 average loss = 0.6212526676654816\n",
      "Генерируем текст в пропорциональном режиме\n",
      "Using random seed: чающих возможность участия лица в качестве защи\n",
      "----\n",
      " чающих возможность участия лица в качестве защитных документов и сведений несет ответственности при наличии у него действий лица.\n",
      "\n",
      " Статья 885.\n",
      " Последствия прекращения или остаются лицам, участвующим в деле, в районный суд по месту граждан, а так \n",
      "----\n",
      "Генерируем текст в жадном режиме (наиболее вероятные буквы)\n",
      "Using random seed: нте.\n",
      " 2. В доверенности, выданной представляемы\n"
     ]
    },
    {
     "name": "stderr",
     "output_type": "stream",
     "text": [
      "  0%|          | 1/1000 [00:00<01:41,  9.85it/s]"
     ]
    },
    {
     "name": "stdout",
     "output_type": "stream",
     "text": [
      "----\n",
      " нте.\n",
      " 2. В доверенности, выданной представляемых настоящим Кодексом, другими законами.\n",
      "  (в ред. Федерального закона от 29.06.2004 №58-ФЗ) \n",
      " 2. При отсутствии в договоре поставки товаров для государственных нужд осуществляется в соответствии с зак \n",
      "----\n"
     ]
    },
    {
     "name": "stderr",
     "output_type": "stream",
     "text": [
      "100%|██████████| 1000/1000 [01:41<00:00,  9.81it/s]\n"
     ]
    },
    {
     "name": "stdout",
     "output_type": "stream",
     "text": [
      "Epoch 209 average loss = 0.6217450023889541\n",
      "Генерируем текст в пропорциональном режиме\n",
      "Using random seed: таможенного контроля\n",
      "\n",
      " 1. Лица, перемещающие то\n",
      "----\n",
      " таможенного контроля\n",
      "\n",
      " 1. Лица, перемещающие товар удостоверена дара покупателя о передаче им убытков подает судебных штрафа в размере от десяти до пятнадцати минимальных размеров оплаты труда; на юридических лиц – от трехсот до четырехсот минимал \n",
      "----\n",
      "Генерируем текст в жадном режиме (наиболее вероятные буквы)\n",
      "Using random seed: изации перевозки.\n",
      "\n",
      " Статья 799.\n",
      " Договоры между\n"
     ]
    },
    {
     "name": "stderr",
     "output_type": "stream",
     "text": [
      "  0%|          | 2/1000 [00:00<01:41,  9.84it/s]"
     ]
    },
    {
     "name": "stdout",
     "output_type": "stream",
     "text": [
      "----\n",
      " изации перевозки.\n",
      "\n",
      " Статья 799.\n",
      " Договоры международных объектов недвижимости при наличии обстоятельств, предусмотренных статьями 11.20, 13.21, 11.23, 12.34, 13.23, частью 1 статьи 19.4, частью 1 статьи 19.5, статьями 19.6, 19.7 настоящего Кодекса \n",
      "----\n"
     ]
    },
    {
     "name": "stderr",
     "output_type": "stream",
     "text": [
      "100%|██████████| 1000/1000 [01:41<00:00,  9.82it/s]\n"
     ]
    },
    {
     "name": "stdout",
     "output_type": "stream",
     "text": [
      "Epoch 210 average loss = 0.6184950269460678\n",
      "Генерируем текст в пропорциональном режиме\n",
      "Using random seed: ет от должности заместителей Председателя Правит\n",
      "----\n",
      " ет от должности заместителей Председателя Правительства Российской Федерации и Государственная Дума пострада в связи с принадлежащими начальниками, которые имеет права и обязанности, предусмотренные пакую, постановления арбитражного суда отдельных  \n",
      "----\n",
      "Генерируем текст в жадном режиме (наиболее вероятные буквы)\n",
      "Using random seed: а хранение вещи не менее, чем о своих вещах.\n",
      "\n",
      " С\n"
     ]
    },
    {
     "name": "stderr",
     "output_type": "stream",
     "text": [
      "  0%|          | 1/1000 [00:00<01:42,  9.74it/s]"
     ]
    },
    {
     "name": "stdout",
     "output_type": "stream",
     "text": [
      "----\n",
      " а хранение вещи не менее, чем о своих вещах.\n",
      "\n",
      " Статья 1166.\n",
      " Применение к специальными предприятиями и учредительными документами общества с ограниченной ответственностью и участников референдума либо предоставления в суд, арбитражный суд выносит о \n",
      "----\n"
     ]
    },
    {
     "name": "stderr",
     "output_type": "stream",
     "text": [
      "100%|██████████| 1000/1000 [01:44<00:00,  9.56it/s]\n"
     ]
    },
    {
     "name": "stdout",
     "output_type": "stream",
     "text": [
      "Epoch 211 average loss = 0.6163923096656799\n",
      "Генерируем текст в пропорциональном режиме\n",
      "Using random seed: старший начальствующий состав:\n",
      " майор милиции, п\n",
      "----\n",
      " старший начальствующий состав:\n",
      " майор милиции, послужившие основанием для призывается к ним и в порядке, предусмотренном законом субъекта Российской Федерации в соответствии с законодательством Российской Федерации, Рессмотревой нарушениями, за иск \n",
      "----\n",
      "Генерируем текст в жадном режиме (наиболее вероятные буквы)\n",
      "Using random seed: й срок для их совершения.\n",
      " 5. Должностное лицо т\n"
     ]
    },
    {
     "name": "stderr",
     "output_type": "stream",
     "text": [
      "  0%|          | 1/1000 [00:00<01:43,  9.63it/s]"
     ]
    },
    {
     "name": "stdout",
     "output_type": "stream",
     "text": [
      "----\n",
      " й срок для их совершения.\n",
      " 5. Должностное лицо таможенного органа или его должностного лица таможенного органа или его должностного лица таможенного органа или его должностного лица таможенного органа или его должностного лица таможенного органа ил \n",
      "----\n"
     ]
    },
    {
     "name": "stderr",
     "output_type": "stream",
     "text": [
      "100%|██████████| 1000/1000 [01:44<00:00,  9.57it/s]\n"
     ]
    },
    {
     "name": "stdout",
     "output_type": "stream",
     "text": [
      "Epoch 212 average loss = 0.6161481552124023\n",
      "Генерируем текст в пропорциональном режиме\n",
      "Using random seed: аследниками в заключенном ими соглашении, причит\n",
      "----\n",
      " аследниками в заключенном ими соглашении, причитающегося поставщиком прекращаются таможенного режиналась или иному предприниматется не позднее одного года со дня официального имущества и имущественными услуг или указанным финансовым агентом.\n",
      " Если  \n",
      "----\n",
      "Генерируем текст в жадном режиме (наиболее вероятные буквы)\n",
      "Using random seed: ьность неотложных действий начальника и дежурног\n"
     ]
    },
    {
     "name": "stderr",
     "output_type": "stream",
     "text": [
      "  0%|          | 1/1000 [00:00<01:43,  9.67it/s]"
     ]
    },
    {
     "name": "stdout",
     "output_type": "stream",
     "text": [
      "----\n",
      " ьность неотложных действий начальника и дежурного по договору простого товарищества не предусмотрено иное, страховщик освобождается от ответственности за невный срок после принятия таможенной декларации или сообщение договора поставки товаров для г \n",
      "----\n"
     ]
    },
    {
     "name": "stderr",
     "output_type": "stream",
     "text": [
      "100%|██████████| 1000/1000 [01:44<00:00,  9.57it/s]\n"
     ]
    },
    {
     "name": "stdout",
     "output_type": "stream",
     "text": [
      "Epoch 213 average loss = 0.6155190426111221\n",
      "Генерируем текст в пропорциональном режиме\n",
      "Using random seed: ит продаже с публичных торгов.\n",
      " 3. Если собствен\n",
      "----\n",
      " ит продаже с публичных торгов.\n",
      " 3. Если собственник буемых на инструктаже предметов в государственный реестр в Российской Федерации.\n",
      " По делу об административном правонарушении с момента выгодоприобретателя, рассматривают же дело лонамегком или не  \n",
      "----\n",
      "Генерируем текст в жадном режиме (наиболее вероятные буквы)\n",
      "Using random seed: а; на лиц, осуществляющих предпринимательскую де\n"
     ]
    },
    {
     "name": "stderr",
     "output_type": "stream",
     "text": [
      "  0%|          | 1/1000 [00:00<01:43,  9.62it/s]"
     ]
    },
    {
     "name": "stdout",
     "output_type": "stream",
     "text": [
      "----\n",
      " а; на лиц, осуществляющих предпринимательскую деятельность без образования юридического лица, в отношении которого ведется производство по делу об административном правонарушении и (или) обычного квалификационного аттестата специалиста по таможенно \n",
      "----\n"
     ]
    },
    {
     "name": "stderr",
     "output_type": "stream",
     "text": [
      "100%|██████████| 1000/1000 [01:44<00:00,  9.57it/s]\n"
     ]
    },
    {
     "name": "stdout",
     "output_type": "stream",
     "text": [
      "Epoch 214 average loss = 0.6148912157416344\n",
      "Генерируем текст в пропорциональном режиме\n",
      "Using random seed: нные инструкции о пользовании этим имуществом.\n",
      "\n",
      "\n",
      "----\n",
      " нные инструкции о пользовании этим имуществом.\n",
      "\n",
      "\n",
      "\n",
      "\n",
      " Раздел VII;\n",
      " 50) товаров на указанные в векзал Российской Федерации в отношении которого находится на нарушение установленного срока для проведения ревизия, – не препятствует предупреждению им офе \n",
      "----\n",
      "Генерируем текст в жадном режиме (наиболее вероятные буквы)\n",
      "Using random seed: и информации, используемой при определении тамож\n"
     ]
    },
    {
     "name": "stderr",
     "output_type": "stream",
     "text": [
      "  0%|          | 1/1000 [00:00<01:44,  9.60it/s]"
     ]
    },
    {
     "name": "stdout",
     "output_type": "stream",
     "text": [
      "----\n",
      " и информации, используемой при определении таможенного контроля и не предусмотрено иное.\n",
      "\n",
      " Статья 1138.\n",
      " Возврат излишне уплаченных или излишне взысканных таможенных пошлин, налогов производится в соответствии с пунктом 1 настоящей статьи, вправе:\n",
      " \n",
      "----\n"
     ]
    },
    {
     "name": "stderr",
     "output_type": "stream",
     "text": [
      "100%|██████████| 1000/1000 [01:44<00:00,  9.57it/s]\n"
     ]
    },
    {
     "name": "stdout",
     "output_type": "stream",
     "text": [
      "Epoch 215 average loss = 0.6151020868420601\n",
      "Генерируем текст в пропорциональном режиме\n",
      "Using random seed:  порядок выдачи таможенным органом разрешения на \n",
      "----\n",
      "  порядок выдачи таможенным органом разрешения на переработку товаров прекращают освещение в целях проверки таможенных органов недействительности определения документов, составленных в техническому сроку на постоянное начало арбитражный суд в организ \n",
      "----\n",
      "Генерируем текст в жадном режиме (наиболее вероятные буквы)\n",
      "Using random seed: анов федерального органа исполнительной власти, у\n"
     ]
    },
    {
     "name": "stderr",
     "output_type": "stream",
     "text": [
      "  0%|          | 1/1000 [00:00<01:45,  9.46it/s]"
     ]
    },
    {
     "name": "stdout",
     "output_type": "stream",
     "text": [
      "----\n",
      " анов федерального органа исполнительной власти, уполномоченного в области таможенного дела, по согласованию с их строевому принятие заявление о признании недействительности на срок до девяноста суток.\n",
      "  (в ред. Федерального закона от 29.06.2004 №58- \n",
      "----\n"
     ]
    },
    {
     "name": "stderr",
     "output_type": "stream",
     "text": [
      "100%|██████████| 1000/1000 [01:46<00:00,  9.37it/s]\n"
     ]
    },
    {
     "name": "stdout",
     "output_type": "stream",
     "text": [
      "Epoch 216 average loss = 0.6100217381119728\n",
      "Генерируем текст в пропорциональном режиме\n",
      "Using random seed: я продажа товаров (иных вещей), свободная реализа\n",
      "----\n",
      " я продажа товаров (иных вещей), свободная реализация которого обнаружены с этим трех суток с момента выплачивается за счет этих лиц уведомления Федерального закона от 29.06.2004 №5.\n",
      "\n",
      " 187\n",
      "\n",
      " При неуплате, направляются лица, уполномоченным собственник \n",
      "----\n",
      "Генерируем текст в жадном режиме (наиболее вероятные буквы)\n",
      "Using random seed: ссийской Федерации, установленные для публичного \n"
     ]
    },
    {
     "name": "stderr",
     "output_type": "stream",
     "text": [
      "  0%|          | 1/1000 [00:00<01:45,  9.48it/s]"
     ]
    },
    {
     "name": "stdout",
     "output_type": "stream",
     "text": [
      "----\n",
      " ссийской Федерации, установленные для публичного договора простого товарищества или общества с ограниченной ответственностью в связи с принятием Федерального закона от 29.06.2004 №58-ФЗ) \n",
      " 2. При проведении таможенного контроля в соответствии с зако \n",
      "----\n"
     ]
    },
    {
     "name": "stderr",
     "output_type": "stream",
     "text": [
      "100%|██████████| 1000/1000 [01:46<00:00,  9.38it/s]\n"
     ]
    },
    {
     "name": "stdout",
     "output_type": "stream",
     "text": [
      "Epoch 217 average loss = 0.6103928621411323\n",
      "Генерируем текст в пропорциональном режиме\n",
      "Using random seed: сть лишь постольку, поскольку это служит достижен\n",
      "----\n",
      " сть лишь постольку, поскольку это служит достижения против требованиям сторон транспортных средств на таможенную территорию Российской Федерации о поступлении строительства и оборота лишь от соответствующую закону родитель федеральному закону.\n",
      "\n",
      " Ста \n",
      "----\n",
      "Генерируем текст в жадном режиме (наиболее вероятные буквы)\n",
      "Using random seed: ах.\n",
      " Если залогодержатель не воспользуется правом\n"
     ]
    },
    {
     "name": "stderr",
     "output_type": "stream",
     "text": [
      "  0%|          | 1/1000 [00:00<01:45,  9.46it/s]"
     ]
    },
    {
     "name": "stdout",
     "output_type": "stream",
     "text": [
      "----\n",
      " ах.\n",
      " Если залогодержатель не воспользуется правом и место проведения массовых мероприятий и принять необходимые меры по охране наследства и управлению им по праву представления о пересмотре судебного акта в порядке надзора подлежат обязательной серт \n",
      "----\n"
     ]
    },
    {
     "name": "stderr",
     "output_type": "stream",
     "text": [
      "100%|██████████| 1000/1000 [01:46<00:00,  9.38it/s]\n"
     ]
    },
    {
     "name": "stdout",
     "output_type": "stream",
     "text": [
      "Epoch 218 average loss = 0.6104546300768853\n",
      "Генерируем текст в пропорциональном режиме\n",
      "Using random seed:  поручено проведение судебной экспертизы;\n",
      " 4) зап\n",
      "----\n",
      "  поручено проведение судебной экспертизы;\n",
      " 4) запрещенных при реконков. ------------------------------------------------.\n",
      "\n",
      " Обособность перевозчика и так далее); \n",
      " обязательство в порядке, предусмотренных статьей 14.20 – 18.18, частью 2 статьи 19.4, \n",
      "----\n",
      "Генерируем текст в жадном режиме (наиболее вероятные буквы)\n",
      "Using random seed: извлечением, переработкой, использованием, обраще\n"
     ]
    },
    {
     "name": "stderr",
     "output_type": "stream",
     "text": [
      "  0%|          | 1/1000 [00:00<01:45,  9.51it/s]"
     ]
    },
    {
     "name": "stdout",
     "output_type": "stream",
     "text": [
      "----\n",
      " извлечением, переработкой, использованием, обращением или в иным органом, принятое по делу об административном правонарушении и других материалов и оборудования, используемых для подачи специальных световых или стоимости товаров и (или) транспортных \n",
      "----\n"
     ]
    },
    {
     "name": "stderr",
     "output_type": "stream",
     "text": [
      "100%|██████████| 1000/1000 [01:46<00:00,  9.38it/s]\n"
     ]
    },
    {
     "name": "stdout",
     "output_type": "stream",
     "text": [
      "Epoch 219 average loss = 0.6081466158032417\n",
      "Генерируем текст в пропорциональном режиме\n",
      "Using random seed: уполномоченной организации, а также членами их се\n",
      "----\n",
      " уполномоченной организации, а также членами их семей, на территории Российской Федерации не может быть оспорена законодательством о выборах и референдумах и благотворительно полученными под ним большинством голосов и требованиям.\n",
      " Копии определения  \n",
      "----\n",
      "Генерируем текст в жадном режиме (наиболее вероятные буквы)\n",
      "Using random seed: ния указанных требований арбитражный суд возвраща\n"
     ]
    },
    {
     "name": "stderr",
     "output_type": "stream",
     "text": [
      "  0%|          | 1/1000 [00:00<01:45,  9.44it/s]"
     ]
    },
    {
     "name": "stdout",
     "output_type": "stream",
     "text": [
      "----\n",
      " ния указанных требований арбитражный суд возвращает или повреждение произведения и при отсутствии соглашения сторон в случаях, предусмотренных настоящим Кодексом и иными правовыми актами или договором подряда, при условии, что такое освобождение от  \n",
      "----\n"
     ]
    },
    {
     "name": "stderr",
     "output_type": "stream",
     "text": [
      "100%|██████████| 1000/1000 [01:46<00:00,  9.39it/s]\n"
     ]
    },
    {
     "name": "stdout",
     "output_type": "stream",
     "text": [
      "Epoch 220 average loss = 0.6097135072946549\n",
      "Генерируем текст в пропорциональном режиме\n",
      "Using random seed: тки могут быть взысканы в полной сумме сверх неуст\n",
      "----\n",
      " тки могут быть взысканы в полной сумме сверх неустраний, пока товарищества должен родные племянников от исполнений (материала.\n",
      " 4. В официальное помещение могут быть взыскан или оказались не соответственно самого страховщиком\n",
      "\n",
      " 1. Несовершеннолетние  \n",
      "----\n",
      "Генерируем текст в жадном режиме (наиболее вероятные буквы)\n",
      "Using random seed: та таможенных органов. В случае непоступления сумм\n"
     ]
    },
    {
     "name": "stderr",
     "output_type": "stream",
     "text": [
      "  0%|          | 1/1000 [00:00<01:47,  9.25it/s]"
     ]
    },
    {
     "name": "stdout",
     "output_type": "stream",
     "text": [
      "----\n",
      " та таможенных органов. В случае непоступления сумм таможенных пошлин, налогов производится в соответствии с законодательством Российской Федерации о государственном регулировании внешнеторговой деятельности, принятия на счет таможенного органа или ег \n",
      "----\n"
     ]
    },
    {
     "name": "stderr",
     "output_type": "stream",
     "text": [
      "100%|██████████| 1000/1000 [01:48<00:00,  9.19it/s]\n"
     ]
    },
    {
     "name": "stdout",
     "output_type": "stream",
     "text": [
      "Epoch 221 average loss = 0.6038265382647514\n",
      "Генерируем текст в пропорциональном режиме\n",
      "Using random seed: у гражданина Российской Федерации гражданства инос\n",
      "----\n",
      " у гражданина Российской Федерации гражданства иностранного гражданина, подлежащее применению при разделе наследственного имущества;\n",
      " по шесть месяцев.\n",
      "  (в ред. Федерального закона от 29.06.2004 №58-ФЗ) \n",
      " 5. Осмотр принят в состав которого в состояни \n",
      "----\n",
      "Генерируем текст в жадном режиме (наиболее вероятные буквы)\n",
      "Using random seed: ступлений от договора, ухудшающих результат работы\n"
     ]
    },
    {
     "name": "stderr",
     "output_type": "stream",
     "text": [
      "  0%|          | 1/1000 [00:00<01:47,  9.27it/s]"
     ]
    },
    {
     "name": "stdout",
     "output_type": "stream",
     "text": [
      "----\n",
      " ступлений от договора, ухудшающих результат работы по главный государственный инспектор Российской Федерации и органами государственной власти субъектов Российской Федерации и органами государственной власти субъектов Российской Федерации и органами  \n",
      "----\n"
     ]
    },
    {
     "name": "stderr",
     "output_type": "stream",
     "text": [
      "100%|██████████| 1000/1000 [01:48<00:00,  9.21it/s]\n"
     ]
    },
    {
     "name": "stdout",
     "output_type": "stream",
     "text": [
      "Epoch 222 average loss = 0.6039429103732109\n",
      "Генерируем текст в пропорциональном режиме\n",
      "Using random seed: диров строевых подразделений милиции с руководство\n",
      "----\n",
      " диров строевых подразделений милиции с руководством.\n",
      "\n",
      " Статья 43.\n",
      " Имущество в натуре обеспечивается.\n",
      "\n",
      " Статья 52.\n",
      " Взаимности прав из цели имело места работы и все дополнительное решение, описание и порядок перемещений использовалось у постановки тр \n",
      "----\n",
      "Генерируем текст в жадном режиме (наиболее вероятные буквы)\n",
      "Using random seed: иры полков и батальонов – не реже двух раз в месяц\n"
     ]
    },
    {
     "name": "stderr",
     "output_type": "stream",
     "text": [
      "  0%|          | 1/1000 [00:00<01:47,  9.29it/s]"
     ]
    },
    {
     "name": "stdout",
     "output_type": "stream",
     "text": [
      "----\n",
      " иры полков и батальонов – не реже двух раз в месяц произведения и приведении в исполнение решения иностранного суда или иностранного арбитражного решения о разделе наследства и управление им по заявлению об обеспечении иска принять наследства по делу \n",
      "----\n"
     ]
    },
    {
     "name": "stderr",
     "output_type": "stream",
     "text": [
      "100%|██████████| 1000/1000 [01:48<00:00,  9.23it/s]\n"
     ]
    },
    {
     "name": "stdout",
     "output_type": "stream",
     "text": [
      "Epoch 223 average loss = 0.6045574638843536\n",
      "Генерируем текст в пропорциональном режиме\n",
      "Using random seed: вовые акты следует применить по данному делу; уста\n",
      "----\n",
      " вовые акты следует применить по данному делу; устанавливается в день предъявлений в запискацией сведений об отмене постановления.\n",
      "\n",
      " Статья 1018.\n",
      " Особенности определения, регистрации либо сервитут устанавливаются Правительством Российской Федерации.\n",
      " \n",
      "----\n",
      "Генерируем текст в жадном режиме (наиболее вероятные буквы)\n",
      "Using random seed: участвовать в рассмотрении дела и подлежит отводу,\n"
     ]
    },
    {
     "name": "stderr",
     "output_type": "stream",
     "text": [
      "  0%|          | 1/1000 [00:00<01:47,  9.28it/s]"
     ]
    },
    {
     "name": "stdout",
     "output_type": "stream",
     "text": [
      "----\n",
      " участвовать в рассмотрении дела и подлежит отводу, если иное не предусмотрено договором поставки товаров для государственных нужд подлежит применению к отношениям по договору подряда на выполнение проектных и изыскательских работ или ограничения прав \n",
      "----\n"
     ]
    },
    {
     "name": "stderr",
     "output_type": "stream",
     "text": [
      "100%|██████████| 1000/1000 [01:48<00:00,  9.20it/s]\n"
     ]
    },
    {
     "name": "stdout",
     "output_type": "stream",
     "text": [
      "Epoch 224 average loss = 0.6058439461588859\n",
      "Генерируем текст в пропорциональном режиме\n",
      "Using random seed: енением норм материального права являются:\n",
      " 1) неп\n",
      "----\n",
      " енением норм материального права являются:\n",
      " 1) непредставление соответствующих ходов, –\n",
      " влечет наложение административного штрафа в размере от десяти до пятнадцати минимальных размеров оплаты труда.\n",
      "\n",
      " Статья 12.\n",
      " 21. Незаконная банком (статьи 34 см. \n",
      "----\n",
      "Генерируем текст в жадном режиме (наиболее вероятные буквы)\n",
      "Using random seed: \n",
      "\n",
      " Статья 11.\n",
      " 21. Нарушение правил охраны полосы \n"
     ]
    },
    {
     "name": "stderr",
     "output_type": "stream",
     "text": [
      "  0%|          | 1/1000 [00:00<01:47,  9.27it/s]"
     ]
    },
    {
     "name": "stdout",
     "output_type": "stream",
     "text": [
      "----\n",
      " \n",
      "\n",
      " Статья 11.\n",
      " 21. Нарушение правил охраны полосы обязанностей по охране наследства и управлению им по договору подряда на выполнение проектных и изыскательских работ и обязанности по обязательствам соответствующего вида и на территории Российской Фе \n",
      "----\n"
     ]
    },
    {
     "name": "stderr",
     "output_type": "stream",
     "text": [
      "100%|██████████| 1000/1000 [01:48<00:00,  9.20it/s]\n"
     ]
    },
    {
     "name": "stdout",
     "output_type": "stream",
     "text": [
      "Epoch 225 average loss = 0.6030189828872681\n",
      "Генерируем текст в пропорциональном режиме\n",
      "Using random seed: личными деньгами, по желанию плательщика возврат де\n",
      "----\n",
      " личными деньгами, по желанию плательщика возврат денежного залога.\n",
      " Если остальных сделок, радиообщения может быть признаны последнюю волет и использование их (блокированию. Повторное обжалование наследниками бездействием), адресатся.\n",
      "\n",
      " Статья 426.\n",
      " П \n",
      "----\n",
      "Генерируем текст в жадном режиме (наиболее вероятные буквы)\n",
      "Using random seed: ление или вручение другим лицам, участвующим в деле\n"
     ]
    },
    {
     "name": "stderr",
     "output_type": "stream",
     "text": [
      "  0%|          | 1/1000 [00:00<01:49,  9.12it/s]"
     ]
    },
    {
     "name": "stdout",
     "output_type": "stream",
     "text": [
      "----\n",
      " ление или вручение другим лицам, участвующим в деле, и иным правовым актом иной документ, подтверждающие соблюдение им судебного акта, которым заканчивается рассмотрение дела по существу, в случае:\n",
      " 1) общих правонарушении, вправе отказаться от исполн \n",
      "----\n"
     ]
    },
    {
     "name": "stderr",
     "output_type": "stream",
     "text": [
      "100%|██████████| 1000/1000 [01:51<00:00,  9.07it/s]\n"
     ]
    },
    {
     "name": "stdout",
     "output_type": "stream",
     "text": [
      "Epoch 226 average loss = 0.5994267890453339\n",
      "Генерируем текст в пропорциональном режиме\n",
      "Using random seed:  органа, осуществляющего государственный надзор (ко\n",
      "----\n",
      "  органа, осуществляющего государственный надзор (контроль), в котором несению видов имущества, изготовителя безвозмездной почтовой, на которые наложен арест для умершим является судебный штраф в порядке по делам личности строительства, обеспеченного з \n",
      "----\n",
      "Генерируем текст в жадном режиме (наиболее вероятные буквы)\n",
      "Using random seed: еров оплаты труда или административный арест на сро\n"
     ]
    },
    {
     "name": "stderr",
     "output_type": "stream",
     "text": [
      "  0%|          | 1/1000 [00:00<01:49,  9.16it/s]"
     ]
    },
    {
     "name": "stdout",
     "output_type": "stream",
     "text": [
      "----\n",
      " еров оплаты труда или административный арест на срок до пятнадцати суток.\n",
      "  (часть третья введена Федеральным законом от 21.07.2005 №93-ФЗ) \n",
      " 2. Те же действия (бездействие), в том числе при принятии наследства и управлению им в течение срока исковой  \n",
      "----\n"
     ]
    },
    {
     "name": "stderr",
     "output_type": "stream",
     "text": [
      "100%|██████████| 1000/1000 [01:50<00:00,  9.06it/s]\n"
     ]
    },
    {
     "name": "stdout",
     "output_type": "stream",
     "text": [
      "Epoch 227 average loss = 0.5978139426112175\n",
      "Генерируем текст в пропорциональном режиме\n",
      "Using random seed: субъекта Российской Федерации или заместитель проку\n",
      "----\n",
      " субъекта Российской Федерации или заместитель прокурора по данному государственное регулирование печатано5\n",
      " 3, 18 и часть не должна превышать сумму ее денежными средствами наблюдения, предусмотренными главой 23 настоящего Кодекса, утвержденный оничной \n",
      "----\n",
      "Генерируем текст в жадном режиме (наиболее вероятные буквы)\n",
      "Using random seed: ечебно-оздоровительных местностей и курортов), част\n"
     ]
    },
    {
     "name": "stderr",
     "output_type": "stream",
     "text": [
      "  0%|          | 1/1000 [00:00<01:48,  9.18it/s]"
     ]
    },
    {
     "name": "stdout",
     "output_type": "stream",
     "text": [
      "----\n",
      " ечебно-оздоровительных местностей и курортов), часто при выполнении обязательства и не может превышать двадцати пяти до пятнадцати минимальных размеров оплаты труда; на должностных лиц – от пяти до десяти минимальных размеров оплаты труда; на должност \n",
      "----\n"
     ]
    },
    {
     "name": "stderr",
     "output_type": "stream",
     "text": [
      "100%|██████████| 1000/1000 [01:50<00:00,  9.05it/s]\n"
     ]
    },
    {
     "name": "stdout",
     "output_type": "stream",
     "text": [
      "Epoch 228 average loss = 0.598233427643776\n",
      "Генерируем текст в пропорциональном режиме\n",
      "Using random seed: ого вида (изменении организационно-правовой формы) \n",
      "----\n",
      " ого вида (изменении организационно-правовой формы) государственных органов, органов местного самоуправления и защиты гражданского законодательства о результатах здания, связанной с использовладельцами под опеку (попечительством), если за административ \n",
      "----\n",
      "Генерируем текст в жадном режиме (наиболее вероятные буквы)\n",
      "Using random seed: Кодекса (если эти лица установлены таможенным орган\n"
     ]
    },
    {
     "name": "stderr",
     "output_type": "stream",
     "text": [
      "  0%|          | 1/1000 [00:00<01:49,  9.12it/s]"
     ]
    },
    {
     "name": "stdout",
     "output_type": "stream",
     "text": [
      "----\n",
      " Кодекса (если эти лица установлены таможенным органом обнаружены признаки того, что они не предусмотрено иное.\n",
      "\n",
      " Статья 1130.\n",
      " Право собственности на недвижимое имущество при проведении таможенного контроля в соответствии с законодательством Российско \n",
      "----\n"
     ]
    },
    {
     "name": "stderr",
     "output_type": "stream",
     "text": [
      "100%|██████████| 1000/1000 [01:50<00:00,  9.04it/s]\n"
     ]
    },
    {
     "name": "stdout",
     "output_type": "stream",
     "text": [
      "Epoch 229 average loss = 0.5971884372234344\n",
      "Генерируем текст в пропорциональном режиме\n",
      "Using random seed: дажи, продавец обязан возместить покупателю понесен\n",
      "----\n",
      " дажи, продавец обязан возместить покупателю понесенное требование, за несут ответственность за уплате прав неосновательное обогащение подрядчик не нарушает принятие другим должностным лицам государственным контрактом\n",
      "\n",
      " Сотрудники органов внутренних де \n",
      "----\n",
      "Генерируем текст в жадном режиме (наиболее вероятные буквы)\n",
      "Using random seed:  требований. До принятия наследства требования кред\n"
     ]
    },
    {
     "name": "stderr",
     "output_type": "stream",
     "text": [
      "  0%|          | 1/1000 [00:00<01:49,  9.11it/s]"
     ]
    },
    {
     "name": "stdout",
     "output_type": "stream",
     "text": [
      "----\n",
      "  требований. До принятия наследства требования кредиторов при принятии решения арбитражного суда первой инстанции в соответствии с пунктом 1 настоящей статьи, вправе:\n",
      " 1) главный государственный инспектор Российской Федерации и органы местного самоупр \n",
      "----\n"
     ]
    },
    {
     "name": "stderr",
     "output_type": "stream",
     "text": [
      "100%|██████████| 1000/1000 [01:50<00:00,  9.01it/s]\n"
     ]
    },
    {
     "name": "stdout",
     "output_type": "stream",
     "text": [
      "Epoch 230 average loss = 0.5991380537748336\n",
      "Генерируем текст в пропорциональном режиме\n",
      "Using random seed:  помещения, если иное не предусмотрено жилищным зако\n",
      "----\n",
      "  помещения, если иное не предусмотрено жилищным законодательством о назначении дела сберегут полностью или частично.\n",
      " Ноценты транспортного средства, помещение товаров, включая содержание загрязнения заключается за двумя-грузов в официальные отказа в п \n",
      "----\n",
      "Генерируем текст в жадном режиме (наиболее вероятные буквы)\n",
      "Using random seed: ериалов с нарушением требований закона к использован\n"
     ]
    },
    {
     "name": "stderr",
     "output_type": "stream",
     "text": [
      "  0%|          | 1/1000 [00:00<01:52,  8.91it/s]"
     ]
    },
    {
     "name": "stdout",
     "output_type": "stream",
     "text": [
      "----\n",
      " ериалов с нарушением требований закона к использованию им судебному штрафа на граждан в размере от десяти до пятнадцати минимальных размеров оплаты труда; на юридических лиц – от ста до двухсот минимальных размеров оплаты труда; на юридических лиц – от \n",
      "----\n"
     ]
    },
    {
     "name": "stderr",
     "output_type": "stream",
     "text": [
      "100%|██████████| 1000/1000 [01:53<00:00,  8.84it/s]\n"
     ]
    },
    {
     "name": "stdout",
     "output_type": "stream",
     "text": [
      "Epoch 231 average loss = 0.5941594014763832\n",
      "Генерируем текст в пропорциональном режиме\n",
      "Using random seed: нистративного штрафа на граждан в размере от десяти \n",
      "----\n",
      " нистративного штрафа на граждан в размере от десяти до двадцати до двадцати пяти минимальных размеров оплаты труда; на должностных лиц – от десяти дней со дня его принятия, но не установлен.\n",
      "\n",
      " Статья 220.\n",
      " Возмещение внутренних дел.\n",
      " При отками и други \n",
      "----\n",
      "Генерируем текст в жадном режиме (наиболее вероятные буквы)\n",
      "Using random seed: ния гражданина, являющегося лицом, участвующим в дел\n"
     ]
    },
    {
     "name": "stderr",
     "output_type": "stream",
     "text": [
      "  0%|          | 1/1000 [00:00<01:52,  8.91it/s]"
     ]
    },
    {
     "name": "stdout",
     "output_type": "stream",
     "text": [
      "----\n",
      " ния гражданина, являющегося лицом, участвующим в деле, и иным правовым актом или последнее место жительства или общества и при отсутствии таких товаров и транспортных средств, перемещаемых через таможенную границу Российской Федерации и вывозить заключ \n",
      "----\n"
     ]
    },
    {
     "name": "stderr",
     "output_type": "stream",
     "text": [
      "100%|██████████| 1000/1000 [01:53<00:00,  8.85it/s]\n"
     ]
    },
    {
     "name": "stdout",
     "output_type": "stream",
     "text": [
      "Epoch 232 average loss = 0.592776927292347\n",
      "Генерируем текст в пропорциональном режиме\n",
      "Using random seed: дарственных знаков почтовой оплаты или международных\n",
      "----\n",
      " дарственных знаков почтовой оплаты или международных почтовых отправлений.\n",
      "\n",
      " Статья 420.\n",
      " Изменение срока, установленные государственным контрактом дежурной смежных правах реаги, осуществляется годности, здравоохранения транспортными средствами, суд вп \n",
      "----\n",
      "Генерируем текст в жадном режиме (наиболее вероятные буквы)\n",
      "Using random seed: аименование таможенного перевозчика, указание его ор\n"
     ]
    },
    {
     "name": "stderr",
     "output_type": "stream",
     "text": [
      "  0%|          | 1/1000 [00:00<01:51,  8.97it/s]"
     ]
    },
    {
     "name": "stdout",
     "output_type": "stream",
     "text": [
      "----\n",
      " аименование таможенного перевозчика, указание его оружием, внесенным имуществом, применяются к договору подряда на выполнение проектных и изыскательских работ иностранного арбитражного решения о выпуске товаров для государственных нужд подлежит возмеще \n",
      "----\n"
     ]
    },
    {
     "name": "stderr",
     "output_type": "stream",
     "text": [
      "100%|██████████| 1000/1000 [01:53<00:00,  8.85it/s]\n"
     ]
    },
    {
     "name": "stdout",
     "output_type": "stream",
     "text": [
      "Epoch 233 average loss = 0.5944821999669075\n",
      "Генерируем текст в пропорциональном режиме\n",
      "Using random seed: а товаров на транспортное средство, убывающее с тамо\n",
      "----\n",
      " а товаров на транспортное средство, убывающее с таможенным контролем.\n",
      " 2. Правила, предусмотренные частью 1 настоящей статьи, с указанием осмотр товаров и транспортных средств, в том числе о фактическом возложенных на предмет под влияние на всей террит \n",
      "----\n",
      "Генерируем текст в жадном режиме (наиболее вероятные буквы)\n",
      "Using random seed: ся возможность, направлено лицом, удостоверившим зав\n"
     ]
    },
    {
     "name": "stderr",
     "output_type": "stream",
     "text": [
      "  0%|          | 1/1000 [00:00<01:52,  8.91it/s]"
     ]
    },
    {
     "name": "stdout",
     "output_type": "stream",
     "text": [
      "----\n",
      " ся возможность, направлено лицом, удостоверившим завещанием и использование произведения и объединениями и иными правовыми актами или договором подряда, подлежащего применению к договору в отсутствие соответствующих обязательств по договору подряда на  \n",
      "----\n"
     ]
    },
    {
     "name": "stderr",
     "output_type": "stream",
     "text": [
      "100%|██████████| 1000/1000 [01:53<00:00,  8.86it/s]\n"
     ]
    },
    {
     "name": "stdout",
     "output_type": "stream",
     "text": [
      "Epoch 234 average loss = 0.5940035306215287\n",
      "Генерируем текст в пропорциональном режиме\n",
      "Using random seed: стративном правонарушении, в виде определения, а про\n",
      "----\n",
      " стративном правонарушении, в виде определения, а промышленное имущество, приобретенное одному и участие в рассмотрении дела вопросам рассматривают дела об административных правонарушениях, предусмотренных частью 2 статьи 8.16, частью 2 статьи 23.35 нас \n",
      "----\n",
      "Генерируем текст в жадном режиме (наиболее вероятные буквы)\n",
      "Using random seed: онституции РФ положений пункта 3 статьи 131 см. Опре\n"
     ]
    },
    {
     "name": "stderr",
     "output_type": "stream",
     "text": [
      "  0%|          | 1/1000 [00:00<01:51,  8.92it/s]"
     ]
    },
    {
     "name": "stdout",
     "output_type": "stream",
     "text": [
      "----\n",
      " онституции РФ положений пункта 3 статьи 131 см. Определение Конституционного Суда РФ от 21.12.2004 №463-О.\n",
      " 1. При проведении таможенного контроля и не предусмотрено иное.\n",
      "\n",
      " Статья 1134.\n",
      " Исполнение обязательства и при наличии оснований причинения вред \n",
      "----\n"
     ]
    },
    {
     "name": "stderr",
     "output_type": "stream",
     "text": [
      "100%|██████████| 1000/1000 [01:53<00:00,  8.86it/s]\n"
     ]
    },
    {
     "name": "stdout",
     "output_type": "stream",
     "text": [
      "Epoch 235 average loss = 0.5926736328601837\n",
      "Генерируем текст в пропорциональном режиме\n",
      "Using random seed: иков является основанием аннулирования нотариусом ран\n",
      "----\n",
      " иков является основанием аннулирования нотариусом ранее выданного свидетельства завещательного воссийской Федерации. Предпринимателей, в размере от десяти до пятнадцати минимальных размеров оплаты труда или административный арест товары, ввозимые не пре \n",
      "----\n",
      "Генерируем текст в жадном режиме (наиболее вероятные буквы)\n",
      "Using random seed: , допускаются к ввозу (а в случаях, предусмотренных н\n"
     ]
    },
    {
     "name": "stderr",
     "output_type": "stream",
     "text": [
      "  0%|          | 1/1000 [00:00<01:53,  8.79it/s]"
     ]
    },
    {
     "name": "stdout",
     "output_type": "stream",
     "text": [
      "----\n",
      " , допускаются к ввозу (а в случаях, предусмотренных настоящим Кодексом.\n",
      " 3. При выпуске для свободного обращения в соответствии с пунктом 1 настоящей статьи, вправе:\n",
      " 1) главный государственный инспектор Российской Федерации и федеральным законом от 21. \n",
      "----\n"
     ]
    },
    {
     "name": "stderr",
     "output_type": "stream",
     "text": [
      "100%|██████████| 1000/1000 [01:54<00:00,  8.70it/s]\n"
     ]
    },
    {
     "name": "stdout",
     "output_type": "stream",
     "text": [
      "Epoch 236 average loss = 0.5889404873251916\n",
      "Генерируем текст в пропорциональном режиме\n",
      "Using random seed:  статьи 19.4, частью 1 статьи 19.5, статьями 19.6, 19\n",
      "----\n",
      "  статьи 19.4, частью 1 статьи 19.5, статьями 19.6, 19.7 настоящего Кодекса.\n",
      " 2. Если необходимость сделки с согласия заинтересованных лиц и не указанным органом или органами государственной власти Российской Федерации предусматривается судом срок, ему и \n",
      "----\n",
      "Генерируем текст в жадном режиме (наиболее вероятные буквы)\n",
      "Using random seed: тва указанная компенсация ему не выплачивается.\n",
      " 3. В\n"
     ]
    },
    {
     "name": "stderr",
     "output_type": "stream",
     "text": [
      "  0%|          | 1/1000 [00:00<01:53,  8.78it/s]"
     ]
    },
    {
     "name": "stdout",
     "output_type": "stream",
     "text": [
      "----\n",
      " тва указанная компенсация ему не выплачивается.\n",
      " 3. В случае прекращения договора подряда на выполнение проектных и изыскательских работ – право собственности на недвижимое имущество при переходе права собственности на недвижимое имущество при переходе  \n",
      "----\n"
     ]
    },
    {
     "name": "stderr",
     "output_type": "stream",
     "text": [
      "100%|██████████| 1000/1000 [01:54<00:00,  8.70it/s]\n"
     ]
    },
    {
     "name": "stdout",
     "output_type": "stream",
     "text": [
      "Epoch 237 average loss = 0.5892868665456772\n",
      "Генерируем текст в пропорциональном режиме\n",
      "Using random seed: адцати минимальных размеров оплаты труда.\n",
      " 3. Нарушен\n",
      "----\n",
      " адцати минимальных размеров оплаты труда.\n",
      " 3. Нарушение конституционных прав владения, постановления электрических сх.\n",
      "\n",
      " Статья 12.\n",
      " 28. Уничтожение размер пользователя о возбужденной суммерной работы, обеспеченного производства по делу принадлежать нео \n",
      "----\n",
      "Генерируем текст в жадном режиме (наиболее вероятные буквы)\n",
      "Using random seed: о передвижения, выбора места пребывания и жительства,\n"
     ]
    },
    {
     "name": "stderr",
     "output_type": "stream",
     "text": [
      "  0%|          | 1/1000 [00:00<01:53,  8.77it/s]"
     ]
    },
    {
     "name": "stdout",
     "output_type": "stream",
     "text": [
      "----\n",
      " о передвижения, выбора места пребывания и жительства, истекает в соответствующее обязательство прекращается в случае необходимости применяются правила о договоре продажи предприятия прекращения производства по делу об административном правонарушении и п \n",
      "----\n"
     ]
    },
    {
     "name": "stderr",
     "output_type": "stream",
     "text": [
      "100%|██████████| 1000/1000 [01:55<00:00,  8.70it/s]\n"
     ]
    },
    {
     "name": "stdout",
     "output_type": "stream",
     "text": [
      "Epoch 238 average loss = 0.5887796664834023\n",
      "Генерируем текст в пропорциональном режиме\n",
      "Using random seed: очия указанных лиц, при необходимости приобщаются к д\n",
      "----\n",
      " очия указанных лиц, при необходимости приобщаются к делу об административном правонарушении, имеющим при себе товаров в соответствии с пунктом 5 статьи 955).\n",
      "\n",
      " Статья 278.\n",
      " Порядок не вытекает из существа не является требования в соответствии с имеющиес \n",
      "----\n",
      "Генерируем текст в жадном режиме (наиболее вероятные буквы)\n",
      "Using random seed: ых частью 1 статьи 19.4, частью 1 статьи 19.5, статья\n"
     ]
    },
    {
     "name": "stderr",
     "output_type": "stream",
     "text": [
      "  0%|          | 1/1000 [00:00<01:53,  8.76it/s]"
     ]
    },
    {
     "name": "stdout",
     "output_type": "stream",
     "text": [
      "----\n",
      " ых частью 1 статьи 19.4, частью 1 статьи 19.5, статьями 19.6, 19.7 настоящего Кодекса.\n",
      " 2. Рассматривать дела об административных правонарушениях, предусмотренных частью 1 статьи 19.4, частью 1 статьи 19.5, статьями 19.6, 19.7 настоящего Кодекса.\n",
      " 2. Ра \n",
      "----\n"
     ]
    },
    {
     "name": "stderr",
     "output_type": "stream",
     "text": [
      "100%|██████████| 1000/1000 [01:55<00:00,  8.68it/s]\n"
     ]
    },
    {
     "name": "stdout",
     "output_type": "stream",
     "text": [
      "Epoch 239 average loss = 0.5894568536281586\n",
      "Генерируем текст в пропорциональном режиме\n",
      "Using random seed: воз была предоставлена отсрочка уплаты вывозной тамож\n",
      "----\n",
      " воз была предоставлена отсрочка уплаты вывозной таможенной декларации или в искаженной форме у них и в пользователем или этой орган, должностное лицо, вынесших возражения нового принимать меры к оказанию заявителя от дне может быть обжаловано.\n",
      " В случая \n",
      "----\n",
      "Генерируем текст в жадном режиме (наиболее вероятные буквы)\n",
      "Using random seed: вил, предусмотренных статьями 656, 657 и 659 настояще\n"
     ]
    },
    {
     "name": "stderr",
     "output_type": "stream",
     "text": [
      "  0%|          | 1/1000 [00:00<01:53,  8.76it/s]"
     ]
    },
    {
     "name": "stdout",
     "output_type": "stream",
     "text": [
      "----\n",
      " вил, предусмотренных статьями 656, 657 и 659 настоящего Кодекса, в присутствии двух понятых.\n",
      " 3. В случае необходимости принять на неопределенный срок после получения от их проведения в отношении товаров, пересылаемых в международных почтовых отправлени \n",
      "----\n"
     ]
    },
    {
     "name": "stderr",
     "output_type": "stream",
     "text": [
      "100%|██████████| 1000/1000 [01:55<00:00,  8.69it/s]\n"
     ]
    },
    {
     "name": "stdout",
     "output_type": "stream",
     "text": [
      "Epoch 240 average loss = 0.5888544180393219\n",
      "Генерируем текст в пропорциональном режиме\n",
      "Using random seed: отренных в статье 230 настоящего Кодекса и в настоящей\n",
      "----\n",
      " отренных в статье 230 настоящего Кодекса и в настоящей статьи, исходя и должностных лиц согласования за хранение, дополнения объектов культурного леступными –\n",
      " влечет наложение административного штрафа в размере одной и требовании к составлением о пересм \n",
      "----\n",
      "Генерируем текст в жадном режиме (наиболее вероятные буквы)\n",
      "Using random seed:  может превышать 12 часов.\n",
      " 4. В месте доставки товаро\n"
     ]
    },
    {
     "name": "stderr",
     "output_type": "stream",
     "text": [
      "  0%|          | 1/1000 [00:00<01:56,  8.61it/s]"
     ]
    },
    {
     "name": "stdout",
     "output_type": "stream",
     "text": [
      "----\n",
      "  может превышать 12 часов.\n",
      " 4. В месте доставки товаров под таможенный режим переработки для внутреннего потребления товаров и транспортных средств в настоящей статьи, вправе:\n",
      " 1) руководитель федерального органа исполнительной власти, уполномоченного в  \n",
      "----\n"
     ]
    },
    {
     "name": "stderr",
     "output_type": "stream",
     "text": [
      "100%|██████████| 1000/1000 [01:57<00:00,  8.56it/s]\n"
     ]
    },
    {
     "name": "stdout",
     "output_type": "stream",
     "text": [
      "Epoch 241 average loss = 0.5828593376874923\n",
      "Генерируем текст в пропорциональном режиме\n",
      "Using random seed: 2. Порядок судопроизводства в арбитражных судах опреде\n",
      "----\n",
      " 2. Порядок судопроизводства в арбитражных судах определяются их общерозосе изыскательские работы) за автором находится транспортными уставами и сборонным несостоятельности на срок до девяноста суток с конфискацией промедления подлежащих уплату ему компен \n",
      "----\n",
      "Генерируем текст в жадном режиме (наиболее вероятные буквы)\n",
      "Using random seed: средством водителем, не имеющим права управления транс\n"
     ]
    },
    {
     "name": "stderr",
     "output_type": "stream",
     "text": [
      "  0%|          | 1/1000 [00:00<01:56,  8.60it/s]"
     ]
    },
    {
     "name": "stdout",
     "output_type": "stream",
     "text": [
      "----\n",
      " средством водителем, не имеющим права управления транспортными средствами на срок от полутора до двух лет.\n",
      " 3. При отсутствии в договоре страхования и возмещения убытков.\n",
      " 2. При отсутствии в договоре страхования и возмещения убытков.\n",
      " 2. При отсутствии  \n",
      "----\n"
     ]
    },
    {
     "name": "stderr",
     "output_type": "stream",
     "text": [
      "100%|██████████| 1000/1000 [01:56<00:00,  8.56it/s]\n"
     ]
    },
    {
     "name": "stdout",
     "output_type": "stream",
     "text": [
      "Epoch 242 average loss = 0.5844595722556114\n",
      "Генерируем текст в пропорциональном режиме\n",
      "Using random seed:  от страны регистрации или национальности морских (реч\n",
      "----\n",
      "  от страны регистрации или национальности морских (речных).\n",
      "\n",
      " Статья 266.\n",
      " Осуществление записи назначен с лицом, ответственными за уплату таможенных пошлин, налогов (страхового случая;\n",
      " в иных случаях хранение нотариуса органов дознания.\n",
      " 5. Отстране в  \n",
      "----\n",
      "Генерируем текст в жадном режиме (наиболее вероятные буквы)\n",
      "Using random seed:  порядке, устанавливаемом Правительством Российской Фе\n"
     ]
    },
    {
     "name": "stderr",
     "output_type": "stream",
     "text": [
      "  0%|          | 1/1000 [00:00<01:55,  8.64it/s]"
     ]
    },
    {
     "name": "stdout",
     "output_type": "stream",
     "text": [
      "----\n",
      "  порядке, устанавливаемом Правительством Российской Федерации о государственном регулировании внешнеторговой деятельности, а также при наличии обстоятельств, послуживших основанием для оставления от него причинителя вреда не может быть принято на основан \n",
      "----\n"
     ]
    },
    {
     "name": "stderr",
     "output_type": "stream",
     "text": [
      "100%|██████████| 1000/1000 [01:57<00:00,  8.52it/s]\n"
     ]
    },
    {
     "name": "stdout",
     "output_type": "stream",
     "text": [
      "Epoch 243 average loss = 0.5835244826674462\n",
      "Генерируем текст в пропорциональном режиме\n",
      "Using random seed: не может быть отозвана гарантом, если в ней не предусм\n",
      "----\n",
      " не может быть отозвана гарантом, если в ней не предусмотрен доставить результаты или известить производство по делу судебной подтверждающие необходимые одним и телеперечни потерпевшего производства\n",
      "\n",
      " Окончание произведений науки, литературы.\n",
      " Копия опред \n",
      "----\n",
      "Генерируем текст в жадном режиме (наиболее вероятные буквы)\n",
      "Using random seed: родажи не определены, продавец сохраняет право огранич\n"
     ]
    },
    {
     "name": "stderr",
     "output_type": "stream",
     "text": [
      "  0%|          | 1/1000 [00:00<01:56,  8.61it/s]"
     ]
    },
    {
     "name": "stdout",
     "output_type": "stream",
     "text": [
      "----\n",
      " родажи не определены, продавец сохраняет право ограниченно оборотоспособных вещей до получения от имени органов, указанных в части 1 настоящей статьи, вправе:\n",
      " 1) руководитель федерального органа исполнительной власти, уполномоченного в области таможенно \n",
      "----\n"
     ]
    },
    {
     "name": "stderr",
     "output_type": "stream",
     "text": [
      "100%|██████████| 1000/1000 [01:57<00:00,  8.55it/s]\n"
     ]
    },
    {
     "name": "stdout",
     "output_type": "stream",
     "text": [
      "Epoch 244 average loss = 0.5831229131221771\n",
      "Генерируем текст в пропорциональном режиме\n",
      "Using random seed: ивную ответственность.\n",
      " 4. Назначение административног\n",
      "----\n",
      " ивную ответственность.\n",
      " 4. Назначение административного наказания\n",
      "\n",
      " По договору технических средств.\n",
      " 4. Вещественных доказательств в виде: \n",
      " 1) отчет осуществляется на месте его должностного лица или орган, уполномоченным в области таможенного дела и пр \n",
      "----\n",
      "Генерируем текст в жадном режиме (наиболее вероятные буквы)\n",
      "Using random seed:  товары будут вывезены с этой территории, допускается \n"
     ]
    },
    {
     "name": "stderr",
     "output_type": "stream",
     "text": [
      "  0%|          | 1/1000 [00:00<01:55,  8.62it/s]"
     ]
    },
    {
     "name": "stdout",
     "output_type": "stream",
     "text": [
      "----\n",
      "  товары будут вывезены с этой территории, допускается после предварительного решения об отказе в передаче дела в Президиум Высшего Арбитражного Суда Российской Федерации и федеральным законом от 20.08.2004 №118-ФЗ) \n",
      " 2. Те же действия, совершенное в чрез \n",
      "----\n"
     ]
    },
    {
     "name": "stderr",
     "output_type": "stream",
     "text": [
      "100%|██████████| 1000/1000 [01:56<00:00,  8.54it/s]\n"
     ]
    },
    {
     "name": "stdout",
     "output_type": "stream",
     "text": [
      "Epoch 245 average loss = 0.5824942860603333\n",
      "Генерируем текст в пропорциональном режиме\n",
      "Using random seed: х лиц – от пяти до десяти минимальных размеров оплаты т\n",
      "----\n",
      " х лиц – от пяти до десяти минимальных размеров оплаты труда.\n",
      " 2. Нарушение государственного контрактом море Российской Федерации или акта направляется лицу, являющемуся применению за недействительность завещания, полностью основания для принятия исходных  \n",
      "----\n",
      "Генерируем текст в жадном режиме (наиболее вероятные буквы)\n",
      "Using random seed:  Российской Федерации в количестве, соответствующем чис\n"
     ]
    },
    {
     "name": "stderr",
     "output_type": "stream",
     "text": [
      "  0%|          | 1/1000 [00:00<01:58,  8.43it/s]"
     ]
    },
    {
     "name": "stdout",
     "output_type": "stream",
     "text": [
      "----\n",
      "  Российской Федерации в количестве, соответствующем численности по обязательствам, возникающим из административных и иных публичности, а также при прекращении производства по делу об административном правонарушении и приведении в исполнение решения иностр \n",
      "----\n"
     ]
    },
    {
     "name": "stderr",
     "output_type": "stream",
     "text": [
      "100%|██████████| 1000/1000 [01:59<00:00,  8.36it/s]\n"
     ]
    },
    {
     "name": "stdout",
     "output_type": "stream",
     "text": [
      "Epoch 246 average loss = 0.578989685177803\n",
      "Генерируем текст в пропорциональном режиме\n",
      "Using random seed: ятельности, либо условно выпущенных товаров и (или) тра\n",
      "----\n",
      " ятельности, либо условно выпущенных товаров и (или) транспортные средства включение, при наличии возможности отвечают по жалобе на решение, действие (бездействие) должностных лиц в размере от сорока до пятидесяти минимальных размеров оплаты труда или адми \n",
      "----\n",
      "Генерируем текст в жадном режиме (наиболее вероятные буквы)\n",
      "Using random seed:  \n",
      " право на защиту исполнения или постановки от всякого\n"
     ]
    },
    {
     "name": "stderr",
     "output_type": "stream",
     "text": [
      "  0%|          | 1/1000 [00:00<01:57,  8.49it/s]"
     ]
    },
    {
     "name": "stdout",
     "output_type": "stream",
     "text": [
      "----\n",
      "  \n",
      " право на защиту исполнения или постановки от всякого искажения или совершается по договору подряда на выполнение проектных и изыскательских работ и осуществляется в соответствии с пунктами 1 и 2 настоящей статьи, вправе:\n",
      " 1) главный государственный инс \n",
      "----\n"
     ]
    },
    {
     "name": "stderr",
     "output_type": "stream",
     "text": [
      "100%|██████████| 1000/1000 [01:59<00:00,  8.36it/s]\n"
     ]
    },
    {
     "name": "stdout",
     "output_type": "stream",
     "text": [
      "Epoch 247 average loss = 0.5785101051330567\n",
      "Генерируем текст в пропорциональном режиме\n",
      "Using random seed: и съемных кузовов.\n",
      " Свидетельство о допущении транспорт\n",
      "----\n",
      " и съемных кузовов.\n",
      " Свидетельство о допущении транспортного средства\n",
      "\n",
      " Еслуш, если нарушение иных лиц, уполномоченной арест в соответствии с настоящим Кодексом является поступившим находящиеся под установлением о вручении.\n",
      " Об отказе в принятии к рассмотр \n",
      "----\n",
      "Генерируем текст в жадном режиме (наиболее вероятные буквы)\n",
      "Using random seed: твами, входят в состав наследства и наследуются на общи\n"
     ]
    },
    {
     "name": "stderr",
     "output_type": "stream",
     "text": [
      "  0%|          | 1/1000 [00:00<01:58,  8.45it/s]"
     ]
    },
    {
     "name": "stdout",
     "output_type": "stream",
     "text": [
      "----\n",
      " твами, входят в состав наследства и наследуются на общих основаниях, установленных настоящим Кодексом.\n",
      " 2. При применении последствий недействительной по иску этого договора о залоге.\n",
      " 2. При принятии решения об отказе в удовлетворении заявления о признан \n",
      "----\n"
     ]
    },
    {
     "name": "stderr",
     "output_type": "stream",
     "text": [
      "100%|██████████| 1000/1000 [01:59<00:00,  8.35it/s]\n"
     ]
    },
    {
     "name": "stdout",
     "output_type": "stream",
     "text": [
      "Epoch 248 average loss = 0.5794849259853363\n",
      "Генерируем текст в пропорциональном режиме\n",
      "Using random seed: бязательствам, возникающим вследствие неосновательного \n",
      "----\n",
      " бязательствам, возникающим вследствие неосновательного листа на принудительное исполнение решения третейского суда предварительной оплаты поставщика о направлении должности, а равно обеспечиваемые на срок до одного года.\n",
      "\n",
      " Статья 964.\n",
      " Основания приостана \n",
      "----\n",
      "Генерируем текст в жадном режиме (наиболее вероятные буквы)\n",
      "Using random seed: нахождения его имущества либо по его последнему известн\n"
     ]
    },
    {
     "name": "stderr",
     "output_type": "stream",
     "text": [
      "  0%|          | 1/1000 [00:00<01:59,  8.39it/s]"
     ]
    },
    {
     "name": "stdout",
     "output_type": "stream",
     "text": [
      "----\n",
      " нахождения его имущества либо по его последнему известному наследство наследованию по завещанию и по закону, собственником или передача в эфир или сообщение договора поставки товаров для государственных нужд по решению суда проходит на принятие наследства \n",
      "----\n"
     ]
    },
    {
     "name": "stderr",
     "output_type": "stream",
     "text": [
      "100%|██████████| 1000/1000 [01:59<00:00,  8.35it/s]\n"
     ]
    },
    {
     "name": "stdout",
     "output_type": "stream",
     "text": [
      "Epoch 249 average loss = 0.5799815461039544\n",
      "Генерируем текст в пропорциональном режиме\n",
      "Using random seed: енным государственным органом в области мелиорации земе\n",
      "----\n",
      " енным государственным органом в области мелиорации земель, порядка составления животных собственника товарных знаний.\n",
      " 2. Права исполняться Ценакой, мест за исключением случаев, предусмотренных пунктом 1 настоящей статьи, вправе:\n",
      " 1) главный государственн \n",
      "----\n",
      "Генерируем текст в жадном режиме (наиболее вероятные буквы)\n",
      "Using random seed: ии ими служебных обязанностей в случаях, когда граждане\n"
     ]
    },
    {
     "name": "stderr",
     "output_type": "stream",
     "text": [
      "  0%|          | 1/1000 [00:00<01:58,  8.44it/s]"
     ]
    },
    {
     "name": "stdout",
     "output_type": "stream",
     "text": [
      "----\n",
      " ии ими служебных обязанностей в случаях, когда граждане, которые предусмотрены настоящим Кодексом и иными федеральными законами и иными правовыми актами или договором купли-продажи предусмотрено правилами настоящего Кодекса.\n",
      " 2. Рассматривать дела об адми \n",
      "----\n"
     ]
    },
    {
     "name": "stderr",
     "output_type": "stream",
     "text": [
      "100%|██████████| 1000/1000 [01:59<00:00,  8.39it/s]\n"
     ]
    },
    {
     "name": "stdout",
     "output_type": "stream",
     "text": [
      "Epoch 250 average loss = 0.5788479806780815\n",
      "Генерируем текст в пропорциональном режиме\n",
      "Using random seed: ьных размеров оплаты труда; на юридических лиц – от пяти\n",
      "----\n",
      " ьных размеров оплаты труда; на юридических лиц – от пятидесяти до ста минимальных размеров оплаты труда.\n",
      "\n",
      " Статья 9.\n",
      " 8. Новый договора.\n",
      " В случае, если иное не предусмотрено законами о хранении и иные документы, подтверждающие уплаты страхового возмещения \n",
      "----\n",
      "Генерируем текст в жадном режиме (наиболее вероятные буквы)\n",
      "Using random seed: ходимого для исполнения завещания.\n",
      " 5. В случае, когда н\n"
     ]
    },
    {
     "name": "stderr",
     "output_type": "stream",
     "text": [
      "  0%|          | 1/1000 [00:00<02:00,  8.32it/s]"
     ]
    },
    {
     "name": "stdout",
     "output_type": "stream",
     "text": [
      "----\n",
      " ходимого для исполнения завещания.\n",
      " 5. В случае, когда наследодатель вправе отказаться от исполнения договора страхования страховой суммы в соответствии с законодательством Российской Федерации о государственном регулировании внешнеторговой деятельности, п \n",
      "----\n"
     ]
    },
    {
     "name": "stderr",
     "output_type": "stream",
     "text": [
      "100%|██████████| 1000/1000 [02:01<00:00,  8.23it/s]\n"
     ]
    },
    {
     "name": "stdout",
     "output_type": "stream",
     "text": [
      "Epoch 251 average loss = 0.5746354050636292\n",
      "Генерируем текст в пропорциональном режиме\n",
      "Using random seed: и представляет в арбитражный суд отзыв на исковое заявле\n",
      "----\n",
      " и представляет в арбитражный суд отзыв на исковое заявление, комитент нез, отзывше.\n",
      " 3. Содержание проводимого имущества переработки.\n",
      "\n",
      " Статья 214.\n",
      " Таможенный орган вправе обратиться в суд с указанием этим кредитовами не допускаются лицу, подавшему на это \n",
      "----\n",
      "Генерируем текст в жадном режиме (наиболее вероятные буквы)\n",
      "Using random seed: перативное жилищное строительство с рассрочкой на 20 лет\n"
     ]
    },
    {
     "name": "stderr",
     "output_type": "stream",
     "text": [
      "  0%|          | 1/1000 [00:00<02:00,  8.29it/s]"
     ]
    },
    {
     "name": "stdout",
     "output_type": "stream",
     "text": [
      "----\n",
      " перативное жилищное строительство с рассрочкой на 20 лет после вступления в законную силу постановление по делу об административном правонарушении, вправе привлекать в случае, когда причинение вреда жизни и здоровью гражданина имело место до 1 марта 1996 г \n",
      "----\n"
     ]
    },
    {
     "name": "stderr",
     "output_type": "stream",
     "text": [
      "100%|██████████| 1000/1000 [02:01<00:00,  8.24it/s]\n"
     ]
    },
    {
     "name": "stdout",
     "output_type": "stream",
     "text": [
      "Epoch 252 average loss = 0.5748085044026375\n",
      "Генерируем текст в пропорциональном режиме\n",
      "Using random seed: орами об уступке требования, определяется в соответствии\n",
      "----\n",
      " орами об уступке требования, определяется в соответствии с пунктом 1 настоящей статьи.\n",
      " При реорганизации, не имеющих разныма эти документов, поместивших с таможенным органом по заявлению подчиненных переезды, за изменением транспортным средством известно  \n",
      "----\n",
      "Генерируем текст в жадном режиме (наиболее вероятные буквы)\n",
      "Using random seed: арбитража по основаниям, предусмотренным международным д\n"
     ]
    },
    {
     "name": "stderr",
     "output_type": "stream",
     "text": [
      "  0%|          | 1/1000 [00:00<02:00,  8.31it/s]"
     ]
    },
    {
     "name": "stdout",
     "output_type": "stream",
     "text": [
      "----\n",
      " арбитража по основаниям, предусмотренным международным договором Российской Федерации и органами государственной власти Российской Федерации и органами государственной власти Российской Федерации и органами государственной власти Российской Федерации и орг \n",
      "----\n"
     ]
    },
    {
     "name": "stderr",
     "output_type": "stream",
     "text": [
      "100%|██████████| 1000/1000 [02:01<00:00,  8.22it/s]\n"
     ]
    },
    {
     "name": "stdout",
     "output_type": "stream",
     "text": [
      "Epoch 253 average loss = 0.5755030802488327\n",
      "Генерируем текст в пропорциональном режиме\n",
      "Using random seed: ью, и недействительна с момента ее совершения.\n",
      " Об отказ\n",
      "----\n",
      " ью, и недействительна с момента ее совершения.\n",
      " Об отказе в возбуждении, принять рук, выполнить единые страхователем) к наименованию стороны, приобретение заемщик ее состояния транспортным средством водителям к ликвидации кабелкой, госпитал потребностей, п \n",
      "----\n",
      "Генерируем текст в жадном режиме (наиболее вероятные буквы)\n",
      "Using random seed: чения договора розничной купли-продажи (пункт 4 статьи 4\n"
     ]
    },
    {
     "name": "stderr",
     "output_type": "stream",
     "text": [
      "  0%|          | 1/1000 [00:00<02:00,  8.29it/s]"
     ]
    },
    {
     "name": "stdout",
     "output_type": "stream",
     "text": [
      "----\n",
      " чения договора розничной купли-продажи (пункт 4 статьи 424 настоящего Кодекса.\n",
      " 2. В случае необходимости при проведении массовых мероприятий по договору подряда на выполнение проектных и изыскательских работ и осуществлять протоколы об административных пр \n",
      "----\n"
     ]
    },
    {
     "name": "stderr",
     "output_type": "stream",
     "text": [
      "100%|██████████| 1000/1000 [02:01<00:00,  8.22it/s]\n"
     ]
    },
    {
     "name": "stdout",
     "output_type": "stream",
     "text": [
      "Epoch 254 average loss = 0.5743624434471131\n",
      "Генерируем текст в пропорциональном режиме\n",
      "Using random seed: ации о налогах и сборах.\n",
      "\n",
      " Статья 105.\n",
      " Льготы по уплате\n",
      "----\n",
      " ации о налогах и сборах.\n",
      "\n",
      " Статья 105.\n",
      " Льготы по уплате таможенных пошлин, налогов, находящихся на временном случае удовлетворения требования к указанному на общих основаниях, устанавливаемых законодательством о все приостановлении или владение предмета с \n",
      "----\n",
      "Генерируем текст в жадном режиме (наиболее вероятные буквы)\n",
      "Using random seed: ударственного унитарного предприятия.\n",
      " Устав унитарного \n"
     ]
    },
    {
     "name": "stderr",
     "output_type": "stream",
     "text": [
      "  0%|          | 1/1000 [00:00<02:00,  8.27it/s]"
     ]
    },
    {
     "name": "stdout",
     "output_type": "stream",
     "text": [
      "----\n",
      " ударственного унитарного предприятия.\n",
      " Устав унитарного предприятия или повреждения имущества в порядке, установленном статьей 327 настоящего Кодекса.\n",
      " 2. Рассматривать дела об административных правонарушениях, предусмотренных частью 1 статьи 19.4, частью  \n",
      "----\n"
     ]
    },
    {
     "name": "stderr",
     "output_type": "stream",
     "text": [
      "100%|██████████| 1000/1000 [02:01<00:00,  8.24it/s]\n"
     ]
    },
    {
     "name": "stdout",
     "output_type": "stream",
     "text": [
      "Epoch 255 average loss = 0.5736995456516742\n",
      "Генерируем текст в пропорциональном режиме\n",
      "Using random seed: нина; защита прав национальных меньшинств; обеспечение за\n",
      "----\n",
      " нина; защита прав национальных меньшинств; обеспечение закона стоимости строятся средствами, находящимися быстрой порче, жилищное исполнение поручения гражданина возврата или отказывается от исполнительной власти, уполномоченных осуществлять в принятии к ра \n",
      "----\n",
      "Генерируем текст в жадном режиме (наиболее вероятные буквы)\n",
      "Using random seed: новленного порядка учета ядерных материалов или радиоакти\n"
     ]
    },
    {
     "name": "stderr",
     "output_type": "stream",
     "text": [
      "  0%|          | 1/1000 [00:00<02:02,  8.18it/s]"
     ]
    },
    {
     "name": "stdout",
     "output_type": "stream",
     "text": [
      "----\n",
      " новленного порядка учета ядерных материалов или радиоактивных веществ и (или) в интересах и по месту нахождения или месту жительства или общества и при наличии обстоятельств, послуживших основанием для возвращения в соответствии с законодательством Российск \n",
      "----\n"
     ]
    },
    {
     "name": "stderr",
     "output_type": "stream",
     "text": [
      "100%|██████████| 1000/1000 [02:03<00:00,  8.12it/s]\n"
     ]
    },
    {
     "name": "stdout",
     "output_type": "stream",
     "text": [
      "Epoch 256 average loss = 0.5705585672259331\n",
      "Генерируем текст в пропорциональном режиме\n",
      "Using random seed: вонарушения по правилам, установленным валютным законодат\n",
      "----\n",
      " вонарушения по правилам, установленным валютным законодательством Российской Федерации соответствует из настоящей статьи, нарудовре для участия в производство, поступившие извещении и о разрешении явно производство по делу об оспаривании решения администрат \n",
      "----\n",
      "Генерируем текст в жадном режиме (наиболее вероятные буквы)\n",
      "Using random seed: ые наложен арест, может быть разрешено начальником таможе\n"
     ]
    },
    {
     "name": "stderr",
     "output_type": "stream",
     "text": [
      "  0%|          | 1/1000 [00:00<02:01,  8.19it/s]"
     ]
    },
    {
     "name": "stdout",
     "output_type": "stream",
     "text": [
      "----\n",
      " ые наложен арест, может быть разрешено начальником таможенного органа или органа местного самоуправления, иных органов, должностных лиц в размере от сорока до пятидесяти минимальных размеров оплаты труда.\n",
      "\n",
      " Статья 19.\n",
      " 23. Передача вещи на хранение вещи в б \n",
      "----\n"
     ]
    },
    {
     "name": "stderr",
     "output_type": "stream",
     "text": [
      "100%|██████████| 1000/1000 [02:02<00:00,  8.15it/s]\n"
     ]
    },
    {
     "name": "stdout",
     "output_type": "stream",
     "text": [
      "Epoch 257 average loss = 0.5706554896235466\n",
      "Генерируем текст в пропорциональном режиме\n",
      "Using random seed: храны;\n",
      " 7) коменданты пограничных комендатур, командиры п\n",
      "----\n",
      " храны;\n",
      " 7) коменданты пограничных комендатур, командиры подлежат уголовно напитаненному высшему тому подозреваемой квалификации связи или значение для государственных нужд в размере готовности граждан, не восполитических требований и условий лиц, ответа или \n",
      "----\n",
      "Генерируем текст в жадном режиме (наиболее вероятные буквы)\n",
      "Using random seed: ледства в день предполагаемой гибели гражданина (пункт 1 \n"
     ]
    },
    {
     "name": "stderr",
     "output_type": "stream",
     "text": [
      "  0%|          | 1/1000 [00:00<02:01,  8.21it/s]"
     ]
    },
    {
     "name": "stdout",
     "output_type": "stream",
     "text": [
      "----\n",
      " ледства в день предполагаемой гибели гражданина (пункт 1 статьи 1119), статьями 19.6, 19.7 настоящего Кодекса.\n",
      " 2. Рассматривать дела об административных правонарушениях, предусмотренных статьями 11.23, 12.21, 11.23, 12.27, частью 1 статьи 19.5, статьями 19 \n",
      "----\n"
     ]
    },
    {
     "name": "stderr",
     "output_type": "stream",
     "text": [
      "100%|██████████| 1000/1000 [02:03<00:00,  8.12it/s]\n"
     ]
    },
    {
     "name": "stdout",
     "output_type": "stream",
     "text": [
      "Epoch 258 average loss = 0.5698806400895119\n",
      "Генерируем текст в пропорциональном режиме\n",
      "Using random seed: со статьей 28.3 настоящего Кодекса составлять протокол об\n",
      "----\n",
      " со статьей 28.3 настоящего Кодекса составлять протокол об административном правонарушении.\n",
      " 2. Информационный аттестат аннулирован по основаниям, предусмотренным законом;\n",
      " 2) российские товары подлежат товару от обжалования службы на имущество, переданную в \n",
      "----\n",
      "Генерируем текст в жадном режиме (наиболее вероятные буквы)\n",
      "Using random seed: иях, обеспечивающих нормальную работу суда и безопасность\n"
     ]
    },
    {
     "name": "stderr",
     "output_type": "stream",
     "text": [
      "  0%|          | 1/1000 [00:00<02:02,  8.17it/s]"
     ]
    },
    {
     "name": "stdout",
     "output_type": "stream",
     "text": [
      "----\n",
      " иях, обеспечивающих нормальную работу суда и безопасность должностным лицом таможенного органа или его должностного лица таможенного органа или его должностного лица таможенного органа или его должностного лица таможенного органа или его должностного лица т \n",
      "----\n"
     ]
    },
    {
     "name": "stderr",
     "output_type": "stream",
     "text": [
      "100%|██████████| 1000/1000 [02:03<00:00,  8.12it/s]\n"
     ]
    },
    {
     "name": "stdout",
     "output_type": "stream",
     "text": [
      "Epoch 259 average loss = 0.5701295228004456\n",
      "Генерируем текст в пропорциональном режиме\n",
      "Using random seed:  местного самоуправления, иных органов, должностных лиц, \n",
      "----\n",
      "  местного самоуправления, иных органов, должностных лиц, местах, установленных настоящим Кодексом для внутреннего потребления библиотеками и защитой методов внутренних морских водах, территориальном море или более сведения договора либо совокупности досрочн \n",
      "----\n",
      "Генерируем текст в жадном режиме (наиболее вероятные буквы)\n",
      "Using random seed: о Суда Российской Федерации должен указать конкретные осн\n"
     ]
    },
    {
     "name": "stderr",
     "output_type": "stream",
     "text": [
      "  0%|          | 1/1000 [00:00<02:01,  8.20it/s]"
     ]
    },
    {
     "name": "stdout",
     "output_type": "stream",
     "text": [
      "----\n",
      " о Суда Российской Федерации должен указать конкретные основания для отмены решения арбитражного суда первой инстанции в состав наследства и наследуется на общих основаниях, установленных в соответствии с законодательством Российской Федерации о государствен \n",
      "----\n"
     ]
    },
    {
     "name": "stderr",
     "output_type": "stream",
     "text": [
      "100%|██████████| 1000/1000 [02:03<00:00,  8.12it/s]\n"
     ]
    },
    {
     "name": "stdout",
     "output_type": "stream",
     "text": [
      "Epoch 260 average loss = 0.5696349841952324\n",
      "Генерируем текст в пропорциональном режиме\n",
      "Using random seed: арения», во взаимосвязи с положениями статьи 1111 и пункта\n",
      "----\n",
      " арения», во взаимосвязи с положениями статьи 1111 и пункта 2 настоящей статьи.\n",
      " 2. Государственные пошлины, налоги в случаях, когда фактическим управлением, за исключением случаев, когда он осуществляется за продавцом выплачивается арбитражным судом в порядк \n",
      "----\n",
      "Генерируем текст в жадном режиме (наиболее вероятные буквы)\n",
      "Using random seed: имо от наличия у них проездных документов. Договор хранени\n"
     ]
    },
    {
     "name": "stderr",
     "output_type": "stream",
     "text": [
      "  0%|          | 1/1000 [00:00<02:03,  8.09it/s]"
     ]
    },
    {
     "name": "stdout",
     "output_type": "stream",
     "text": [
      "----\n",
      " имо от наличия у них проездных документов. Договор хранения в соответствии с правилами настоящего Кодекса и в порядке, установленном порядке производство по делам об административных правонарушениях, предусмотренных статьями 11.15, 11.16, частями 1, 3, 4 и 5 \n",
      "----\n"
     ]
    },
    {
     "name": "stderr",
     "output_type": "stream",
     "text": [
      "100%|██████████| 1000/1000 [02:05<00:00,  8.01it/s]\n"
     ]
    },
    {
     "name": "stdout",
     "output_type": "stream",
     "text": [
      "Epoch 261 average loss = 0.5657137056589127\n",
      "Генерируем текст в пропорциональном режиме\n",
      "Using random seed: ором подряда, подрядчик при наличии обстоятельств, указанн\n",
      "----\n",
      " ором подряда, подрядчик при наличии обстоятельств, указанных в пункте 5 статьи 287 и патрульное.\n",
      "\n",
      " Статья 314.\n",
      " Приращение на приобретение) должностного лица, исполняется должностными лицами организации, так и участием в будущем соглашение не установлено ино \n",
      "----\n",
      "Генерируем текст в жадном режиме (наиболее вероятные буквы)\n",
      "Using random seed: ей инициативе или по заявлению лица, участвующего в деле, \n"
     ]
    },
    {
     "name": "stderr",
     "output_type": "stream",
     "text": [
      "  0%|          | 1/1000 [00:00<02:03,  8.07it/s]"
     ]
    },
    {
     "name": "stdout",
     "output_type": "stream",
     "text": [
      "----\n",
      " ей инициативе или по заявлению лица, участвующего в деле, и иных правовых актов, решений и действий (бездействия) государственных органов, органов местного самоуправления, иных органов, должностных лиц в размере от двадцати до тридцати минимальных размеров о \n",
      "----\n"
     ]
    },
    {
     "name": "stderr",
     "output_type": "stream",
     "text": [
      "100%|██████████| 1000/1000 [02:05<00:00,  7.98it/s]\n"
     ]
    },
    {
     "name": "stdout",
     "output_type": "stream",
     "text": [
      "Epoch 262 average loss = 0.5654439615309238\n",
      "Генерируем текст в пропорциональном режиме\n",
      "Using random seed: ной декларации приходится на нерабочий день таможенного ор\n",
      "----\n",
      " ной декларации приходится на нерабочий день таможенного органа на условиях дисловой редакции или закона утратил аренды отдельно расчетов несет перед кассационными и порядок. Взиманием или без таковой.\n",
      " 4. С лицом, в пользу задержания естественных и налоговой \n",
      "----\n",
      "Генерируем текст в жадном режиме (наиболее вероятные буквы)\n",
      "Using random seed: азанное лицо выдворяется, если административное выдворение\n"
     ]
    },
    {
     "name": "stderr",
     "output_type": "stream",
     "text": [
      "  0%|          | 1/1000 [00:00<02:04,  8.04it/s]"
     ]
    },
    {
     "name": "stdout",
     "output_type": "stream",
     "text": [
      "----\n",
      " азанное лицо выдворяется, если административное выдворение за пределы Российской Федерации и федеральным законом или договором купли-продажи предусмотрено законом или договором купли-продажи предусмотрено законом или договором купли-продажи предусмотрено зак \n",
      "----\n"
     ]
    },
    {
     "name": "stderr",
     "output_type": "stream",
     "text": [
      "100%|██████████| 1000/1000 [02:05<00:00,  7.98it/s]\n"
     ]
    },
    {
     "name": "stdout",
     "output_type": "stream",
     "text": [
      "Epoch 263 average loss = 0.567025606393814\n",
      "Генерируем текст в пропорциональном режиме\n",
      "Using random seed: ушением установленных сроков, а равно сбор, заготовка или \n",
      "----\n",
      " ушением установленных сроков, а равно сбор, заготовка или отдельная таможенная декларации, за исключением водителями во владение на улицах, участвующие в деле, не может назначаться те же административную ответственность по охране Кодексом.\n",
      " Принимая необходи \n",
      "----\n",
      "Генерируем текст в жадном режиме (наиболее вероятные буквы)\n",
      "Using random seed: ругими природными ресурсами, производится в порядке, преду\n"
     ]
    },
    {
     "name": "stderr",
     "output_type": "stream",
     "text": [
      "  0%|          | 1/1000 [00:00<02:04,  8.02it/s]"
     ]
    },
    {
     "name": "stdout",
     "output_type": "stream",
     "text": [
      "----\n",
      " ругими природными ресурсами, производится в порядке, предусмотренном статьей 327 настоящего Кодекса.\n",
      " 2. Рассматривать дела об административных правонарушениях, предусмотренных частью 1 статьи 19.4, частью 1 статьи 19.5, статьями 19.6, 19.7 настоящего Кодекс \n",
      "----\n"
     ]
    },
    {
     "name": "stderr",
     "output_type": "stream",
     "text": [
      "100%|██████████| 1000/1000 [02:05<00:00,  7.99it/s]\n"
     ]
    },
    {
     "name": "stdout",
     "output_type": "stream",
     "text": [
      "Epoch 264 average loss = 0.5658144378066063\n",
      "Генерируем текст в пропорциональном режиме\n",
      "Using random seed: рые у других лиц, участвующих в деле, отсутствуют;\n",
      " 2) док\n",
      "----\n",
      " рые у других лиц, участвующих в деле, отсутствуют;\n",
      " 2) документ, подтверждающий против нескольким наследникам по договору представителя административного штрафа на граждан в размере от трех четелей административного штрафа, аэродрома, судья.\n",
      "\n",
      "  Статья 11. Пр \n",
      "----\n",
      "Генерируем текст в жадном режиме (наиболее вероятные буквы)\n",
      "Using random seed: рриториальных органов федерального органа исполнительной в\n"
     ]
    },
    {
     "name": "stderr",
     "output_type": "stream",
     "text": [
      "  0%|          | 1/1000 [00:00<02:04,  8.00it/s]"
     ]
    },
    {
     "name": "stdout",
     "output_type": "stream",
     "text": [
      "----\n",
      " рриториальных органов федерального органа исполнительной власти, уполномоченного в области таможенного дела, в соответствии с пунктом 1 настоящей статьи, вправе:\n",
      " 1) руководитель федерального органа исполнительной власти, уполномоченного в области таможенног \n",
      "----\n"
     ]
    },
    {
     "name": "stderr",
     "output_type": "stream",
     "text": [
      "100%|██████████| 1000/1000 [02:05<00:00,  8.00it/s]\n"
     ]
    },
    {
     "name": "stdout",
     "output_type": "stream",
     "text": [
      "Epoch 265 average loss = 0.5653077225983143\n",
      "Генерируем текст в пропорциональном режиме\n",
      "Using random seed: ых целей либо при наличии информации о нарушении таможенног\n",
      "----\n",
      " ых целей либо при наличии информации о нарушении таможенного режима экспорта государственных органов, ответственности в соответствии с правилами, предусмотренными главой 41 настоящего Кодекса при отсутствии соглашения Правительством Российской Федерации.».\n",
      " 4 \n",
      "----\n",
      "Генерируем текст в жадном режиме (наиболее вероятные буквы)\n",
      "Using random seed: ии:\n",
      " 1) должностные лица органов внутренних дел (милиции) –\n"
     ]
    },
    {
     "name": "stderr",
     "output_type": "stream",
     "text": [
      "  0%|          | 1/1000 [00:00<02:05,  7.93it/s]"
     ]
    },
    {
     "name": "stdout",
     "output_type": "stream",
     "text": [
      "----\n",
      " ии:\n",
      " 1) должностные лица органов внутренних дел (милиции) – не позднее следующего дня после дня его вынесения на помещение товаров под таможенный режим временного ввоза товаров и транспортных средств в порядке надзора подлежат уплате таможенных пошлин, налого \n",
      "----\n"
     ]
    },
    {
     "name": "stderr",
     "output_type": "stream",
     "text": [
      "100%|██████████| 1000/1000 [02:07<00:00,  7.86it/s]\n"
     ]
    },
    {
     "name": "stdout",
     "output_type": "stream",
     "text": [
      "Epoch 266 average loss = 0.5613391426801682\n",
      "Генерируем текст в пропорциональном режиме\n",
      "Using random seed: татья 11.\n",
      " 7. Нарушение правил плавания\n",
      "\n",
      " 1. Нарушение судо\n",
      "----\n",
      " татья 11.\n",
      " 7. Нарушение правил плавания\n",
      "\n",
      " 1. Нарушение судовых средств защиты растений\n",
      "\n",
      "\n",
      " Статья 164.\n",
      " Порядок и условиях, соответствующего удовлетворения; время в готовлении исполнения решения допускается без оплаты труда.\n",
      "  (в ред. Федерального закона от 29 \n",
      "----\n",
      "Генерируем текст в жадном режиме (наиболее вероятные буквы)\n",
      "Using random seed: атива определяются настоящим Кодексом и другими законами.\n",
      " \n"
     ]
    },
    {
     "name": "stderr",
     "output_type": "stream",
     "text": [
      "  0%|          | 1/1000 [00:00<02:06,  7.91it/s]"
     ]
    },
    {
     "name": "stdout",
     "output_type": "stream",
     "text": [
      "----\n",
      " атива определяются настоящим Кодексом и другими законами.\n",
      " 2. При отсутствии в договоре поставки товаров для государственных нужд подлежит отмене в течение трех месяцев со дня открытия наследства и управлению им в течение срока, установленного законом порядка \n",
      "----\n"
     ]
    },
    {
     "name": "stderr",
     "output_type": "stream",
     "text": [
      "100%|██████████| 1000/1000 [02:07<00:00,  7.87it/s]\n"
     ]
    },
    {
     "name": "stdout",
     "output_type": "stream",
     "text": [
      "Epoch 267 average loss = 0.5604785710573197\n",
      "Генерируем текст в пропорциональном режиме\n",
      "Using random seed: обязуется осуществлять пожизненное содержание с иждивением \n",
      "----\n",
      " обязуется осуществлять пожизненное содержание с иждивением создаваемых имени использования архивных документов, подтверждающих права эти органы государственного горного и учредительных доказательств продаваемых товарами. При этом должно было единовременно при \n",
      "----\n",
      "Генерируем текст в жадном режиме (наиболее вероятные буквы)\n",
      "Using random seed: существлении работ в области гидрометеорологии, мониторинга\n"
     ]
    },
    {
     "name": "stderr",
     "output_type": "stream",
     "text": [
      "  0%|          | 1/1000 [00:00<02:06,  7.90it/s]"
     ]
    },
    {
     "name": "stdout",
     "output_type": "stream",
     "text": [
      "----\n",
      " существлении работ в области гидрометеорологии, мониторинга окружающей среды и обращение в арбитражный суд по месту нахождения или место жительства или общества и при представлении нескольких наследников по закону после смерти такого рода или административное \n",
      "----\n"
     ]
    },
    {
     "name": "stderr",
     "output_type": "stream",
     "text": [
      "100%|██████████| 1000/1000 [02:07<00:00,  7.86it/s]\n"
     ]
    },
    {
     "name": "stdout",
     "output_type": "stream",
     "text": [
      "Epoch 268 average loss = 0.5608803067803383\n",
      "Генерируем текст в пропорциональном режиме\n",
      "Using random seed:  терроризма, их заместители.\n",
      "\n",
      " Статья 23.\n",
      " 63. Органы по ко\n",
      "----\n",
      "  терроризма, их заместители.\n",
      "\n",
      " Статья 23.\n",
      " 63. Органы по контролю во временное использование прав на подачу свидетельства и порядке выдает право единолично в отсутствие непокрытого изготовителем.\n",
      " 3. В целях фотоколу таких дипломатических следов вскрытия согл \n",
      "----\n",
      "Генерируем текст в жадном режиме (наиболее вероятные буквы)\n",
      "Using random seed: ные к выпуску для свободного обращения, считаются условно в\n"
     ]
    },
    {
     "name": "stderr",
     "output_type": "stream",
     "text": [
      "  0%|          | 1/1000 [00:00<02:06,  7.87it/s]"
     ]
    },
    {
     "name": "stdout",
     "output_type": "stream",
     "text": [
      "----\n",
      " ные к выпуску для свободного обращения, считаются условно выпущенными товарами и транспортными средствами на срок от одного года до двух лет.\n",
      "  (в ред. Федерального закона от 29.06.2004 №58-ФЗ) \n",
      " 2. При отсутствии в договоре подряда на основе взаимного страхо \n",
      "----\n"
     ]
    },
    {
     "name": "stderr",
     "output_type": "stream",
     "text": [
      "100%|██████████| 1000/1000 [02:07<00:00,  7.88it/s]\n"
     ]
    },
    {
     "name": "stdout",
     "output_type": "stream",
     "text": [
      "Epoch 269 average loss = 0.5596336371898651\n",
      "Генерируем текст в пропорциональном режиме\n",
      "Using random seed:  том числе в форме электронного документа) о получении тамо\n",
      "----\n",
      "  том числе в форме электронного документа) о получении таможенному контролю.\n",
      " По заявлению проверки таких товаров в международных почтовых отправлений\n",
      "\n",
      "\n",
      " § 2. Международные организации арбитражного суда апелляционной инстанции устанавливаются на основании общ \n",
      "----\n",
      "Генерируем текст в жадном режиме (наиболее вероятные буквы)\n",
      "Using random seed: ивного правонарушения, с их конфискацией или без таковой ли\n"
     ]
    },
    {
     "name": "stderr",
     "output_type": "stream",
     "text": [
      "  0%|          | 1/1000 [00:00<02:06,  7.92it/s]"
     ]
    },
    {
     "name": "stdout",
     "output_type": "stream",
     "text": [
      "----\n",
      " ивного правонарушения, с их конфискацией или без таковой либо конфискацию предметов административного правонарушения или без таковой; на юридических лиц – от двухсот до трехсот минимальных размеров оплаты труда; на юридических лиц – от двухсот до трехсот мини \n",
      "----\n"
     ]
    },
    {
     "name": "stderr",
     "output_type": "stream",
     "text": [
      "100%|██████████| 1000/1000 [02:07<00:00,  7.85it/s]\n"
     ]
    },
    {
     "name": "stdout",
     "output_type": "stream",
     "text": [
      "Epoch 270 average loss = 0.5616512399315834\n",
      "Генерируем текст в пропорциональном режиме\n",
      "Using random seed: варительному договору стороны обязуются заключить в будущем \n",
      "----\n",
      " варительному договору стороны обязуются заключить в будущем их таможенном транзите\n",
      "\n",
      " Учредительным документам, предусмотренным доказательствами, если помещение, а также полаты, о чем по обязательствам определяющих стоящим Кодексом.\n",
      " 2. Срок переработки товаров \n",
      "----\n",
      "Генерируем текст в жадном режиме (наиболее вероятные буквы)\n",
      "Using random seed:  договор.\n",
      " 2. Страховщик вправе требовать от выгодоприобрета\n"
     ]
    },
    {
     "name": "stderr",
     "output_type": "stream",
     "text": [
      "  0%|          | 1/1000 [00:00<02:07,  7.81it/s]"
     ]
    },
    {
     "name": "stdout",
     "output_type": "stream",
     "text": [
      "----\n",
      "  договор.\n",
      " 2. Страховщик вправе требовать от выгодоприобретателя или иного лица, обладающего предпринимательскую деятельность без образования юридического лица, в отношении которых применяются правила о договоре подряда на выполнение проектных и изыскательских \n",
      "----\n"
     ]
    },
    {
     "name": "stderr",
     "output_type": "stream",
     "text": [
      "100%|██████████| 1000/1000 [02:09<00:00,  7.72it/s]\n"
     ]
    },
    {
     "name": "stdout",
     "output_type": "stream",
     "text": [
      "Epoch 271 average loss = 0.557188458174467\n",
      "Генерируем текст в пропорциональном режиме\n",
      "Using random seed: чающем влияние на его формирование лиц, заинтересованных в и\n",
      "----\n",
      " чающем влияние на его формирование лиц, заинтересованных в использовании производства по делу третью в его эксплуатиции сведений, предусмотренных статьей 27.20 настоящего Кодекса. Федении \n",
      "\n",
      "\n",
      "\n",
      "\n",
      "\n",
      " Раздел II.\n",
      " Общественном мерах и в том же денежного требования, п \n",
      "----\n",
      "Генерируем текст в жадном режиме (наиболее вероятные буквы)\n",
      "Using random seed: З)\n",
      " 1. Постановление судьи об административном приостановлен\n"
     ]
    },
    {
     "name": "stderr",
     "output_type": "stream",
     "text": [
      "  0%|          | 1/1000 [00:00<02:07,  7.81it/s]"
     ]
    },
    {
     "name": "stdout",
     "output_type": "stream",
     "text": [
      "----\n",
      " З)\n",
      " 1. Постановление судьи об административном приостановлении исполнения обязательства и не менее двух лет с момента выдача содержания с иждивением\n",
      "\n",
      " 1. Постановление по делу об административном правонарушении и при наличии обстоятельств, предусмотренных пунк \n",
      "----\n"
     ]
    },
    {
     "name": "stderr",
     "output_type": "stream",
     "text": [
      "100%|██████████| 1000/1000 [02:09<00:00,  7.73it/s]\n"
     ]
    },
    {
     "name": "stdout",
     "output_type": "stream",
     "text": [
      "Epoch 272 average loss = 0.556352622717619\n",
      "Генерируем текст в пропорциональном режиме\n",
      "Using random seed:  дел Российской Федерации\n",
      " от 18 января 1993 г. N17\n",
      " г. Моск\n",
      "----\n",
      "  дел Российской Федерации\n",
      " от 18 января 1993 г. N17\n",
      " г. Москва. Заявление о том, какие их идентификации, входящего, каждая из помощи.\n",
      " 2. Требования к заявлению наследника по закону, таможенный орган утратились участков суда – и сотрудники милиции имеют право  \n",
      "----\n",
      "Генерируем текст в жадном режиме (наиболее вероятные буквы)\n",
      "Using random seed: ся авиабомб, снарядов, мин, взрывчатых веществ, а также ради\n"
     ]
    },
    {
     "name": "stderr",
     "output_type": "stream",
     "text": [
      "  0%|          | 1/1000 [00:00<02:08,  7.80it/s]"
     ]
    },
    {
     "name": "stdout",
     "output_type": "stream",
     "text": [
      "----\n",
      " ся авиабомб, снарядов, мин, взрывчатых веществ, а также радиоактивных веществ, их заместители;\n",
      " 3) государственные инспектора субъектов Российской Федерации и органами государственной власти Российской Федерации и законодательством Российской Федерации о госуд \n",
      "----\n"
     ]
    },
    {
     "name": "stderr",
     "output_type": "stream",
     "text": [
      "100%|██████████| 1000/1000 [02:09<00:00,  7.74it/s]\n"
     ]
    },
    {
     "name": "stdout",
     "output_type": "stream",
     "text": [
      "Epoch 273 average loss = 0.5565202042758465\n",
      "Генерируем текст в пропорциональном режиме\n",
      "Using random seed:  могут помещаться иностранные товары, ранее помещенные под и\n",
      "----\n",
      "  могут помещаться иностранные товары, ранее помещенные под иные таможенные режимы.\n",
      " 3. Дарение уплаты на депозитный считается к позничественные доказательства массового мникципала иное, их учредительным (безопасности по государственному страхованию по закону з \n",
      "----\n",
      "Генерируем текст в жадном режиме (наиболее вероятные буквы)\n",
      "Using random seed: итражные суды рассматривают в соответствии с главой 31 насто\n"
     ]
    },
    {
     "name": "stderr",
     "output_type": "stream",
     "text": [
      "  0%|          | 1/1000 [00:00<02:07,  7.82it/s]"
     ]
    },
    {
     "name": "stdout",
     "output_type": "stream",
     "text": [
      "----\n",
      " итражные суды рассматривают в соответствии с главой 31 настоящего Кодекса, в результате производится в соответствии с настоящим Кодексом и иными федеральными законами и иными правовыми актами или договором поставки товаров для государственных нужд по результат \n",
      "----\n"
     ]
    },
    {
     "name": "stderr",
     "output_type": "stream",
     "text": [
      "100%|██████████| 1000/1000 [02:09<00:00,  7.73it/s]\n"
     ]
    },
    {
     "name": "stdout",
     "output_type": "stream",
     "text": [
      "Epoch 274 average loss = 0.5560049670934677\n",
      "Генерируем текст в пропорциональном режиме\n",
      "Using random seed: завещанием не предусмотрено иное.\n",
      " 3. Если отказополучатель \n",
      "----\n",
      " завещанием не предусмотрено иное.\n",
      " 3. Если отказополучатель на мотоцикла или сделать такая займодавца после привлечения органами государственной власти, устанавливается председатель с тарифным путем применения оружия.\n",
      " Если договором страхования, которая, где  \n",
      "----\n",
      "Генерируем текст в жадном режиме (наиболее вероятные буквы)\n",
      "Using random seed: ношении должностного лица правоохранительного или контролиру\n"
     ]
    },
    {
     "name": "stderr",
     "output_type": "stream",
     "text": [
      "  0%|          | 1/1000 [00:00<02:07,  7.81it/s]"
     ]
    },
    {
     "name": "stdout",
     "output_type": "stream",
     "text": [
      "----\n",
      " ношении должностного лица правоохранительного или контролирующих органов и организаций, управляющих право на получение причитающегося наследнику по завещанию и по закону или в порядке, предусмотренном статьей 337 настоящего Кодекса.\n",
      " 2. Рассматривать дела об а \n",
      "----\n"
     ]
    },
    {
     "name": "stderr",
     "output_type": "stream",
     "text": [
      "100%|██████████| 1000/1000 [02:09<00:00,  7.75it/s]\n"
     ]
    },
    {
     "name": "stdout",
     "output_type": "stream",
     "text": [
      "Epoch 275 average loss = 0.556917039334774\n",
      "Генерируем текст в пропорциональном режиме\n",
      "Using random seed: ответствии с правом этой страны. Если невозможно определить в\n",
      "----\n",
      " ответствии с правом этой страны. Если невозможно определить в порядке искового производства, законодательная и проведение льгот либо иного докабели, начальников милиции сделки.\n",
      "\n",
      " Статья 926.\n",
      " Хранской адрядде) товаров и транспортных средств, таможенных складов; \n",
      "----\n",
      "Генерируем текст в жадном режиме (наиболее вероятные буквы)\n",
      "Using random seed: ено по иным основаниям, до дня списания включительно.\n",
      "  (в ре\n"
     ]
    },
    {
     "name": "stderr",
     "output_type": "stream",
     "text": [
      "  0%|          | 1/1000 [00:00<02:10,  7.63it/s]"
     ]
    },
    {
     "name": "stdout",
     "output_type": "stream",
     "text": [
      "----\n",
      " ено по иным основаниям, до дня списания включительно.\n",
      "  (в ред. Федерального закона от 29.06.2004 №58-ФЗ) \n",
      " 2. Таможенные органы обязаны представлять доказательства и не может быть принято на основе договора продажи недвижимости на территории Российской Федерац \n",
      "----\n"
     ]
    },
    {
     "name": "stderr",
     "output_type": "stream",
     "text": [
      "100%|██████████| 1000/1000 [02:11<00:00,  7.59it/s]\n"
     ]
    },
    {
     "name": "stdout",
     "output_type": "stream",
     "text": [
      "Epoch 276 average loss = 0.5535706997811795\n",
      "Генерируем текст в пропорциональном режиме\n",
      "Using random seed: ультурных ценностей\n",
      "\n",
      " В случаях, когда собственник культурных\n",
      "----\n",
      " ультурных ценностей\n",
      "\n",
      " В случаях, когда собственник культурных ценностей, если признается обязательным требованиям статьи 15 настоящего Кодекса.\n",
      " 2. Таможенный орган обязательства, уплаченной части залога, незаконных представителей.\n",
      " Сокрытие и статьей 70 и 211  \n",
      "----\n",
      "Генерируем текст в жадном режиме (наиболее вероятные буквы)\n",
      "Using random seed: ка произведена с предварительного письменного согласия покупа\n"
     ]
    },
    {
     "name": "stderr",
     "output_type": "stream",
     "text": [
      "  0%|          | 1/1000 [00:00<02:10,  7.68it/s]"
     ]
    },
    {
     "name": "stdout",
     "output_type": "stream",
     "text": [
      "----\n",
      " ка произведена с предварительного письменного согласия покупателя о необходимости применяются правила о договоре простого товарищества или общества и подписывается в случаях, предусмотренных настоящим Кодексом и иными правовыми актами или договором поставки тов \n",
      "----\n"
     ]
    },
    {
     "name": "stderr",
     "output_type": "stream",
     "text": [
      "100%|██████████| 1000/1000 [02:11<00:00,  7.61it/s]\n"
     ]
    },
    {
     "name": "stdout",
     "output_type": "stream",
     "text": [
      "Epoch 277 average loss = 0.5516043228805065\n",
      "Генерируем текст в пропорциональном режиме\n",
      "Using random seed: ебованиями антимонопольного законодательства Российской Федер\n",
      "----\n",
      " ебованиями антимонопольного законодательства Российской Федерации, в порядке предприятия, использования иным законом «Об арбитрайных условий их перегрузка, вопросы причитающе (промыслованси обязанностей течение срока исполнения поклажедателя (в том числе факсир \n",
      "----\n",
      "Генерируем текст в жадном режиме (наиболее вероятные буквы)\n",
      "Using random seed: ет затронуть решение об установлении факта, имеющего юридичес\n"
     ]
    },
    {
     "name": "stderr",
     "output_type": "stream",
     "text": [
      "  0%|          | 1/1000 [00:00<02:10,  7.67it/s]"
     ]
    },
    {
     "name": "stdout",
     "output_type": "stream",
     "text": [
      "----\n",
      " ет затронуть решение об установлении факта, имеющего юридическое значение, принадлежащее квалификационные признаки того, что при проведении массового мероприятия и порядок принятия постановления о назначении административного наказания в виде административного  \n",
      "----\n"
     ]
    },
    {
     "name": "stderr",
     "output_type": "stream",
     "text": [
      "100%|██████████| 1000/1000 [02:11<00:00,  7.59it/s]\n"
     ]
    },
    {
     "name": "stdout",
     "output_type": "stream",
     "text": [
      "Epoch 278 average loss = 0.5537954303920269\n",
      "Генерируем текст в пропорциональном режиме\n",
      "Using random seed: ому лицу заявления наследника об отказе от наследства.\n",
      " 2. В \n",
      "----\n",
      " ому лицу заявления наследника об отказе от наследства.\n",
      " 2. В каждой достижении разрешения таможенного органа в уровне места государственных нужд под оперативной обстановки, отвечающих требование, номере, сотрудник милиции не умелы в ассоциаций) назначением по к \n",
      "----\n",
      "Генерируем текст в жадном режиме (наиболее вероятные буквы)\n",
      "Using random seed: х, предусмотренных настоящей статьей, доли членов крестьянско\n"
     ]
    },
    {
     "name": "stderr",
     "output_type": "stream",
     "text": [
      "  0%|          | 1/1000 [00:00<02:10,  7.68it/s]"
     ]
    },
    {
     "name": "stdout",
     "output_type": "stream",
     "text": [
      "----\n",
      " х, предусмотренных настоящей статьей, доли членов крестьянского (фермерского) хозяйства при проведении таможенного контроля в соответствии с законодательством Российской Федерации о государственном регулировании внешнеторговой деятельности, и использование прои \n",
      "----\n"
     ]
    },
    {
     "name": "stderr",
     "output_type": "stream",
     "text": [
      "100%|██████████| 1000/1000 [02:11<00:00,  7.63it/s]\n"
     ]
    },
    {
     "name": "stdout",
     "output_type": "stream",
     "text": [
      "Epoch 279 average loss = 0.5521814450919628\n",
      "Генерируем текст в пропорциональном режиме\n",
      "Using random seed: б административном правонарушении, вынесенное коллегиальным о\n",
      "----\n",
      " б административном правонарушении, вынесенное коллегиальным органом отправления и раскрытия ими без разрешения таможенного органа в письменной форме в течение тридцати дней со дня получения такого заменяются решения ввезенных товаров в случаях, предусмотренных  \n",
      "----\n",
      "Генерируем текст в жадном режиме (наиболее вероятные буквы)\n",
      "Using random seed: ая в области таможенного дела, определяет стратегию таможенно\n"
     ]
    },
    {
     "name": "stderr",
     "output_type": "stream",
     "text": [
      "  0%|          | 1/1000 [00:00<02:10,  7.68it/s]"
     ]
    },
    {
     "name": "stdout",
     "output_type": "stream",
     "text": [
      "----\n",
      " ая в области таможенного дела, определяет стратегию таможенного контроля в соответствии с законодательством Российской Федерации о государственном регулировании внешнеторговой деятельности, принимает решение о приостановлении выпуска товаров под таможенный режи \n",
      "----\n"
     ]
    },
    {
     "name": "stderr",
     "output_type": "stream",
     "text": [
      "100%|██████████| 1000/1000 [02:11<00:00,  7.62it/s]\n"
     ]
    },
    {
     "name": "stdout",
     "output_type": "stream",
     "text": [
      "Epoch 280 average loss = 0.5530169705450535\n",
      "Генерируем текст в пропорциональном режиме\n",
      "Using random seed:  транспортного средства на другое транспортное средство ответс\n",
      "----\n",
      "  транспортного средства на другое транспортное средство ответственность за вред, причиненный несовершеннолетнего лица, пригодности исполнение обязательства.\n",
      " Для негодность к выполнению обязательств\n",
      "\n",
      " 1. При нахождении производства по делу об административном пр \n",
      "----\n",
      "Генерируем текст в жадном режиме (наиболее вероятные буквы)\n",
      "Using random seed:  в соответствии с федеральным законом.\n",
      " Проведение экспертизы \n"
     ]
    },
    {
     "name": "stderr",
     "output_type": "stream",
     "text": [
      "  0%|          | 1/1000 [00:00<02:12,  7.52it/s]"
     ]
    },
    {
     "name": "stdout",
     "output_type": "stream",
     "text": [
      "----\n",
      "  в соответствии с федеральным законом.\n",
      " Проведение экспертизы и принятие наследства в эфирного вещания или представления отдельных видов товаров, перемещаемых через таможенную границу Российской Федерации и представляемых на основании пункта 1 см. Постановление  \n",
      "----\n"
     ]
    },
    {
     "name": "stderr",
     "output_type": "stream",
     "text": [
      "100%|██████████| 1000/1000 [02:13<00:00,  7.48it/s]\n"
     ]
    },
    {
     "name": "stdout",
     "output_type": "stream",
     "text": [
      "Epoch 281 average loss = 0.5502447674870491\n",
      "Генерируем текст в пропорциональном режиме\n",
      "Using random seed: льных размеров оплаты труда с конфискацией узла проводного вещ\n",
      "----\n",
      " льных размеров оплаты труда с конфискацией узла проводного вещания, если причинитель вреда жизни и здоровью гражданина.\n",
      " 2. Орган внутренних дел или здоровью гражданина, которой проводилась применяемыми в банковской практике обычаями делового оборота или указыва \n",
      "----\n",
      "Генерируем текст в жадном режиме (наиболее вероятные буквы)\n",
      "Using random seed: о обнародования произведения, а если оно не было обнародовано,\n"
     ]
    },
    {
     "name": "stderr",
     "output_type": "stream",
     "text": [
      "  0%|          | 1/1000 [00:00<02:12,  7.56it/s]"
     ]
    },
    {
     "name": "stdout",
     "output_type": "stream",
     "text": [
      "----\n",
      " о обнародования произведения, а если оно не было обнародовано, если иное не предусмотрено договором купли-продажи, принятых через таможенную границу ответственность за уплату таможенных пошлин, налогов при наличии у него компетенции общего собрания акционеров и  \n",
      "----\n"
     ]
    },
    {
     "name": "stderr",
     "output_type": "stream",
     "text": [
      "100%|██████████| 1000/1000 [02:13<00:00,  7.49it/s]\n"
     ]
    },
    {
     "name": "stdout",
     "output_type": "stream",
     "text": [
      "Epoch 282 average loss = 0.551382825911045\n",
      "Генерируем текст в пропорциональном режиме\n",
      "Using random seed: еречисляются в федеральный бюджет.\n",
      " 3. Распоряжение товарами и\n",
      "----\n",
      " еречисляются в федеральный бюджет.\n",
      " 3. Распоряжение товарами и (или) транспортным средством либо подрядчик для принятия антистерственной Думы.\n",
      " 3. По результатам распределения заявителем вокзалов\n",
      "\n",
      " 1. Сделка, совершенная или предоставление предусмотрено иное;\n",
      " – \n",
      "----\n",
      "Генерируем текст в жадном режиме (наиболее вероятные буквы)\n",
      "Using random seed: овариществ и обществ, производственных кооперативов, государст\n"
     ]
    },
    {
     "name": "stderr",
     "output_type": "stream",
     "text": [
      "  0%|          | 1/1000 [00:00<02:12,  7.53it/s]"
     ]
    },
    {
     "name": "stdout",
     "output_type": "stream",
     "text": [
      "----\n",
      " овариществ и обществ, производственных кооперативов, государственных органов, органов местного самоуправления, иных органов, должностных лиц в размере от двадцати до тридцати минимальных размеров оплаты труда.\n",
      "\n",
      " Статья 19.\n",
      " 1. Нарушение правил производства по де \n",
      "----\n"
     ]
    },
    {
     "name": "stderr",
     "output_type": "stream",
     "text": [
      "100%|██████████| 1000/1000 [02:13<00:00,  7.48it/s]\n"
     ]
    },
    {
     "name": "stdout",
     "output_type": "stream",
     "text": [
      "Epoch 283 average loss = 0.5509199198484421\n",
      "Генерируем текст в пропорциональном режиме\n",
      "Using random seed: новления производства по делу\n",
      "\n",
      " 1. О приостановлении производс\n",
      "----\n",
      " новления производства по делу\n",
      "\n",
      " 1. О приостановлении производства по делу об административном правонарушении и об или обеспечение возникающего товарищества выдела с участием арбитражный суд выносит определение.\n",
      "\n",
      " Глава 3. Федеративное правоотношение в одной и то \n",
      "----\n",
      "Генерируем текст в жадном режиме (наиболее вероятные буквы)\n",
      "Using random seed: е помещение в состоянии, пригодном для проживания.\n",
      " 2. Наймода\n"
     ]
    },
    {
     "name": "stderr",
     "output_type": "stream",
     "text": [
      "  0%|          | 1/1000 [00:00<02:12,  7.51it/s]"
     ]
    },
    {
     "name": "stdout",
     "output_type": "stream",
     "text": [
      "----\n",
      " е помещение в состоянии, пригодном для проживания.\n",
      " 2. Наймодатель вправе по своему усмотрению с органами исполнительной власти, уполномоченного в области таможенного дела, в соответствии с пунктом 1 настоящей статьи, вправе:\n",
      " 1) руководитель федерального органа \n",
      "----\n"
     ]
    },
    {
     "name": "stderr",
     "output_type": "stream",
     "text": [
      "100%|██████████| 1000/1000 [02:13<00:00,  7.46it/s]\n"
     ]
    },
    {
     "name": "stdout",
     "output_type": "stream",
     "text": [
      "Epoch 284 average loss = 0.5499365860521793\n",
      "Генерируем текст в пропорциональном режиме\n",
      "Using random seed: новления действия закона или иного правового акта, регулирующе\n",
      "----\n",
      " новления действия закона или иного правового акта, регулирующего завещания заявителя не подлежит службу в местном на указанных во временное выполнение постановления помещения товаров под таможенный режим временного ввоза покупателю постановления.\n",
      " 3. К договорам \n",
      "----\n",
      "Генерируем текст в жадном режиме (наиболее вероятные буквы)\n",
      "Using random seed: ься к этим отношениям постольку, поскольку они не противоречат\n"
     ]
    },
    {
     "name": "stderr",
     "output_type": "stream",
     "text": [
      "  0%|          | 1/1000 [00:00<02:12,  7.52it/s]"
     ]
    },
    {
     "name": "stdout",
     "output_type": "stream",
     "text": [
      "----\n",
      " ься к этим отношениям постольку, поскольку они не противоречатся под таможенным контролем и при условии, что эти припасы остаются в порядке, установленном настоящим Кодексом.\n",
      " 2. При применении последствия не установлено, что при принятии решения на переработку  \n",
      "----\n"
     ]
    },
    {
     "name": "stderr",
     "output_type": "stream",
     "text": [
      "100%|██████████| 1000/1000 [02:13<00:00,  7.46it/s]\n"
     ]
    },
    {
     "name": "stdout",
     "output_type": "stream",
     "text": [
      "Epoch 285 average loss = 0.5486042157411576\n",
      "Генерируем текст в пропорциональном режиме\n",
      "Using random seed: для которых охота является основным законным источником средств\n",
      "----\n",
      " для которых охота является основным законным источником средств к существованию.\n",
      " 3. В случае арендодателя по месту их нахождения, определенной страны;\n",
      " 5) руководитель управления заявления о самоотводе за вычетом расходов, совершения административного правонаруш \n",
      "----\n",
      "Генерируем текст в жадном режиме (наиболее вероятные буквы)\n",
      "Using random seed: йной гибели имущества, переданного под выплату постоянной ренты\n"
     ]
    },
    {
     "name": "stderr",
     "output_type": "stream",
     "text": [
      "  0%|          | 1/1000 [00:00<02:15,  7.39it/s]"
     ]
    },
    {
     "name": "stdout",
     "output_type": "stream",
     "text": [
      "----\n",
      " йной гибели имущества, переданного под выплату постоянной ренты по поставщика (пункт 2 статьи 1117), статьями 13.1 – 13.22 настоящего Кодекса о займе, осуществляющий государственный контроль за соблюдением правил перевозки опасных веществ в атмосферный воздух или \n",
      "----\n"
     ]
    },
    {
     "name": "stderr",
     "output_type": "stream",
     "text": [
      "100%|██████████| 1000/1000 [02:15<00:00,  7.37it/s]\n"
     ]
    },
    {
     "name": "stdout",
     "output_type": "stream",
     "text": [
      "Epoch 286 average loss = 0.5445711446106434\n",
      "Генерируем текст в пропорциональном режиме\n",
      "Using random seed: е может осуществляться на складе получателя товаров:\n",
      " при приме\n",
      "----\n",
      " е может осуществляться на складе получателя товаров:\n",
      " при применении договоров, объектов пить государственная регистрации в Российской Федерации. Если арбитражный суд апелляционной инстанций таможенными органами должник не входящих в лесной фонд). В части 1 насто \n",
      "----\n",
      "Генерируем текст в жадном режиме (наиболее вероятные буквы)\n",
      "Using random seed: раву страны, подлежащему применению к соответствующему отношени\n"
     ]
    },
    {
     "name": "stderr",
     "output_type": "stream",
     "text": [
      "  0%|          | 1/1000 [00:00<02:14,  7.40it/s]"
     ]
    },
    {
     "name": "stdout",
     "output_type": "stream",
     "text": [
      "----\n",
      " раву страны, подлежащему применению к соответствующему отношению к требованию о возмещении вреда в случае, если такое разрешение (такая лицензия) обязательной и исполнительной власти, уполномоченного в области обороны, а также при необходимости применяются правил \n",
      "----\n"
     ]
    },
    {
     "name": "stderr",
     "output_type": "stream",
     "text": [
      "100%|██████████| 1000/1000 [02:16<00:00,  7.37it/s]\n"
     ]
    },
    {
     "name": "stdout",
     "output_type": "stream",
     "text": [
      "Epoch 287 average loss = 0.5470884063541889\n",
      "Генерируем текст в пропорциональном режиме\n",
      "Using random seed: ых) ресурсов, явившихся предметом административного правонаруше\n",
      "----\n",
      " ых) ресурсов, явившихся предметом административного правонарушения беременных в соответствии с законодательством Российской Федерации о государственном регулировании внешнеторговой деятельности, которые перевозчику и породный транзит\n",
      "\n",
      " 1. Подлинному же или пэирую \n",
      "----\n",
      "Генерируем текст в жадном режиме (наиболее вероятные буквы)\n",
      "Using random seed: дическим лицом.\n",
      " При заключении договора (контракта) на осущест\n"
     ]
    },
    {
     "name": "stderr",
     "output_type": "stream",
     "text": [
      "  0%|          | 1/1000 [00:00<02:14,  7.41it/s]"
     ]
    },
    {
     "name": "stdout",
     "output_type": "stream",
     "text": [
      "----\n",
      " дическим лицом.\n",
      " При заключении договора (контракта) на осуществление предпринимательской деятельности на срок до девяноста суток; на юридических лиц – от двухсот до трехсот минимальных размеров оплаты труда; на юридических лиц – от двухсот до трехсот минимальных \n",
      "----\n"
     ]
    },
    {
     "name": "stderr",
     "output_type": "stream",
     "text": [
      "100%|██████████| 1000/1000 [02:16<00:00,  7.35it/s]\n"
     ]
    },
    {
     "name": "stdout",
     "output_type": "stream",
     "text": [
      "Epoch 288 average loss = 0.544859691798687\n",
      "Генерируем текст в пропорциональном режиме\n",
      "Using random seed: иными правовыми актами или соглашением сторон.\n",
      " 3. Если граждан\n",
      "----\n",
      " иными правовыми актами или соглашением сторон.\n",
      " 3. Если гражданин, объявленный и исполнительной власти, осуществляемого разрешения его правовых зон в связи с взиманием и объемых несостоявшимися, по пропаган – последствия неуплаты или их нормативно-правовое регули \n",
      "----\n",
      "Генерируем текст в жадном режиме (наиболее вероятные буквы)\n",
      "Using random seed: \n",
      " – оказывать помощь в задержании и доставлении в милицию или с\n"
     ]
    },
    {
     "name": "stderr",
     "output_type": "stream",
     "text": [
      "  0%|          | 1/1000 [00:00<02:14,  7.41it/s]"
     ]
    },
    {
     "name": "stdout",
     "output_type": "stream",
     "text": [
      "----\n",
      " \n",
      " – оказывать помощь в задержании и доставлении в милицию или смежных правах в области таможенного дела, вправе предъявить требования, связанные с недостатками товара, предусмотренного пунктом 2 настоящей статьи.\n",
      " 2. В случае неисполнения должником вследствие ава \n",
      "----\n"
     ]
    },
    {
     "name": "stderr",
     "output_type": "stream",
     "text": [
      "100%|██████████| 1000/1000 [02:16<00:00,  7.34it/s]\n"
     ]
    },
    {
     "name": "stdout",
     "output_type": "stream",
     "text": [
      "Epoch 289 average loss = 0.5451005488336086\n",
      "Генерируем текст в пропорциональном режиме\n",
      "Using random seed:  должно быть указано, кем и на каком основании проводились иссл\n",
      "----\n",
      "  должно быть указано, кем и на каком основании проводились исследования допускается предоставленное лицами, покупатель вправе по своему выбору общества; о приостановлении между По результаты работ по требованию вид или иного движимого имущества и ограничений, пре \n",
      "----\n",
      "Генерируем текст в жадном режиме (наиболее вероятные буквы)\n",
      "Using random seed:  о потребительских кооперативах и учредительными документами со\n"
     ]
    },
    {
     "name": "stderr",
     "output_type": "stream",
     "text": [
      "  0%|          | 1/1000 [00:00<02:14,  7.42it/s]"
     ]
    },
    {
     "name": "stdout",
     "output_type": "stream",
     "text": [
      "----\n",
      "  о потребительских кооперативах и учредительными документами соответствующего вида, а также при необходимости применяются правила о договоре простого товарищества или общества с ограниченной ответственностью и учредительными документами общества с ограниченной от \n",
      "----\n"
     ]
    },
    {
     "name": "stderr",
     "output_type": "stream",
     "text": [
      "100%|██████████| 1000/1000 [02:15<00:00,  7.36it/s]\n"
     ]
    },
    {
     "name": "stdout",
     "output_type": "stream",
     "text": [
      "Epoch 290 average loss = 0.5453389585316181\n",
      "Генерируем текст в пропорциональном режиме\n",
      "Using random seed: ение;\n",
      " – служебную книжку, карточку маршрута, поста;\n",
      " – табельно\n",
      "----\n",
      " ение;\n",
      " – служебную книжку, карточку маршрута, поста;\n",
      " – табельное рассмотрение вопросы, определяется Правительством Российской Федерации или административные обращения.\n",
      " 3. Если наследник по закону наследника, суммы вносятся государственными наблюдения размера иск \n",
      "----\n",
      "Генерируем текст в жадном режиме (наиболее вероятные буквы)\n",
      "Using random seed: ы или на которые наложен арест в соответствии с законодательство\n"
     ]
    },
    {
     "name": "stderr",
     "output_type": "stream",
     "text": [
      "  0%|          | 1/1000 [00:00<02:16,  7.29it/s]"
     ]
    },
    {
     "name": "stdout",
     "output_type": "stream",
     "text": [
      "----\n",
      " ы или на которые наложен арест в соответствии с законодательством Российской Федерации о государственном регулировании внешнеторговой деятельности.\n",
      "\n",
      " Статья 1188.\n",
      " Владелец таможенного контроля в соответствии с настоящим Кодексом.\n",
      " 2. При проведении таможенного ко \n",
      "----\n"
     ]
    },
    {
     "name": "stderr",
     "output_type": "stream",
     "text": [
      "100%|██████████| 1000/1000 [02:17<00:00,  7.26it/s]\n"
     ]
    },
    {
     "name": "stdout",
     "output_type": "stream",
     "text": [
      "Epoch 291 average loss = 0.545601322889328\n",
      "Генерируем текст в пропорциональном режиме\n",
      "Using random seed:  ответственное за уплату таможенных пошлин, налогов.\n",
      " 4. При нез\n",
      "----\n",
      "  ответственное за уплату таможенных пошлин, налогов.\n",
      " 4. При незаконности членов, если эти действия не содержат уголовно наказуемого деяния, – в соответствии со статьей 157 настоящего Кодекса.\n",
      "\n",
      " Статья 17я. По договору в целом.\n",
      "  (в ред. Федерального закона от 04. \n",
      "----\n",
      "Генерируем текст в жадном режиме (наиболее вероятные буквы)\n",
      "Using random seed:  вправе выделить одно или несколько соединенных требований в отд\n"
     ]
    },
    {
     "name": "stderr",
     "output_type": "stream",
     "text": [
      "  0%|          | 1/1000 [00:00<02:16,  7.33it/s]"
     ]
    },
    {
     "name": "stdout",
     "output_type": "stream",
     "text": [
      "----\n",
      "  вправе выделить одно или несколько соединенных требований в отдельности наряды об установлении фактов, имеющих юридическое значение, принятое по делу об административном правонарушении в области таможенного дела, в соответствии с законодательством Российской Феде \n",
      "----\n"
     ]
    },
    {
     "name": "stderr",
     "output_type": "stream",
     "text": [
      "100%|██████████| 1000/1000 [02:17<00:00,  7.25it/s]\n"
     ]
    },
    {
     "name": "stdout",
     "output_type": "stream",
     "text": [
      "Epoch 292 average loss = 0.5426792961061001\n",
      "Генерируем текст в пропорциональном режиме\n",
      "Using random seed: ) \n",
      " 2. Нарушение требований промышленной безопасности к получени\n",
      "----\n",
      " ) \n",
      " 2. Нарушение требований промышленной безопасности к получение поставщику государства, члена коллегиального органа, должностного лица принимает течение всего срока перешло принадлежащего исполнения судебных расходов от 30.06.2003 №86-ФЗ)\n",
      " 1. Запрещается после т \n",
      "----\n",
      "Генерируем текст в жадном режиме (наиболее вероятные буквы)\n",
      "Using random seed: ьности\n",
      "\n",
      " 1. Федеральное министерство, уполномоченное в области т\n"
     ]
    },
    {
     "name": "stderr",
     "output_type": "stream",
     "text": [
      "  0%|          | 1/1000 [00:00<02:16,  7.29it/s]"
     ]
    },
    {
     "name": "stdout",
     "output_type": "stream",
     "text": [
      "----\n",
      " ьности\n",
      "\n",
      " 1. Федеральное министерство, уполномоченное в области таможенного дела, в порядке, установленном законом порядке принятия такого решения по делу об административном правонарушении и других видов техники, переданной для переработки товаров и (или) транспор \n",
      "----\n"
     ]
    },
    {
     "name": "stderr",
     "output_type": "stream",
     "text": [
      "100%|██████████| 1000/1000 [02:18<00:00,  7.24it/s]\n"
     ]
    },
    {
     "name": "stdout",
     "output_type": "stream",
     "text": [
      "Epoch 293 average loss = 0.5405701451599598\n",
      "Генерируем текст в пропорциональном режиме\n",
      "Using random seed: ся в арбитражный суд по месту нахождения судебного пристава – ис\n",
      "----\n",
      " ся в арбитражный суд по месту нахождения судебного пристава – исполнителя за недопостах, юридическое лицо, правомерным объединением, являются подачей таможенного брокера, извлечения подачи перемещаемых физическими лицами в банках способога, и предназведенный этой  \n",
      "----\n",
      "Генерируем текст в жадном режиме (наиболее вероятные буквы)\n",
      "Using random seed: ательскую деятельность без образования юридического лица, или юр\n"
     ]
    },
    {
     "name": "stderr",
     "output_type": "stream",
     "text": [
      "  0%|          | 1/1000 [00:00<02:17,  7.29it/s]"
     ]
    },
    {
     "name": "stdout",
     "output_type": "stream",
     "text": [
      "----\n",
      " ательскую деятельность без образования юридического лица, или юридического лица или индивидуальному предпринимателю помещений, территорий и находящихся там вещей и документов на право управления транспортным средством водителем, лицо, поместоящий таможенным органо \n",
      "----\n"
     ]
    },
    {
     "name": "stderr",
     "output_type": "stream",
     "text": [
      "100%|██████████| 1000/1000 [02:17<00:00,  7.27it/s]\n"
     ]
    },
    {
     "name": "stdout",
     "output_type": "stream",
     "text": [
      "Epoch 294 average loss = 0.5407448761165142\n",
      "Генерируем текст в пропорциональном режиме\n",
      "Using random seed: янной ренты\n",
      "\n",
      " 1. Получателями постоянной ренты могут быть только\n",
      "----\n",
      " янной ренты\n",
      "\n",
      " 1. Получателями постоянной ренты могут быть только в случае отказа в расчетах по абзаведным потребительские создание по праву представления отдельных видов товаров в таких мероприятий, обратившихся в ее приспособлениях, которые займодавцу товаров осу \n",
      "----\n",
      "Генерируем текст в жадном режиме (наиболее вероятные буквы)\n",
      "Using random seed: сти должны быть указаны данные, позволяющие определенно установи\n"
     ]
    },
    {
     "name": "stderr",
     "output_type": "stream",
     "text": [
      "  0%|          | 1/1000 [00:00<02:16,  7.30it/s]"
     ]
    },
    {
     "name": "stdout",
     "output_type": "stream",
     "text": [
      "----\n",
      " сти должны быть указаны данные, позволяющие определенно установить или по его технической эксплуатации и технического осмотра и таможенные органы обязаны принять меры по обеспечению иска или в иной организации по переработке товаров в соответствии с настоящим Коде \n",
      "----\n"
     ]
    },
    {
     "name": "stderr",
     "output_type": "stream",
     "text": [
      "100%|██████████| 1000/1000 [02:17<00:00,  7.26it/s]\n"
     ]
    },
    {
     "name": "stdout",
     "output_type": "stream",
     "text": [
      "Epoch 295 average loss = 0.5417400361001492\n",
      "Генерируем текст в пропорциональном режиме\n",
      "Using random seed: аве требовать увеличения числа лиц, постоянно с ним проживающих п\n",
      "----\n",
      " аве требовать увеличения числа лиц, постоянно с ним проживающих пользователь требования совершить привлечение банков и иных вещных прав участке;\n",
      " – нается гарантированному обращению, а также требованиям, установленным статьей 11299 настоящего Кодекса существу скрыт \n",
      "----\n",
      "Генерируем текст в жадном режиме (наиболее вероятные буквы)\n",
      "Using random seed: редусмотренными главой 59 настоящего Кодекса.\n",
      "\n",
      " Статья 989.\n",
      " Отче\n"
     ]
    },
    {
     "name": "stderr",
     "output_type": "stream",
     "text": [
      "  0%|          | 1/1000 [00:00<02:18,  7.22it/s]"
     ]
    },
    {
     "name": "stdout",
     "output_type": "stream",
     "text": [
      "----\n",
      " редусмотренными главой 59 настоящего Кодекса.\n",
      "\n",
      " Статья 989.\n",
      " Отчет о приобретателе и не могут быть представлены в течение трех дней со дня получения таможенного склада используется правомочным рассматривать дела об административных правонарушениях, предусмотренных  \n",
      "----\n"
     ]
    },
    {
     "name": "stderr",
     "output_type": "stream",
     "text": [
      "100%|██████████| 1000/1000 [02:20<00:00,  7.12it/s]\n"
     ]
    },
    {
     "name": "stdout",
     "output_type": "stream",
     "text": [
      "Epoch 296 average loss = 0.5394407496154309\n",
      "Генерируем текст в пропорциональном режиме\n",
      "Using random seed: ием самоходных машин и других видов техники, –\n",
      " влечет наложение \n",
      "----\n",
      " ием самоходных машин и других видов техники, –\n",
      " влечет наложение административных правонарушений.\n",
      "\n",
      " Статья 11.\n",
      " 26. Нарушение порядка может быть обжаловано в арбитражный суд кассационной инстанции полностью или частично приостанавливается имуществом\n",
      "\n",
      " 1. Акционерно \n",
      "----\n",
      "Генерируем текст в жадном режиме (наиболее вероятные буквы)\n",
      "Using random seed: ости груза или багажа (коммерческий акт, акт общей формы и т.п.),\n"
     ]
    },
    {
     "name": "stderr",
     "output_type": "stream",
     "text": [
      "  0%|          | 1/1000 [00:00<02:18,  7.23it/s]"
     ]
    },
    {
     "name": "stdout",
     "output_type": "stream",
     "text": [
      "----\n",
      " ости груза или багажа (коммерческий акт, акт общей формы и т.п.), представленных при рассмотрении дела об административном правонарушении, вправе составлять должностные лица органов, осуществляющих деятельность без образования юридического лица, – от десяти до двад \n",
      "----\n"
     ]
    },
    {
     "name": "stderr",
     "output_type": "stream",
     "text": [
      "100%|██████████| 1000/1000 [02:20<00:00,  7.12it/s]\n"
     ]
    },
    {
     "name": "stdout",
     "output_type": "stream",
     "text": [
      "Epoch 297 average loss = 0.5374768108129502\n",
      "Генерируем текст в пропорциональном режиме\n",
      "Using random seed: , по иным причинам и на этом основании подлежащих обращению в соб\n",
      "----\n",
      " , по иным причинам и на этом основании подлежащих обращению в собственность за гручного пользования.\n",
      " 2. Для получения транспортными средствами указываются:\n",
      " 1) наименование арбитражного суда кассационной инстанций соблюдения таможенных пошлин по решению суда перво \n",
      "----\n",
      "Генерируем текст в жадном режиме (наиболее вероятные буквы)\n",
      "Using random seed: 4015-1.\n",
      "\n",
      " Статья 927.\n",
      " Добровольное и обязательное страхование\n",
      "\n",
      " \n"
     ]
    },
    {
     "name": "stderr",
     "output_type": "stream",
     "text": [
      "  0%|          | 1/1000 [00:00<02:18,  7.20it/s]"
     ]
    },
    {
     "name": "stdout",
     "output_type": "stream",
     "text": [
      "----\n",
      " 4015-1.\n",
      "\n",
      " Статья 927.\n",
      " Добровольное и обязательное страхование\n",
      "\n",
      " 1. По договору подряда на выполнение проектных и изыскательских работ в случаях, предусмотренных законом или договором купли-продажи предусмотрено законом или договором купли-продажи предусмотрено зак \n",
      "----\n"
     ]
    },
    {
     "name": "stderr",
     "output_type": "stream",
     "text": [
      "100%|██████████| 1000/1000 [02:20<00:00,  7.14it/s]\n"
     ]
    },
    {
     "name": "stdout",
     "output_type": "stream",
     "text": [
      "Epoch 298 average loss = 0.538313720703125\n",
      "Генерируем текст в пропорциональном режиме\n",
      "Using random seed: рану места происшествия;\n",
      " – доложить о происшедшем дежурному и де\n",
      "----\n",
      " рану места происшествия;\n",
      " – доложить о происшедшем дежурному и день этого увеличения этих законом в установленном Правительством Российской Федерации органами исполнять определение обязанностей, установленные статей, обязано возвратить хранителю, ни будущд ответчик \n",
      "----\n",
      "Генерируем текст в жадном режиме (наиболее вероятные буквы)\n",
      "Using random seed: логов в отношении товаров, ввезенных на таможенную территорию Рос\n"
     ]
    },
    {
     "name": "stderr",
     "output_type": "stream",
     "text": [
      "  0%|          | 1/1000 [00:00<02:18,  7.19it/s]"
     ]
    },
    {
     "name": "stdout",
     "output_type": "stream",
     "text": [
      "----\n",
      " логов в отношении товаров, ввезенных на таможенную территорию Российской Федерации и федеральным законом или иными правовыми актами или договором комиссии, комиссии референдума либо представителями в связи с перемещением товаров через таможенную границу Российской  \n",
      "----\n"
     ]
    },
    {
     "name": "stderr",
     "output_type": "stream",
     "text": [
      "100%|██████████| 1000/1000 [02:20<00:00,  7.14it/s]\n"
     ]
    },
    {
     "name": "stdout",
     "output_type": "stream",
     "text": [
      "Epoch 299 average loss = 0.5379640182256699\n",
      "Генерируем текст в пропорциональном режиме\n",
      "Using random seed: моженной границы, а если такой день установить невозможно, – на д\n",
      "----\n",
      " моженной границы, а если такой день установить невозможно, – на денежные средства или опасные вещи, которое возложен на такие границы зон и припасы, внутренних налогов, полученных по договору бытельного или должен был знать, чтобы задержанному лицу, не присультания \n",
      "----\n",
      "Генерируем текст в жадном режиме (наиболее вероятные буквы)\n",
      "Using random seed: ванного имущества\n",
      "\n",
      " 1. Арендодатель обязан производить за свой сч\n"
     ]
    },
    {
     "name": "stderr",
     "output_type": "stream",
     "text": [
      "  0%|          | 1/1000 [00:00<02:19,  7.16it/s]"
     ]
    },
    {
     "name": "stdout",
     "output_type": "stream",
     "text": [
      "----\n",
      " ванного имущества\n",
      "\n",
      " 1. Арендодатель обязан производить за свой счет арбитражного суда первой инстанции по совместительства по договору подряда на выполнение проектных и изыскательских работ по заявлению производится в соответствии с настоящим Кодексом и иными федер \n",
      "----\n"
     ]
    },
    {
     "name": "stderr",
     "output_type": "stream",
     "text": [
      "100%|██████████| 1000/1000 [02:20<00:00,  7.11it/s]\n"
     ]
    },
    {
     "name": "stdout",
     "output_type": "stream",
     "text": [
      "Epoch 300 average loss = 0.5360122554302216\n",
      "Генерируем текст в пропорциональном режиме\n",
      "Using random seed:  гражданами. Процессуальные льготы предоставляются иностранным лиц\n",
      "----\n",
      "  гражданами. Процессуальные льготы предоставляются иностранным лицам, участвующими в области таможенного дела торучения информации.\n",
      " 2. В целях предупреждения по его участием крупногабаритного поручения, направленное денежное содержание таможенного органа, должностн \n",
      "----\n",
      "Генерируем текст в жадном режиме (наиболее вероятные буквы)\n",
      "Using random seed: ждает другую сторону от необходимости доказывания таких обстоятель\n"
     ]
    },
    {
     "name": "stderr",
     "output_type": "stream",
     "text": [
      "  0%|          | 1/1000 [00:00<02:21,  7.07it/s]"
     ]
    },
    {
     "name": "stdout",
     "output_type": "stream",
     "text": [
      "----\n",
      " ждает другую сторону от необходимости доказывания таких обстоятельств, послуживших основанием для оставления отдельных видов товаров, в отношении которых в соответствии с настоящим Кодексом и иными федеральными законами и иными правовыми актами или договором могут б \n",
      "----\n"
     ]
    },
    {
     "name": "stderr",
     "output_type": "stream",
     "text": [
      "100%|██████████| 1000/1000 [02:22<00:00,  7.01it/s]\n"
     ]
    },
    {
     "name": "stdout",
     "output_type": "stream",
     "text": [
      "Epoch 301 average loss = 0.5358288109898567\n",
      "Генерируем текст в пропорциональном режиме\n",
      "Using random seed: . Однако он обязан уведомить товаровладельца о принятых мерах, есл\n",
      "----\n",
      " . Однако он обязан уведомить товаровладельца о принятых мерах, если возмещения.\n",
      "\n",
      " Статья 11.\n",
      " 26. Угроз применения пункта обязательств\n",
      "\n",
      " 1. Обязательство\n",
      "\n",
      " При разрешении пожаре необходимость\n",
      "\n",
      "\n",
      " Статья 707.\n",
      " Договор найма жилого помещения\n",
      "\n",
      "\n",
      " Статья 450.\n",
      " Неисполнени \n",
      "----\n",
      "Генерируем текст в жадном режиме (наиболее вероятные буквы)\n",
      "Using random seed: следников пятой очереди родственники четвертой степени родства – д\n"
     ]
    },
    {
     "name": "stderr",
     "output_type": "stream",
     "text": [
      "  0%|          | 1/1000 [00:00<02:21,  7.08it/s]"
     ]
    },
    {
     "name": "stdout",
     "output_type": "stream",
     "text": [
      "----\n",
      " следников пятой очереди родственники четвертой степени родства – дети его денежных средств на счете клиента не позднее трех дней со дня получения оспариваемого акта или об отказе в возобновлении избирательной кампании, подготовки и проведения таможенного контроля ил \n",
      "----\n"
     ]
    },
    {
     "name": "stderr",
     "output_type": "stream",
     "text": [
      "100%|██████████| 1000/1000 [02:23<00:00,  7.01it/s]\n"
     ]
    },
    {
     "name": "stdout",
     "output_type": "stream",
     "text": [
      "Epoch 302 average loss = 0.5342883174717427\n",
      "Генерируем текст в пропорциональном режиме\n",
      "Using random seed: аваемое одним лицом другому лицу для представительства перед треть\n",
      "----\n",
      " аваемое одним лицом другому лицу для представительства перед третьими лицами договоров, предусмотренных статьей 12 Федерального закона в «Российской газете») при условии выделения транспортного средства предупредиться, за исключением случаев, установленных для «друг \n",
      "----\n",
      "Генерируем текст в жадном режиме (наиболее вероятные буквы)\n",
      "Using random seed: тору.\n",
      " Зачет производится, если требование возникло по основанию, \n"
     ]
    },
    {
     "name": "stderr",
     "output_type": "stream",
     "text": [
      "  0%|          | 1/1000 [00:00<02:20,  7.10it/s]"
     ]
    },
    {
     "name": "stdout",
     "output_type": "stream",
     "text": [
      "----\n",
      " тору.\n",
      " Зачет производится, если требование возникло по основанию, предусмотренные настоящим Кодексом и иными законами и иными правовыми актами или договором поставки товаров для государственных нужд по общим правилам, предусмотренным настоящим Кодексом и иными закон \n",
      "----\n"
     ]
    },
    {
     "name": "stderr",
     "output_type": "stream",
     "text": [
      "100%|██████████| 1000/1000 [02:22<00:00,  7.01it/s]\n"
     ]
    },
    {
     "name": "stdout",
     "output_type": "stream",
     "text": [
      "Epoch 303 average loss = 0.5348948973715305\n",
      "Генерируем текст в пропорциональном режиме\n",
      "Using random seed:  осуществляющего деятельность в области таможенного дела, из соотв\n",
      "----\n",
      "  осуществляющего деятельность в области таможенного дела, из соответствующих требований, – об административных правонарушениях, предусмотренных настоящим Кодексом.\n",
      " Договор аренды.\n",
      " 2. Объяснениях, космическом лиции с учетом его участников) либо применяется в трансп \n",
      "----\n",
      "Генерируем текст в жадном режиме (наиболее вероятные буквы)\n",
      "Using random seed: ым ни с одним из участников сделки по переработке товаров;\n",
      " цены с\n"
     ]
    },
    {
     "name": "stderr",
     "output_type": "stream",
     "text": [
      "  0%|          | 1/1000 [00:00<02:21,  7.07it/s]"
     ]
    },
    {
     "name": "stdout",
     "output_type": "stream",
     "text": [
      "----\n",
      " ым ни с одним из участников сделки по переработке товаров;\n",
      " цены слушания или предмета административного правонарушения или без таковой; на юридических лиц – от двухсот до трехсот минимальных размеров оплаты труда.\n",
      " 2. Нарушение правил проведения референдума, иной г \n",
      "----\n"
     ]
    },
    {
     "name": "stderr",
     "output_type": "stream",
     "text": [
      "100%|██████████| 1000/1000 [02:22<00:00,  7.00it/s]\n"
     ]
    },
    {
     "name": "stdout",
     "output_type": "stream",
     "text": [
      "Epoch 304 average loss = 0.5335564237236977\n",
      "Генерируем текст в пропорциональном режиме\n",
      "Using random seed:  В случае изменения правообладателем своего фирменного наименовани\n",
      "----\n",
      "  В случае изменения правообладателем своего фирменного наименования общего имущества федерального бюджета, если иное не вытекает из закона, их переработки на таможенной организации, не являющийся вне истоинструкциюю, пользования лицами, участвующими в долевой собств \n",
      "----\n",
      "Генерируем текст в жадном режиме (наиболее вероятные буквы)\n",
      "Using random seed: (Федеральный закон от 26.11.2001 №147-ФЗ).\n",
      "\n",
      " Статья 1149.\n",
      " Право н\n"
     ]
    },
    {
     "name": "stderr",
     "output_type": "stream",
     "text": [
      "  0%|          | 1/1000 [00:00<02:21,  7.07it/s]"
     ]
    },
    {
     "name": "stdout",
     "output_type": "stream",
     "text": [
      "----\n",
      " (Федеральный закон от 26.11.2001 №147-ФЗ).\n",
      "\n",
      " Статья 1149.\n",
      " Право на обязательную долю в наследстве постоянной ренты вправе требовать возмещения убытков.\n",
      " 2. Если иное не предусмотрено договором поставки товаров для государственной регистрации в качестве индивидуальн \n",
      "----\n"
     ]
    },
    {
     "name": "stderr",
     "output_type": "stream",
     "text": [
      "100%|██████████| 1000/1000 [02:22<00:00,  7.03it/s]\n"
     ]
    },
    {
     "name": "stdout",
     "output_type": "stream",
     "text": [
      "Epoch 305 average loss = 0.5333981257975101\n",
      "Генерируем текст в пропорциональном режиме\n",
      "Using random seed: ми авторов на коллективной основе, с пользователями. \n",
      " 5. Ограничен\n",
      "----\n",
      " ми авторов на коллективной основе, с пользователями. \n",
      " 5. Ограничения указанного на помещение вещественных доказательств правонарушителей.\n",
      "\n",
      " 140\n",
      "\n",
      " Патрульный (постовой).\n",
      " 2. В случае, когда сторона, получившая в течение трех дней со дня его вынесения на внутренний та \n",
      "----\n",
      "Генерируем текст в жадном режиме (наиболее вероятные буквы)\n",
      "Using random seed: я недействительной ее части.\n",
      " Об отказе в принятии к рассмотрению з\n"
     ]
    },
    {
     "name": "stderr",
     "output_type": "stream",
     "text": [
      "  0%|          | 1/1000 [00:00<02:22,  7.01it/s]"
     ]
    },
    {
     "name": "stdout",
     "output_type": "stream",
     "text": [
      "----\n",
      " я недействительной ее части.\n",
      " Об отказе в принятии к рассмотрению заявления о выдаче исполнительного листа на принудительное исполнение решения третейского суда подается в арбитражный суд по месту нахождения или месту жительства должника и заключение договора поставк \n",
      "----\n"
     ]
    },
    {
     "name": "stderr",
     "output_type": "stream",
     "text": [
      "100%|██████████| 1000/1000 [02:24<00:00,  6.94it/s]\n"
     ]
    },
    {
     "name": "stdout",
     "output_type": "stream",
     "text": [
      "Epoch 306 average loss = 0.5311752569675445\n",
      "Генерируем текст в пропорциональном режиме\n",
      "Using random seed: сто принятия решения третейского суда;\n",
      " 5) требование заявителя о в\n",
      "----\n",
      " сто принятия решения третейского суда;\n",
      " 5) требование заявителя о возмещении подозреваемых в Реестр таможенных брокеров (представителей оперативной обстановки, в котором и так служить основанием для ее важного довольствии либо в части, установленных в технологически  \n",
      "----\n",
      "Генерируем текст в жадном режиме (наиболее вероятные буквы)\n",
      "Using random seed: бытие товаров и транспортных средств) допускается в пунктах пропуск\n"
     ]
    },
    {
     "name": "stderr",
     "output_type": "stream",
     "text": [
      "  0%|          | 1/1000 [00:00<02:22,  6.99it/s]"
     ]
    },
    {
     "name": "stdout",
     "output_type": "stream",
     "text": [
      "----\n",
      " бытие товаров и транспортных средств) допускается в пунктах пропуска через Государственную границу Российской Федерации и органами государственной власти субъектов Российской Федерации и органами государственной власти Российской Федерации и органами государственной  \n",
      "----\n"
     ]
    },
    {
     "name": "stderr",
     "output_type": "stream",
     "text": [
      "100%|██████████| 1000/1000 [02:24<00:00,  6.94it/s]\n"
     ]
    },
    {
     "name": "stdout",
     "output_type": "stream",
     "text": [
      "Epoch 307 average loss = 0.5306530443131924\n",
      "Генерируем текст в пропорциональном режиме\n",
      "Using random seed: ановлено, арбитражный суд применяет соответствующие нормы российско\n",
      "----\n",
      " ановлено, арбитражный суд применяет соответствующие нормы российского права.\n",
      " 3. Замечания не владеющие либо особо цельИ и не должен был знать об этом дежурного по горрайлиноргану, за исключением случая, причиненные этого помещения на счет по вкладу допущенных отступ \n",
      "----\n",
      "Генерируем текст в жадном режиме (наиболее вероятные буквы)\n",
      "Using random seed: и либо возможность последующего предъявления требования об их устра\n"
     ]
    },
    {
     "name": "stderr",
     "output_type": "stream",
     "text": [
      "  0%|          | 1/1000 [00:00<02:22,  6.99it/s]"
     ]
    },
    {
     "name": "stdout",
     "output_type": "stream",
     "text": [
      "----\n",
      " и либо возможность последующего предъявления требования об их устранении недостатков товара, работы или услуги или иное жилое помещение не вправе предъявлять таких действий (бездействия) государственных органов, органов местного самоуправления, иных органов, должност \n",
      "----\n"
     ]
    },
    {
     "name": "stderr",
     "output_type": "stream",
     "text": [
      "100%|██████████| 1000/1000 [02:24<00:00,  6.94it/s]\n"
     ]
    },
    {
     "name": "stdout",
     "output_type": "stream",
     "text": [
      "Epoch 308 average loss = 0.5303261004090309\n",
      "Генерируем текст в пропорциональном режиме\n",
      "Using random seed: милиции, избранным (назначенным) в законодательные (представительны\n",
      "----\n",
      " милиции, избранным (назначенным) в законодательные (представительный учета производителя фонограммы\n",
      "\n",
      " 1. Нарушение законодательства Российской Федерации;\n",
      " 5) последние вправе повторные показаний.\n",
      "\n",
      " 113\n",
      "\n",
      " Восстановление сделки\n",
      "\n",
      " Если законом или профессиональному расс \n",
      "----\n",
      "Генерируем текст в жадном режиме (наиболее вероятные буквы)\n",
      "Using random seed: е) таможенного органа или его должностного лица по существу\n",
      "\n",
      " 1. Та\n"
     ]
    },
    {
     "name": "stderr",
     "output_type": "stream",
     "text": [
      "  0%|          | 1/1000 [00:00<02:24,  6.93it/s]"
     ]
    },
    {
     "name": "stdout",
     "output_type": "stream",
     "text": [
      "----\n",
      " е) таможенного органа или его должностного лица по существу\n",
      "\n",
      " 1. Таможенный орган вправе привлекаться в соответствии с пунктом 1 настоящей статьи, вправе:\n",
      " 1) руководитель федерального органа исполнительной власти, уполномоченного в области таможенного дела, в соотве \n",
      "----\n"
     ]
    },
    {
     "name": "stderr",
     "output_type": "stream",
     "text": [
      "100%|██████████| 1000/1000 [02:24<00:00,  6.93it/s]\n"
     ]
    },
    {
     "name": "stdout",
     "output_type": "stream",
     "text": [
      "Epoch 309 average loss = 0.5300732592642308\n",
      "Генерируем текст в пропорциональном режиме\n",
      "Using random seed: продукция, полученная в результате охотничьего и рыболовного промыс\n",
      "----\n",
      " продукция, полученная в результате охотничьего и рыболовного промысла, подтверждающие обстоятельства, третейского суда предоставляется также иные документы, подтверждающие перечень свободы, установленных в соответствии с законодательством Российской Федерации в отнош \n",
      "----\n",
      "Генерируем текст в жадном режиме (наиболее вероятные буквы)\n",
      "Using random seed: лате либо неосновательного получения или сбережения за счет другого\n"
     ]
    },
    {
     "name": "stderr",
     "output_type": "stream",
     "text": [
      "  0%|          | 1/1000 [00:00<02:22,  7.02it/s]"
     ]
    },
    {
     "name": "stdout",
     "output_type": "stream",
     "text": [
      "----\n",
      " лате либо неосновательного получения или сбережения за счет другого лица определяется федеральным законом от 21.07.2005 №93-ФЗ в статью 5.48 внесены изменения, вступающие в силу c 6 августа 2006 года: из указанного абзаца исключены слова «избирательным блокам, инициа \n",
      "----\n"
     ]
    },
    {
     "name": "stderr",
     "output_type": "stream",
     "text": [
      "100%|██████████| 1000/1000 [02:24<00:00,  6.91it/s]\n"
     ]
    },
    {
     "name": "stdout",
     "output_type": "stream",
     "text": [
      "Epoch 310 average loss = 0.5316943960189819\n",
      "Генерируем текст в пропорциональном режиме\n",
      "Using random seed: ии по ремонту и (или) другие операции за пределами таможенной террит\n",
      "----\n",
      " ии по ремонту и (или) другие операции за пределами таможенной территории оказания состояния суда данной страны, если мотивы обнаружения причины авторского права, подлежащего применению, направленных на промысловых рабочий стоимость внутренних дел субъектов Российской  \n",
      "----\n",
      "Генерируем текст в жадном режиме (наиболее вероятные буквы)\n",
      "Using random seed: овершенной взамен сделке.\n",
      " 3. Если после расторжения договора по осн\n"
     ]
    },
    {
     "name": "stderr",
     "output_type": "stream",
     "text": [
      "  0%|          | 1/1000 [00:00<02:25,  6.86it/s]"
     ]
    },
    {
     "name": "stdout",
     "output_type": "stream",
     "text": [
      "----\n",
      " овершенной взамен сделке.\n",
      " 3. Если после расторжения договора по основаниям, указанным в пункте 1 настоящей статьи, вправе:\n",
      " 1) руководитель федерального органа исполнительной власти, уполномоченного в области таможенного дела, в соответствии с правилами настоящего Ко \n",
      "----\n"
     ]
    },
    {
     "name": "stderr",
     "output_type": "stream",
     "text": [
      "100%|██████████| 1000/1000 [02:26<00:00,  6.82it/s]\n"
     ]
    },
    {
     "name": "stdout",
     "output_type": "stream",
     "text": [
      "Epoch 311 average loss = 0.5278344703316689\n",
      "Генерируем текст в пропорциональном режиме\n",
      "Using random seed: едства в технологические разрывы разделительной полосы на автомагист\n",
      "----\n",
      " едства в технологические разрывы разделительной полосы на автомагистрали информации\n",
      "\n",
      " Управление им для лиц, осуществляющих конституционность за убытки, причиненные ими и другим причинам через границы до востребования о прекращении права управления транспортным средст \n",
      "----\n",
      "Генерируем текст в жадном режиме (наиболее вероятные буквы)\n",
      "Using random seed: ми договорами Российской Федерации в области транспорта, для таможен\n"
     ]
    },
    {
     "name": "stderr",
     "output_type": "stream",
     "text": [
      "  0%|          | 1/1000 [00:00<02:25,  6.87it/s]"
     ]
    },
    {
     "name": "stdout",
     "output_type": "stream",
     "text": [
      "----\n",
      " ми договорами Российской Федерации в области транспорта, для таможенных целей.\n",
      "  (в ред. Федерального закона от 29.06.2004 №58-ФЗ) \n",
      " 2. Таможенные органы осуществляются в порядке, предусмотренном настоящим Кодексом и другими законами и иными правовыми актами или догов \n",
      "----\n"
     ]
    },
    {
     "name": "stderr",
     "output_type": "stream",
     "text": [
      "100%|██████████| 1000/1000 [02:26<00:00,  6.81it/s]\n"
     ]
    },
    {
     "name": "stdout",
     "output_type": "stream",
     "text": [
      "Epoch 312 average loss = 0.5278600625991822\n",
      "Генерируем текст в пропорциональном режиме\n",
      "Using random seed: зоне Российской Федерации\n",
      "\n",
      " 1. Нарушение правил проведения ресурсных\n",
      "----\n",
      " зоне Российской Федерации\n",
      "\n",
      " 1. Нарушение правил проведения ресурсных для специальных упрощенных проценты.\n",
      "  (в ред. Федерального закона от 18.12.2002 №161-ФЗ)\n",
      " 1. Обязанные со служебными собаками и стимую им сумму ведомостью или нескольким суду экземпляры произведения \n",
      "----\n",
      "Генерируем текст в жадном режиме (наиболее вероятные буквы)\n",
      "Using random seed: езидента Российской Федерации в государственной измене или совершени\n"
     ]
    },
    {
     "name": "stderr",
     "output_type": "stream",
     "text": [
      "  0%|          | 1/1000 [00:00<02:26,  6.84it/s]"
     ]
    },
    {
     "name": "stdout",
     "output_type": "stream",
     "text": [
      "----\n",
      " езидента Российской Федерации в государственной измене или совершения сделок с ними определениями, которые установлены в главе 11 настоящего Кодекса.\n",
      " 2. Рассматривать дела об административных правонарушениях, предусмотренных статьями 11.15, 11.16, частью 1 статьи 19. \n",
      "----\n"
     ]
    },
    {
     "name": "stderr",
     "output_type": "stream",
     "text": [
      "100%|██████████| 1000/1000 [02:26<00:00,  6.80it/s]\n"
     ]
    },
    {
     "name": "stdout",
     "output_type": "stream",
     "text": [
      "Epoch 313 average loss = 0.5275123139023781\n",
      "Генерируем текст в пропорциональном режиме\n",
      "Using random seed: тановлении фактов, имеющих юридическое значение, подается в арбитраж\n",
      "----\n",
      " тановлении фактов, имеющих юридическое значение, подается в арбитражный суд по внебюда между собой расторгнуть договор, заключаемым Банком\n",
      "\n",
      " 1. Страховщик не могут старшел регистрации.\n",
      " 3. Документы, необходимых для его причин и условий, способствовавших совершению эт \n",
      "----\n",
      "Генерируем текст в жадном режиме (наиболее вероятные буквы)\n",
      "Using random seed:  ходатайству заявителя арбитражный суд может приостановить исполнени\n"
     ]
    },
    {
     "name": "stderr",
     "output_type": "stream",
     "text": [
      "  0%|          | 1/1000 [00:00<02:25,  6.88it/s]"
     ]
    },
    {
     "name": "stdout",
     "output_type": "stream",
     "text": [
      "----\n",
      "  ходатайству заявителя арбитражный суд может приостановить исполнение обязанности по основаниям, предусмотренным настоящим Кодексом.\n",
      " 2. При применении мер ответственности за несоблюдение положений настоящей главы под транство наследниками не восстановлены в решении о \n",
      "----\n"
     ]
    },
    {
     "name": "stderr",
     "output_type": "stream",
     "text": [
      "100%|██████████| 1000/1000 [02:26<00:00,  6.82it/s]\n"
     ]
    },
    {
     "name": "stdout",
     "output_type": "stream",
     "text": [
      "Epoch 314 average loss = 0.5277461073994637\n",
      "Генерируем текст в пропорциональном режиме\n",
      "Using random seed: ла Президиумом Высшего Арбитражного Суда Российской Федерации, не пр\n",
      "----\n",
      " ла Президиумом Высшего Арбитражного Суда Российской Федерации, не применяется, купли-продажи не возвращает их реализацию этих условий продукции по медицинской части обосновых (декларации о ходатайством либо от принятия решения должна быть обращено административное при \n",
      "----\n",
      "Генерируем текст в жадном режиме (наиболее вероятные буквы)\n",
      "Using random seed: рации, созданные в соответствии с законодательством Российской Федер\n"
     ]
    },
    {
     "name": "stderr",
     "output_type": "stream",
     "text": [
      "  0%|          | 1/1000 [00:00<02:26,  6.82it/s]"
     ]
    },
    {
     "name": "stdout",
     "output_type": "stream",
     "text": [
      "----\n",
      " рации, созданные в соответствии с законодательством Российской Федерации о государственном регулировании внешнеторговой деятельности, а также при необходимости применяются правила о договоре поручительства по делу об административном правонарушении, вправе привлекать  \n",
      "----\n"
     ]
    },
    {
     "name": "stderr",
     "output_type": "stream",
     "text": [
      "100%|██████████| 1000/1000 [02:26<00:00,  6.82it/s]\n"
     ]
    },
    {
     "name": "stdout",
     "output_type": "stream",
     "text": [
      "Epoch 315 average loss = 0.5274099898934365\n",
      "Генерируем текст в пропорциональном режиме\n",
      "Using random seed: атации и обязанностей должностных лиц по обеспечению безопасности дор\n",
      "----\n",
      " атации и обязанностей должностных лиц по обеспечению безопасности дорожного движения вытекает и они могут возникнуть переходит финансирование письменной или специальном аварийно полученное ею по истечении этого срока, на русском животная компенсация), касающиеся предме \n",
      "----\n",
      "Генерируем текст в жадном режиме (наиболее вероятные буквы)\n",
      "Using random seed: ающим услуги по публичному представлению раскрываемой информации, пор\n"
     ]
    },
    {
     "name": "stderr",
     "output_type": "stream",
     "text": [
      "  0%|          | 1/1000 [00:00<02:28,  6.74it/s]"
     ]
    },
    {
     "name": "stdout",
     "output_type": "stream",
     "text": [
      "----\n",
      " ающим услуги по публичному представлению раскрываемой информации, порядка и обеспечение покупателя о недостатках полученного (свободного склада) в служебных целях осуществления предпринимательского риска в полной сумме в размере от пяти до десяти минимальных размеров о \n",
      "----\n"
     ]
    },
    {
     "name": "stderr",
     "output_type": "stream",
     "text": [
      "100%|██████████| 1000/1000 [02:29<00:00,  6.68it/s]\n"
     ]
    },
    {
     "name": "stdout",
     "output_type": "stream",
     "text": [
      "Epoch 316 average loss = 0.5243134384453296\n",
      "Генерируем текст в пропорциональном режиме\n",
      "Using random seed: правовыми актами, регламентирующими порядок прохождения службы в указ\n",
      "----\n",
      " правовыми актами, регламентирующими порядок прохождения службы в указан ходатайству должностных лиц в размере от трехсот до одного минимального размера оплаты труда с конфискацией средств изготовления не содержащимся в доказанных лицензии или обеспечения определяются,  \n",
      "----\n",
      "Генерируем текст в жадном режиме (наиболее вероятные буквы)\n",
      "Using random seed: ка составления протокола об итогах голосования с отметкой «Повторный»\n"
     ]
    },
    {
     "name": "stderr",
     "output_type": "stream",
     "text": [
      "  0%|          | 1/1000 [00:00<02:28,  6.72it/s]"
     ]
    },
    {
     "name": "stdout",
     "output_type": "stream",
     "text": [
      "----\n",
      " ка составления протокола об итогах голосования с отметкой «Повторный» или «Повторный подсчет голосов» –\n",
      " влечет наложение административного штрафа на граждан в размере от пяти до десяти минимальных размеров оплаты труда; на должностных лиц – от двадцати до тридцати мин \n",
      "----\n"
     ]
    },
    {
     "name": "stderr",
     "output_type": "stream",
     "text": [
      "100%|██████████| 1000/1000 [02:29<00:00,  6.68it/s]\n"
     ]
    },
    {
     "name": "stdout",
     "output_type": "stream",
     "text": [
      "Epoch 317 average loss = 0.5237143419086933\n",
      "Генерируем текст в пропорциональном режиме\n",
      "Using random seed: ан представить отчет клиенту и передать ему сумму, превышающую сумму \n",
      "----\n",
      " ан представить отчет клиенту и передать ему сумму, превышающую сумму подрядчика и сдачи предметов ведения или объекта несение паспортов сделок на железнодорожном судебное заседание, место нахождения жалобы рассматривается во внимание (страхование осуществляет текс\n",
      "\n",
      " 1. \n",
      "----\n",
      "Генерируем текст в жадном режиме (наиболее вероятные буквы)\n",
      "Using random seed: ьи 19.19 настоящего Кодекса, совершенных юридическими лицами, а также\n"
     ]
    },
    {
     "name": "stderr",
     "output_type": "stream",
     "text": [
      "  0%|          | 1/1000 [00:00<02:28,  6.73it/s]"
     ]
    },
    {
     "name": "stdout",
     "output_type": "stream",
     "text": [
      "----\n",
      " ьи 19.19 настоящего Кодекса, совершенных юридическими лицами, а также в случае необходимости применяются правила о договоре подряда на выполнение проектных и изыскательских работ или об отказе в удовлетворении требований и условий, установленных настоящим Кодексом и ин \n",
      "----\n"
     ]
    },
    {
     "name": "stderr",
     "output_type": "stream",
     "text": [
      "100%|██████████| 1000/1000 [02:29<00:00,  6.70it/s]\n"
     ]
    },
    {
     "name": "stdout",
     "output_type": "stream",
     "text": [
      "Epoch 318 average loss = 0.5242386636137962\n",
      "Генерируем текст в пропорциональном режиме\n",
      "Using random seed: жение административного штрафа на граждан в размере от трех до пяти м\n",
      "----\n",
      " жение административного штрафа на граждан в размере от трех до пяти минимальных размеров оплаты труда, а фонда, может задержанных, а в случае обжалования определяется на таможенной территории Российской Федерации правами.\n",
      "\n",
      " 122\n",
      "\n",
      " ПАтельства по предупреждению наследстве \n",
      "----\n",
      "Генерируем текст в жадном режиме (наиболее вероятные буквы)\n",
      "Using random seed: -ФЗ) \n",
      " 2. Способы обеспечения банком возврата вкладов юридических лиц\n"
     ]
    },
    {
     "name": "stderr",
     "output_type": "stream",
     "text": [
      "  0%|          | 1/1000 [00:00<02:28,  6.73it/s]"
     ]
    },
    {
     "name": "stdout",
     "output_type": "stream",
     "text": [
      "----\n",
      " -ФЗ) \n",
      " 2. Способы обеспечения банком возврата вкладов юридических лиц и индивидуальных предпринимателей, принимаемые при осуществлении предпринимательской и иной экономической деятельности и принимает решение о взыскании с лиц, участвующих в деле, или принимает меры по \n",
      "----\n"
     ]
    },
    {
     "name": "stderr",
     "output_type": "stream",
     "text": [
      "100%|██████████| 1000/1000 [02:29<00:00,  6.70it/s]\n"
     ]
    },
    {
     "name": "stdout",
     "output_type": "stream",
     "text": [
      "Epoch 319 average loss = 0.5239080523252487\n",
      "Генерируем текст в пропорциональном режиме\n",
      "Using random seed: циалисту, эксперту, переводчику и понятому возмещаются в установленно\n",
      "----\n",
      " циалисту, эксперту, переводчику и понятому возмещаются в установленном порядке лица, принявшим наследованию (статья 1103), в месте их виновность арендованного имущества. Патруль на указанное зарегистрированном капитале судебного акта, принятого им правомерно опубликова \n",
      "----\n",
      "Генерируем текст в жадном режиме (наиболее вероятные буквы)\n",
      "Using random seed:  правового положения кредитных организаций, созданных в форме акционе\n"
     ]
    },
    {
     "name": "stderr",
     "output_type": "stream",
     "text": [
      "  0%|          | 1/1000 [00:00<02:28,  6.72it/s]"
     ]
    },
    {
     "name": "stdout",
     "output_type": "stream",
     "text": [
      "----\n",
      "  правового положения кредитных организаций, созданных в форме акционерного общества в соответствии с пунктом 1 настоящей статьи, вправе:\n",
      " 1) руководитель федерального органа исполнительной власти, уполномоченного в области таможенного дела, в соответствии с пунктом 1 н \n",
      "----\n"
     ]
    },
    {
     "name": "stderr",
     "output_type": "stream",
     "text": [
      "100%|██████████| 1000/1000 [02:29<00:00,  6.69it/s]\n"
     ]
    },
    {
     "name": "stdout",
     "output_type": "stream",
     "text": [
      "Epoch 320 average loss = 0.523439802736044\n",
      "Генерируем текст в пропорциональном режиме\n",
      "Using random seed: тмыванию) доходов, полученных преступным путем, и финансированию терро\n",
      "----\n",
      " тмыванию) доходов, полученных преступным путем, и финансированию терроризма, а при несении подобные акты, образованный в судебном заседании конкретного комплекса.\n",
      " 2. Если требование к должнику, цирным организациям и групповых нарушений и характера производственного коо \n",
      "----\n",
      "Генерируем текст в жадном режиме (наиболее вероятные буквы)\n",
      "Using random seed: арактер информации таков, что без нее невозможно использование результ\n"
     ]
    },
    {
     "name": "stderr",
     "output_type": "stream",
     "text": [
      "  0%|          | 1/1000 [00:00<02:29,  6.66it/s]"
     ]
    },
    {
     "name": "stdout",
     "output_type": "stream",
     "text": [
      "----\n",
      " арактер информации таков, что без нее невозможно использование результата работ и услуг по проведению референдума, иных документов и сведений, необходимых для таможенного оформления и прекращения права собственности на неделимую вещь (стране менее двух лет с момента выд \n",
      "----\n"
     ]
    },
    {
     "name": "stderr",
     "output_type": "stream",
     "text": [
      "100%|██████████| 1000/1000 [02:31<00:00,  6.58it/s]\n"
     ]
    },
    {
     "name": "stdout",
     "output_type": "stream",
     "text": [
      "Epoch 321 average loss = 0.5203739188611507\n",
      "Генерируем текст в пропорциональном режиме\n",
      "Using random seed: гарантийный срок составляет менее двух лет и недостатки товара обнаруж\n",
      "----\n",
      " гарантийный срок составляет менее двух лет и недостатки товара обнаружения места проведения собрания, установленной под после его владения подразделяются в первоочередном положении обязанностей, установленных федеральным законом предусмотренных законом случаях безопамог \n",
      "----\n",
      "Генерируем текст в жадном режиме (наиболее вероятные буквы)\n",
      "Using random seed: . Лица, присутствующие в зале судебного заседания, обязаны соблюдать у\n"
     ]
    },
    {
     "name": "stderr",
     "output_type": "stream",
     "text": [
      "  0%|          | 1/1000 [00:00<02:30,  6.63it/s]"
     ]
    },
    {
     "name": "stdout",
     "output_type": "stream",
     "text": [
      "----\n",
      " . Лица, присутствующие в зале судебного заседания, обязаны соблюдать условия пользования товаров в соответствии с правилами настоящего Кодекса.\n",
      " 2. Рассматривать дела об административных правонарушениях, предусмотренных статьей 15.26 настоящего Кодекса;\n",
      " 2) несоблюдения \n",
      "----\n"
     ]
    },
    {
     "name": "stderr",
     "output_type": "stream",
     "text": [
      "100%|██████████| 1000/1000 [02:31<00:00,  6.59it/s]\n"
     ]
    },
    {
     "name": "stdout",
     "output_type": "stream",
     "text": [
      "Epoch 322 average loss = 0.520092930316925\n",
      "Генерируем текст в пропорциональном режиме\n",
      "Using random seed: , занимаемым под квартиру, принадлежит также доля в праве собственност\n",
      "----\n",
      " , занимаемым под квартиру, принадлежит также доля в праве собственности на общая собственность его предоставления.\n",
      " 3. В случае, если процессуальных органов федерального органа исполнительной власти.\n",
      " Договор вскрытия судебного заседания которых предусмотрено договором  \n",
      "----\n",
      "Генерируем текст в жадном режиме (наиболее вероятные буквы)\n",
      "Using random seed: тупления в суд и принимается к производству арбитражного суда апелляци\n"
     ]
    },
    {
     "name": "stderr",
     "output_type": "stream",
     "text": [
      "  0%|          | 1/1000 [00:00<02:30,  6.64it/s]"
     ]
    },
    {
     "name": "stdout",
     "output_type": "stream",
     "text": [
      "----\n",
      " тупления в суд и принимается к производству арбитражного суда апелляционной инстанции при проведении таможенного контроля в соответствии с законодательством Российской Федерации о государственном регулировании внешнеторговой деятельности, а также при наличии обстоятельс \n",
      "----\n"
     ]
    },
    {
     "name": "stderr",
     "output_type": "stream",
     "text": [
      "100%|██████████| 1000/1000 [02:31<00:00,  6.59it/s]\n"
     ]
    },
    {
     "name": "stdout",
     "output_type": "stream",
     "text": [
      "Epoch 323 average loss = 0.5213190924227238\n",
      "Генерируем текст в пропорциональном режиме\n",
      "Using random seed: оваров, транспортных средств и иных вещей\n",
      "\n",
      " 1. Арест товаров, транспор\n",
      "----\n",
      " оваров, транспортных средств и иных вещей\n",
      "\n",
      " 1. Арест товаров, транспортных средств расписки товаров, перемещаемых через таможенную границу Российской Федерации об их порядке наследования по результатам рассмотрения заявления, включая восправления транспортного средства, \n",
      "----\n",
      "Генерируем текст в жадном режиме (наиболее вероятные буквы)\n",
      "Using random seed: и по каждому преступлению, совершенному во время работы нарядов в мест\n"
     ]
    },
    {
     "name": "stderr",
     "output_type": "stream",
     "text": [
      "  0%|          | 1/1000 [00:00<02:30,  6.64it/s]"
     ]
    },
    {
     "name": "stdout",
     "output_type": "stream",
     "text": [
      "----\n",
      " и по каждому преступлению, совершенному во время работы нарядов в местах нахождения или месту жительства лица, обратившегося с заявлением об обеспечении иска может быть предусмотрено иное.\n",
      "\n",
      " Статья 1137.\n",
      " Завещательный отказ в государственной регистрации юридического ли \n",
      "----\n"
     ]
    },
    {
     "name": "stderr",
     "output_type": "stream",
     "text": [
      "100%|██████████| 1000/1000 [02:31<00:00,  6.59it/s]\n"
     ]
    },
    {
     "name": "stdout",
     "output_type": "stream",
     "text": [
      "Epoch 324 average loss = 0.520962076485157\n",
      "Генерируем текст в пропорциональном режиме\n",
      "Using random seed: поставки покупателем предполагается существенным в случаях:\n",
      " неоднокра\n",
      "----\n",
      " поставки покупателем предполагается существенным в случаях:\n",
      " неоднократного нарушения, а также иные обстоятельства, удостоверенного ценной бумагой, в том числе с замененным управленов общей юристических сетективного дела, рассмотрение дела по существу, хотя банковский с \n",
      "----\n",
      "Генерируем текст в жадном режиме (наиболее вероятные буквы)\n",
      "Using random seed: овор.\n",
      " При отсутствии заявления одной из сторон о прекращении договора\n"
     ]
    },
    {
     "name": "stderr",
     "output_type": "stream",
     "text": [
      "  0%|          | 1/1000 [00:00<02:30,  6.62it/s]"
     ]
    },
    {
     "name": "stdout",
     "output_type": "stream",
     "text": [
      "----\n",
      " овор.\n",
      " При отсутствии заявления одной из сторон о прекращении договора простого товарищества или общества с ограниченной ответственностью должна быть подана либо при подготовке дела к судебному разбирательству и принятие решения по делу об административном правонарушени \n",
      "----\n"
     ]
    },
    {
     "name": "stderr",
     "output_type": "stream",
     "text": [
      "100%|██████████| 1000/1000 [02:31<00:00,  6.60it/s]\n"
     ]
    },
    {
     "name": "stdout",
     "output_type": "stream",
     "text": [
      "Epoch 325 average loss = 0.5207104052901268\n",
      "Генерируем текст в пропорциональном режиме\n",
      "Using random seed:  транспортом и по линиям электропередачи\n",
      "\n",
      "\n",
      " Статья 309.\n",
      " Сфера применен\n",
      "----\n",
      "  транспортом и по линиям электропередачи\n",
      "\n",
      "\n",
      " Статья 309.\n",
      " Сфера применения ставок налогов возбуждении положения настоящей Конституции Российской Федерации, направляет через апелляционной жалобы о количестве товары могут быть представлены в порядке, предусмотренном пунктом \n",
      "----\n",
      "Генерируем текст в жадном режиме (наиболее вероятные буквы)\n",
      "Using random seed: ный блок, – от ста до трехсот минимальных размеров оплаты труда.\n",
      " Приме\n"
     ]
    },
    {
     "name": "stderr",
     "output_type": "stream",
     "text": [
      "  0%|          | 1/1000 [00:00<02:32,  6.55it/s]"
     ]
    },
    {
     "name": "stdout",
     "output_type": "stream",
     "text": [
      "----\n",
      " ный блок, – от ста до трехсот минимальных размеров оплаты труда.\n",
      " Примечание. Понятие грубого нарушения правил пользования товаров на таможенную территорию Российской Федерации и федеральным законом обязанностей по договору подряда на выполнение проектных и изыскательски \n",
      "----\n"
     ]
    },
    {
     "name": "stderr",
     "output_type": "stream",
     "text": [
      "100%|██████████| 1000/1000 [02:33<00:00,  6.53it/s]\n"
     ]
    },
    {
     "name": "stdout",
     "output_type": "stream",
     "text": [
      "Epoch 326 average loss = 0.5176599481403827\n",
      "Генерируем текст в пропорциональном режиме\n",
      "Using random seed: декса Российской Федерации (Собрание законодательства Российской Федера\n",
      "----\n",
      " декса Российской Федерации (Собрание законодательства Российской Федерации. При объюдива\n",
      "\n",
      " Группа лицу, если иное не установлены арбитражным судом по требованию заинтересованию с определенным до полного возведения одновременно не отчуждать за уплату таможенных пошлин, на \n",
      "----\n",
      "Генерируем текст в жадном режиме (наиболее вероятные буквы)\n",
      "Using random seed: оки, обеспечивающие соблюдение требований настоящего Кодекса.\n",
      " 4. При з\n"
     ]
    },
    {
     "name": "stderr",
     "output_type": "stream",
     "text": [
      "  0%|          | 1/1000 [00:00<02:31,  6.58it/s]"
     ]
    },
    {
     "name": "stdout",
     "output_type": "stream",
     "text": [
      "----\n",
      " оки, обеспечивающие соблюдение требований настоящего Кодекса.\n",
      " 4. При заключении договора подряда на выполнение проектных и изыскательских работ несет ответственность за уплату таможенных пошлин, налогов и без применения к товарам запретов и ограничений экономического ха \n",
      "----\n"
     ]
    },
    {
     "name": "stderr",
     "output_type": "stream",
     "text": [
      "100%|██████████| 1000/1000 [02:33<00:00,  6.52it/s]\n"
     ]
    },
    {
     "name": "stdout",
     "output_type": "stream",
     "text": [
      "Epoch 327 average loss = 0.5171000203192234\n",
      "Генерируем текст в пропорциональном режиме\n",
      "Using random seed: ыдача другого имущества выходящему члену кооператива производится по ок\n",
      "----\n",
      " ыдача другого имущества выходящему члену кооператива производится по окончании срока, установленного для предприятия с необходимо для обеспечения уплаты таможенных пошлин, налогов на стороны другой стороне, оказана государственный инспектор Российской Федерации пределов  \n",
      "----\n",
      "Генерируем текст в жадном режиме (наиболее вероятные буквы)\n",
      "Using random seed:  оспаривании решения административного органа о привлечении к администр\n"
     ]
    },
    {
     "name": "stderr",
     "output_type": "stream",
     "text": [
      "  0%|          | 1/1000 [00:00<02:31,  6.57it/s]"
     ]
    },
    {
     "name": "stdout",
     "output_type": "stream",
     "text": [
      "----\n",
      "  оспаривании решения административного органа о привлечении к административной ответственности за нарушение обязательства или представление о пересмотре судебного акта в порядке надзора судебных актов арбитражных судов в Российской Федерации и вывоз с этой территории Рос \n",
      "----\n"
     ]
    },
    {
     "name": "stderr",
     "output_type": "stream",
     "text": [
      "100%|██████████| 1000/1000 [02:33<00:00,  6.51it/s]\n"
     ]
    },
    {
     "name": "stdout",
     "output_type": "stream",
     "text": [
      "Epoch 328 average loss = 0.5186130522787571\n",
      "Генерируем текст в пропорциональном режиме\n",
      "Using random seed: дерального закона от 29.06.2004 №58-ФЗ) \n",
      "\n",
      " Статья 182.\n",
      " Освобождение пр\n",
      "----\n",
      " дерального закона от 29.06.2004 №58-ФЗ) \n",
      "\n",
      " Статья 182.\n",
      " Освобождение продукция допускается завещательному отзыва не влечет изменения, а ронские документы и сведения, предъявленное заключение к договору найма жилого помещения договора купли-продажи (аккредители ведению от \n",
      "----\n",
      "Генерируем текст в жадном режиме (наиболее вероятные буквы)\n",
      "Using random seed: ереводчика, хотя бы они и владели необходимыми для перевода языками.\n",
      " 3\n"
     ]
    },
    {
     "name": "stderr",
     "output_type": "stream",
     "text": [
      "  0%|          | 1/1000 [00:00<02:32,  6.55it/s]"
     ]
    },
    {
     "name": "stdout",
     "output_type": "stream",
     "text": [
      "----\n",
      " ереводчика, хотя бы они и владели необходимыми для перевода языками.\n",
      " 3. При принятии решения начисления в суд с требованием о понуждении по поручению права собственности на недвижимое имущество при проведении таможенного контроля в соответствии с настоящим Кодексом и др \n",
      "----\n"
     ]
    },
    {
     "name": "stderr",
     "output_type": "stream",
     "text": [
      "100%|██████████| 1000/1000 [02:33<00:00,  6.51it/s]\n"
     ]
    },
    {
     "name": "stdout",
     "output_type": "stream",
     "text": [
      "Epoch 329 average loss = 0.5161472308337689\n",
      "Генерируем текст в пропорциональном режиме\n",
      "Using random seed: н вправе принять решение о таможенном сопровождении в случае:\n",
      " 1) непре\n",
      "----\n",
      " н вправе принять решение о таможенном сопровождении в случае:\n",
      " 1) непредставления деякналой в Российской Федерации;\n",
      " 8) исполненные (их неявление банка могут быть деньги, если иное не предусмотрено законом или договором хранения, приспособленных, военнослужащих, указанно \n",
      "----\n",
      "Генерируем текст в жадном режиме (наиболее вероятные буквы)\n",
      "Using random seed: ата или зачета государственной пошлины устанавливаются в соответствии с\n"
     ]
    },
    {
     "name": "stderr",
     "output_type": "stream",
     "text": [
      "  0%|          | 1/1000 [00:00<02:32,  6.57it/s]"
     ]
    },
    {
     "name": "stdout",
     "output_type": "stream",
     "text": [
      "----\n",
      " ата или зачета государственной пошлины устанавливаются в соответствии с настоящим Кодексом и другими федеральными законами.\n",
      "\n",
      " Статья 111.\n",
      " Общие положения\n",
      "\n",
      "\n",
      " Статья 113.\n",
      " Обязанности по осуществлению правосудия в области таможенного дела, в соответствии с законодательств \n",
      "----\n"
     ]
    },
    {
     "name": "stderr",
     "output_type": "stream",
     "text": [
      "100%|██████████| 1000/1000 [02:33<00:00,  6.51it/s]\n"
     ]
    },
    {
     "name": "stdout",
     "output_type": "stream",
     "text": [
      "Epoch 330 average loss = 0.5159104376137257\n",
      "Генерируем текст в пропорциональном режиме\n",
      "Using random seed: м собственным, имеет право на защиту своего владения против третьих лиц,\n",
      "----\n",
      " м собственным, имеет право на защиту своего владения против третьих лиц, совершивших преступников и зачисления его подложной необходимость выполнит расторжения договора обязательства становится под несостоящим образом о времени и месте одновременно с ним соответствующего  \n",
      "----\n",
      "Генерируем текст в жадном режиме (наиболее вероятные буквы)\n",
      "Using random seed:  имеющегося, по его мнению, факта нарушения его прав.\n",
      " 3. Порядок подачи\n"
     ]
    },
    {
     "name": "stderr",
     "output_type": "stream",
     "text": [
      "  0%|          | 1/1000 [00:00<02:33,  6.50it/s]"
     ]
    },
    {
     "name": "stdout",
     "output_type": "stream",
     "text": [
      "----\n",
      "  имеющегося, по его мнению, факта нарушения его прав.\n",
      " 3. Порядок подачи жалобы на решение, действие (бездействие) таможенного органа или его должностного лица таможенного органа или его должностного лица таможенного органа или его должностного лица таможенного органа или \n",
      "----\n"
     ]
    },
    {
     "name": "stderr",
     "output_type": "stream",
     "text": [
      "100%|██████████| 1000/1000 [02:35<00:00,  6.44it/s]\n"
     ]
    },
    {
     "name": "stdout",
     "output_type": "stream",
     "text": [
      "Epoch 331 average loss = 0.515298768043518\n",
      "Генерируем текст в пропорциональном режиме\n",
      "Using random seed: ия производится в порядке, предусмотренном настоящим Кодексом.\n",
      " 2. Если \n",
      "----\n",
      " ия производится в порядке, предусмотренном настоящим Кодексом.\n",
      " 2. Если заложенное имущество в течение года с момента водителя, см. Определение Конституционного Суда Российской Федерации.\n",
      " Предупредитель не вправе определяются в порядке, установленном не предусматривает п \n",
      "----\n",
      "Генерируем текст в жадном режиме (наиболее вероятные буквы)\n",
      "Using random seed: – генерального полиса.\n",
      " 2. Страхователь обязан в отношении каждой партии\n"
     ]
    },
    {
     "name": "stderr",
     "output_type": "stream",
     "text": [
      "  0%|          | 1/1000 [00:00<02:34,  6.47it/s]"
     ]
    },
    {
     "name": "stdout",
     "output_type": "stream",
     "text": [
      "----\n",
      " – генерального полиса.\n",
      " 2. Страхователь обязан в отношении каждой партии суда или выезда внесения в соответствии с законодательством Российской Федерации о государственном регулировании внешнеторговой деятельности, принятой Верховных действий или предмета административног \n",
      "----\n"
     ]
    },
    {
     "name": "stderr",
     "output_type": "stream",
     "text": [
      "100%|██████████| 1000/1000 [02:35<00:00,  6.43it/s]\n"
     ]
    },
    {
     "name": "stdout",
     "output_type": "stream",
     "text": [
      "Epoch 332 average loss = 0.5178835552930832\n",
      "Генерируем текст в пропорциональном режиме\n",
      "Using random seed: оженном транзите\n",
      "\n",
      " 1. Место доставки товаров при внутреннем таможенном т\n",
      "----\n",
      " оженном транзите\n",
      "\n",
      " 1. Место доставки товаров при внутреннем таможенном транзите.\n",
      "\n",
      " Статья 44\n",
      "\n",
      " 1. Какое содержание должно быть признана судом недействительной как и доходы, исполняющим требованиям обычая действительных документов, которые не по местонахождению, если испол \n",
      "----\n",
      "Генерируем текст в жадном режиме (наиболее вероятные буквы)\n",
      "Using random seed: ) и передавать их дежурному по горрайлиноргану с указанием в рапорте опи\n"
     ]
    },
    {
     "name": "stderr",
     "output_type": "stream",
     "text": [
      "  0%|          | 1/1000 [00:00<02:34,  6.48it/s]"
     ]
    },
    {
     "name": "stdout",
     "output_type": "stream",
     "text": [
      "----\n",
      " ) и передавать их дежурному по горрайлиноргану с указанием в рапорте описи на срок не более трех суток со дня окончания судебного заседания или по закону имеет место жительства или об отказе в выдаче указанного срока принимаются предпринимательской деятельности, а также п \n",
      "----\n"
     ]
    },
    {
     "name": "stderr",
     "output_type": "stream",
     "text": [
      "100%|██████████| 1000/1000 [02:35<00:00,  6.41it/s]\n"
     ]
    },
    {
     "name": "stdout",
     "output_type": "stream",
     "text": [
      "Epoch 333 average loss = 0.5128022826910019\n",
      "Генерируем текст в пропорциональном режиме\n",
      "Using random seed: едерации.\n",
      " До внесения Президенту Российской Федерации представления по \n",
      "----\n",
      " едерации.\n",
      " До внесения Президенту Российской Федерации представления по делу об установлении фактов, имеющих юридическое значение.\n",
      "\n",
      " Статья 77.\n",
      " Помещение товаров по частям ограничивается использованием уходом или состав суда, при условии, что может быть изложены) являетс \n",
      "----\n",
      "Генерируем текст в жадном режиме (наиболее вероятные буквы)\n",
      "Using random seed: уппа ограничения движения транспорта – формируется из работников дорожно\n"
     ]
    },
    {
     "name": "stderr",
     "output_type": "stream",
     "text": [
      "  0%|          | 1/1000 [00:00<02:35,  6.44it/s]"
     ]
    },
    {
     "name": "stdout",
     "output_type": "stream",
     "text": [
      "----\n",
      " уппа ограничения движения транспорта – формируется из работников дорожно-патрульного управления имуществом по правилам, установленным статьей 28.10, частью 1 статьи 19.4, частью 1 статьи 19.5, статьями 19.6, 19.7 настоящего Кодекса;\n",
      "  (в ред. Федерального закона от 29.06. \n",
      "----\n"
     ]
    },
    {
     "name": "stderr",
     "output_type": "stream",
     "text": [
      "100%|██████████| 1000/1000 [02:35<00:00,  6.44it/s]\n"
     ]
    },
    {
     "name": "stdout",
     "output_type": "stream",
     "text": [
      "Epoch 334 average loss = 0.5140183570086956\n",
      "Генерируем текст в пропорциональном режиме\n",
      "Using random seed: дарственной регистрации сделки, должна возместить другой стороне убытки,\n",
      "----\n",
      " дарственной регистрации сделки, должна возместить другой стороне убытки, вызванные свидетельствующий оцениваемые в установленный срок от объектами авторских или смежных правах, если обещание принять совместно с требованием или без таковой.\n",
      " Изыскателю финансовый агент впр \n",
      "----\n",
      "Генерируем текст в жадном режиме (наиболее вероятные буквы)\n",
      "Using random seed: ю Федерацию, товары, оборот которых запрещен в соответствии с законодате\n"
     ]
    },
    {
     "name": "stderr",
     "output_type": "stream",
     "text": [
      "  0%|          | 1/1000 [00:00<02:34,  6.47it/s]"
     ]
    },
    {
     "name": "stdout",
     "output_type": "stream",
     "text": [
      "----\n",
      " ю Федерацию, товары, оборот которых запрещен в соответствии с законодательством Российской Федерации о государственном регулировании внешнеторговой деятельности, и использования имущества в порядке и в размерах, которые установлены в главе 11 настоящего Кодекса.\n",
      " 2. Рассм \n",
      "----\n"
     ]
    },
    {
     "name": "stderr",
     "output_type": "stream",
     "text": [
      "100%|██████████| 1000/1000 [02:35<00:00,  6.42it/s]\n"
     ]
    },
    {
     "name": "stdout",
     "output_type": "stream",
     "text": [
      "Epoch 335 average loss = 0.5138212471604348\n",
      "Генерируем текст в пропорциональном режиме\n",
      "Using random seed: татья 177.\n",
      " Срок переработки товаров\n",
      "\n",
      " 1. Срок переработки товаров опреде\n",
      "----\n",
      " татья 177.\n",
      " Срок переработки товаров\n",
      "\n",
      " 1. Срок переработки товаров определяются законом или договором;\n",
      " 3) вред, причиненный гражданином кандидатуре либо без таковой.\n",
      "  (в ред. Федерального закона от 08.12.2003 №169-ФЗ) \n",
      " влечет наложение административного штрафа в размере \n",
      "----\n",
      "Генерируем текст в жадном режиме (наиболее вероятные буквы)\n",
      "Using random seed: и их свободную продажу на условиях, устанавливаемых законом и иными право\n"
     ]
    },
    {
     "name": "stderr",
     "output_type": "stream",
     "text": [
      "  0%|          | 1/1000 [00:00<02:36,  6.40it/s]"
     ]
    },
    {
     "name": "stdout",
     "output_type": "stream",
     "text": [
      "----\n",
      " и их свободную продажу на условиях, устанавливаемых законом и иными правовыми актами или договором подряда на выполнение проектных и изыскательских работ исполнитель обязан предоставить другой стороне (подтверждение по подведомственности и перегрузки (перевалки) и при отсу \n",
      "----\n"
     ]
    },
    {
     "name": "stderr",
     "output_type": "stream",
     "text": [
      " 49%|████▉     | 489/1000 [01:17<01:20,  6.34it/s]"
     ]
    },
    {
     "ename": "KeyboardInterrupt",
     "evalue": "",
     "output_type": "error",
     "traceback": [
      "\u001b[0;31m---------------------------------------------------------------------------\u001b[0m",
      "\u001b[0;31mKeyboardInterrupt\u001b[0m                         Traceback (most recent call last)",
      "\u001b[0;32m<ipython-input-16-01947c70e128>\u001b[0m in \u001b[0;36m<module>\u001b[0;34m()\u001b[0m\n\u001b[1;32m     28\u001b[0m     \u001b[0;32mfor\u001b[0m \u001b[0m_\u001b[0m \u001b[0;32min\u001b[0m \u001b[0mtqdm\u001b[0m\u001b[0;34m(\u001b[0m\u001b[0mrange\u001b[0m\u001b[0;34m(\u001b[0m\u001b[0mbatches_per_epoch\u001b[0m\u001b[0;34m)\u001b[0m\u001b[0;34m)\u001b[0m\u001b[0;34m:\u001b[0m\u001b[0;34m\u001b[0m\u001b[0m\n\u001b[1;32m     29\u001b[0m         \u001b[0mx\u001b[0m\u001b[0;34m,\u001b[0m\u001b[0my\u001b[0m \u001b[0;34m=\u001b[0m \u001b[0msample_random_batches\u001b[0m\u001b[0;34m(\u001b[0m\u001b[0mcorpora_ids\u001b[0m\u001b[0;34m,\u001b[0m\u001b[0mbatch_size\u001b[0m\u001b[0;34m,\u001b[0m\u001b[0mseq_length\u001b[0m\u001b[0;34m)\u001b[0m\u001b[0;34m\u001b[0m\u001b[0m\n\u001b[0;32m---> 30\u001b[0;31m         \u001b[0mavg_cost\u001b[0m \u001b[0;34m+=\u001b[0m \u001b[0mtrain\u001b[0m\u001b[0;34m(\u001b[0m\u001b[0mx\u001b[0m\u001b[0;34m,\u001b[0m \u001b[0my\u001b[0m\u001b[0;34m)\u001b[0m\u001b[0;34m\u001b[0m\u001b[0m\n\u001b[0m\u001b[1;32m     31\u001b[0m \u001b[0;34m\u001b[0m\u001b[0m\n\u001b[1;32m     32\u001b[0m     \u001b[0;32mif\u001b[0m \u001b[0mepoch\u001b[0m \u001b[0;34m%\u001b[0m \u001b[0;36m5\u001b[0m \u001b[0;34m==\u001b[0m \u001b[0;36m0\u001b[0m\u001b[0;34m:\u001b[0m\u001b[0;34m\u001b[0m\u001b[0m\n",
      "\u001b[0;32m/home/s_golovanov/anaconda3/lib/python3.5/site-packages/theano/compile/function_module.py\u001b[0m in \u001b[0;36m__call__\u001b[0;34m(self, *args, **kwargs)\u001b[0m\n\u001b[1;32m    882\u001b[0m         \u001b[0;32mtry\u001b[0m\u001b[0;34m:\u001b[0m\u001b[0;34m\u001b[0m\u001b[0m\n\u001b[1;32m    883\u001b[0m             \u001b[0moutputs\u001b[0m \u001b[0;34m=\u001b[0m\u001b[0;31m\\\u001b[0m\u001b[0;34m\u001b[0m\u001b[0m\n\u001b[0;32m--> 884\u001b[0;31m                 \u001b[0mself\u001b[0m\u001b[0;34m.\u001b[0m\u001b[0mfn\u001b[0m\u001b[0;34m(\u001b[0m\u001b[0;34m)\u001b[0m \u001b[0;32mif\u001b[0m \u001b[0moutput_subset\u001b[0m \u001b[0;32mis\u001b[0m \u001b[0;32mNone\u001b[0m \u001b[0;32melse\u001b[0m\u001b[0;31m\\\u001b[0m\u001b[0;34m\u001b[0m\u001b[0m\n\u001b[0m\u001b[1;32m    885\u001b[0m                 \u001b[0mself\u001b[0m\u001b[0;34m.\u001b[0m\u001b[0mfn\u001b[0m\u001b[0;34m(\u001b[0m\u001b[0moutput_subset\u001b[0m\u001b[0;34m=\u001b[0m\u001b[0moutput_subset\u001b[0m\u001b[0;34m)\u001b[0m\u001b[0;34m\u001b[0m\u001b[0m\n\u001b[1;32m    886\u001b[0m         \u001b[0;32mexcept\u001b[0m \u001b[0mException\u001b[0m\u001b[0;34m:\u001b[0m\u001b[0;34m\u001b[0m\u001b[0m\n",
      "\u001b[0;32m/home/s_golovanov/anaconda3/lib/python3.5/site-packages/theano/gof/op.py\u001b[0m in \u001b[0;36mrval\u001b[0;34m(p, i, o, n)\u001b[0m\n\u001b[1;32m    869\u001b[0m         \u001b[0;32mif\u001b[0m \u001b[0mparams\u001b[0m \u001b[0;32mis\u001b[0m \u001b[0mgraph\u001b[0m\u001b[0;34m.\u001b[0m\u001b[0mNoParams\u001b[0m\u001b[0;34m:\u001b[0m\u001b[0;34m\u001b[0m\u001b[0m\n\u001b[1;32m    870\u001b[0m             \u001b[0;31m# default arguments are stored in the closure of `rval`\u001b[0m\u001b[0;34m\u001b[0m\u001b[0;34m\u001b[0m\u001b[0m\n\u001b[0;32m--> 871\u001b[0;31m             \u001b[0;32mdef\u001b[0m \u001b[0mrval\u001b[0m\u001b[0;34m(\u001b[0m\u001b[0mp\u001b[0m\u001b[0;34m=\u001b[0m\u001b[0mp\u001b[0m\u001b[0;34m,\u001b[0m \u001b[0mi\u001b[0m\u001b[0;34m=\u001b[0m\u001b[0mnode_input_storage\u001b[0m\u001b[0;34m,\u001b[0m \u001b[0mo\u001b[0m\u001b[0;34m=\u001b[0m\u001b[0mnode_output_storage\u001b[0m\u001b[0;34m,\u001b[0m \u001b[0mn\u001b[0m\u001b[0;34m=\u001b[0m\u001b[0mnode\u001b[0m\u001b[0;34m)\u001b[0m\u001b[0;34m:\u001b[0m\u001b[0;34m\u001b[0m\u001b[0m\n\u001b[0m\u001b[1;32m    872\u001b[0m                 \u001b[0mr\u001b[0m \u001b[0;34m=\u001b[0m \u001b[0mp\u001b[0m\u001b[0;34m(\u001b[0m\u001b[0mn\u001b[0m\u001b[0;34m,\u001b[0m \u001b[0;34m[\u001b[0m\u001b[0mx\u001b[0m\u001b[0;34m[\u001b[0m\u001b[0;36m0\u001b[0m\u001b[0;34m]\u001b[0m \u001b[0;32mfor\u001b[0m \u001b[0mx\u001b[0m \u001b[0;32min\u001b[0m \u001b[0mi\u001b[0m\u001b[0;34m]\u001b[0m\u001b[0;34m,\u001b[0m \u001b[0mo\u001b[0m\u001b[0;34m)\u001b[0m\u001b[0;34m\u001b[0m\u001b[0m\n\u001b[1;32m    873\u001b[0m                 \u001b[0;32mfor\u001b[0m \u001b[0mo\u001b[0m \u001b[0;32min\u001b[0m \u001b[0mnode\u001b[0m\u001b[0;34m.\u001b[0m\u001b[0moutputs\u001b[0m\u001b[0;34m:\u001b[0m\u001b[0;34m\u001b[0m\u001b[0m\n",
      "\u001b[0;31mKeyboardInterrupt\u001b[0m: "
     ]
    }
   ],
   "source": [
    "from tqdm import tqdm\n",
    "\n",
    "\n",
    "print(\"Training ...\")\n",
    "\n",
    "\n",
    "#сколько всего эпох\n",
    "n_epochs=1000\n",
    "\n",
    "# раз в сколько эпох печатать примеры \n",
    "batches_per_epoch = 1000\n",
    "\n",
    "#сколько цепочек обрабатывать за 1 вызов функции обучения\n",
    "batch_size=100\n",
    "\n",
    "seq_length = 5\n",
    "\n",
    "for epoch in range(n_epochs):\n",
    "\n",
    "    print(\"Генерируем текст в пропорциональном режиме\")\n",
    "    generate_sample(proportional_sample_fun,None)\n",
    "    \n",
    "    print(\"Генерируем текст в жадном режиме (наиболее вероятные буквы)\")\n",
    "    generate_sample(max_sample_fun,None)\n",
    "\n",
    "    avg_cost = 0;\n",
    "    \n",
    "    for _ in tqdm(range(batches_per_epoch)):\n",
    "        x,y = sample_random_batches(corpora_ids,batch_size,seq_length)\n",
    "        avg_cost += train(x, y)\n",
    "        \n",
    "    if epoch % 5 == 0:\n",
    "        seq_length += 1\n",
    "    \n",
    "    if seq_length > 100:\n",
    "        seq_length = 100\n",
    "        \n",
    "    print(\"Epoch {} average loss = {}\".format(epoch, avg_cost / batches_per_epoch))"
   ]
  },
  {
   "cell_type": "markdown",
   "metadata": {},
   "source": [
    "# A chance to speed up training and get bonus score\n",
    "* Try predicting next token probas at ALL ticks (like in the seminar part)\n",
    "* much more objectives, much better gradients\n",
    "* You may want to zero-out loss for first several iterations"
   ]
  },
  {
   "cell_type": "markdown",
   "metadata": {
    "collapsed": false
   },
   "source": [
    "# Конституция нового мирового правительства"
   ]
  },
  {
   "cell_type": "code",
   "execution_count": 17,
   "metadata": {
    "collapsed": false
   },
   "outputs": [
    {
     "name": "stdout",
     "output_type": "stream",
     "text": [
      "----\n",
      "                                                     Каждый человек должен быть заключен без указания лица – эксперта, а в случае, если стороны третейского разбирательства, арбитражный суд вправе полностью или частично и благоприятствуемой или без таковой либо конфискацию предметов административного правонарушения или без такового.\n",
      " 2. В Российской Федерации права на прин \n",
      "----\n"
     ]
    }
   ],
   "source": [
    "seed = u\"Каждый человек должен\"\n",
    "sampling_fun = proportional_sample_fun\n",
    "result_length = 300\n",
    "\n",
    "generate_sample(sampling_fun,seed,result_length)\n"
   ]
  },
  {
   "cell_type": "code",
   "execution_count": 18,
   "metadata": {
    "collapsed": false
   },
   "outputs": [
    {
     "name": "stdout",
     "output_type": "stream",
     "text": [
      "----\n",
      "                                                    В случае неповиновения –\n",
      " влечет наложение административного штрафа на граждан в размере от трех до пяти минимальных размеров оплаты труда; на юридических лиц – от трехсот до пятисот минимальных размеров оплаты труда; на должностных лиц – от сорока до пятидесяти минимальных размеров оплаты труда; на юридических лиц – от  \n",
      "----\n"
     ]
    }
   ],
   "source": [
    "seed = u\"В случае неповиновения\"\n",
    "sampling_fun = proportional_sample_fun\n",
    "result_length = 300\n",
    "\n",
    "generate_sample(sampling_fun,seed,result_length)\n"
   ]
  },
  {
   "cell_type": "code",
   "execution_count": null,
   "metadata": {
    "collapsed": true
   },
   "outputs": [],
   "source": [
    "И далее по списку"
   ]
  }
 ],
 "metadata": {
  "anaconda-cloud": {},
  "kernelspec": {
   "display_name": "Python [default]",
   "language": "python",
   "name": "python3"
  },
  "language_info": {
   "codemirror_mode": {
    "name": "ipython",
    "version": 3
   },
   "file_extension": ".py",
   "mimetype": "text/x-python",
   "name": "python",
   "nbconvert_exporter": "python",
   "pygments_lexer": "ipython3",
   "version": "3.5.2"
  }
 },
 "nbformat": 4,
 "nbformat_minor": 0
}
