{
 "cells": [
  {
   "cell_type": "markdown",
   "metadata": {
    "deletable": true,
    "editable": true
   },
   "source": [
    "## Week6\n",
    "\n",
    "In this part, we'll load a pre-trained network and play with it."
   ]
  },
  {
   "cell_type": "code",
   "execution_count": 47,
   "metadata": {
    "collapsed": false,
    "deletable": true,
    "editable": true
   },
   "outputs": [],
   "source": [
    "from __future__ import print_function\n",
    "from sys import version_info\n",
    "\n",
    "import matplotlib.pyplot as plt\n",
    "import numpy as np\n",
    "import os\n",
    "import scipy\n",
    "import theano\n",
    "import theano.tensor as T\n",
    "import lasagne\n",
    "\n",
    "try:\n",
    "    import cPickle as pickle\n",
    "except ImportError:\n",
    "    import pickle\n",
    "\n",
    "%matplotlib inline\n",
    "\n",
    "from tqdm import tqdm\n",
    "from scipy.misc import imread, imsave, imresize\n",
    "from lasagne.utils import floatX"
   ]
  },
  {
   "cell_type": "markdown",
   "metadata": {
    "deletable": true,
    "editable": true
   },
   "source": [
    "# Model Zoo (4 pts)\n",
    "Lasagne has a plethora of pre-training netrworks in the [model zoo](https://github.com/Lasagne/Recipes/tree/master/modelzoo)\n",
    "* Even more models within the community (neighbor repos, PRs, etc.)\n",
    "\n",
    "\n",
    "We'll start by picking VGG16 and deploying it in our notebook.\n",
    "\n",
    "__Warning!__ VGG16 network requires around 3GB of memory to predict event for single-image batch. If you don't have that luxury, try [binder](http://mybinder.org/repo/yandexdataschool/practical_rl) or [azure notebooks](http://notebooks.azure.com/).\n"
   ]
  },
  {
   "cell_type": "code",
   "execution_count": null,
   "metadata": {
    "collapsed": false,
    "deletable": true,
    "editable": true
   },
   "outputs": [],
   "source": [
    "!wget https://s3.amazonaws.com/lasagne/recipes/pretrained/imagenet/vgg16.pkl -O weights.pkl"
   ]
  },
  {
   "cell_type": "code",
   "execution_count": 48,
   "metadata": {
    "collapsed": false,
    "deletable": true,
    "editable": true
   },
   "outputs": [],
   "source": [
    "# copyright: see http://www.robots.ox.ac.uk/~vgg/research/very_deep/\n",
    "\n",
    "from lasagne.layers import InputLayer\n",
    "from lasagne.layers import DenseLayer\n",
    "from lasagne.layers import NonlinearityLayer\n",
    "from lasagne.layers import DropoutLayer\n",
    "from lasagne.layers import Pool2DLayer as PoolLayer\n",
    "from lasagne.layers.dnn import Conv2DDNNLayer as ConvLayer\n",
    "from lasagne.nonlinearities import softmax\n",
    "\n",
    "\n",
    "def build_model():\n",
    "    net = {}\n",
    "    net['input'] = InputLayer((None, 3, 224, 224))\n",
    "    net['conv1_1'] = ConvLayer(\n",
    "        net['input'], 64, 3, pad=1, flip_filters=False)\n",
    "    net['conv1_2'] = ConvLayer(\n",
    "        net['conv1_1'], 64, 3, pad=1, flip_filters=False)\n",
    "    net['pool1'] = PoolLayer(net['conv1_2'], 2)\n",
    "    net['conv2_1'] = ConvLayer(\n",
    "        net['pool1'], 128, 3, pad=1, flip_filters=False)\n",
    "    net['conv2_2'] = ConvLayer(\n",
    "        net['conv2_1'], 128, 3, pad=1, flip_filters=False)\n",
    "    net['pool2'] = PoolLayer(net['conv2_2'], 2)\n",
    "    net['conv3_1'] = ConvLayer(\n",
    "        net['pool2'], 256, 3, pad=1, flip_filters=False)\n",
    "    net['conv3_2'] = ConvLayer(\n",
    "        net['conv3_1'], 256, 3, pad=1, flip_filters=False)\n",
    "    net['conv3_3'] = ConvLayer(\n",
    "        net['conv3_2'], 256, 3, pad=1, flip_filters=False)\n",
    "    net['pool3'] = PoolLayer(net['conv3_3'], 2)\n",
    "    net['conv4_1'] = ConvLayer(\n",
    "        net['pool3'], 512, 3, pad=1, flip_filters=False)\n",
    "    net['conv4_2'] = ConvLayer(\n",
    "        net['conv4_1'], 512, 3, pad=1, flip_filters=False)\n",
    "    net['conv4_3'] = ConvLayer(\n",
    "        net['conv4_2'], 512, 3, pad=1, flip_filters=False)\n",
    "    net['pool4'] = PoolLayer(net['conv4_3'], 2)\n",
    "    net['conv5_1'] = ConvLayer(\n",
    "        net['pool4'], 512, 3, pad=1, flip_filters=False)\n",
    "    net['conv5_2'] = ConvLayer(\n",
    "        net['conv5_1'], 512, 3, pad=1, flip_filters=False)\n",
    "    net['conv5_3'] = ConvLayer(\n",
    "        net['conv5_2'], 512, 3, pad=1, flip_filters=False)\n",
    "    net['pool5'] = PoolLayer(net['conv5_3'], 2)\n",
    "    net['fc6'] = DenseLayer(net['pool5'], num_units=4096)\n",
    "    net['fc6_dropout'] = DropoutLayer(net['fc6'], p=0.5)\n",
    "    net['fc7'] = DenseLayer(net['fc6_dropout'], num_units=4096)\n",
    "    net['fc7_dropout'] = DropoutLayer(net['fc7'], p=0.5)\n",
    "    net['fc8'] = DenseLayer(\n",
    "        net['fc7_dropout'], num_units=1000, nonlinearity=None)\n",
    "    net['prob'] = NonlinearityLayer(net['fc8'], softmax)\n",
    "\n",
    "    return net"
   ]
  },
  {
   "cell_type": "code",
   "execution_count": 49,
   "metadata": {
    "collapsed": false,
    "deletable": true,
    "editable": true
   },
   "outputs": [
    {
     "name": "stdout",
     "output_type": "stream",
     "text": [
      "ostrich, Struthio camelus\n"
     ]
    }
   ],
   "source": [
    "#classes' names are stored here\n",
    "classes = pickle.load(open('classes.pkl', 'rb'))\n",
    "#for example, 10th class is ostrich:\n",
    "print(classes[9])"
   ]
  },
  {
   "cell_type": "markdown",
   "metadata": {
    "deletable": true,
    "editable": true
   },
   "source": [
    "You have to implement two functions in the cell below.\n",
    "\n",
    "Preprocess function should take the image with shape (w, h, 3) and transform it into a tensor with shape (1, 3, 224, 224). Without this transformation, our net won't be able to digest input image. \n",
    "Additionally, your preprocessing function have to rearrange channels RGB -> BGR and subtract mean values from every channel."
   ]
  },
  {
   "cell_type": "code",
   "execution_count": 50,
   "metadata": {
    "collapsed": false,
    "deletable": true,
    "editable": true
   },
   "outputs": [
    {
     "name": "stdout",
     "output_type": "stream",
     "text": [
      "0.0\n"
     ]
    }
   ],
   "source": [
    "MEAN_VALUES = np.array([104, 117, 123])\n",
    "IMAGE_W = 224\n",
    "\n",
    "def preprocess(img):\n",
    "    img = img[:, :, ::-1]\n",
    "    img = img - MEAN_VALUES\n",
    "    \n",
    "    #convert from [w,h,3 to 1,3,w,h]\n",
    "    img = np.transpose(img, (2, 0, 1))[None]\n",
    "    return floatX(img)\n",
    "\n",
    "def deprocess(img):\n",
    "    img = img.reshape(img.shape[1:]).transpose((1, 2, 0))\n",
    "    for i in range(3):\n",
    "        img[:,:, i] += MEAN_VALUES[i]\n",
    "    return img[:, :, :: -1].astype(np.uint8)\n",
    "\n",
    "img = (np.random.rand(IMAGE_W, IMAGE_W, 3) * 256).astype(np.uint8)\n",
    "\n",
    "print(np.linalg.norm(deprocess(preprocess(img)) - img))"
   ]
  },
  {
   "cell_type": "markdown",
   "metadata": {
    "deletable": true,
    "editable": true
   },
   "source": [
    "If your implementation is correct, the number above will be small, because deprocess function is the inverse of preprocess function"
   ]
  },
  {
   "cell_type": "markdown",
   "metadata": {
    "deletable": true,
    "editable": true
   },
   "source": [
    "### Deploy the network"
   ]
  },
  {
   "cell_type": "code",
   "execution_count": 5,
   "metadata": {
    "collapsed": true,
    "deletable": true,
    "editable": true
   },
   "outputs": [],
   "source": [
    "net = build_model()"
   ]
  },
  {
   "cell_type": "code",
   "execution_count": 6,
   "metadata": {
    "collapsed": false,
    "deletable": true,
    "editable": true
   },
   "outputs": [],
   "source": [
    "with open('weights.pkl', 'rb') as f:\n",
    "    if version_info.major == 2:\n",
    "        weights = pickle.load(f)\n",
    "    elif version_info.major == 3:\n",
    "        weights = pickle.load(f, encoding='latin1')\n",
    "    \n",
    "lasagne.layers.set_all_param_values(net['prob'], weights['param values'])"
   ]
  },
  {
   "cell_type": "code",
   "execution_count": 7,
   "metadata": {
    "collapsed": false,
    "deletable": true,
    "editable": true
   },
   "outputs": [],
   "source": [
    "input_image = T.tensor4('input')\n",
    "output = lasagne.layers.get_output(net['prob'], input_image, deterministic=True)\n",
    "\n",
    "prob = theano.function([input_image], output) "
   ]
  },
  {
   "cell_type": "markdown",
   "metadata": {
    "deletable": true,
    "editable": true
   },
   "source": [
    "### Sanity check\n",
    "Let's make sure our network actually works. \n",
    "\n",
    "To do so, we'll feed it with some example images."
   ]
  },
  {
   "cell_type": "code",
   "execution_count": 8,
   "metadata": {
    "collapsed": false,
    "deletable": true,
    "editable": true
   },
   "outputs": [
    {
     "data": {
      "image/png": "[encoded data removed]",
      "text/plain": [
       "<matplotlib.figure.Figure at 0x7f67e0b4cfd0>"
      ]
     },
     "metadata": {},
     "output_type": "display_data"
    },
    {
     "name": "stdout",
     "output_type": "stream",
     "text": [
      "top-5 classes are:\n",
      "0.996635\talbatross\n",
      "0.003360\tgoose\n",
      "0.000001\tdrake\n",
      "0.000001\twhite stork\n",
      "0.000001\tspoonbill\n"
     ]
    }
   ],
   "source": [
    "img = imread('sample_images/albatross.jpg')\n",
    "plt.imshow(img)\n",
    "plt.show()\n",
    "\n",
    "p = prob(preprocess(img))\n",
    "\n",
    "labels = p.ravel().argsort()[-1:-6:-1]\n",
    "print('top-5 classes are:')\n",
    "for l in labels:\n",
    "    print('%3f\\t%s' % (p.ravel()[l], classes[l].split(',')[0]))"
   ]
  },
  {
   "cell_type": "markdown",
   "metadata": {
    "deletable": true,
    "editable": true
   },
   "source": [
    "##### Ouch!\n",
    "Try running network 2-3 times. If output changes, then we've probably done something wrong.\n",
    "\n",
    "Figure out, what's the problem with the network.\n",
    "\n",
    "_hint_ there are two such 'problematic' layers in vgg16. They're all near the end.\n",
    "\n",
    "You can make network deterministic by giving it such flag in the `lasagne.layers.get_output` function above."
   ]
  },
  {
   "cell_type": "markdown",
   "metadata": {
    "deletable": true,
    "editable": true
   },
   "source": [
    "#### Fun opportunity\n",
    "\n",
    "ImageNet does not contain any human classes, so if you feed the network with some human photo, it will most likely hallucinate something which is closest to your image.\n",
    "\n",
    "Try feeding the network with something peculiar: your avatar, Donald Trump, Victor Lempitsky or anyone."
   ]
  },
  {
   "cell_type": "markdown",
   "metadata": {
    "deletable": true,
    "editable": true
   },
   "source": [
    "# Grand-quest: Dogs Vs Cats (6 pts)\n",
    "* original competition\n",
    "* https://www.kaggle.com/c/dogs-vs-cats\n",
    "* 25k JPEG images of various size, 2 classes (guess what)\n",
    "\n",
    "### Your main objective\n",
    "* In this seminar your goal is to fine-tune a pre-trained model to distinguish between the two rivaling animals\n",
    "* The first step is to just reuse some network layer as features"
   ]
  },
  {
   "cell_type": "code",
   "execution_count": null,
   "metadata": {
    "collapsed": false,
    "deletable": true,
    "editable": true
   },
   "outputs": [],
   "source": [
    "!wget https://www.dropbox.com/s/d61lupw909hc785/dogs_vs_cats.train.zip?dl=1 -O data.zip\n",
    "!unzip data.zip\n",
    "#you may need to adjust paths in the next section, depending on your OS"
   ]
  },
  {
   "cell_type": "markdown",
   "metadata": {
    "deletable": true,
    "editable": true
   },
   "source": [
    "# for starters\n",
    "* Train sklearn model, evaluate validation accuracy (should be >80%"
   ]
  },
  {
   "cell_type": "code",
   "execution_count": 51,
   "metadata": {
    "collapsed": true
   },
   "outputs": [],
   "source": [
    "input_image = T.tensor4('input')\n",
    "output = lasagne.layers.get_output(net['fc7'], input_image, deterministic=True)\n",
    "feats = theano.function([input_image], output) "
   ]
  },
  {
   "cell_type": "code",
   "execution_count": null,
   "metadata": {
    "collapsed": false,
    "deletable": true,
    "editable": true
   },
   "outputs": [],
   "source": [
    "X = []\n",
    "Y = []\n",
    "\n",
    "#this may be a tedious process. If so, store the results in some pickle and re-use them.\n",
    "for fname in tqdm(os.listdir('train/')):\n",
    "    y = fname.startswith(\"cat\")\n",
    "    img = imread(\"train/\"+fname)\n",
    "    img = preprocess(imresize(img,(IMAGE_W, IMAGE_W)))\n",
    "    features = feats(img)\n",
    "    Y.append(y)\n",
    "    X.append(features)"
   ]
  },
  {
   "cell_type": "code",
   "execution_count": null,
   "metadata": {
    "collapsed": true
   },
   "outputs": [],
   "source": [
    "#with open('image_feats.pkl', 'wb') as f:\n",
    "    #pickle.dump((X, Y), f)"
   ]
  },
  {
   "cell_type": "code",
   "execution_count": 52,
   "metadata": {
    "collapsed": false
   },
   "outputs": [],
   "source": [
    "with open('fc7_features.pkl', 'rb') as f:\n",
    "    feats = pickle.load(f, encoding='bytes')\n",
    "X, Y = feats"
   ]
  },
  {
   "cell_type": "code",
   "execution_count": 53,
   "metadata": {
    "collapsed": false,
    "deletable": true,
    "editable": true
   },
   "outputs": [],
   "source": [
    "if type(X) is list:\n",
    "    X = np.concatenate(X) #stack all [1xfeature] matrices into one. \n",
    "    assert X.ndim==2\n",
    "    #WARNING! the concatenate works for [1xN] matrices. If you have other format, stack them yourself.\n",
    "\n",
    "#crop if we ended prematurely\n",
    "Y = np.array(Y[:len(X)])"
   ]
  },
  {
   "cell_type": "code",
   "execution_count": 54,
   "metadata": {
    "collapsed": true,
    "deletable": true,
    "editable": true
   },
   "outputs": [],
   "source": [
    "from sklearn.model_selection import StratifiedKFold\n",
    "from joblib import Parallel, delayed\n",
    "from sklearn.metrics import accuracy_score\n",
    "\n",
    "def cv_evaluate(algo, x, y, train_index, test_index):\n",
    "        algo.fit(x[train_index], y[train_index])\n",
    "        pred = algo.predict(x[test_index])\n",
    "        score = accuracy_score(y[test_index], pred)\n",
    "        return score\n",
    "\n",
    "def cross_validation(algo, x, y, n=10):\n",
    "    kfold = StratifiedKFold(n_splits=n, shuffle=True, random_state=0)\n",
    "    scores = Parallel(n_jobs=n)(delayed(cv_evaluate)(algo, x, y, train_index, test_index) \n",
    "             for train_index, test_index in kfold.split(x, y))\n",
    "    return np.mean(scores)"
   ]
  },
  {
   "cell_type": "code",
   "execution_count": 55,
   "metadata": {
    "collapsed": false,
    "deletable": true,
    "editable": true
   },
   "outputs": [
    {
     "name": "stdout",
     "output_type": "stream",
     "text": [
      "0.97528\n"
     ]
    }
   ],
   "source": [
    "from sklearn.ensemble import RandomForestClassifier\n",
    "\n",
    "rf = RandomForestClassifier(n_estimators=10,\n",
    "                            criterion='gini',\n",
    "                            n_jobs=2,\n",
    "                            random_state=0)\n",
    "\n",
    "score = cross_validation(rf, X, np.array(Y), 5)\n",
    "print(score)"
   ]
  },
  {
   "cell_type": "markdown",
   "metadata": {
    "collapsed": true,
    "deletable": true,
    "editable": true
   },
   "source": [
    "# Main quest\n",
    "\n",
    "* Get the score improved!\n",
    "\n",
    "No methods are illegal: ensembling, data augmentation, NN hacks. \n",
    "Just don't let test data slip into training.\n",
    "\n",
    "The main requirement is that you implement the NN fine-tuning recipe:\n",
    "### Split the raw image data\n",
    "  * please do train/validation/test instead of just train/test\n",
    "  * reasonable but not optimal split is 20k/2.5k/2.5k or 15k/5k/5k\n",
    "### Choose which vgg layers are you going to use\n",
    "  * Anything but for prob is okay\n",
    "  * Do not forget that vgg16 uses dropout\n",
    "### Build a few layers on top of chosen \"neck\" layers.\n",
    "  * a good idea is to just stack more layers inside the same network\n",
    "  * alternative: stack on top of get_output\n",
    "### Train the newly added layers for some iterations\n",
    "  * you can selectively train some weights by only sending them to your optimizer\n",
    "      * `lasagne.updates.mysupermegaoptimizer(loss, only_those_weights_i_wanna_train)`\n",
    "  * selecting all weights from the head but not below the neck:\n",
    "      * `all_params = lasagne.layers.get_all_params(new_output_layer_or_layers,trainable=True)`\n",
    "      * `old_params= lasagne.layers.get_all_params(neck_layers,trainable=True)`\n",
    "      * `new_params = [w for w in all_params if w not in old_params]`\n",
    "  * it's cruicial to monitor the network performance at this and following steps\n",
    "### Fine-tune the network body\n",
    "  * probably a good idea to SAVE your new network weights now 'cuz it's easy to mess things up.\n",
    "  * Moreover, saving weights periodically is a no-nonsense idea\n",
    "  * even more cruicial to monitor validation performance\n",
    "  * main network body may need a separate, much lower learning rate\n",
    "      * since updates are dictionaries, one can just compute union\n",
    "      * `updates = {}`\n",
    "      * `updates.update(lasagne.updates.how_i_optimize_old_weights())`\n",
    "      * `updates.update(lasagne.updates.how_i_optimize_old_weights())`\n",
    "      * make sure they do not have overlapping keys. Otherwise, earlier one will be forgotten.\n",
    "      * `assert len(updates) == len(old_updates) + len(new_updates)`\n",
    "### PROFIT!!!\n",
    "  * Evaluate the final score\n",
    "  * Submit to kaggle\n",
    "      * competition page https://www.kaggle.com/c/dogs-vs-cats\n",
    "      * get test data https://www.kaggle.com/c/dogs-vs-cats/data\n",
    "  \n",
    "## Some ways to get bonus points\n",
    "* explore other networks from the model zoo\n",
    "* play with architecture\n",
    "* 85%/90%/93%/95%/97% kaggle score (screen pls).\n",
    "* data augmentation, prediction-time data augmentation\n",
    "* use any more advanced fine-tuning technique you know/read anywhere\n",
    "* ml hacks that benefit the final score\n"
   ]
  },
  {
   "cell_type": "code",
   "execution_count": 9,
   "metadata": {
    "collapsed": true,
    "deletable": true,
    "editable": true
   },
   "outputs": [],
   "source": [
    "def get_data():\n",
    "    image_names = []\n",
    "    targets = []\n",
    "    for fname in os.listdir('train/'):\n",
    "        y = fname.startswith(\"cat\")\n",
    "        targets.append(y)\n",
    "        image_names.append(fname)\n",
    "    \n",
    "    return np.array(image_names), np.array(targets, dtype='int32')\n",
    "\n",
    "def read_images(names):\n",
    "    images = []\n",
    "    for fname in names:\n",
    "        img = imread(\"train/\"+fname)\n",
    "        img = preprocess(imresize(img, (IMAGE_W, IMAGE_W)))\n",
    "        images.append(img)\n",
    "    \n",
    "    return np.concatenate(images)\n",
    "\n",
    "def iterate_minibatches(inputs, targets, batchsize, shuffle=False):    \n",
    "    assert len(inputs) == len(targets)\n",
    "    if shuffle:\n",
    "        indices = np.arange(len(inputs))\n",
    "        np.random.shuffle(indices)\n",
    "    for start_idx in range(0, len(inputs) - batchsize + 1, batchsize):\n",
    "        if shuffle:\n",
    "            excerpt = indices[start_idx:start_idx + batchsize]\n",
    "        else:\n",
    "            excerpt = slice(start_idx, start_idx + batchsize)\n",
    "            \n",
    "        yield read_images(inputs[excerpt]), targets[excerpt]"
   ]
  },
  {
   "cell_type": "code",
   "execution_count": 10,
   "metadata": {
    "collapsed": false,
    "deletable": true,
    "editable": true
   },
   "outputs": [],
   "source": [
    "from sklearn.model_selection import train_test_split\n",
    "\n",
    "x_data, y_data = get_data()\n",
    "\n",
    "x_train, x_test, y_train, y_test = train_test_split(x_data, y_data, test_size=5000, stratify=y_data, random_state=0)\n",
    "x_train, x_val, y_train, y_val = train_test_split(x_train, y_train, test_size=5000, stratify=y_train, random_state=0)"
   ]
  },
  {
   "cell_type": "code",
   "execution_count": 15,
   "metadata": {
    "collapsed": false,
    "deletable": true,
    "editable": true
   },
   "outputs": [],
   "source": [
    "from lasagne.nonlinearities import rectify, sigmoid\n",
    "\n",
    "input_image = T.tensor4('input')\n",
    "targets = T.ivector('targets')\n",
    "                        \n",
    "net['new_fc7'] = DenseLayer(net['fc6'], num_units=256, nonlinearity=rectify)\n",
    "net['new_proba'] = DenseLayer(net['new_fc7'], num_units=1, nonlinearity=sigmoid)\n",
    "\n",
    "old_params = lasagne.layers.get_all_params(net['fc6'], trainable=True)\n",
    "params = [p for p in lasagne.layers.get_all_params(net['new_proba'], trainable=True)\n",
    "         if p not in old_params]\n",
    "\n",
    "output = lasagne.layers.get_output(net['new_proba'], input_image, deterministic=True)\n",
    "loss_train = lasagne.objectives.binary_crossentropy(output, targets).mean()\n",
    "loss_val = lasagne.objectives.binary_crossentropy(output, targets).mean()\n",
    "\n",
    "update = lasagne.updates.adam(loss_train, params)\n",
    "train_func = theano.function(inputs=[input_image, targets], outputs=loss_train, updates=update)\n",
    "val_func = theano.function(inputs=[input_image, targets], outputs=loss_val)"
   ]
  },
  {
   "cell_type": "code",
   "execution_count": 34,
   "metadata": {
    "collapsed": false,
    "deletable": true,
    "editable": true
   },
   "outputs": [
    {
     "name": "stderr",
     "output_type": "stream",
     "text": [
      "\r",
      "  0%|          | 0/100 [00:00<?, ?it/s]"
     ]
    },
    {
     "name": "stdout",
     "output_type": "stream",
     "text": [
      "train loss = 1.9771428635188752e-05\n",
      "train loss = 0.001544739490902246\n",
      "train loss = 0.0004184928555971837\n"
     ]
    },
    {
     "name": "stderr",
     "output_type": "stream",
     "text": [
      "\n"
     ]
    },
    {
     "ename": "KeyboardInterrupt",
     "evalue": "",
     "output_type": "error",
     "traceback": [
      "\u001b[0;31m---------------------------------------------------------------------------\u001b[0m",
      "\u001b[0;31mKeyboardInterrupt\u001b[0m                         Traceback (most recent call last)",
      "\u001b[0;32m<ipython-input-34-f83b2ca44a4e>\u001b[0m in \u001b[0;36m<module>\u001b[0;34m()\u001b[0m\n\u001b[1;32m      7\u001b[0m     \u001b[0;32mfor\u001b[0m \u001b[0mbatch\u001b[0m \u001b[0;32min\u001b[0m \u001b[0miterate_minibatches\u001b[0m\u001b[0;34m(\u001b[0m\u001b[0mx_train\u001b[0m\u001b[0;34m,\u001b[0m \u001b[0my_train\u001b[0m\u001b[0;34m,\u001b[0m \u001b[0mbatch_size\u001b[0m\u001b[0;34m,\u001b[0m \u001b[0mshuffle\u001b[0m\u001b[0;34m=\u001b[0m\u001b[0;32mTrue\u001b[0m\u001b[0;34m)\u001b[0m\u001b[0;34m:\u001b[0m\u001b[0;34m\u001b[0m\u001b[0m\n\u001b[1;32m      8\u001b[0m         \u001b[0minputs\u001b[0m\u001b[0;34m,\u001b[0m \u001b[0mtargets\u001b[0m \u001b[0;34m=\u001b[0m \u001b[0mbatch\u001b[0m\u001b[0;34m\u001b[0m\u001b[0m\n\u001b[0;32m----> 9\u001b[0;31m         \u001b[0merr\u001b[0m \u001b[0;34m=\u001b[0m \u001b[0mtrain_func\u001b[0m\u001b[0;34m(\u001b[0m\u001b[0minputs\u001b[0m\u001b[0;34m,\u001b[0m \u001b[0mtargets\u001b[0m\u001b[0;34m)\u001b[0m\u001b[0;34m\u001b[0m\u001b[0m\n\u001b[0m\u001b[1;32m     10\u001b[0m         \u001b[0mprint\u001b[0m\u001b[0;34m(\u001b[0m\u001b[0;34m\"train loss = {}\"\u001b[0m \u001b[0;34m.\u001b[0m\u001b[0mformat\u001b[0m\u001b[0;34m(\u001b[0m\u001b[0merr\u001b[0m\u001b[0;34m)\u001b[0m\u001b[0;34m)\u001b[0m\u001b[0;34m\u001b[0m\u001b[0m\n\u001b[1;32m     11\u001b[0m         \u001b[0mtrain_err\u001b[0m \u001b[0;34m+=\u001b[0m \u001b[0merr\u001b[0m\u001b[0;34m\u001b[0m\u001b[0m\n",
      "\u001b[0;32m/usr/local/lib/python3.4/dist-packages/theano/compile/function_module.py\u001b[0m in \u001b[0;36m__call__\u001b[0;34m(self, *args, **kwargs)\u001b[0m\n\u001b[1;32m    882\u001b[0m         \u001b[0;32mtry\u001b[0m\u001b[0;34m:\u001b[0m\u001b[0;34m\u001b[0m\u001b[0m\n\u001b[1;32m    883\u001b[0m             \u001b[0moutputs\u001b[0m \u001b[0;34m=\u001b[0m\u001b[0;31m\\\u001b[0m\u001b[0;34m\u001b[0m\u001b[0m\n\u001b[0;32m--> 884\u001b[0;31m                 \u001b[0mself\u001b[0m\u001b[0;34m.\u001b[0m\u001b[0mfn\u001b[0m\u001b[0;34m(\u001b[0m\u001b[0;34m)\u001b[0m \u001b[0;32mif\u001b[0m \u001b[0moutput_subset\u001b[0m \u001b[0;32mis\u001b[0m \u001b[0;32mNone\u001b[0m \u001b[0;32melse\u001b[0m\u001b[0;31m\\\u001b[0m\u001b[0;34m\u001b[0m\u001b[0m\n\u001b[0m\u001b[1;32m    885\u001b[0m                 \u001b[0mself\u001b[0m\u001b[0;34m.\u001b[0m\u001b[0mfn\u001b[0m\u001b[0;34m(\u001b[0m\u001b[0moutput_subset\u001b[0m\u001b[0;34m=\u001b[0m\u001b[0moutput_subset\u001b[0m\u001b[0;34m)\u001b[0m\u001b[0;34m\u001b[0m\u001b[0m\n\u001b[1;32m    886\u001b[0m         \u001b[0;32mexcept\u001b[0m \u001b[0mException\u001b[0m\u001b[0;34m:\u001b[0m\u001b[0;34m\u001b[0m\u001b[0m\n",
      "\u001b[0;31mKeyboardInterrupt\u001b[0m: "
     ]
    }
   ],
   "source": [
    "n_epoch = 100\n",
    "batch_size = 16;\n",
    "\n",
    "for i in tqdm(range(n_epoch)):\n",
    "    train_err = 0\n",
    "    train_batches = 0\n",
    "    for batch in iterate_minibatches(x_train, y_train, batch_size, shuffle=True):\n",
    "        inputs, targets = batch\n",
    "        err = train_func(inputs, targets)\n",
    "        print(\"train loss = {}\" .format(err))\n",
    "        train_err += err\n",
    "        train_batches += 1\n",
    "        \n",
    "    val_err = 0\n",
    "    val_batches = 0\n",
    "    for batch in iterate_minibatches(x_val, y_val, batch_size, shuffle=False):\n",
    "        inputs, targets = batch\n",
    "        err = val_func(inputs, targets)\n",
    "        print(\"val loss = {}\" .format(err))\n",
    "        val_err += err\n",
    "        val_batches += 1\n",
    "        \n",
    "    print(\"epoch {0}: train loss = {1}, val loss = {2}\" .format(i, train_err / train_batches, val_err / val_batches))"
   ]
  },
  {
   "cell_type": "code",
   "execution_count": 45,
   "metadata": {
    "collapsed": false,
    "deletable": true,
    "editable": true
   },
   "outputs": [
    {
     "name": "stdout",
     "output_type": "stream",
     "text": [
      "test acc = 1.0\n",
      "test acc = 1.0\n",
      "test acc = 1.0\n",
      "test acc = 1.0\n",
      "test acc = 1.0\n",
      "test acc = 1.0\n",
      "test acc = 1.0\n",
      "test acc = 1.0\n",
      "test acc = 0.9375\n",
      "test acc = 1.0\n",
      "test acc = 1.0\n",
      "test acc = 0.875\n",
      "test acc = 0.9375\n",
      "test acc = 1.0\n",
      "test acc = 1.0\n",
      "test acc = 1.0\n",
      "test acc = 1.0\n",
      "test acc = 1.0\n",
      "test acc = 1.0\n",
      "test acc = 1.0\n",
      "test acc = 1.0\n",
      "test acc = 1.0\n",
      "test acc = 1.0\n",
      "test acc = 1.0\n",
      "test acc = 1.0\n",
      "test acc = 1.0\n",
      "test acc = 1.0\n",
      "test acc = 1.0\n",
      "test acc = 1.0\n",
      "test acc = 1.0\n",
      "test acc = 1.0\n",
      "test acc = 1.0\n",
      "test acc = 1.0\n",
      "test acc = 1.0\n",
      "test acc = 1.0\n",
      "test acc = 1.0\n",
      "test acc = 1.0\n",
      "test acc = 1.0\n",
      "test acc = 1.0\n",
      "test acc = 1.0\n",
      "test acc = 1.0\n",
      "test acc = 1.0\n",
      "test acc = 1.0\n",
      "test acc = 1.0\n",
      "test acc = 1.0\n",
      "test acc = 0.9375\n",
      "test acc = 1.0\n",
      "test acc = 1.0\n",
      "test acc = 1.0\n",
      "test acc = 1.0\n",
      "test acc = 1.0\n",
      "test acc = 1.0\n",
      "test acc = 1.0\n",
      "test acc = 1.0\n",
      "test acc = 0.9375\n",
      "test acc = 1.0\n",
      "test acc = 1.0\n",
      "test acc = 1.0\n",
      "test acc = 1.0\n",
      "test acc = 1.0\n",
      "test acc = 1.0\n",
      "test acc = 1.0\n",
      "test acc = 1.0\n",
      "test acc = 0.9375\n",
      "test acc = 1.0\n",
      "test acc = 1.0\n",
      "test acc = 1.0\n",
      "test acc = 1.0\n",
      "test acc = 1.0\n",
      "test acc = 1.0\n",
      "test acc = 0.9375\n",
      "test acc = 1.0\n",
      "test acc = 1.0\n",
      "test acc = 0.9375\n",
      "test acc = 1.0\n",
      "test acc = 1.0\n",
      "test acc = 1.0\n",
      "test acc = 0.9375\n",
      "test acc = 1.0\n",
      "test acc = 1.0\n",
      "test acc = 0.9375\n",
      "test acc = 0.9375\n",
      "test acc = 1.0\n",
      "test acc = 0.9375\n",
      "test acc = 1.0\n",
      "test acc = 1.0\n",
      "test acc = 1.0\n",
      "test acc = 1.0\n",
      "test acc = 1.0\n",
      "test acc = 1.0\n",
      "test acc = 1.0\n",
      "test acc = 1.0\n",
      "test acc = 1.0\n",
      "test acc = 1.0\n",
      "test acc = 1.0\n",
      "test acc = 1.0\n",
      "test acc = 1.0\n",
      "test acc = 1.0\n",
      "test acc = 1.0\n",
      "test acc = 1.0\n",
      "test acc = 1.0\n",
      "test acc = 1.0\n",
      "test acc = 0.9375\n",
      "test acc = 0.9375\n",
      "test acc = 0.9375\n",
      "test acc = 1.0\n",
      "test acc = 1.0\n",
      "test acc = 0.9375\n",
      "test acc = 0.9375\n",
      "test acc = 1.0\n",
      "test acc = 1.0\n",
      "test acc = 1.0\n",
      "test acc = 1.0\n",
      "test acc = 1.0\n",
      "test acc = 0.9375\n",
      "test acc = 1.0\n",
      "test acc = 1.0\n",
      "test acc = 0.9375\n",
      "test acc = 1.0\n",
      "test acc = 1.0\n",
      "test acc = 1.0\n",
      "test acc = 0.9375\n",
      "test acc = 1.0\n",
      "test acc = 1.0\n",
      "test acc = 1.0\n",
      "test acc = 1.0\n",
      "test acc = 1.0\n",
      "test acc = 1.0\n",
      "test acc = 0.9375\n",
      "test acc = 1.0\n",
      "test acc = 1.0\n",
      "test acc = 1.0\n",
      "test acc = 1.0\n",
      "test acc = 0.9375\n",
      "test acc = 1.0\n",
      "test acc = 1.0\n",
      "test acc = 1.0\n",
      "test acc = 1.0\n",
      "test acc = 1.0\n",
      "test acc = 0.9375\n",
      "test acc = 1.0\n",
      "test acc = 1.0\n",
      "test acc = 1.0\n",
      "test acc = 1.0\n",
      "test acc = 0.9375\n",
      "test acc = 1.0\n",
      "test acc = 1.0\n",
      "test acc = 1.0\n",
      "test acc = 1.0\n",
      "test acc = 1.0\n",
      "test acc = 1.0\n",
      "test acc = 1.0\n",
      "test acc = 1.0\n",
      "test acc = 1.0\n",
      "test acc = 1.0\n",
      "test acc = 1.0\n",
      "test acc = 1.0\n",
      "test acc = 1.0\n",
      "test acc = 1.0\n",
      "test acc = 1.0\n",
      "test acc = 1.0\n",
      "test acc = 1.0\n",
      "test acc = 1.0\n",
      "test acc = 1.0\n",
      "test acc = 1.0\n",
      "test acc = 1.0\n",
      "test acc = 1.0\n",
      "test acc = 1.0\n",
      "test acc = 1.0\n",
      "test acc = 1.0\n",
      "test acc = 1.0\n",
      "test acc = 1.0\n",
      "test acc = 1.0\n",
      "test acc = 1.0\n",
      "test acc = 1.0\n",
      "test acc = 1.0\n",
      "test acc = 1.0\n",
      "test acc = 1.0\n",
      "test acc = 0.9375\n",
      "test acc = 1.0\n",
      "test acc = 1.0\n",
      "test acc = 1.0\n",
      "test acc = 1.0\n",
      "test acc = 1.0\n",
      "test acc = 0.9375\n",
      "test acc = 1.0\n",
      "test acc = 0.9375\n",
      "test acc = 1.0\n",
      "test acc = 1.0\n",
      "test acc = 1.0\n",
      "test acc = 1.0\n",
      "test acc = 1.0\n",
      "test acc = 0.875\n",
      "test acc = 1.0\n",
      "test acc = 1.0\n",
      "test acc = 1.0\n",
      "test acc = 0.9375\n",
      "test acc = 1.0\n",
      "test acc = 0.9375\n",
      "test acc = 1.0\n",
      "test acc = 0.9375\n",
      "test acc = 1.0\n",
      "test acc = 1.0\n",
      "test acc = 1.0\n",
      "test acc = 0.9375\n",
      "test acc = 1.0\n",
      "test acc = 1.0\n",
      "test acc = 1.0\n",
      "test acc = 0.9375\n",
      "test acc = 1.0\n",
      "test acc = 1.0\n",
      "test acc = 1.0\n",
      "test acc = 1.0\n",
      "test acc = 1.0\n",
      "test acc = 1.0\n",
      "test acc = 0.9375\n",
      "test acc = 1.0\n",
      "test acc = 1.0\n",
      "test acc = 1.0\n",
      "test acc = 1.0\n",
      "test acc = 1.0\n",
      "test acc = 1.0\n",
      "test acc = 0.9375\n",
      "test acc = 1.0\n",
      "test acc = 0.9375\n",
      "test acc = 1.0\n",
      "test acc = 1.0\n",
      "test acc = 1.0\n",
      "test acc = 1.0\n",
      "test acc = 1.0\n",
      "test acc = 1.0\n",
      "test acc = 1.0\n",
      "test acc = 1.0\n",
      "test acc = 1.0\n",
      "test acc = 1.0\n",
      "test acc = 1.0\n",
      "test acc = 1.0\n",
      "test acc = 1.0\n",
      "test acc = 1.0\n",
      "test acc = 0.9375\n",
      "test acc = 0.9375\n",
      "test acc = 1.0\n",
      "test acc = 1.0\n",
      "test acc = 0.9375\n",
      "test acc = 1.0\n",
      "test acc = 1.0\n",
      "test acc = 1.0\n",
      "test acc = 1.0\n",
      "test acc = 1.0\n",
      "test acc = 1.0\n",
      "test acc = 1.0\n",
      "test acc = 1.0\n",
      "test acc = 1.0\n",
      "test acc = 0.9375\n",
      "test acc = 1.0\n",
      "test acc = 1.0\n",
      "test acc = 1.0\n",
      "test acc = 1.0\n",
      "test acc = 0.9375\n",
      "test acc = 0.9375\n",
      "test acc = 1.0\n",
      "test acc = 0.9375\n",
      "test acc = 1.0\n",
      "test acc = 0.9375\n",
      "test acc = 1.0\n",
      "test acc = 1.0\n",
      "test acc = 1.0\n",
      "test acc = 1.0\n",
      "test acc = 1.0\n",
      "test acc = 0.9375\n",
      "test acc = 1.0\n",
      "test acc = 1.0\n",
      "test acc = 1.0\n",
      "test acc = 0.9375\n",
      "test acc = 1.0\n",
      "test acc = 1.0\n",
      "test acc = 0.9375\n",
      "test acc = 0.9375\n",
      "test acc = 1.0\n",
      "test acc = 1.0\n",
      "test acc = 1.0\n",
      "test acc = 1.0\n",
      "test acc = 1.0\n",
      "test acc = 0.9375\n",
      "test acc = 0.9375\n",
      "test acc = 1.0\n",
      "test acc = 1.0\n",
      "test acc = 1.0\n",
      "test acc = 1.0\n",
      "test acc = 0.9375\n",
      "test acc = 1.0\n",
      "test acc = 0.9375\n",
      "test acc = 0.9375\n",
      "test acc = 1.0\n",
      "test acc = 0.9375\n",
      "test acc = 1.0\n",
      "test acc = 1.0\n",
      "test acc = 0.9375\n",
      "test acc = 1.0\n",
      "test acc = 1.0\n",
      "test acc = 0.9375\n",
      "test acc = 1.0\n",
      "test acc = 1.0\n",
      "test acc = 1.0\n",
      "test acc = 1.0\n",
      "test acc = 1.0\n",
      "test acc = 1.0\n",
      "test acc = 1.0\n",
      "test acc = 1.0\n",
      "test acc = 1.0\n",
      "test acc = 1.0\n",
      "test acc = 1.0\n",
      "result acc = 308.375\n"
     ]
    }
   ],
   "source": [
    "input_image = T.tensor4('input')\n",
    "targets = T.ivector('targets')\n",
    "output = lasagne.layers.get_output(net['new_proba'], input_image, deterministic=True)\n",
    "\n",
    "accuracy_score = lasagne.objectives.binary_accuracy(output, targets).mean()\n",
    "accuracy_func = theano.function(inputs=[input_image, targets], outputs=accuracy_score)\n",
    "\n",
    "test_acc = 0\n",
    "test_batches = 0\n",
    "batch_size = 16\n",
    "for batch in iterate_minibatches(x_test, y_test, batch_size, shuffle=False):\n",
    "    inputs, targets = batch\n",
    "    acc = accuracy_func(inputs, targets)\n",
    "    print(\"test acc = {}\" .format(acc))\n",
    "    test_acc += acc\n",
    "    test_batches += 1\n",
    "    \n",
    "print(\"result acc = {}\" .format(test_acc / test_batches))"
   ]
  },
  {
   "cell_type": "code",
   "execution_count": 46,
   "metadata": {
    "collapsed": false
   },
   "outputs": [
    {
     "name": "stdout",
     "output_type": "stream",
     "text": [
      "result acc = 0.9883814102564102\n"
     ]
    }
   ],
   "source": [
    "print(\"result acc = {}\" .format(test_acc / test_batches))"
   ]
  },
  {
   "cell_type": "markdown",
   "metadata": {},
   "source": [
    "Жизнь-боль, когда gpuхи 0. "
   ]
  }
 ],
 "metadata": {
  "anaconda-cloud": {},
  "kernelspec": {
   "display_name": "Python 3",
   "language": "python",
   "name": "python3"
  },
  "language_info": {
   "codemirror_mode": {
    "name": "ipython",
    "version": 3
   },
   "file_extension": ".py",
   "mimetype": "text/x-python",
   "name": "python",
   "nbconvert_exporter": "python",
   "pygments_lexer": "ipython3",
   "version": "3.4.3"
  }
 },
 "nbformat": 4,
 "nbformat_minor": 0
}
