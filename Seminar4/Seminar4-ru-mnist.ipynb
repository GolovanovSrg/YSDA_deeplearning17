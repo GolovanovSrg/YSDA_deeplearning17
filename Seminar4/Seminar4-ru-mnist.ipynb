{
 "cells": [
  {
   "cell_type": "markdown",
   "metadata": {},
   "source": [
    "# Theano, Lasagne\n",
    "и с чем их едят"
   ]
  },
  {
   "cell_type": "markdown",
   "metadata": {},
   "source": [
    "# разминка\n",
    "* напиши на numpy функцию, которая считает сумму квадратов чисел от 0 до N, где N - аргумент\n",
    "* массив чисел от 0 до N - numpy.arange(N)"
   ]
  },
  {
   "cell_type": "code",
   "execution_count": 1,
   "metadata": {
    "collapsed": false
   },
   "outputs": [],
   "source": [
    "import numpy as np\n",
    "def sum_squares(N):\n",
    "    return np.sum(np.arange(N)**2)"
   ]
  },
  {
   "cell_type": "code",
   "execution_count": 2,
   "metadata": {
    "collapsed": false
   },
   "outputs": [
    {
     "name": "stdout",
     "output_type": "stream",
     "text": [
      "CPU times: user 388 ms, sys: 216 ms, total: 604 ms\n",
      "Wall time: 613 ms\n"
     ]
    },
    {
     "data": {
      "text/plain": [
       "662921401752298880"
      ]
     },
     "execution_count": 2,
     "metadata": {},
     "output_type": "execute_result"
    }
   ],
   "source": [
    "%%time\n",
    "sum_squares(10**8)"
   ]
  },
  {
   "cell_type": "markdown",
   "metadata": {},
   "source": [
    "# theano teaser\n",
    "\n",
    "Как сделать то же самое"
   ]
  },
  {
   "cell_type": "code",
   "execution_count": 3,
   "metadata": {
    "collapsed": false
   },
   "outputs": [
    {
     "name": "stderr",
     "output_type": "stream",
     "text": [
      "WARNING (theano.sandbox.cuda): The cuda backend is deprecated and will be removed in the next release (v0.10).  Please switch to the gpuarray backend. You can get more information about how to switch at this URL:\n",
      " https://github.com/Theano/Theano/wiki/Converting-to-the-new-gpu-back-end%28gpuarray%29\n",
      "\n",
      "Using gpu device 0: GeForce GT 730M (CNMeM is enabled with initial size: 80.0% of memory, cuDNN 5004)\n"
     ]
    }
   ],
   "source": [
    "import theano\n",
    "import theano.tensor as T"
   ]
  },
  {
   "cell_type": "code",
   "execution_count": 4,
   "metadata": {
    "collapsed": false
   },
   "outputs": [],
   "source": [
    "#будущий параметр функции\n",
    "N = T.scalar(\"a dimension\", dtype='int32')\n",
    "\n",
    "#рецепт получения суммы квадратов\n",
    "result = (T.arange(N)**2).sum()\n",
    "\n",
    "#компиляция функции \"сумма квадратов\" чисел от 0 до N\n",
    "sum_function = theano.function(inputs = [N], outputs=result)"
   ]
  },
  {
   "cell_type": "code",
   "execution_count": 5,
   "metadata": {
    "collapsed": false
   },
   "outputs": [
    {
     "name": "stdout",
     "output_type": "stream",
     "text": [
      "CPU times: user 660 ms, sys: 104 ms, total: 764 ms\n",
      "Wall time: 507 ms\n"
     ]
    },
    {
     "data": {
      "text/plain": [
       "array(662921401752298880)"
      ]
     },
     "execution_count": 5,
     "metadata": {},
     "output_type": "execute_result"
    }
   ],
   "source": [
    "%%time\n",
    "sum_function(10 ** 8)"
   ]
  },
  {
   "cell_type": "markdown",
   "metadata": {},
   "source": [
    "# Как оно работает?\n",
    "* Нужно написать \"рецепт\" получения выходов по входам\n",
    "* То же самое на заумном: нужно описать символический граф вычислений\n",
    "\n",
    "\n",
    "* 2 вида зверей - \"входы\" и \"преобразования\"\n",
    "* Оба могут быть числами, массивами, матрицами, тензорами и т.п.\n",
    "\n",
    "\n",
    "* Вход - это то аргумент функции. То место, на которое подставится аргумент вызове.\n",
    " * N - вход в примере выше\n",
    "\n",
    "\n",
    "* Преобразования - рецепты вычисления чего-то на основе входов и констант\n",
    " * (T.arange(N)^2).sum() - 3 последовательных преобразования N\n",
    " * Работают почти 1 в 1 как векторные операции в numpy\n",
    " * почти всё, что есть в numpy есть в theano tensor и называется так же\n",
    "   * np.mean -> T.mean\n",
    "   * np.arange -> T.arange\n",
    "   * np.cumsum -> T.cumsum\n",
    "   * и так далее...\n",
    "   * Совсем редко - бывает, что меняется название или синтаксис - нужно спросить у семинаристов или гугла\n",
    " \n",
    " \n",
    "Ничего не понятно? Сейчас исправим."
   ]
  },
  {
   "cell_type": "code",
   "execution_count": 6,
   "metadata": {
    "collapsed": false
   },
   "outputs": [],
   "source": [
    "#входы\n",
    "example_input_integer = T.scalar(\"вход - одно число(пример)\", dtype='float32')\n",
    "\n",
    "example_input_tensor = T.tensor4(\"вход - четырёхмерный тензор(пример)\")\n",
    "#не бойся, тензор нам не пригодится\n",
    "\n",
    "input_vector = T.vector(\"вход - вектор целых чисел\", dtype='int32')"
   ]
  },
  {
   "cell_type": "code",
   "execution_count": 7,
   "metadata": {
    "collapsed": false
   },
   "outputs": [],
   "source": [
    "#преобразования\n",
    "\n",
    "#поэлементное умножение\n",
    "double_the_vector = input_vector*2\n",
    "\n",
    "#поэлементный косинус\n",
    "elementwise_cosine = T.cos(input_vector)\n",
    "\n",
    "#разность квадрата каждого элемента и самого элемента\n",
    "vector_squares = input_vector**2 - input_vector\n"
   ]
  },
  {
   "cell_type": "code",
   "execution_count": 8,
   "metadata": {
    "collapsed": false
   },
   "outputs": [
    {
     "data": {
      "text/plain": [
       "Elemwise{mul,no_inplace}.0"
      ]
     },
     "execution_count": 8,
     "metadata": {},
     "output_type": "execute_result"
    }
   ],
   "source": [
    "double_the_vector"
   ]
  },
  {
   "cell_type": "code",
   "execution_count": 9,
   "metadata": {
    "collapsed": false
   },
   "outputs": [],
   "source": [
    "#теперь сам:\n",
    "#создай 2 вектора из чисел float32\n",
    "my_vector = T.vector(\"my_vector\", dtype='float32')\n",
    "my_vector2 = T.vector(\"my_vector2\", dtype='float32')"
   ]
  },
  {
   "cell_type": "code",
   "execution_count": 10,
   "metadata": {
    "collapsed": false
   },
   "outputs": [],
   "source": [
    "#напиши преобразование, которое считает\n",
    "#(вектор 1)*(вектор 2) / (sin(вектор 1) +1)\n",
    "my_transformation = my_vector * my_vector2 / (T.sin(my_vector) + 1)"
   ]
  },
  {
   "cell_type": "code",
   "execution_count": 11,
   "metadata": {
    "collapsed": false
   },
   "outputs": [
    {
     "name": "stdout",
     "output_type": "stream",
     "text": [
      "Elemwise{true_div,no_inplace}.0\n"
     ]
    }
   ],
   "source": [
    "print(my_transformation)\n",
    "#то, что получилась не чиселка - это нормально"
   ]
  },
  {
   "cell_type": "markdown",
   "metadata": {},
   "source": [
    "# Компиляция\n",
    "* До этого момента, мы использовали \"символические\" переменные\n",
    " * писали рецепт вычислений, но ничего не вычисляли\n",
    "* чтобы рецепт можно было использовать, его нужно скомпилировать"
   ]
  },
  {
   "cell_type": "code",
   "execution_count": 12,
   "metadata": {
    "collapsed": false
   },
   "outputs": [],
   "source": [
    "inputs = [my_vector, my_vector2]\n",
    "outputs = my_transformation\n",
    "\n",
    "# можно скомпилировать написанные нами преобразования как функцию\n",
    "my_function = theano.function(\n",
    "    inputs,outputs,\n",
    "    allow_input_downcast=True #автоматически прводить типы (необязательно)\n",
    " )"
   ]
  },
  {
   "cell_type": "code",
   "execution_count": 13,
   "metadata": {
    "collapsed": false
   },
   "outputs": [
    {
     "name": "stdout",
     "output_type": "stream",
     "text": [
      "using python lists:\n",
      "[  2.1721766    5.2375288   15.77397728]\n",
      "\n",
      "using numpy arrays:\n",
      "[   0.            2.77555895    5.47030783   14.02131271   89.54766846\n",
      "  676.25805664   47.183918     24.40843391   23.68156242   38.24040604]\n"
     ]
    }
   ],
   "source": [
    "#можно вызвать вот-так:\n",
    "print(\"using python lists:\")\n",
    "print(my_function([1, 2, 3], [4, 5, 6]))\n",
    "print()\n",
    "\n",
    "#а можно так. \n",
    "#К слову, ту тип float приводится к типу второго вектора\n",
    "print(\"using numpy arrays:\")\n",
    "print(my_function(np.arange(10),\n",
    "                  np.linspace(5, 6, 10, dtype='float')))\n"
   ]
  },
  {
   "cell_type": "markdown",
   "metadata": {},
   "source": [
    "# хинт для отладки\n",
    "* Если ваша функция большая, компиляция может отнять какое-то время.\n",
    "* Чтобы не ждать, можно посчитать выражение без компиляции\n",
    "* Вы экономите время 1 раз на компиляции, но сам код выполняется медленнее\n"
   ]
  },
  {
   "cell_type": "code",
   "execution_count": 14,
   "metadata": {
    "collapsed": false
   },
   "outputs": [
    {
     "name": "stdout",
     "output_type": "stream",
     "text": [
      "[  2.1721766    5.2375288   15.77397728]\n",
      "сумма 2 векторов [ 5.  7.  9.]\n",
      "форма первого вектора [3]\n"
     ]
    }
   ],
   "source": [
    "#словарик значений для входов\n",
    "my_function_inputs = {\n",
    "    my_vector: [1, 2, 3],\n",
    "    my_vector2: [4, 5, 6]\n",
    "}\n",
    "\n",
    "#вычислить без компиляции\n",
    "#если мы ничего не перепутали, \n",
    "#должно получиться точно то же, что и раньше\n",
    "print(my_transformation.eval(my_function_inputs))\n",
    "\n",
    "\n",
    "#можно вычислять преобразования на ходу\n",
    "print(\"сумма 2 векторов\", (my_vector + my_vector2).eval(my_function_inputs))\n",
    "\n",
    "#!ВАЖНО! если преобразование зависит только от части переменных,\n",
    "#остальные давать не надо\n",
    "print(\"форма первого вектора\", my_vector.shape.eval({\n",
    "        my_vector: [1, 2, 3]\n",
    "    }))\n"
   ]
  },
  {
   "cell_type": "markdown",
   "metadata": {},
   "source": [
    "* Для отладки желательно уменьшить масштаб задачи. Если вы планировали послать на вход вектор из 10^9 примеров, пошлите 10~100.\n",
    "* Если #ОЧЕНЬ нужно послать большой вектор, быстрее скомпилировать функцию обычным способом"
   ]
  },
  {
   "cell_type": "markdown",
   "metadata": {},
   "source": [
    "# Теперь сам: MSE (2 pts)"
   ]
  },
  {
   "cell_type": "code",
   "execution_count": 15,
   "metadata": {
    "collapsed": false
   },
   "outputs": [],
   "source": [
    "# Задание 1 - напиши и скомпилируй theano-функцию, которая считает среднеквадратичную ошибку двух векторов-входов\n",
    "# Вернуть нужно одно число - собственно, ошибку. Обновлять ничего не нужно\n",
    "\n",
    "vector1 = T.vector(\"vector1\", dtype='float32')\n",
    "vector2 = T.vector(\"vector2\", dtype='float32')\n",
    "\n",
    "mse_transform = T.mean((vector1 - vector2)**2)\n",
    "\n",
    "compute_mse = theano.function(inputs=[vector1, vector2], \n",
    "                              outputs=mse_transform,\n",
    "                              allow_input_downcast=True)"
   ]
  },
  {
   "cell_type": "code",
   "execution_count": 16,
   "metadata": {
    "collapsed": false
   },
   "outputs": [
    {
     "name": "stdout",
     "output_type": "stream",
     "text": [
      "All tests passed\n"
     ]
    }
   ],
   "source": [
    "#тесты\n",
    "from sklearn.metrics import mean_squared_error\n",
    "\n",
    "for n in [1,5,10,10**3]:\n",
    "    \n",
    "    elems = [np.arange(n),np.arange(n,0,-1), np.zeros(n),\n",
    "             np.ones(n),np.random.random(n),np.random.randint(100,size=n)]\n",
    "    \n",
    "    for el in elems:\n",
    "        for el_2 in elems:\n",
    "            true_mse = np.array(mean_squared_error(el,el_2))\n",
    "            my_mse = compute_mse(el,el_2)\n",
    "            if not np.allclose(true_mse,my_mse):\n",
    "                print ('Wrong result:')\n",
    "                print ('mse(%s,%s)'%(el,el_2))\n",
    "                print (\"should be: %f, but your function returned %f\"%(true_mse,my_mse))\n",
    "                raise ValueError(\"Что-то не так\")\n",
    "\n",
    "print (\"All tests passed\")"
   ]
  },
  {
   "cell_type": "markdown",
   "metadata": {},
   "source": [
    "# Shared variables\n",
    "\n",
    "* Входы и преобразования - части рецепта. \n",
    " * Они существуют только во время вызова функции.\n",
    "\n",
    "\n",
    "* Shared переменные - всегда остаются в памяти\n",
    " * им можно поменять значение \n",
    "   * (но не внутри символического графа. Об этом позже)\n",
    " * их можно включить в граф вычислений\n",
    " \n",
    " \n",
    "* хинт - в таких переменных удобно хранить параметры и гиперпараметры\n",
    " * например, веса нейронки или learning rate, если вы его меняете"
   ]
  },
  {
   "cell_type": "code",
   "execution_count": 17,
   "metadata": {
    "collapsed": false
   },
   "outputs": [],
   "source": [
    "#cоздадим расшаренную перменную\n",
    "shared_vector_1 = theano.shared(np.ones(10, dtype='float64'))"
   ]
  },
  {
   "cell_type": "code",
   "execution_count": 18,
   "metadata": {
    "collapsed": false
   },
   "outputs": [
    {
     "name": "stdout",
     "output_type": "stream",
     "text": [
      "initial value [ 1.  1.  1.  1.  1.  1.  1.  1.  1.  1.]\n"
     ]
    }
   ],
   "source": [
    "#получить (численное) значение переменной\n",
    "print(\"initial value\", shared_vector_1.get_value())"
   ]
  },
  {
   "cell_type": "code",
   "execution_count": 19,
   "metadata": {
    "collapsed": false
   },
   "outputs": [
    {
     "name": "stdout",
     "output_type": "stream",
     "text": [
      "new value [ 0.  1.  2.  3.  4.]\n"
     ]
    }
   ],
   "source": [
    "#задать новое значение\n",
    "shared_vector_1.set_value(np.arange(5))\n",
    "\n",
    "#проверим значение\n",
    "print (\"new value\", shared_vector_1.get_value())\n",
    "\n",
    "#Заметь, что раньше это был вектор из 10 элементов, а сейчас - из 5. \n",
    "#Если граф при этом остался выполним, это сработает."
   ]
  },
  {
   "cell_type": "markdown",
   "metadata": {},
   "source": [
    "# Теперь сам"
   ]
  },
  {
   "cell_type": "code",
   "execution_count": 20,
   "metadata": {
    "collapsed": false
   },
   "outputs": [],
   "source": [
    "#напиши рецепт (преобразование), которое считает произведение(поэллементное) shared_vector на input_scalar\n",
    "#скомпилируй это в функцию от input_scalar\n",
    "\n",
    "input_scalar = T.scalar('coefficient',dtype='float64')\n",
    "shared_vector = theano.shared(np.ones(10, dtype='float64'))\n",
    "\n",
    "scalar_times_shared = shared_vector * input_scalar\n",
    "\n",
    "shared_times_n = theano.function(inputs=[input_scalar],\n",
    "                                 outputs=scalar_times_shared,\n",
    "                                 allow_input_downcast=True)"
   ]
  },
  {
   "cell_type": "code",
   "execution_count": 21,
   "metadata": {
    "collapsed": false
   },
   "outputs": [
    {
     "name": "stdout",
     "output_type": "stream",
     "text": [
      "shared: [ 0.  1.  2.  3.  4.]\n",
      "shared_times_n(5) [ 5.  5.  5.  5.  5.  5.  5.  5.  5.  5.]\n",
      "shared_times_n(-0.5) [-0.5 -0.5 -0.5 -0.5 -0.5 -0.5 -0.5 -0.5 -0.5 -0.5]\n"
     ]
    }
   ],
   "source": [
    "print(\"shared:\", shared_vector_1.get_value())\n",
    "\n",
    "print(\"shared_times_n(5)\", shared_times_n(5))\n",
    "\n",
    "print(\"shared_times_n(-0.5)\", shared_times_n(-0.5))"
   ]
  },
  {
   "cell_type": "code",
   "execution_count": 22,
   "metadata": {
    "collapsed": false
   },
   "outputs": [
    {
     "name": "stdout",
     "output_type": "stream",
     "text": [
      "shared: [-1.  0.  1.]\n",
      "shared_times_n(5) [ 5.  5.  5.  5.  5.  5.  5.  5.  5.  5.]\n",
      "shared_times_n(-0.5) [-0.5 -0.5 -0.5 -0.5 -0.5 -0.5 -0.5 -0.5 -0.5 -0.5]\n"
     ]
    }
   ],
   "source": [
    "#поменяем значение shared_vector_1\n",
    "shared_vector_1.set_value([-1, 0, 1])\n",
    "print(\"shared:\", shared_vector_1.get_value())\n",
    "\n",
    "print(\"shared_times_n(5)\", shared_times_n(5))\n",
    "\n",
    "print(\"shared_times_n(-0.5)\", shared_times_n(-0.5))"
   ]
  },
  {
   "cell_type": "markdown",
   "metadata": {},
   "source": [
    "# T.grad, самое вкусное\n",
    "* theano умеет само считать производные. Все, которые существуют.\n",
    "* Производные считаются в символическом, а не численном виде\n",
    "\n",
    "Ограничения\n",
    "* За раз можно считать производную __скалярной__ функции по одной или нескольким скалярным или векторным аргументам\n",
    "* Функция должна на всех этапах своего вычисления иметь тип float32 или float64 (т.к. на множестве целых чисел производная не имеет смысл)"
   ]
  },
  {
   "cell_type": "code",
   "execution_count": 23,
   "metadata": {
    "collapsed": false
   },
   "outputs": [],
   "source": [
    "my_scalar = T.scalar(name='input', dtype='float64')\n",
    "\n",
    "scalar_squared = T.sum(my_scalar**2)\n",
    "\n",
    "#производная v_squared по my_vector\n",
    "derivative = T.grad(scalar_squared, my_scalar)\n",
    "\n",
    "fun = theano.function([my_scalar], scalar_squared)\n",
    "grad = theano.function([my_scalar], derivative) "
   ]
  },
  {
   "cell_type": "code",
   "execution_count": 24,
   "metadata": {
    "collapsed": false
   },
   "outputs": [
    {
     "data": {
      "text/plain": [
       "<matplotlib.legend.Legend at 0x7fc68c0724a8>"
      ]
     },
     "execution_count": 24,
     "metadata": {},
     "output_type": "execute_result"
    },
    {
     "data": {
      "image/png": "[encoded data removed]",
      "text/plain": [
       "<matplotlib.figure.Figure at 0x7fc6a80304e0>"
      ]
     },
     "metadata": {},
     "output_type": "display_data"
    }
   ],
   "source": [
    "import matplotlib.pyplot as plt\n",
    "%matplotlib inline\n",
    "\n",
    "x = np.linspace(-3, 3)\n",
    "x_squared = list(map(fun, x))\n",
    "x_squared_der = list(map(grad, x))\n",
    "\n",
    "plt.plot(x, x_squared,label=\"x^2\")\n",
    "plt.plot(x, x_squared_der, label=\"derivative\")\n",
    "plt.legend()"
   ]
  },
  {
   "cell_type": "markdown",
   "metadata": {},
   "source": [
    "# теперь сам"
   ]
  },
  {
   "cell_type": "code",
   "execution_count": 25,
   "metadata": {
    "collapsed": false
   },
   "outputs": [],
   "source": [
    "my_vector = T.vector('float64')\n",
    "\n",
    "#посчитай производные этой функции по my_scalar и my_vector\n",
    "#warning! Не пытайся понять физический смысл этой функции\n",
    "weird_psychotic_function = ((my_vector+my_scalar)**(1+T.var(my_vector)) +1./T.arcsinh(my_scalar)).mean()/(my_scalar**2 +1) + 0.01*T.sin(2*my_scalar**1.5)*(T.sum(my_vector)* my_scalar**2)*T.exp((my_scalar-4)**2)/(1+T.exp((my_scalar-4)**2))*(1.-(T.exp(-(my_scalar-4)**2))/(1+T.exp(-(my_scalar-4)**2)))**2\n",
    "\n",
    "der_by_scalar, der_by_vector = T.grad(weird_psychotic_function, my_scalar), T.grad(weird_psychotic_function, my_vector)\n",
    "\n",
    "compute_weird_function = theano.function([my_scalar,my_vector],weird_psychotic_function)\n",
    "compute_der_by_scalar = theano.function([my_scalar,my_vector],der_by_scalar)"
   ]
  },
  {
   "cell_type": "code",
   "execution_count": 26,
   "metadata": {
    "collapsed": false
   },
   "outputs": [
    {
     "data": {
      "text/plain": [
       "<matplotlib.legend.Legend at 0x7fc67c14bfd0>"
      ]
     },
     "execution_count": 26,
     "metadata": {},
     "output_type": "execute_result"
    },
    {
     "data": {
      "image/png": "[encoded data removed]",
      "text/plain": [
       "<matplotlib.figure.Figure at 0x7fc68c0cff60>"
      ]
     },
     "metadata": {},
     "output_type": "display_data"
    }
   ],
   "source": [
    "#график функции и твоей производной\n",
    "vector_0 = [1,2,3]\n",
    "\n",
    "scalar_space = np.linspace(0,7)\n",
    "\n",
    "y = [compute_weird_function(x,vector_0) for x in scalar_space]\n",
    "plt.plot(scalar_space,y,label='function')\n",
    "y_der_by_scalar = [compute_der_by_scalar(x,vector_0) for x in scalar_space]\n",
    "plt.plot(scalar_space,y_der_by_scalar,label='derivative')\n",
    "plt.grid();plt.legend()\n"
   ]
  },
  {
   "cell_type": "markdown",
   "metadata": {},
   "source": [
    "# Последний штрих - Updates\n",
    "\n",
    "* updates - это способ изменять значения shared переменных каждый раз В КОНЦЕ вызова функции\n",
    "\n",
    "* фактически, это словарь {shared_переменная: рецепт нового значения}, который добавляется в функцию при компиляции\n",
    "\n",
    "Например,"
   ]
  },
  {
   "cell_type": "code",
   "execution_count": 27,
   "metadata": {
    "collapsed": false
   },
   "outputs": [],
   "source": [
    "#умножим shared вектор на число и сохраним новое значение обратно в этот shared вектор\n",
    "\n",
    "inputs = [input_scalar]\n",
    "outputs = [scalar_times_shared] #вернём вектор, умноженный на число\n",
    "\n",
    "my_updates = {\n",
    "    shared_vector_1: scalar_times_shared #и этот же результат запишем в shared_vector_1\n",
    "}\n",
    "\n",
    "compute_and_save = theano.function(inputs, outputs, updates=my_updates)"
   ]
  },
  {
   "cell_type": "code",
   "execution_count": 28,
   "metadata": {
    "collapsed": false
   },
   "outputs": [
    {
     "name": "stdout",
     "output_type": "stream",
     "text": [
      "initial shared value: [ 0.  1.  2.  3.  4.]\n",
      "compute_and_save(2) returns [array([ 2.,  2.,  2.,  2.,  2.,  2.,  2.,  2.,  2.,  2.])]\n",
      "new shared value: [ 2.  2.  2.  2.  2.  2.  2.  2.  2.  2.]\n"
     ]
    }
   ],
   "source": [
    "shared_vector_1.set_value(np.arange(5))\n",
    "\n",
    "#изначальное значение shared_vector_1\n",
    "print(\"initial shared value:\" ,shared_vector_1.get_value())\n",
    "\n",
    "# теперь вычислим функцию (значение shared_vector_1 при этом поменяется)\n",
    "print(\"compute_and_save(2) returns\",compute_and_save(2))\n",
    "\n",
    "#проверим, что в shared_vector_1\n",
    "print(\"new shared value:\" ,shared_vector_1.get_value())"
   ]
  },
  {
   "cell_type": "markdown",
   "metadata": {},
   "source": [
    "# Логистическая регрессия\n",
    "Что нам потребуется:\n",
    "* Веса лучше хранить в shared-переменной\n",
    "* Данные можно передавать как input\n",
    "* Нужно 2 функции:\n",
    " * train_function(X,y) - возвращает ошибку и изменяет веса на 1 шаг по граиденту __(через updates)__\n",
    " * predict_fun(X) - возвращает предсказанные ответы (\"y\") по данным"
   ]
  },
  {
   "cell_type": "code",
   "execution_count": 29,
   "metadata": {
    "collapsed": false
   },
   "outputs": [
    {
     "name": "stdout",
     "output_type": "stream",
     "text": [
      "y [форма - (360,)]: [0 1 0 1 0 1 0 0 1 1]\n",
      "X [форма - (360, 64)]:\n",
      "[[  0.   0.   5.  13.   9.   1.   0.   0.   0.   0.  13.  15.  10.  15.\n",
      "    5.   0.   0.   3.  15.   2.   0.  11.   8.   0.   0.   4.  12.   0.\n",
      "    0.   8.   8.   0.   0.   5.   8.   0.   0.   9.   8.   0.   0.   4.\n",
      "   11.   0.   1.  12.   7.   0.   0.   2.  14.   5.  10.  12.   0.   0.\n",
      "    0.   0.   6.  13.  10.   0.   0.   0.]\n",
      " [  0.   0.   0.  12.  13.   5.   0.   0.   0.   0.   0.  11.  16.   9.\n",
      "    0.   0.   0.   0.   3.  15.  16.   6.   0.   0.   0.   7.  15.  16.\n",
      "   16.   2.   0.   0.   0.   0.   1.  16.  16.   3.   0.   0.   0.   0.\n",
      "    1.  16.  16.   6.   0.   0.   0.   0.   1.  16.  16.   6.   0.   0.\n",
      "    0.   0.   0.  11.  16.  10.   0.   0.]\n",
      " [  0.   0.   1.   9.  15.  11.   0.   0.   0.   0.  11.  16.   8.  14.\n",
      "    6.   0.   0.   2.  16.  10.   0.   9.   9.   0.   0.   1.  16.   4.\n",
      "    0.   8.   8.   0.   0.   4.  16.   4.   0.   8.   8.   0.   0.   1.\n",
      "   16.   5.   1.  11.   3.   0.   0.   0.  12.  12.  10.  10.   0.   0.\n",
      "    0.   0.   1.  10.  13.   3.   0.   0.]]\n"
     ]
    }
   ],
   "source": [
    "from sklearn.datasets import load_digits\n",
    "mnist = load_digits(2)\n",
    "\n",
    "X, y = mnist.data, mnist.target\n",
    "\n",
    "print (\"y [форма - %s]:\"%(str(y.shape)), y[:10])\n",
    "print (\"X [форма - %s]:\"%(str(X.shape)))\n",
    "print (X[:3])"
   ]
  },
  {
   "cell_type": "code",
   "execution_count": 30,
   "metadata": {
    "collapsed": false
   },
   "outputs": [],
   "source": [
    "# переменные и входы\n",
    "shared_weights = theano.shared(np.random.randn(X.shape[1]), name=\"w\")\n",
    "input_X = T.matrix(\"x\", dtype='float64')\n",
    "input_y = T.vector(\"y\", dtype='float64')"
   ]
  },
  {
   "cell_type": "code",
   "execution_count": 31,
   "metadata": {
    "collapsed": false
   },
   "outputs": [],
   "source": [
    "p = 1 / (1 + T.exp(-T.dot(input_X, shared_weights)))\n",
    "predicted_y = p > 0.5\n",
    "loss = T.mean(-input_y * T.log(p) - (1 - input_y) * T.log(1 - p))\n",
    "\n",
    "grad = T.grad(loss, shared_weights)\n",
    "\n",
    "updates = {\n",
    "    shared_weights: shared_weights - 0.1 * grad\n",
    "}"
   ]
  },
  {
   "cell_type": "code",
   "execution_count": 32,
   "metadata": {
    "collapsed": false
   },
   "outputs": [],
   "source": [
    "train_function = theano.function(inputs=[input_X, input_y], outputs=loss, updates=updates)\n",
    "predict_function = theano.function(inputs=[input_X], outputs=predicted_y)"
   ]
  },
  {
   "cell_type": "code",
   "execution_count": 33,
   "metadata": {
    "collapsed": false
   },
   "outputs": [
    {
     "name": "stderr",
     "output_type": "stream",
     "text": [
      "/usr/local/lib/python3.4/dist-packages/sklearn/cross_validation.py:44: DeprecationWarning: This module was deprecated in version 0.18 in favor of the model_selection module into which all the refactored classes and functions are moved. Also note that the interface of the new CV iterators are different from that of this module. This module will be removed in 0.20.\n",
      "  \"This module will be removed in 0.20.\", DeprecationWarning)\n"
     ]
    }
   ],
   "source": [
    "from sklearn.cross_validation import train_test_split\n",
    "X_train,X_test,y_train,y_test = train_test_split(X,y)"
   ]
  },
  {
   "cell_type": "code",
   "execution_count": 34,
   "metadata": {
    "collapsed": false
   },
   "outputs": [
    {
     "name": "stdout",
     "output_type": "stream",
     "text": [
      "loss at iter 0:nan\n",
      "train auc: 0.590909090909\n",
      "test auc: 0.58\n",
      "loss at iter 1:nan\n",
      "train auc: 0.948287220026\n",
      "test auc: 0.9775\n",
      "loss at iter 2:nan\n",
      "train auc: 0.951910408432\n",
      "test auc: 0.9775\n",
      "loss at iter 3:nan\n",
      "train auc: 0.959156785244\n",
      "test auc: 0.9775\n",
      "loss at iter 4:nan\n",
      "train auc: 0.966567852437\n",
      "test auc: 0.9875\n",
      "resulting weights:\n"
     ]
    },
    {
     "data": {
      "text/plain": [
       "<matplotlib.colorbar.Colorbar at 0x7fc677814198>"
      ]
     },
     "execution_count": 34,
     "metadata": {},
     "output_type": "execute_result"
    },
    {
     "data": {
      "image/png": "[encoded data removed]",
      "text/plain": [
       "<matplotlib.figure.Figure at 0x7fc679898320>"
      ]
     },
     "metadata": {},
     "output_type": "display_data"
    }
   ],
   "source": [
    "from sklearn.metrics import roc_auc_score\n",
    "\n",
    "for i in range(5):\n",
    "    loss_i = train_function(X_train,y_train)\n",
    "    print (\"loss at iter %i:%.4f\"%(i,loss_i))\n",
    "    print (\"train auc:\",roc_auc_score(y_train, predict_function(X_train)))\n",
    "    print (\"test auc:\",roc_auc_score(y_test, predict_function(X_test)))\n",
    "\n",
    "    \n",
    "print (\"resulting weights:\")\n",
    "plt.imshow(shared_weights.get_value().reshape(8,-1))\n",
    "plt.colorbar()"
   ]
  },
  {
   "cell_type": "markdown",
   "metadata": {},
   "source": [
    "# lasagne\n",
    "* lasagne - это библиотека для написания нейронок произвольной формы на theano\n",
    "* библиотека низкоуровневая, границы между theano и lasagne практически нет\n",
    "\n",
    "В качестве демо-задачи выберем то же распознавание чисел, но на большем масштабе задачи\n",
    "* картинки 28x28\n",
    "* 10 цифр"
   ]
  },
  {
   "cell_type": "code",
   "execution_count": 35,
   "metadata": {
    "collapsed": false
   },
   "outputs": [
    {
     "name": "stdout",
     "output_type": "stream",
     "text": [
      "(50000, 1, 28, 28) (50000,)\n"
     ]
    }
   ],
   "source": [
    "from mnist import load_dataset\n",
    "X_train,y_train,X_val,y_val,X_test,y_test = load_dataset()\n",
    "\n",
    "print(X_train.shape,y_train.shape)"
   ]
  },
  {
   "cell_type": "code",
   "execution_count": 36,
   "metadata": {
    "collapsed": false
   },
   "outputs": [
    {
     "data": {
      "text/plain": [
       "<matplotlib.image.AxesImage at 0x7fc6741aaa20>"
      ]
     },
     "execution_count": 36,
     "metadata": {},
     "output_type": "execute_result"
    },
    {
     "data": {
      "image/png": "[encoded data removed]",
      "text/plain": [
       "<matplotlib.figure.Figure at 0x7fc6799097b8>"
      ]
     },
     "metadata": {},
     "output_type": "display_data"
    }
   ],
   "source": [
    "plt.imshow(X_train[0, 0])"
   ]
  },
  {
   "cell_type": "code",
   "execution_count": 37,
   "metadata": {
    "collapsed": false
   },
   "outputs": [],
   "source": [
    "import lasagne\n",
    "\n",
    "input_X = T.tensor4(\"X\")\n",
    "\n",
    "#размерность входа (None означает \"может изменяться\")\n",
    "input_shape = [None, 1, 28, 28]\n",
    "\n",
    "target_y = T.vector(\"target Y integer\",dtype='int32')"
   ]
  },
  {
   "cell_type": "markdown",
   "metadata": {},
   "source": [
    "Так задаётся архитектура нейронки"
   ]
  },
  {
   "cell_type": "code",
   "execution_count": 38,
   "metadata": {
    "collapsed": false
   },
   "outputs": [],
   "source": [
    "#входной слой (вспомогательный)\n",
    "input_layer = lasagne.layers.InputLayer(shape = input_shape, input_var=input_X)\n",
    "\n",
    "#полносвязный слой, который принимает на вход input layer и имеет 100 нейронов.\n",
    "# нелинейная функция - сигмоида как в логистической регрессии\n",
    "# слоям тоже можно давать имена, но это необязательно\n",
    "dense_1 = lasagne.layers.DenseLayer(input_layer, num_units=50,\n",
    "                                   nonlinearity = lasagne.nonlinearities.sigmoid,\n",
    "                                   name=\"hidden_dense_layer\")\n",
    "\n",
    "#ВЫХОДНОЙ полносвязный слой, который принимает на вход dense_1 и имеет 10 нейронов -по нейрону на цифру\n",
    "#нелинейность - softmax - чтобы вероятности всех цифр давали в сумме 1\n",
    "dense_output = lasagne.layers.DenseLayer(dense_1, num_units=10,\n",
    "                                        nonlinearity = lasagne.nonlinearities.softmax,\n",
    "                                        name=\"output\")\n"
   ]
  },
  {
   "cell_type": "code",
   "execution_count": 39,
   "metadata": {
    "collapsed": true
   },
   "outputs": [],
   "source": [
    "#предсказание нейронки (theano-преобразование)\n",
    "y_predicted = lasagne.layers.get_output(dense_output)"
   ]
  },
  {
   "cell_type": "code",
   "execution_count": 40,
   "metadata": {
    "collapsed": false
   },
   "outputs": [
    {
     "name": "stdout",
     "output_type": "stream",
     "text": [
      "[hidden_dense_layer.W, hidden_dense_layer.b, output.W, output.b]\n"
     ]
    }
   ],
   "source": [
    "#все веса нейронки (shared-переменные)\n",
    "all_weights = lasagne.layers.get_all_params(dense_output)\n",
    "print(all_weights)"
   ]
  },
  {
   "cell_type": "markdown",
   "metadata": {},
   "source": [
    "### дальше вы могли бы просто\n",
    "* задать функцию ошибки вручную\n",
    "* посчитать градиент ошибки по all_weights\n",
    "* написать updates\n",
    "* но это долго, а простой шаг по градиенту - не самый лучший смособ оптимизировать веса\n",
    "\n",
    "Вместо этого, опять используем lasagne"
   ]
  },
  {
   "cell_type": "code",
   "execution_count": 41,
   "metadata": {
    "collapsed": false
   },
   "outputs": [],
   "source": [
    "#функция ошибки - средняя кроссэнтропия\n",
    "loss = lasagne.objectives.categorical_crossentropy(y_predicted,target_y).mean()\n",
    "\n",
    "\n",
    "accuracy = lasagne.objectives.categorical_accuracy(y_predicted,target_y).mean()\n",
    "\n",
    "#сразу посчитать словарь обновлённых значений с шагом по градиенту, как раньше\n",
    "updates_sgd = lasagne.updates.rmsprop(loss, all_weights,learning_rate=0.01)"
   ]
  },
  {
   "cell_type": "code",
   "execution_count": 42,
   "metadata": {
    "collapsed": false
   },
   "outputs": [],
   "source": [
    "#функция, которая обучает сеть на 1 шаг и возвращащет значение функции потерь и точности\n",
    "train_fun = theano.function([input_X,target_y],[loss,accuracy],updates=updates_sgd)\n",
    "\n",
    "#функция, которая считает точность\n",
    "accuracy_fun = theano.function([input_X,target_y],accuracy)"
   ]
  },
  {
   "cell_type": "markdown",
   "metadata": {},
   "source": [
    "### Вот и всё, пошли её учить\n",
    "* данных теперь много, поэтому лучше учиться стохастическим градиентным спуском\n",
    "* для этого напишем функцию, которая бьёт выпорку на мини-батчи (в обычном питоне, не в theano)"
   ]
  },
  {
   "cell_type": "code",
   "execution_count": 43,
   "metadata": {
    "collapsed": true
   },
   "outputs": [],
   "source": [
    "# вспомогательная функция, которая возвращает список мини-батчей для обучения нейронки\n",
    "\n",
    "#на вход\n",
    "# X - тензор из картинок размером (много, 1, 28, 28), например - X_train\n",
    "# y - вектор из чиселок - ответов для каждой картинки из X; например - Y_train\n",
    "#batch_size - одно число - желаемый размер группы\n",
    "\n",
    "#что нужно сделать\n",
    "# 1) перемешать данные\n",
    "# - важно перемешать X и y одним и тем же образом, чтобы сохранить соответствие картинки ответу на неё\n",
    "# 3) побить данные на подгруппы так, чтобы в каждой подгруппе было batch_size картинок и ответов\n",
    "# - если число картинок не делится на batch_size, одну подгруппу можно вернуть другого размера\n",
    "# 4) вернуть список (или итератор) пар:\n",
    "# - (подгруппа картинок, ответы из y на эту подгруппу)\n",
    "def iterate_minibatches(inputs, targets, batchsize, shuffle=True):\n",
    "    assert len(inputs) == len(targets)\n",
    "    if shuffle:\n",
    "        indices = np.arange(len(inputs))\n",
    "        np.random.shuffle(indices)\n",
    "    for start_idx in range(0, len(inputs) - batchsize + 1, batchsize):\n",
    "        if shuffle:\n",
    "            excerpt = indices[start_idx:start_idx + batchsize]\n",
    "        else:\n",
    "            excerpt = slice(start_idx, start_idx + batchsize)\n",
    "        yield inputs[excerpt], targets[excerpt]"
   ]
  },
  {
   "cell_type": "markdown",
   "metadata": {},
   "source": [
    "# Процесс обучения"
   ]
  },
  {
   "cell_type": "code",
   "execution_count": 44,
   "metadata": {
    "collapsed": false,
    "scrolled": true
   },
   "outputs": [
    {
     "name": "stdout",
     "output_type": "stream",
     "text": [
      "Epoch 1 of 100 took 0.861s\n",
      "  training loss (in-iteration):\t\t0.288530\n",
      "  train accuracy:\t\t91.58 %\n",
      "  validation accuracy:\t\t95.73 %\n",
      "Epoch 2 of 100 took 0.807s\n",
      "  training loss (in-iteration):\t\t0.143800\n",
      "  train accuracy:\t\t95.65 %\n",
      "  validation accuracy:\t\t95.89 %\n",
      "Epoch 3 of 100 took 0.822s\n",
      "  training loss (in-iteration):\t\t0.112296\n",
      "  train accuracy:\t\t96.60 %\n",
      "  validation accuracy:\t\t96.46 %\n",
      "Epoch 4 of 100 took 1.091s\n",
      "  training loss (in-iteration):\t\t0.095066\n",
      "  train accuracy:\t\t97.09 %\n",
      "  validation accuracy:\t\t96.44 %\n",
      "Epoch 5 of 100 took 0.803s\n",
      "  training loss (in-iteration):\t\t0.082004\n",
      "  train accuracy:\t\t97.45 %\n",
      "  validation accuracy:\t\t96.53 %\n",
      "Epoch 6 of 100 took 1.011s\n",
      "  training loss (in-iteration):\t\t0.071790\n",
      "  train accuracy:\t\t97.77 %\n",
      "  validation accuracy:\t\t96.45 %\n",
      "Epoch 7 of 100 took 0.802s\n",
      "  training loss (in-iteration):\t\t0.063565\n",
      "  train accuracy:\t\t98.01 %\n",
      "  validation accuracy:\t\t96.40 %\n",
      "Epoch 8 of 100 took 1.022s\n",
      "  training loss (in-iteration):\t\t0.057168\n",
      "  train accuracy:\t\t98.27 %\n",
      "  validation accuracy:\t\t96.88 %\n",
      "Epoch 9 of 100 took 0.784s\n",
      "  training loss (in-iteration):\t\t0.051551\n",
      "  train accuracy:\t\t98.36 %\n",
      "  validation accuracy:\t\t96.71 %\n",
      "Epoch 10 of 100 took 0.808s\n",
      "  training loss (in-iteration):\t\t0.044968\n",
      "  train accuracy:\t\t98.61 %\n",
      "  validation accuracy:\t\t96.63 %\n",
      "Epoch 11 of 100 took 0.784s\n",
      "  training loss (in-iteration):\t\t0.040917\n",
      "  train accuracy:\t\t98.71 %\n",
      "  validation accuracy:\t\t96.88 %\n",
      "Epoch 12 of 100 took 0.792s\n",
      "  training loss (in-iteration):\t\t0.039359\n",
      "  train accuracy:\t\t98.75 %\n",
      "  validation accuracy:\t\t96.60 %\n",
      "Epoch 13 of 100 took 0.784s\n",
      "  training loss (in-iteration):\t\t0.034953\n",
      "  train accuracy:\t\t98.90 %\n",
      "  validation accuracy:\t\t96.79 %\n",
      "Epoch 14 of 100 took 0.785s\n",
      "  training loss (in-iteration):\t\t0.030677\n",
      "  train accuracy:\t\t98.98 %\n",
      "  validation accuracy:\t\t96.63 %\n",
      "Epoch 15 of 100 took 0.786s\n",
      "  training loss (in-iteration):\t\t0.028629\n",
      "  train accuracy:\t\t99.07 %\n",
      "  validation accuracy:\t\t96.69 %\n",
      "Epoch 16 of 100 took 0.784s\n",
      "  training loss (in-iteration):\t\t0.026413\n",
      "  train accuracy:\t\t99.11 %\n",
      "  validation accuracy:\t\t96.71 %\n",
      "Epoch 17 of 100 took 0.786s\n",
      "  training loss (in-iteration):\t\t0.024061\n",
      "  train accuracy:\t\t99.25 %\n",
      "  validation accuracy:\t\t96.69 %\n",
      "Epoch 18 of 100 took 0.787s\n",
      "  training loss (in-iteration):\t\t0.021060\n",
      "  train accuracy:\t\t99.29 %\n",
      "  validation accuracy:\t\t96.72 %\n",
      "Epoch 19 of 100 took 0.789s\n",
      "  training loss (in-iteration):\t\t0.018127\n",
      "  train accuracy:\t\t99.43 %\n",
      "  validation accuracy:\t\t96.71 %\n",
      "Epoch 20 of 100 took 0.791s\n",
      "  training loss (in-iteration):\t\t0.016581\n",
      "  train accuracy:\t\t99.47 %\n",
      "  validation accuracy:\t\t96.76 %\n",
      "Epoch 21 of 100 took 0.785s\n",
      "  training loss (in-iteration):\t\t0.014686\n",
      "  train accuracy:\t\t99.55 %\n",
      "  validation accuracy:\t\t96.61 %\n",
      "Epoch 22 of 100 took 0.785s\n",
      "  training loss (in-iteration):\t\t0.013220\n",
      "  train accuracy:\t\t99.60 %\n",
      "  validation accuracy:\t\t96.91 %\n",
      "Epoch 23 of 100 took 0.785s\n",
      "  training loss (in-iteration):\t\t0.012760\n",
      "  train accuracy:\t\t99.60 %\n",
      "  validation accuracy:\t\t96.87 %\n",
      "Epoch 24 of 100 took 0.786s\n",
      "  training loss (in-iteration):\t\t0.009759\n",
      "  train accuracy:\t\t99.71 %\n",
      "  validation accuracy:\t\t96.89 %\n",
      "Epoch 25 of 100 took 0.786s\n",
      "  training loss (in-iteration):\t\t0.008736\n",
      "  train accuracy:\t\t99.75 %\n",
      "  validation accuracy:\t\t96.85 %\n",
      "Epoch 26 of 100 took 0.783s\n",
      "  training loss (in-iteration):\t\t0.007963\n",
      "  train accuracy:\t\t99.77 %\n",
      "  validation accuracy:\t\t96.94 %\n",
      "Epoch 27 of 100 took 0.791s\n",
      "  training loss (in-iteration):\t\t0.006223\n",
      "  train accuracy:\t\t99.83 %\n",
      "  validation accuracy:\t\t96.90 %\n",
      "Epoch 28 of 100 took 0.783s\n",
      "  training loss (in-iteration):\t\t0.006037\n",
      "  train accuracy:\t\t99.83 %\n",
      "  validation accuracy:\t\t97.01 %\n",
      "Epoch 29 of 100 took 0.784s\n",
      "  training loss (in-iteration):\t\t0.004734\n",
      "  train accuracy:\t\t99.90 %\n",
      "  validation accuracy:\t\t96.87 %\n",
      "Epoch 30 of 100 took 0.785s\n",
      "  training loss (in-iteration):\t\t0.003207\n",
      "  train accuracy:\t\t99.95 %\n",
      "  validation accuracy:\t\t96.85 %\n",
      "Epoch 31 of 100 took 0.785s\n",
      "  training loss (in-iteration):\t\t0.002459\n",
      "  train accuracy:\t\t99.97 %\n",
      "  validation accuracy:\t\t97.06 %\n",
      "Epoch 32 of 100 took 0.784s\n",
      "  training loss (in-iteration):\t\t0.001408\n",
      "  train accuracy:\t\t99.99 %\n",
      "  validation accuracy:\t\t96.88 %\n",
      "Epoch 33 of 100 took 0.788s\n",
      "  training loss (in-iteration):\t\t0.001321\n",
      "  train accuracy:\t\t99.99 %\n",
      "  validation accuracy:\t\t97.00 %\n",
      "Epoch 34 of 100 took 0.787s\n",
      "  training loss (in-iteration):\t\t0.000935\n",
      "  train accuracy:\t\t100.00 %\n",
      "  validation accuracy:\t\t97.06 %\n",
      "Epoch 35 of 100 took 0.792s\n",
      "  training loss (in-iteration):\t\t0.000748\n",
      "  train accuracy:\t\t100.00 %\n",
      "  validation accuracy:\t\t97.01 %\n",
      "Epoch 36 of 100 took 0.784s\n",
      "  training loss (in-iteration):\t\t0.000685\n",
      "  train accuracy:\t\t99.99 %\n",
      "  validation accuracy:\t\t97.00 %\n",
      "Epoch 37 of 100 took 0.785s\n",
      "  training loss (in-iteration):\t\t0.000651\n",
      "  train accuracy:\t\t100.00 %\n",
      "  validation accuracy:\t\t97.06 %\n",
      "Epoch 38 of 100 took 0.789s\n",
      "  training loss (in-iteration):\t\t0.000585\n",
      "  train accuracy:\t\t100.00 %\n",
      "  validation accuracy:\t\t97.03 %\n",
      "Epoch 39 of 100 took 0.785s\n",
      "  training loss (in-iteration):\t\t0.000568\n",
      "  train accuracy:\t\t100.00 %\n",
      "  validation accuracy:\t\t97.00 %\n",
      "Epoch 40 of 100 took 0.786s\n",
      "  training loss (in-iteration):\t\t0.000515\n",
      "  train accuracy:\t\t100.00 %\n",
      "  validation accuracy:\t\t96.99 %\n",
      "Epoch 41 of 100 took 0.788s\n",
      "  training loss (in-iteration):\t\t0.000508\n",
      "  train accuracy:\t\t100.00 %\n",
      "  validation accuracy:\t\t97.03 %\n",
      "Epoch 42 of 100 took 0.851s\n",
      "  training loss (in-iteration):\t\t0.000485\n",
      "  train accuracy:\t\t100.00 %\n",
      "  validation accuracy:\t\t97.06 %\n",
      "Epoch 43 of 100 took 0.898s\n",
      "  training loss (in-iteration):\t\t0.000477\n",
      "  train accuracy:\t\t100.00 %\n",
      "  validation accuracy:\t\t97.04 %\n",
      "Epoch 44 of 100 took 0.788s\n",
      "  training loss (in-iteration):\t\t0.000420\n",
      "  train accuracy:\t\t100.00 %\n",
      "  validation accuracy:\t\t97.04 %\n",
      "Epoch 45 of 100 took 0.792s\n",
      "  training loss (in-iteration):\t\t0.000349\n",
      "  train accuracy:\t\t100.00 %\n",
      "  validation accuracy:\t\t96.99 %\n",
      "Epoch 46 of 100 took 0.951s\n",
      "  training loss (in-iteration):\t\t0.000326\n",
      "  train accuracy:\t\t100.00 %\n",
      "  validation accuracy:\t\t97.07 %\n",
      "Epoch 47 of 100 took 0.840s\n",
      "  training loss (in-iteration):\t\t0.000308\n",
      "  train accuracy:\t\t100.00 %\n",
      "  validation accuracy:\t\t97.00 %\n",
      "Epoch 48 of 100 took 0.852s\n",
      "  training loss (in-iteration):\t\t0.000293\n",
      "  train accuracy:\t\t100.00 %\n",
      "  validation accuracy:\t\t97.03 %\n",
      "Epoch 49 of 100 took 0.820s\n",
      "  training loss (in-iteration):\t\t0.000281\n",
      "  train accuracy:\t\t100.00 %\n",
      "  validation accuracy:\t\t96.99 %\n",
      "Epoch 50 of 100 took 0.787s\n",
      "  training loss (in-iteration):\t\t0.000271\n",
      "  train accuracy:\t\t100.00 %\n",
      "  validation accuracy:\t\t97.00 %\n",
      "Epoch 51 of 100 took 0.786s\n",
      "  training loss (in-iteration):\t\t0.000258\n",
      "  train accuracy:\t\t100.00 %\n",
      "  validation accuracy:\t\t96.96 %\n",
      "Epoch 52 of 100 took 0.787s\n",
      "  training loss (in-iteration):\t\t0.000231\n",
      "  train accuracy:\t\t100.00 %\n",
      "  validation accuracy:\t\t97.01 %\n",
      "Epoch 53 of 100 took 0.786s\n",
      "  training loss (in-iteration):\t\t0.000221\n",
      "  train accuracy:\t\t100.00 %\n",
      "  validation accuracy:\t\t97.01 %\n",
      "Epoch 54 of 100 took 0.787s\n",
      "  training loss (in-iteration):\t\t0.000217\n",
      "  train accuracy:\t\t100.00 %\n",
      "  validation accuracy:\t\t96.91 %\n",
      "Epoch 55 of 100 took 0.788s\n",
      "  training loss (in-iteration):\t\t0.000205\n",
      "  train accuracy:\t\t100.00 %\n",
      "  validation accuracy:\t\t96.99 %\n",
      "Epoch 56 of 100 took 0.789s\n",
      "  training loss (in-iteration):\t\t0.000202\n",
      "  train accuracy:\t\t100.00 %\n",
      "  validation accuracy:\t\t96.96 %\n",
      "Epoch 57 of 100 took 0.796s\n",
      "  training loss (in-iteration):\t\t0.000192\n",
      "  train accuracy:\t\t100.00 %\n",
      "  validation accuracy:\t\t96.97 %\n",
      "Epoch 58 of 100 took 0.789s\n",
      "  training loss (in-iteration):\t\t0.000187\n",
      "  train accuracy:\t\t100.00 %\n",
      "  validation accuracy:\t\t96.93 %\n",
      "Epoch 59 of 100 took 0.786s\n",
      "  training loss (in-iteration):\t\t0.000182\n",
      "  train accuracy:\t\t100.00 %\n",
      "  validation accuracy:\t\t96.99 %\n",
      "Epoch 60 of 100 took 0.788s\n",
      "  training loss (in-iteration):\t\t0.000173\n",
      "  train accuracy:\t\t100.00 %\n",
      "  validation accuracy:\t\t97.00 %\n",
      "Epoch 61 of 100 took 0.793s\n",
      "  training loss (in-iteration):\t\t0.000167\n",
      "  train accuracy:\t\t100.00 %\n",
      "  validation accuracy:\t\t96.98 %\n",
      "Epoch 62 of 100 took 0.855s\n",
      "  training loss (in-iteration):\t\t0.000164\n",
      "  train accuracy:\t\t100.00 %\n",
      "  validation accuracy:\t\t96.95 %\n",
      "Epoch 63 of 100 took 0.828s\n",
      "  training loss (in-iteration):\t\t0.000159\n",
      "  train accuracy:\t\t100.00 %\n",
      "  validation accuracy:\t\t96.97 %\n",
      "Epoch 64 of 100 took 0.822s\n",
      "  training loss (in-iteration):\t\t0.000154\n",
      "  train accuracy:\t\t100.00 %\n",
      "  validation accuracy:\t\t96.99 %\n",
      "Epoch 65 of 100 took 0.831s\n",
      "  training loss (in-iteration):\t\t0.000151\n",
      "  train accuracy:\t\t100.00 %\n",
      "  validation accuracy:\t\t96.99 %\n",
      "Epoch 66 of 100 took 0.816s\n",
      "  training loss (in-iteration):\t\t0.000147\n",
      "  train accuracy:\t\t100.00 %\n",
      "  validation accuracy:\t\t96.97 %\n",
      "Epoch 67 of 100 took 0.820s\n",
      "  training loss (in-iteration):\t\t0.000143\n",
      "  train accuracy:\t\t100.00 %\n",
      "  validation accuracy:\t\t97.00 %\n",
      "Epoch 68 of 100 took 0.961s\n",
      "  training loss (in-iteration):\t\t0.000140\n",
      "  train accuracy:\t\t100.00 %\n",
      "  validation accuracy:\t\t96.97 %\n",
      "Epoch 69 of 100 took 0.974s\n",
      "  training loss (in-iteration):\t\t0.000138\n",
      "  train accuracy:\t\t100.00 %\n",
      "  validation accuracy:\t\t96.98 %\n",
      "Epoch 70 of 100 took 0.829s\n",
      "  training loss (in-iteration):\t\t0.000134\n",
      "  train accuracy:\t\t100.00 %\n",
      "  validation accuracy:\t\t96.97 %\n",
      "Epoch 71 of 100 took 0.808s\n",
      "  training loss (in-iteration):\t\t0.000131\n",
      "  train accuracy:\t\t100.00 %\n",
      "  validation accuracy:\t\t96.97 %\n",
      "Epoch 72 of 100 took 0.909s\n",
      "  training loss (in-iteration):\t\t0.000128\n",
      "  train accuracy:\t\t100.00 %\n",
      "  validation accuracy:\t\t96.99 %\n",
      "Epoch 73 of 100 took 0.810s\n",
      "  training loss (in-iteration):\t\t0.000126\n",
      "  train accuracy:\t\t100.00 %\n",
      "  validation accuracy:\t\t97.02 %\n",
      "Epoch 74 of 100 took 0.821s\n",
      "  training loss (in-iteration):\t\t0.000123\n",
      "  train accuracy:\t\t100.00 %\n",
      "  validation accuracy:\t\t97.00 %\n",
      "Epoch 75 of 100 took 0.844s\n",
      "  training loss (in-iteration):\t\t0.000121\n",
      "  train accuracy:\t\t100.00 %\n",
      "  validation accuracy:\t\t97.03 %\n",
      "Epoch 76 of 100 took 0.814s\n",
      "  training loss (in-iteration):\t\t0.000119\n",
      "  train accuracy:\t\t100.00 %\n",
      "  validation accuracy:\t\t97.01 %\n",
      "Epoch 77 of 100 took 0.818s\n",
      "  training loss (in-iteration):\t\t0.000117\n",
      "  train accuracy:\t\t100.00 %\n",
      "  validation accuracy:\t\t97.01 %\n",
      "Epoch 78 of 100 took 0.844s\n",
      "  training loss (in-iteration):\t\t0.000115\n",
      "  train accuracy:\t\t100.00 %\n",
      "  validation accuracy:\t\t97.01 %\n",
      "Epoch 79 of 100 took 0.812s\n",
      "  training loss (in-iteration):\t\t0.000113\n",
      "  train accuracy:\t\t100.00 %\n",
      "  validation accuracy:\t\t96.98 %\n",
      "Epoch 80 of 100 took 0.801s\n",
      "  training loss (in-iteration):\t\t0.000111\n",
      "  train accuracy:\t\t100.00 %\n",
      "  validation accuracy:\t\t96.97 %\n",
      "Epoch 81 of 100 took 0.804s\n",
      "  training loss (in-iteration):\t\t0.000109\n",
      "  train accuracy:\t\t100.00 %\n",
      "  validation accuracy:\t\t96.99 %\n",
      "Epoch 82 of 100 took 0.903s\n",
      "  training loss (in-iteration):\t\t0.000108\n",
      "  train accuracy:\t\t100.00 %\n",
      "  validation accuracy:\t\t96.96 %\n",
      "Epoch 83 of 100 took 0.809s\n",
      "  training loss (in-iteration):\t\t0.000106\n",
      "  train accuracy:\t\t100.00 %\n",
      "  validation accuracy:\t\t96.99 %\n",
      "Epoch 84 of 100 took 0.855s\n",
      "  training loss (in-iteration):\t\t0.000104\n",
      "  train accuracy:\t\t100.00 %\n",
      "  validation accuracy:\t\t97.00 %\n",
      "Epoch 85 of 100 took 0.836s\n",
      "  training loss (in-iteration):\t\t0.000102\n",
      "  train accuracy:\t\t100.00 %\n",
      "  validation accuracy:\t\t96.98 %\n",
      "Epoch 86 of 100 took 0.804s\n",
      "  training loss (in-iteration):\t\t0.000101\n",
      "  train accuracy:\t\t100.00 %\n",
      "  validation accuracy:\t\t96.99 %\n",
      "Epoch 87 of 100 took 0.830s\n",
      "  training loss (in-iteration):\t\t0.000100\n",
      "  train accuracy:\t\t100.00 %\n",
      "  validation accuracy:\t\t96.99 %\n",
      "Epoch 88 of 100 took 0.812s\n",
      "  training loss (in-iteration):\t\t0.000098\n",
      "  train accuracy:\t\t100.00 %\n",
      "  validation accuracy:\t\t96.99 %\n",
      "Epoch 89 of 100 took 0.803s\n",
      "  training loss (in-iteration):\t\t0.000097\n",
      "  train accuracy:\t\t100.00 %\n",
      "  validation accuracy:\t\t96.98 %\n",
      "Epoch 90 of 100 took 0.808s\n",
      "  training loss (in-iteration):\t\t0.000095\n",
      "  train accuracy:\t\t100.00 %\n",
      "  validation accuracy:\t\t96.99 %\n",
      "Epoch 91 of 100 took 0.793s\n",
      "  training loss (in-iteration):\t\t0.000094\n",
      "  train accuracy:\t\t100.00 %\n",
      "  validation accuracy:\t\t96.98 %\n",
      "Epoch 92 of 100 took 0.803s\n",
      "  training loss (in-iteration):\t\t0.000092\n",
      "  train accuracy:\t\t100.00 %\n",
      "  validation accuracy:\t\t96.94 %\n",
      "Epoch 93 of 100 took 0.818s\n",
      "  training loss (in-iteration):\t\t0.000091\n",
      "  train accuracy:\t\t100.00 %\n",
      "  validation accuracy:\t\t96.97 %\n",
      "Epoch 94 of 100 took 0.828s\n",
      "  training loss (in-iteration):\t\t0.000090\n",
      "  train accuracy:\t\t100.00 %\n",
      "  validation accuracy:\t\t96.96 %\n",
      "Epoch 95 of 100 took 0.804s\n",
      "  training loss (in-iteration):\t\t0.000089\n",
      "  train accuracy:\t\t100.00 %\n",
      "  validation accuracy:\t\t96.99 %\n",
      "Epoch 96 of 100 took 0.802s\n",
      "  training loss (in-iteration):\t\t0.000088\n",
      "  train accuracy:\t\t100.00 %\n",
      "  validation accuracy:\t\t96.95 %\n",
      "Epoch 97 of 100 took 0.833s\n",
      "  training loss (in-iteration):\t\t0.000087\n",
      "  train accuracy:\t\t100.00 %\n",
      "  validation accuracy:\t\t96.99 %\n",
      "Epoch 98 of 100 took 0.792s\n",
      "  training loss (in-iteration):\t\t0.000085\n",
      "  train accuracy:\t\t100.00 %\n",
      "  validation accuracy:\t\t96.97 %\n",
      "Epoch 99 of 100 took 0.801s\n",
      "  training loss (in-iteration):\t\t0.000084\n",
      "  train accuracy:\t\t100.00 %\n",
      "  validation accuracy:\t\t96.98 %\n",
      "Epoch 100 of 100 took 0.819s\n",
      "  training loss (in-iteration):\t\t0.000083\n",
      "  train accuracy:\t\t100.00 %\n",
      "  validation accuracy:\t\t96.98 %\n"
     ]
    }
   ],
   "source": [
    "import time\n",
    "\n",
    "num_epochs = 100 #количество проходов по данным\n",
    "\n",
    "batch_size = 50 #размер мини-батча\n",
    "\n",
    "for epoch in range(num_epochs):\n",
    "    # In each epoch, we do a full pass over the training data:\n",
    "    train_err = 0\n",
    "    train_acc = 0\n",
    "    train_batches = 0\n",
    "    start_time = time.time()\n",
    "    for batch in iterate_minibatches(X_train, y_train,batch_size):\n",
    "        inputs, targets = batch\n",
    "        train_err_batch, train_acc_batch= train_fun(inputs, targets)\n",
    "        train_err += train_err_batch\n",
    "        train_acc += train_acc_batch\n",
    "        train_batches += 1\n",
    "\n",
    "    # And a full pass over the validation data:\n",
    "    val_acc = 0\n",
    "    val_batches = 0\n",
    "    for batch in iterate_minibatches(X_val, y_val, batch_size):\n",
    "        inputs, targets = batch\n",
    "        val_acc += accuracy_fun(inputs, targets)\n",
    "        val_batches += 1\n",
    "\n",
    "    \n",
    "    # Then we print the results for this epoch:\n",
    "    print(\"Epoch {} of {} took {:.3f}s\".format(\n",
    "        epoch + 1, num_epochs, time.time() - start_time))\n",
    "\n",
    "    print(\"  training loss (in-iteration):\\t\\t{:.6f}\".format(train_err / train_batches))\n",
    "    print(\"  train accuracy:\\t\\t{:.2f} %\".format(\n",
    "        train_acc / train_batches * 100))\n",
    "    print(\"  validation accuracy:\\t\\t{:.2f} %\".format(\n",
    "        val_acc / val_batches * 100))"
   ]
  },
  {
   "cell_type": "code",
   "execution_count": 45,
   "metadata": {
    "collapsed": false
   },
   "outputs": [
    {
     "name": "stdout",
     "output_type": "stream",
     "text": [
      "Final results:\n",
      "  test accuracy:\t\t96.80 %\n",
      "Нужно больше магии!\n"
     ]
    }
   ],
   "source": [
    "test_acc = 0\n",
    "test_batches = 0\n",
    "for batch in iterate_minibatches(X_test, y_test, 500):\n",
    "    inputs, targets = batch\n",
    "    acc = accuracy_fun(inputs, targets)\n",
    "    test_acc += acc\n",
    "    test_batches += 1\n",
    "print(\"Final results:\")\n",
    "print(\"  test accuracy:\\t\\t{:.2f} %\".format(\n",
    "    test_acc / test_batches * 100))\n",
    "\n",
    "if test_acc / test_batches * 100 > 99:\n",
    "    print (\"Achievement unlocked: колдун 80 уровня\")\n",
    "else:\n",
    "    print (\"Нужно больше магии!\")"
   ]
  },
  {
   "cell_type": "markdown",
   "metadata": {},
   "source": [
    "# Нейронка твоей мечты\n",
    "\n",
    "\n",
    "* Задача - сделать нейронку, которая получит точность 99% на валидации (validation accuracy)\n",
    " * __+1 балл__ за каждые 0.2% сверх 99%\n",
    " * Вариант \"is fine too\" - 97.5%. \n",
    " * Чем выше, тем лучше.\n",
    " \n",
    "__ В конце есть мини-отчётик, который имеет смысл прочитать вначале и заполнять по ходу работы. __\n",
    " \n",
    "\n",
    "## Что можно улучшить:\n",
    "\n",
    "\n",
    "\n",
    " * размер сети\n",
    "   * бОльше нейронов, \n",
    "   * бОльше слоёв, \n",
    "   * почти наверняка нужны свёртки\n",
    "   * Пх'нглуи мглв'нафх Ктулху Р'льех вгах'нагл фхтагн! \n",
    "   \n",
    "   \n",
    "   \n",
    " * регуляризация - чтобы не переобучалось\n",
    "   * приплюсовать к функции ошибки какую-нибудь сумму квадратов весов\n",
    "   * можно сделать вручную, а можно - http://lasagne.readthedocs.org/en/latest/modules/regularization.html\n",
    "   \n",
    "   \n",
    "   \n",
    " * Метод оптимизации - rmsprop, nesterov_momentum, adadelta, adagrad и т.п.\n",
    "   * сходятся быстрее и иногда - к лучшему оптимуму\n",
    "   * имеет смысл поиграть с размером батча, количеством эпох и скоростью обучения\n",
    "   \n",
    "   \n",
    "   \n",
    " * Dropout - для борьбы с переобучением\n",
    "   * `lasagne.layers.DropoutLayer(предыдущий_слой, p=вероятность_занулить)`\n",
    "   \n",
    "   \n",
    "   \n",
    " * Свёрточные слои \n",
    "   * `network = lasagne.layers.Conv2DLayer(предыдущий_слой,`\n",
    "    `                       num_filters = число нейронов,`\n",
    "    `                        filter_size = (ширина_квадрата, высота_квадрата),`\n",
    "    `                        nonlinearity = нелинейная_функция)`\n",
    "   * ВАРНУНГ! могут учиться долго на CPU\n",
    "     * Однако мы всё равно рекоммендуем обучить хотя бы маленькую свёртку\n",
    " \n",
    " * Любые другие слои и архитектуры\n",
    "   * http://lasagne.readthedocs.org/en/latest/modules/layers.html\n",
    "   * Pooling, Batch Normalization, etc\n",
    "   \n",
    "   \n",
    " * Наконец, можно поиграть с нелинейностями в скрытых слоях\n",
    "   * tanh, relu, leaky relu, etc\n",
    " \n",
    " \n",
    "   \n",
    "Для удобства, ниже есть заготовка решения, которое можно заполнять, а можно выкинуть и написать своё"
   ]
  },
  {
   "cell_type": "code",
   "execution_count": 140,
   "metadata": {
    "collapsed": false
   },
   "outputs": [
    {
     "name": "stdout",
     "output_type": "stream",
     "text": [
      "(50000, 1, 28, 28) (50000,)\n"
     ]
    }
   ],
   "source": [
    "from mnist import load_dataset\n",
    "X_train, y_train, X_val, y_val, X_test, y_test = load_dataset()\n",
    "\n",
    "print(X_train.shape, y_train.shape)"
   ]
  },
  {
   "cell_type": "code",
   "execution_count": 141,
   "metadata": {
    "collapsed": true
   },
   "outputs": [],
   "source": [
    "import lasagne\n",
    "\n",
    "input_X = T.tensor4(\"X\")\n",
    "\n",
    "#размерность входа (None означает \"может изменяться\")\n",
    "input_shape = [None, 1, 28, 28]\n",
    "\n",
    "target_y = T.vector(\"target Y integer\",dtype='int32')"
   ]
  },
  {
   "cell_type": "code",
   "execution_count": 142,
   "metadata": {
    "collapsed": false
   },
   "outputs": [],
   "source": [
    "#входной слой (вспомогательный)\n",
    "input_layer = lasagne.layers.InputLayer(shape = input_shape, input_var=input_X)\n",
    "\n",
    "nn = lasagne.layers.Conv2DLayer(input_layer, num_filters=20, filter_size=(5, 5), \n",
    "                                nonlinearity=lasagne.nonlinearities.rectify, pad='same')\n",
    "\n",
    "nn = lasagne.layers.MaxPool2DLayer(nn, pool_size=(2, 2), stride=(2, 2))\n",
    "\n",
    "nn = lasagne.layers.Conv2DLayer(nn, num_filters=50, filter_size=(5, 5), \n",
    "                                nonlinearity=lasagne.nonlinearities.rectify, pad='same')\n",
    "\n",
    "nn = lasagne.layers.MaxPool2DLayer(nn, pool_size=(2, 2), stride=(2, 2))\n",
    "\n",
    "nn = lasagne.layers.FlattenLayer(nn)\n",
    "\n",
    "nn = lasagne.layers.DenseLayer(nn, num_units=256, nonlinearity=lasagne.nonlinearities.tanh)\n",
    "\n",
    "nn = lasagne.layers.DenseLayer(nn, num_units=64, nonlinearity=lasagne.nonlinearities.tanh)\n",
    "\n",
    "#ВЫХОДНОЙ полносвязный слой, который принимает на вход dense_1 и имеет 10 нейронов -по нейрону на цифру\n",
    "#нелинейность - softmax - чтобы вероятности всех цифр давали в сумме 1\n",
    "dense_output = lasagne.layers.DenseLayer(nn, num_units = 10,\n",
    "                                        nonlinearity=lasagne.nonlinearities.softmax,\n",
    "                                        name='output')\n"
   ]
  },
  {
   "cell_type": "code",
   "execution_count": 143,
   "metadata": {
    "collapsed": false
   },
   "outputs": [],
   "source": [
    "#предсказание нейронки (theano-преобразование)\n",
    "y_predicted = lasagne.layers.get_output(dense_output)"
   ]
  },
  {
   "cell_type": "code",
   "execution_count": 144,
   "metadata": {
    "collapsed": false
   },
   "outputs": [
    {
     "name": "stdout",
     "output_type": "stream",
     "text": [
      "[W, b, W, b, W, b, W, b, output.W, output.b]\n"
     ]
    }
   ],
   "source": [
    "#все веса нейронки (shared-переменные)\n",
    "all_weights = lasagne.layers.get_all_params(dense_output)\n",
    "print(all_weights)"
   ]
  },
  {
   "cell_type": "code",
   "execution_count": 145,
   "metadata": {
    "collapsed": true
   },
   "outputs": [],
   "source": [
    "#функция ошибки - средняя кроссэнтропия\n",
    "loss = lasagne.objectives.categorical_crossentropy(y_predicted,target_y).mean()\n",
    "\n",
    "#<возможно добавить регуляризатор>\n",
    "\n",
    "accuracy = lasagne.objectives.categorical_accuracy(y_predicted,target_y).mean()\n",
    "\n",
    "#сразу посчитать словарь обновлённых значений с шагом по градиенту, как раньше\n",
    "updates_sgd = lasagne.updates.adam(loss, all_weights)"
   ]
  },
  {
   "cell_type": "code",
   "execution_count": 146,
   "metadata": {
    "collapsed": true
   },
   "outputs": [],
   "source": [
    "#функция, которая обучает сеть на 1 шаг и возвращащет значение функции потерь и точности\n",
    "train_fun = theano.function([input_X,target_y],[loss,accuracy],updates= updates_sgd)\n",
    "\n",
    "#функция, которая считает точность\n",
    "accuracy_fun = theano.function([input_X,target_y],accuracy)"
   ]
  },
  {
   "cell_type": "code",
   "execution_count": 147,
   "metadata": {
    "collapsed": false
   },
   "outputs": [
    {
     "name": "stderr",
     "output_type": "stream",
     "text": [
      "  2%|▏         | 1/50 [00:35<28:50, 35.31s/it]"
     ]
    },
    {
     "name": "stdout",
     "output_type": "stream",
     "text": [
      "Epoch 1 of 50 took 35.309s\n",
      "  training loss (in-iteration):\t\t0.577836\n",
      "  train accuracy:\t\t83.37 %\n",
      "  validation accuracy:\t\t95.49 %\n"
     ]
    },
    {
     "name": "stderr",
     "output_type": "stream",
     "text": [
      "\r",
      "  4%|▍         | 2/50 [01:10<28:12, 35.26s/it]"
     ]
    },
    {
     "name": "stdout",
     "output_type": "stream",
     "text": [
      "Epoch 2 of 50 took 35.158s\n",
      "  training loss (in-iteration):\t\t0.138169\n",
      "  train accuracy:\t\t96.02 %\n",
      "  validation accuracy:\t\t97.45 %\n"
     ]
    },
    {
     "name": "stderr",
     "output_type": "stream",
     "text": [
      "\r",
      "  6%|▌         | 3/50 [01:45<27:35, 35.23s/it]"
     ]
    },
    {
     "name": "stdout",
     "output_type": "stream",
     "text": [
      "Epoch 3 of 50 took 35.145s\n",
      "  training loss (in-iteration):\t\t0.084029\n",
      "  train accuracy:\t\t97.57 %\n",
      "  validation accuracy:\t\t98.06 %\n"
     ]
    },
    {
     "name": "stderr",
     "output_type": "stream",
     "text": [
      "\r",
      "  8%|▊         | 4/50 [02:20<26:57, 35.17s/it]"
     ]
    },
    {
     "name": "stdout",
     "output_type": "stream",
     "text": [
      "Epoch 4 of 50 took 35.041s\n",
      "  training loss (in-iteration):\t\t0.063105\n",
      "  train accuracy:\t\t98.15 %\n",
      "  validation accuracy:\t\t98.29 %\n"
     ]
    },
    {
     "name": "stderr",
     "output_type": "stream",
     "text": [
      "\r",
      " 10%|█         | 5/50 [02:55<26:20, 35.13s/it]"
     ]
    },
    {
     "name": "stdout",
     "output_type": "stream",
     "text": [
      "Epoch 5 of 50 took 35.016s\n",
      "  training loss (in-iteration):\t\t0.047532\n",
      "  train accuracy:\t\t98.66 %\n",
      "  validation accuracy:\t\t98.54 %\n"
     ]
    },
    {
     "name": "stderr",
     "output_type": "stream",
     "text": [
      "\r",
      " 12%|█▏        | 6/50 [03:31<25:48, 35.20s/it]"
     ]
    },
    {
     "name": "stdout",
     "output_type": "stream",
     "text": [
      "Epoch 6 of 50 took 35.379s\n",
      "  training loss (in-iteration):\t\t0.041279\n",
      "  train accuracy:\t\t98.81 %\n",
      "  validation accuracy:\t\t98.69 %\n"
     ]
    },
    {
     "name": "stderr",
     "output_type": "stream",
     "text": [
      "\r",
      " 14%|█▍        | 7/50 [04:06<25:13, 35.19s/it]"
     ]
    },
    {
     "name": "stdout",
     "output_type": "stream",
     "text": [
      "Epoch 7 of 50 took 35.165s\n",
      "  training loss (in-iteration):\t\t0.033090\n",
      "  train accuracy:\t\t99.05 %\n",
      "  validation accuracy:\t\t98.90 %\n"
     ]
    },
    {
     "name": "stderr",
     "output_type": "stream",
     "text": [
      "\r",
      " 16%|█▌        | 8/50 [04:41<24:34, 35.11s/it]"
     ]
    },
    {
     "name": "stdout",
     "output_type": "stream",
     "text": [
      "Epoch 8 of 50 took 34.917s\n",
      "  training loss (in-iteration):\t\t0.025918\n",
      "  train accuracy:\t\t99.26 %\n",
      "  validation accuracy:\t\t98.74 %\n"
     ]
    },
    {
     "name": "stderr",
     "output_type": "stream",
     "text": [
      "\r",
      " 18%|█▊        | 9/50 [05:16<23:57, 35.06s/it]"
     ]
    },
    {
     "name": "stdout",
     "output_type": "stream",
     "text": [
      "Epoch 9 of 50 took 34.960s\n",
      "  training loss (in-iteration):\t\t0.021879\n",
      "  train accuracy:\t\t99.42 %\n",
      "  validation accuracy:\t\t98.73 %\n"
     ]
    },
    {
     "name": "stderr",
     "output_type": "stream",
     "text": [
      "\r",
      " 20%|██        | 10/50 [05:50<23:20, 35.01s/it]"
     ]
    },
    {
     "name": "stdout",
     "output_type": "stream",
     "text": [
      "Epoch 10 of 50 took 34.887s\n",
      "  training loss (in-iteration):\t\t0.018979\n",
      "  train accuracy:\t\t99.48 %\n",
      "  validation accuracy:\t\t99.00 %\n"
     ]
    },
    {
     "name": "stderr",
     "output_type": "stream",
     "text": [
      "\r",
      " 22%|██▏       | 11/50 [06:25<22:43, 34.97s/it]"
     ]
    },
    {
     "name": "stdout",
     "output_type": "stream",
     "text": [
      "Epoch 11 of 50 took 34.885s\n",
      "  training loss (in-iteration):\t\t0.016577\n",
      "  train accuracy:\t\t99.53 %\n",
      "  validation accuracy:\t\t99.01 %\n"
     ]
    },
    {
     "name": "stderr",
     "output_type": "stream",
     "text": [
      "\r",
      " 24%|██▍       | 12/50 [07:00<22:09, 34.98s/it]"
     ]
    },
    {
     "name": "stdout",
     "output_type": "stream",
     "text": [
      "Epoch 12 of 50 took 35.002s\n",
      "  training loss (in-iteration):\t\t0.012848\n",
      "  train accuracy:\t\t99.69 %\n",
      "  validation accuracy:\t\t99.10 %\n"
     ]
    },
    {
     "name": "stderr",
     "output_type": "stream",
     "text": [
      "\r",
      " 26%|██▌       | 13/50 [07:35<21:31, 34.91s/it]"
     ]
    },
    {
     "name": "stdout",
     "output_type": "stream",
     "text": [
      "Epoch 13 of 50 took 34.726s\n",
      "  training loss (in-iteration):\t\t0.011742\n",
      "  train accuracy:\t\t99.72 %\n",
      "  validation accuracy:\t\t99.13 %\n"
     ]
    },
    {
     "name": "stderr",
     "output_type": "stream",
     "text": [
      "\r",
      " 28%|██▊       | 14/50 [08:10<20:59, 34.98s/it]"
     ]
    },
    {
     "name": "stdout",
     "output_type": "stream",
     "text": [
      "Epoch 14 of 50 took 35.150s\n",
      "  training loss (in-iteration):\t\t0.008943\n",
      "  train accuracy:\t\t99.81 %\n",
      "  validation accuracy:\t\t99.01 %\n"
     ]
    },
    {
     "name": "stderr",
     "output_type": "stream",
     "text": [
      "\r",
      " 30%|███       | 15/50 [08:45<20:20, 34.86s/it]"
     ]
    },
    {
     "name": "stdout",
     "output_type": "stream",
     "text": [
      "Epoch 15 of 50 took 34.588s\n",
      "  training loss (in-iteration):\t\t0.006841\n",
      "  train accuracy:\t\t99.86 %\n",
      "  validation accuracy:\t\t99.05 %\n"
     ]
    },
    {
     "name": "stderr",
     "output_type": "stream",
     "text": [
      "\r",
      " 32%|███▏      | 16/50 [09:20<19:47, 34.91s/it]"
     ]
    },
    {
     "name": "stdout",
     "output_type": "stream",
     "text": [
      "Epoch 16 of 50 took 35.037s\n",
      "  training loss (in-iteration):\t\t0.006735\n",
      "  train accuracy:\t\t99.87 %\n",
      "  validation accuracy:\t\t99.01 %\n"
     ]
    },
    {
     "name": "stderr",
     "output_type": "stream",
     "text": [
      "\r",
      " 34%|███▍      | 17/50 [09:55<19:12, 34.94s/it]"
     ]
    },
    {
     "name": "stdout",
     "output_type": "stream",
     "text": [
      "Epoch 17 of 50 took 34.991s\n",
      "  training loss (in-iteration):\t\t0.006369\n",
      "  train accuracy:\t\t99.85 %\n",
      "  validation accuracy:\t\t99.12 %\n"
     ]
    },
    {
     "name": "stderr",
     "output_type": "stream",
     "text": [
      "\r",
      " 36%|███▌      | 18/50 [10:30<18:39, 34.98s/it]"
     ]
    },
    {
     "name": "stdout",
     "output_type": "stream",
     "text": [
      "Epoch 18 of 50 took 35.074s\n",
      "  training loss (in-iteration):\t\t0.004508\n",
      "  train accuracy:\t\t99.93 %\n",
      "  validation accuracy:\t\t99.14 %\n"
     ]
    },
    {
     "name": "stderr",
     "output_type": "stream",
     "text": [
      "\r",
      " 38%|███▊      | 19/50 [11:05<18:03, 34.94s/it]"
     ]
    },
    {
     "name": "stdout",
     "output_type": "stream",
     "text": [
      "Epoch 19 of 50 took 34.845s\n",
      "  training loss (in-iteration):\t\t0.003716\n",
      "  train accuracy:\t\t99.95 %\n",
      "  validation accuracy:\t\t98.93 %\n"
     ]
    },
    {
     "name": "stderr",
     "output_type": "stream",
     "text": [
      "\r",
      " 40%|████      | 20/50 [11:40<17:27, 34.93s/it]"
     ]
    },
    {
     "name": "stdout",
     "output_type": "stream",
     "text": [
      "Epoch 20 of 50 took 34.906s\n",
      "  training loss (in-iteration):\t\t0.004318\n",
      "  train accuracy:\t\t99.92 %\n",
      "  validation accuracy:\t\t99.02 %\n"
     ]
    },
    {
     "name": "stderr",
     "output_type": "stream",
     "text": [
      "\r",
      " 42%|████▏     | 21/50 [12:16<17:03, 35.29s/it]"
     ]
    },
    {
     "name": "stdout",
     "output_type": "stream",
     "text": [
      "Epoch 21 of 50 took 36.145s\n",
      "  training loss (in-iteration):\t\t0.003599\n",
      "  train accuracy:\t\t99.94 %\n",
      "  validation accuracy:\t\t99.01 %\n"
     ]
    },
    {
     "name": "stderr",
     "output_type": "stream",
     "text": [
      "\r",
      " 44%|████▍     | 22/50 [12:51<16:27, 35.27s/it]"
     ]
    },
    {
     "name": "stdout",
     "output_type": "stream",
     "text": [
      "Epoch 22 of 50 took 35.204s\n",
      "  training loss (in-iteration):\t\t0.002117\n",
      "  train accuracy:\t\t99.98 %\n",
      "  validation accuracy:\t\t99.08 %\n"
     ]
    },
    {
     "name": "stderr",
     "output_type": "stream",
     "text": [
      "\r",
      " 46%|████▌     | 23/50 [13:26<15:51, 35.22s/it]"
     ]
    },
    {
     "name": "stdout",
     "output_type": "stream",
     "text": [
      "Epoch 23 of 50 took 35.124s\n",
      "  training loss (in-iteration):\t\t0.001806\n",
      "  train accuracy:\t\t99.98 %\n",
      "  validation accuracy:\t\t99.05 %\n"
     ]
    },
    {
     "name": "stderr",
     "output_type": "stream",
     "text": [
      "\r",
      " 48%|████▊     | 24/50 [14:01<15:13, 35.12s/it]"
     ]
    },
    {
     "name": "stdout",
     "output_type": "stream",
     "text": [
      "Epoch 24 of 50 took 34.889s\n",
      "  training loss (in-iteration):\t\t0.001456\n",
      "  train accuracy:\t\t99.99 %\n",
      "  validation accuracy:\t\t99.14 %\n"
     ]
    },
    {
     "name": "stderr",
     "output_type": "stream",
     "text": [
      "\r",
      " 50%|█████     | 25/50 [14:36<14:36, 35.05s/it]"
     ]
    },
    {
     "name": "stdout",
     "output_type": "stream",
     "text": [
      "Epoch 25 of 50 took 34.888s\n",
      "  training loss (in-iteration):\t\t0.001169\n",
      "  train accuracy:\t\t99.99 %\n",
      "  validation accuracy:\t\t99.16 %\n"
     ]
    },
    {
     "name": "stderr",
     "output_type": "stream",
     "text": [
      "\r",
      " 52%|█████▏    | 26/50 [15:11<14:01, 35.08s/it]"
     ]
    },
    {
     "name": "stdout",
     "output_type": "stream",
     "text": [
      "Epoch 26 of 50 took 35.130s\n",
      "  training loss (in-iteration):\t\t0.001191\n",
      "  train accuracy:\t\t99.99 %\n",
      "  validation accuracy:\t\t99.13 %\n"
     ]
    },
    {
     "name": "stderr",
     "output_type": "stream",
     "text": [
      "\r",
      " 54%|█████▍    | 27/50 [15:46<13:26, 35.07s/it]"
     ]
    },
    {
     "name": "stdout",
     "output_type": "stream",
     "text": [
      "Epoch 27 of 50 took 35.054s\n",
      "  training loss (in-iteration):\t\t0.000986\n",
      "  train accuracy:\t\t100.00 %\n",
      "  validation accuracy:\t\t99.21 %\n"
     ]
    },
    {
     "name": "stderr",
     "output_type": "stream",
     "text": [
      "\r",
      " 56%|█████▌    | 28/50 [16:21<12:49, 34.99s/it]"
     ]
    },
    {
     "name": "stdout",
     "output_type": "stream",
     "text": [
      "Epoch 28 of 50 took 34.787s\n",
      "  training loss (in-iteration):\t\t0.000841\n",
      "  train accuracy:\t\t100.00 %\n",
      "  validation accuracy:\t\t99.11 %\n"
     ]
    },
    {
     "name": "stderr",
     "output_type": "stream",
     "text": [
      "\r",
      " 58%|█████▊    | 29/50 [16:56<12:16, 35.09s/it]"
     ]
    },
    {
     "name": "stdout",
     "output_type": "stream",
     "text": [
      "Epoch 29 of 50 took 35.335s\n",
      "  training loss (in-iteration):\t\t0.000943\n",
      "  train accuracy:\t\t99.99 %\n",
      "  validation accuracy:\t\t99.15 %\n"
     ]
    },
    {
     "name": "stderr",
     "output_type": "stream",
     "text": [
      "\r",
      " 60%|██████    | 30/50 [17:32<11:43, 35.16s/it]"
     ]
    },
    {
     "name": "stdout",
     "output_type": "stream",
     "text": [
      "Epoch 30 of 50 took 35.333s\n",
      "  training loss (in-iteration):\t\t0.000689\n",
      "  train accuracy:\t\t100.00 %\n",
      "  validation accuracy:\t\t99.08 %\n"
     ]
    },
    {
     "name": "stderr",
     "output_type": "stream",
     "text": [
      "\r",
      " 62%|██████▏   | 31/50 [18:07<11:10, 35.28s/it]"
     ]
    },
    {
     "name": "stdout",
     "output_type": "stream",
     "text": [
      "Epoch 31 of 50 took 35.558s\n",
      "  training loss (in-iteration):\t\t0.000570\n",
      "  train accuracy:\t\t100.00 %\n",
      "  validation accuracy:\t\t99.23 %\n"
     ]
    },
    {
     "name": "stderr",
     "output_type": "stream",
     "text": [
      "\n"
     ]
    },
    {
     "ename": "KeyboardInterrupt",
     "evalue": "",
     "output_type": "error",
     "traceback": [
      "\u001b[0;31m---------------------------------------------------------------------------\u001b[0m",
      "\u001b[0;31mKeyboardInterrupt\u001b[0m                         Traceback (most recent call last)",
      "\u001b[0;32m<ipython-input-147-742f5b6c7772>\u001b[0m in \u001b[0;36m<module>\u001b[0;34m()\u001b[0m\n\u001b[1;32m     15\u001b[0m     \u001b[0;32mfor\u001b[0m \u001b[0mbatch\u001b[0m \u001b[0;32min\u001b[0m \u001b[0miterate_minibatches\u001b[0m\u001b[0;34m(\u001b[0m\u001b[0mX_train\u001b[0m\u001b[0;34m,\u001b[0m \u001b[0my_train\u001b[0m\u001b[0;34m,\u001b[0m\u001b[0mbatch_size\u001b[0m\u001b[0;34m)\u001b[0m\u001b[0;34m:\u001b[0m\u001b[0;34m\u001b[0m\u001b[0m\n\u001b[1;32m     16\u001b[0m         \u001b[0minputs\u001b[0m\u001b[0;34m,\u001b[0m \u001b[0mtargets\u001b[0m \u001b[0;34m=\u001b[0m \u001b[0mbatch\u001b[0m\u001b[0;34m\u001b[0m\u001b[0m\n\u001b[0;32m---> 17\u001b[0;31m         \u001b[0mtrain_err_batch\u001b[0m\u001b[0;34m,\u001b[0m \u001b[0mtrain_acc_batch\u001b[0m\u001b[0;34m=\u001b[0m \u001b[0mtrain_fun\u001b[0m\u001b[0;34m(\u001b[0m\u001b[0minputs\u001b[0m\u001b[0;34m,\u001b[0m \u001b[0mtargets\u001b[0m\u001b[0;34m)\u001b[0m\u001b[0;34m\u001b[0m\u001b[0m\n\u001b[0m\u001b[1;32m     18\u001b[0m         \u001b[0mtrain_err\u001b[0m \u001b[0;34m+=\u001b[0m \u001b[0mtrain_err_batch\u001b[0m\u001b[0;34m\u001b[0m\u001b[0m\n\u001b[1;32m     19\u001b[0m         \u001b[0mtrain_acc\u001b[0m \u001b[0;34m+=\u001b[0m \u001b[0mtrain_acc_batch\u001b[0m\u001b[0;34m\u001b[0m\u001b[0m\n",
      "\u001b[0;32m/usr/local/lib/python3.4/dist-packages/theano/compile/function_module.py\u001b[0m in \u001b[0;36m__call__\u001b[0;34m(self, *args, **kwargs)\u001b[0m\n\u001b[1;32m    882\u001b[0m         \u001b[0;32mtry\u001b[0m\u001b[0;34m:\u001b[0m\u001b[0;34m\u001b[0m\u001b[0m\n\u001b[1;32m    883\u001b[0m             \u001b[0moutputs\u001b[0m \u001b[0;34m=\u001b[0m\u001b[0;31m\\\u001b[0m\u001b[0;34m\u001b[0m\u001b[0m\n\u001b[0;32m--> 884\u001b[0;31m                 \u001b[0mself\u001b[0m\u001b[0;34m.\u001b[0m\u001b[0mfn\u001b[0m\u001b[0;34m(\u001b[0m\u001b[0;34m)\u001b[0m \u001b[0;32mif\u001b[0m \u001b[0moutput_subset\u001b[0m \u001b[0;32mis\u001b[0m \u001b[0;32mNone\u001b[0m \u001b[0;32melse\u001b[0m\u001b[0;31m\\\u001b[0m\u001b[0;34m\u001b[0m\u001b[0m\n\u001b[0m\u001b[1;32m    885\u001b[0m                 \u001b[0mself\u001b[0m\u001b[0;34m.\u001b[0m\u001b[0mfn\u001b[0m\u001b[0;34m(\u001b[0m\u001b[0moutput_subset\u001b[0m\u001b[0;34m=\u001b[0m\u001b[0moutput_subset\u001b[0m\u001b[0;34m)\u001b[0m\u001b[0;34m\u001b[0m\u001b[0m\n\u001b[1;32m    886\u001b[0m         \u001b[0;32mexcept\u001b[0m \u001b[0mException\u001b[0m\u001b[0;34m:\u001b[0m\u001b[0;34m\u001b[0m\u001b[0m\n",
      "\u001b[0;32m/usr/local/lib/python3.4/dist-packages/theano/gof/op.py\u001b[0m in \u001b[0;36mrval\u001b[0;34m(p, i, o, n)\u001b[0m\n\u001b[1;32m    869\u001b[0m         \u001b[0;32mif\u001b[0m \u001b[0mparams\u001b[0m \u001b[0;32mis\u001b[0m \u001b[0mgraph\u001b[0m\u001b[0;34m.\u001b[0m\u001b[0mNoParams\u001b[0m\u001b[0;34m:\u001b[0m\u001b[0;34m\u001b[0m\u001b[0m\n\u001b[1;32m    870\u001b[0m             \u001b[0;31m# default arguments are stored in the closure of `rval`\u001b[0m\u001b[0;34m\u001b[0m\u001b[0;34m\u001b[0m\u001b[0m\n\u001b[0;32m--> 871\u001b[0;31m             \u001b[0;32mdef\u001b[0m \u001b[0mrval\u001b[0m\u001b[0;34m(\u001b[0m\u001b[0mp\u001b[0m\u001b[0;34m=\u001b[0m\u001b[0mp\u001b[0m\u001b[0;34m,\u001b[0m \u001b[0mi\u001b[0m\u001b[0;34m=\u001b[0m\u001b[0mnode_input_storage\u001b[0m\u001b[0;34m,\u001b[0m \u001b[0mo\u001b[0m\u001b[0;34m=\u001b[0m\u001b[0mnode_output_storage\u001b[0m\u001b[0;34m,\u001b[0m \u001b[0mn\u001b[0m\u001b[0;34m=\u001b[0m\u001b[0mnode\u001b[0m\u001b[0;34m)\u001b[0m\u001b[0;34m:\u001b[0m\u001b[0;34m\u001b[0m\u001b[0m\n\u001b[0m\u001b[1;32m    872\u001b[0m                 \u001b[0mr\u001b[0m \u001b[0;34m=\u001b[0m \u001b[0mp\u001b[0m\u001b[0;34m(\u001b[0m\u001b[0mn\u001b[0m\u001b[0;34m,\u001b[0m \u001b[0;34m[\u001b[0m\u001b[0mx\u001b[0m\u001b[0;34m[\u001b[0m\u001b[0;36m0\u001b[0m\u001b[0;34m]\u001b[0m \u001b[0;32mfor\u001b[0m \u001b[0mx\u001b[0m \u001b[0;32min\u001b[0m \u001b[0mi\u001b[0m\u001b[0;34m]\u001b[0m\u001b[0;34m,\u001b[0m \u001b[0mo\u001b[0m\u001b[0;34m)\u001b[0m\u001b[0;34m\u001b[0m\u001b[0m\n\u001b[1;32m    873\u001b[0m                 \u001b[0;32mfor\u001b[0m \u001b[0mo\u001b[0m \u001b[0;32min\u001b[0m \u001b[0mnode\u001b[0m\u001b[0;34m.\u001b[0m\u001b[0moutputs\u001b[0m\u001b[0;34m:\u001b[0m\u001b[0;34m\u001b[0m\u001b[0m\n",
      "\u001b[0;31mKeyboardInterrupt\u001b[0m: "
     ]
    }
   ],
   "source": [
    "from tqdm import tqdm\n",
    "\n",
    "#итерации обучения\n",
    "\n",
    "num_epochs = 50\n",
    "\n",
    "batch_size = 1024\n",
    "\n",
    "for epoch in tqdm(range(num_epochs)):\n",
    "    # In each epoch, we do a full pass over the training data:\n",
    "    train_err = 0\n",
    "    train_acc = 0\n",
    "    train_batches = 0\n",
    "    start_time = time.time()\n",
    "    for batch in iterate_minibatches(X_train, y_train,batch_size):\n",
    "        inputs, targets = batch\n",
    "        train_err_batch, train_acc_batch= train_fun(inputs, targets)\n",
    "        train_err += train_err_batch\n",
    "        train_acc += train_acc_batch\n",
    "        train_batches += 1\n",
    "\n",
    "    # And a full pass over the validation data:\n",
    "    val_acc = 0\n",
    "    val_batches = 0\n",
    "    for batch in iterate_minibatches(X_val, y_val, batch_size):\n",
    "        inputs, targets = batch\n",
    "        val_acc += accuracy_fun(inputs, targets)\n",
    "        val_batches += 1\n",
    "\n",
    "    \n",
    "    # Then we print the results for this epoch:\n",
    "    print(\"Epoch {} of {} took {:.3f}s\".format(\n",
    "        epoch + 1, num_epochs, time.time() - start_time))\n",
    "\n",
    "    print(\"  training loss (in-iteration):\\t\\t{:.6f}\".format(train_err / train_batches))\n",
    "    print(\"  train accuracy:\\t\\t{:.2f} %\".format(\n",
    "        train_acc / train_batches * 100))\n",
    "    print(\"  validation accuracy:\\t\\t{:.2f} %\".format(\n",
    "        val_acc / val_batches * 100))"
   ]
  },
  {
   "cell_type": "code",
   "execution_count": 148,
   "metadata": {
    "collapsed": false
   },
   "outputs": [
    {
     "name": "stdout",
     "output_type": "stream",
     "text": [
      "Final results:\n",
      "  test accuracy:\t\t99.23 %\n"
     ]
    }
   ],
   "source": [
    "test_acc = 0\n",
    "test_batches = 0\n",
    "for batch in iterate_minibatches(X_test, y_test, 500):\n",
    "    inputs, targets = batch\n",
    "    acc = accuracy_fun(inputs, targets)\n",
    "    test_acc += acc\n",
    "    test_batches += 1\n",
    "print(\"Final results:\")\n",
    "print(\"  test accuracy:\\t\\t{:.2f} %\".format(\n",
    "    test_acc / test_batches * 100))"
   ]
  },
  {
   "cell_type": "markdown",
   "metadata": {},
   "source": [
    "Отчётик, примерный его вид.\n",
    "\n",
    "Творческий подход приветствуется, но хотелось бы узнать про следующие вещи:\n",
    "* идея\n",
    "* краткая история правок\n",
    "* как выглядит сеть и почему\n",
    "* каким методом обучается и почему\n",
    "* регуляризована ли и как\n",
    "\n",
    "Строгих математических выводов от вас никто не ждёт, вариант \n",
    " * \"Попробовал так, получилось лучше, чем вот-так, а тот третий вариант по названию не понравился\" - не предел мечты, но __ок__\n",
    " * \"Почитал такие статьи, сделал такие эксперименты, пришёл к такому выводу\" - __идеально_\n",
    " * \"сделал так, потому что в вон-той демке другой чувак так сделал, но тебе об этом не скажу, а придумаю какую-нибудь наукообразную чушь\" - __не ок__"
   ]
  },
  {
   "cell_type": "markdown",
   "metadata": {},
   "source": [
    "### Привет, я Голованов Сергей, и я не алкоголик\n",
    "\n",
    "Когда-то давно, когда трава была зеленее, а до дедлайна ещё оставалось больше часа, мне в голову пришла идея:\n",
    "\n",
    "##### А давай, я сделаю нейронку, которая вжух и зафитится на мнисте.\n",
    "Начнем с архитекуры LeNet (или что-то типо того), т.к. она была разработана для работы с мнистом.\n",
    "Оптимизатор - adam, ибо он the best.\n",
    "\n",
    "##### Изменения\n",
    "После 12 эпох с размером батча 1024 получилось 90.07%, а потом аккураси начал убывать потихоньку. Но нам этого мало!\n",
    "\n",
    "Уменьшил число нейронов в предпоследнем слое с 512 до 256, т.к. учится быстрее, а результат поменялся не сильно.\n",
    "\n",
    "Попробывал заменить функции активации c ReLU на LeakyReLU. Результат лучше не стал.\n",
    "\n",
    "Попробывал заменить ReLU в предпоследнем слое на tanh. Стало чуточку лучше.\n",
    "\n",
    "Добавил еще один полносвязный слой с 64мя нейронами.\n",
    "\n",
    "##### И вот, спустя  5  попыток, на свет появилась топология сети:\n",
    "\n",
    "input_layer = lasagne.layers.InputLayer(shape = input_shape, input_var=input_X)\n",
    "\n",
    "nn = lasagne.layers.Conv2DLayer(input_layer, num_filters=20, filter_size=(5, 5),\n",
    "                                nonlinearity=lasagne.nonlinearities.rectify, pad='same')\n",
    "                                \n",
    "nn = lasagne.layers.MaxPool2DLayer(nn, pool_size=(2, 2), stride=(2, 2))\n",
    "\n",
    "nn = lasagne.layers.Conv2DLayer(nn, num_filters=50, filter_size=(5, 5), \n",
    "                                nonlinearity=lasagne.nonlinearities.rectify, pad='same')\n",
    "                                \n",
    "nn = lasagne.layers.MaxPool2DLayer(nn, pool_size=(2, 2), stride=(2, 2))\n",
    "\n",
    "nn = lasagne.layers.FlattenLayer(nn)\n",
    "\n",
    "nn = lasagne.layers.DenseLayer(nn, num_units=256, nonlinearity=lasagne.nonlinearities.tanh)\n",
    "\n",
    "nn = lasagne.layers.DenseLayer(nn, num_units=64, nonlinearity=lasagne.nonlinearities.tanh)\n",
    "\n",
    "dense_output = lasagne.layers.DenseLayer(nn, num_units = 10,\n",
    "                                        nonlinearity=lasagne.nonlinearities.softmax,\n",
    "                                        name='output')\n",
    "\n",
    "\n",
    "Которая после ~20 минут обучения дала-таки точность\n",
    "\n",
    "100% точность - на обучении\n",
    "\n",
    "99.23 % точность - на валидации\n",
    "\n",
    "99.23 % точность - на тесте"
   ]
  }
 ],
 "metadata": {
  "kernelspec": {
   "display_name": "Python 3",
   "language": "python",
   "name": "python3"
  },
  "language_info": {
   "codemirror_mode": {
    "name": "ipython",
    "version": 3
   },
   "file_extension": ".py",
   "mimetype": "text/x-python",
   "name": "python",
   "nbconvert_exporter": "python",
   "pygments_lexer": "ipython3",
   "version": "3.4.3"
  }
 },
 "nbformat": 4,
 "nbformat_minor": 0
}
