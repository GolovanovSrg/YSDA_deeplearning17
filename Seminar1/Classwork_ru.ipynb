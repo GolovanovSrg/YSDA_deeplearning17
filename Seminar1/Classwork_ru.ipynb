{
 "cells": [
  {
   "cell_type": "markdown",
   "metadata": {},
   "source": [
    "# Чем думает рыба?"
   ]
  },
  {
   "cell_type": "code",
   "execution_count": 1,
   "metadata": {
    "collapsed": false
   },
   "outputs": [
    {
     "name": "stdout",
     "output_type": "stream",
     "text": [
      "--2017-02-16 21:42:28--  https://github.com/goto-ru/Unsupervised_ML/raw/20779daf2aebca80bfe38401bc87cf41fc7b493d/03_zebrafish/zebrafish.npy\n",
      "Распознаётся github.com (github.com)... 192.30.253.113, 192.30.253.112\n",
      "Подключение к github.com (github.com)|192.30.253.113|:443... соединение установлено.\n",
      "HTTP-запрос отправлен. Ожидание ответа... 302 Found\n",
      "Адрес: https://raw.githubusercontent.com/goto-ru/Unsupervised_ML/20779daf2aebca80bfe38401bc87cf41fc7b493d/03_zebrafish/zebrafish.npy [переход]\n",
      "--2017-02-16 21:42:30--  https://raw.githubusercontent.com/goto-ru/Unsupervised_ML/20779daf2aebca80bfe38401bc87cf41fc7b493d/03_zebrafish/zebrafish.npy\n",
      "Распознаётся raw.githubusercontent.com (raw.githubusercontent.com)... 151.101.36.133\n",
      "Подключение к raw.githubusercontent.com (raw.githubusercontent.com)|151.101.36.133|:443... соединение установлено.\n",
      "HTTP-запрос отправлен. Ожидание ответа... 200 OK\n",
      "Длина: 44601680 (43M) [application/octet-stream]\n",
      "Сохранение в каталог: ««zebrafish.npy»».\n",
      "\n",
      " 3% [>                                      ] 1 597 440    309KB/s  ост 2m 13s ^C\n"
     ]
    }
   ],
   "source": [
    "!wget https://github.com/goto-ru/Unsupervised_ML/raw/20779daf2aebca80bfe38401bc87cf41fc7b493d/03_zebrafish/zebrafish.npy -O zebrafish.npy\n",
    "#alternative link: https://www.dropbox.com/s/hhep0wj4c11qibu/zebrafish.npy?dl=1"
   ]
  },
  {
   "cell_type": "markdown",
   "metadata": {},
   "source": [
    "# Данные\n",
    "\n",
    "* Сейчас в вашем распоряжении - данные о мозговой активности малька рыбы вида Danio Rerio https://en.wikipedia.org/wiki/Zebrafish .\n",
    "* Мальку введено вещество, которое светится от электрической активности (например, от спайков нейронов). Мальки почти прозрачны, поэтому такое свечение видно извне.\n",
    "* Сами данные содержат 240 фотографий головной части рыбки, на которых видна мозговая активность в каждой точке. Каждая фотография имеет размер __230 x 202__ пикселей\n",
    "* Ваша задача - попытаться восстановить структуру мозга рыбки. Для этого можно попытаться найти, например, группы нейронов, реагирующих вместе или с одинаковой частотой.\n",
    "* Никакой разметки в данных нет, поэтому вам придётся использовать методы понижения размерности и кластеризации, чтобы эффективно анализировать данные.\n",
    "\n",
    "![img](http://static1.squarespace.com/static/5355ec0de4b02760ee889a8f/t/5357cbfee4b03a3c7d9e4831/1398262791647/fish)"
   ]
  },
  {
   "cell_type": "code",
   "execution_count": null,
   "metadata": {
    "collapsed": false
   },
   "outputs": [],
   "source": [
    "import numpy as np\n",
    "data = np.load(\"zebrafish.npy\")/255."
   ]
  },
  {
   "cell_type": "code",
   "execution_count": null,
   "metadata": {
    "collapsed": false
   },
   "outputs": [],
   "source": [
    "import matplotlib.pyplot as plt\n",
    "%matplotlib inline\n",
    "\n",
    "tick0 = data[:,0]\n",
    "tick0_image = tick0.reshape(230, 202)\n",
    "\n",
    "print \"размер 1 картинки:\", tick0_image.shape\n",
    "\n",
    "plt.imshow(tick0_image.T);"
   ]
  },
  {
   "cell_type": "code",
   "execution_count": null,
   "metadata": {
    "collapsed": false,
    "scrolled": true
   },
   "outputs": [],
   "source": [
    "#мини-библиотека для рисования рыбы\n",
    "from zebrafish_drawing_factory import draw_component\n",
    "\n",
    "draw_component(data[:,0])"
   ]
  },
  {
   "cell_type": "markdown",
   "metadata": {},
   "source": [
    "# Временные ряды\n",
    "\n",
    "* Посмотрим на активность отдельных пикселей в течение времени:\n",
    "* Попробуйте вручную найти какие-то характерные группы нейронов"
   ]
  },
  {
   "cell_type": "code",
   "execution_count": null,
   "metadata": {
    "collapsed": false
   },
   "outputs": [],
   "source": [
    "import matplotlib.pyplot as plt\n",
    "%matplotlib inline\n",
    "plt.figure(figsize=[10,10])\n",
    "for i in range(0,240,10):\n",
    "    plt.plot(data[i])\n"
   ]
  },
  {
   "cell_type": "markdown",
   "metadata": {
    "collapsed": true
   },
   "source": [
    "# Поищем характерные группы нейронов\n",
    "\n",
    "Давайте разложим временные ряды активности нейронов при помощи метода главных компонент.\n",
    "\n",
    "__Важно!__ в этой части задания объектом выборки является временной ряд активности 1 точки на картинке, а не картинка целиком."
   ]
  },
  {
   "cell_type": "code",
   "execution_count": null,
   "metadata": {
    "collapsed": false
   },
   "outputs": [],
   "source": [
    "from sklearn.decomposition import PCA\n",
    "\n",
    "pca = <создайте и обучите PCA с 20+ компонентами>"
   ]
  },
  {
   "cell_type": "code",
   "execution_count": null,
   "metadata": {
    "collapsed": false
   },
   "outputs": [],
   "source": [
    "data_pca = <преобразуйте данные в пространство главных компонент pca.transform>"
   ]
  },
  {
   "cell_type": "markdown",
   "metadata": {},
   "source": [
    "## Визуализируем компоненты"
   ]
  },
  {
   "cell_type": "code",
   "execution_count": null,
   "metadata": {
    "collapsed": false
   },
   "outputs": [],
   "source": [
    "draw_component(data_pca[:,1])"
   ]
  },
  {
   "cell_type": "code",
   "execution_count": null,
   "metadata": {
    "collapsed": false
   },
   "outputs": [],
   "source": [
    "draw_component(data_pca[:,2])"
   ]
  },
  {
   "cell_type": "code",
   "execution_count": null,
   "metadata": {
    "collapsed": false
   },
   "outputs": [],
   "source": [
    "from zebrafish_drawing_factory import draw_components\n",
    "\n",
    "draw_components(data_pca[:,2],data_pca[:,3])"
   ]
  },
  {
   "cell_type": "markdown",
   "metadata": {},
   "source": [
    "# Поищем фичи"
   ]
  },
  {
   "cell_type": "code",
   "execution_count": null,
   "metadata": {
    "collapsed": true
   },
   "outputs": [],
   "source": [
    "def extract_features(impulses):\n",
    "    \"\"\"given time series(array) of region activity, compute some feature representation of those time series\n",
    "    Ideas:\n",
    "      - fourier transform\n",
    "      - mean, variance and percentiles\n",
    "      - sums of every k-th element with shift b\n",
    "      \"\"\"\n",
    "    features = []<любые фичи>\n",
    "    return features"
   ]
  },
  {
   "cell_type": "code",
   "execution_count": null,
   "metadata": {
    "collapsed": false
   },
   "outputs": [],
   "source": [
    "data_features = np.array(list(map(extract_features, data)))\n",
    "\n",
    "print \"shape:\",data_features.shape"
   ]
  },
  {
   "cell_type": "code",
   "execution_count": null,
   "metadata": {
    "collapsed": false
   },
   "outputs": [],
   "source": [
    "from sklearn.decomposition import PCA\n",
    "\n",
    "pca = <обучи PCA>"
   ]
  },
  {
   "cell_type": "code",
   "execution_count": null,
   "metadata": {
    "collapsed": true
   },
   "outputs": [],
   "source": [
    "data_pca = <преобразуй в пространство PCA>"
   ]
  },
  {
   "cell_type": "code",
   "execution_count": null,
   "metadata": {
    "collapsed": false
   },
   "outputs": [],
   "source": [
    "<визуализируй полученные компоненты>\n",
    "draw_component(...)\n",
    "draw_components(...)"
   ]
  },
  {
   "cell_type": "markdown",
   "metadata": {},
   "source": [
    "# Bonus: clustering in PCA space"
   ]
  },
  {
   "cell_type": "code",
   "execution_count": null,
   "metadata": {
    "collapsed": true
   },
   "outputs": [],
   "source": [
    "from sklearn.cluster import KMeans\n",
    "from sklearn.mixture import GMM\n",
    "\n",
    "<покластеризуй области изображения на основе двух полученных PCA-представлений, используй любой метод на выбор>"
   ]
  },
  {
   "cell_type": "code",
   "execution_count": null,
   "metadata": {
    "collapsed": true
   },
   "outputs": [],
   "source": [
    "cluster_ids = <предскажи номер кластера для каждого пикселя>"
   ]
  },
  {
   "cell_type": "code",
   "execution_count": null,
   "metadata": {
    "collapsed": true
   },
   "outputs": [],
   "source": [
    "#cluster_ids должен содержать по 1 чиселке на пиксель\n",
    "assert np.prod(cluster_ids.shape) == (230*202)"
   ]
  },
  {
   "cell_type": "code",
   "execution_count": null,
   "metadata": {
    "collapsed": true
   },
   "outputs": [],
   "source": [
    "plt.imshow(cluster_ids.reshape(230,202),cmap='spectral')"
   ]
  }
 ],
 "metadata": {
  "kernelspec": {
   "display_name": "python2",
   "language": "python",
   "name": "python2"
  },
  "language_info": {
   "codemirror_mode": {
    "name": "ipython",
    "version": 3
   },
   "file_extension": ".py",
   "mimetype": "text/x-python",
   "name": "python",
   "nbconvert_exporter": "python",
   "pygments_lexer": "ipython3",
   "version": "3.4.3"
  }
 },
 "nbformat": 4,
 "nbformat_minor": 0
}
